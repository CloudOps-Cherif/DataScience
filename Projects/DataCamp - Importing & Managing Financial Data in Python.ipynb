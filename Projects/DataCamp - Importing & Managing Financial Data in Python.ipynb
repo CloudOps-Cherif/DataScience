{
 "cells": [
  {
   "cell_type": "code",
   "execution_count": 2,
   "metadata": {},
   "outputs": [],
   "source": [
    "import pandas as pd\n",
    "\n",
    "path=r'D:\\DATA_SCIENCE\\BASES\\Others\\DataCamp\\Financial_Data'"
   ]
  },
  {
   "cell_type": "code",
   "execution_count": 8,
   "metadata": {},
   "outputs": [],
   "source": [
    "nasdaq = pd.read_csv(path+'\\\\nasdaq-listings.csv', na_values='n/a', parse_dates=['Last Update'])\n",
    "# nasdaq = pd.read_excel(path+'\\\\listings.xlsx', sheetname=['nasdaq', 'nyse'], na_values='n/a')"
   ]
  },
  {
   "cell_type": "code",
   "execution_count": 9,
   "metadata": {},
   "outputs": [
    {
     "data": {
      "text/html": [
       "<div>\n",
       "<style scoped>\n",
       "    .dataframe tbody tr th:only-of-type {\n",
       "        vertical-align: middle;\n",
       "    }\n",
       "\n",
       "    .dataframe tbody tr th {\n",
       "        vertical-align: top;\n",
       "    }\n",
       "\n",
       "    .dataframe thead th {\n",
       "        text-align: right;\n",
       "    }\n",
       "</style>\n",
       "<table border=\"1\" class=\"dataframe\">\n",
       "  <thead>\n",
       "    <tr style=\"text-align: right;\">\n",
       "      <th></th>\n",
       "      <th>Stock Symbol</th>\n",
       "      <th>Company Name</th>\n",
       "      <th>Last Sale</th>\n",
       "      <th>Market Capitalization</th>\n",
       "      <th>IPO Year</th>\n",
       "      <th>Sector</th>\n",
       "      <th>Industry</th>\n",
       "      <th>Last Update</th>\n",
       "    </tr>\n",
       "  </thead>\n",
       "  <tbody>\n",
       "    <tr>\n",
       "      <th>0</th>\n",
       "      <td>AAPL</td>\n",
       "      <td>Apple Inc.</td>\n",
       "      <td>141.05</td>\n",
       "      <td>7.400000e+11</td>\n",
       "      <td>1980</td>\n",
       "      <td>Technology</td>\n",
       "      <td>Computer Manufacturing</td>\n",
       "      <td>2017-04-26</td>\n",
       "    </tr>\n",
       "    <tr>\n",
       "      <th>1</th>\n",
       "      <td>GOOGL</td>\n",
       "      <td>Alphabet Inc.</td>\n",
       "      <td>840.18</td>\n",
       "      <td>5.810000e+11</td>\n",
       "      <td>NAN</td>\n",
       "      <td>Technology</td>\n",
       "      <td>Computer Software: Programming, Data Processing</td>\n",
       "      <td>2017-04-24</td>\n",
       "    </tr>\n",
       "    <tr>\n",
       "      <th>2</th>\n",
       "      <td>GOOG</td>\n",
       "      <td>Alphabet Inc.</td>\n",
       "      <td>823.56</td>\n",
       "      <td>5.690000e+11</td>\n",
       "      <td>2004</td>\n",
       "      <td>Technology</td>\n",
       "      <td>Computer Software: Programming, Data Processing</td>\n",
       "      <td>2017-04-23</td>\n",
       "    </tr>\n",
       "    <tr>\n",
       "      <th>3</th>\n",
       "      <td>MSFT</td>\n",
       "      <td>Microsoft Corporation</td>\n",
       "      <td>64.95</td>\n",
       "      <td>5.020000e+11</td>\n",
       "      <td>1986</td>\n",
       "      <td>Technology</td>\n",
       "      <td>Computer Software: Prepackaged Software</td>\n",
       "      <td>2017-04-26</td>\n",
       "    </tr>\n",
       "    <tr>\n",
       "      <th>4</th>\n",
       "      <td>AMZN</td>\n",
       "      <td>Amazon.com, Inc.</td>\n",
       "      <td>884.67</td>\n",
       "      <td>4.220000e+11</td>\n",
       "      <td>1997</td>\n",
       "      <td>Consumer Services</td>\n",
       "      <td>Catalog/Specialty Distribution</td>\n",
       "      <td>2017-04-24</td>\n",
       "    </tr>\n",
       "  </tbody>\n",
       "</table>\n",
       "</div>"
      ],
      "text/plain": [
       "  Stock Symbol           Company Name  Last Sale  Market Capitalization  \\\n",
       "0         AAPL             Apple Inc.     141.05           7.400000e+11   \n",
       "1        GOOGL          Alphabet Inc.     840.18           5.810000e+11   \n",
       "2         GOOG          Alphabet Inc.     823.56           5.690000e+11   \n",
       "3         MSFT  Microsoft Corporation      64.95           5.020000e+11   \n",
       "4         AMZN       Amazon.com, Inc.     884.67           4.220000e+11   \n",
       "\n",
       "  IPO Year             Sector  \\\n",
       "0     1980         Technology   \n",
       "1      NAN         Technology   \n",
       "2     2004         Technology   \n",
       "3     1986         Technology   \n",
       "4     1997  Consumer Services   \n",
       "\n",
       "                                          Industry Last Update  \n",
       "0                           Computer Manufacturing  2017-04-26  \n",
       "1  Computer Software: Programming, Data Processing  2017-04-24  \n",
       "2  Computer Software: Programming, Data Processing  2017-04-23  \n",
       "3          Computer Software: Prepackaged Software  2017-04-26  \n",
       "4                   Catalog/Specialty Distribution  2017-04-24  "
      ]
     },
     "execution_count": 9,
     "metadata": {},
     "output_type": "execute_result"
    }
   ],
   "source": [
    "nasdaq.head()"
   ]
  },
  {
   "cell_type": "code",
   "execution_count": null,
   "metadata": {},
   "outputs": [],
   "source": [
    "xls = pd.ExcelFile(path+'\\\\listings.xlsx')                              # Create pd.ExcelFile() object\n",
    "sheets = xls.sheet_names                                                # Extract sheet names and store in sheets\n",
    "print('Sheet names:', sheets)\n",
    "\n",
    "nasdaq = pd.read_excel(xls, sheetname='nasdaq', na_values='n/a')\n",
    "nyse   = pd.read_excel(xls, sheetname='nyse', na_values='n/a')\n",
    "amex   = pd.read_excel(xls, sheetname='amex', na_values='n/a')\n",
    "\n",
    "nasdaq['exchange'] = 'nasdaq'\n",
    "nyse['exchange'] = 'nyse'\n",
    "amex['exchange'] = 'amex'\n",
    "\n",
    "listings = pd.concat([nasdaq, nyse, amex]).info()"
   ]
  },
  {
   "cell_type": "code",
   "execution_count": null,
   "metadata": {},
   "outputs": [],
   "source": [
    "### Automated\n",
    "xls = pd.ExcelFile(path+'\\\\listings.xlsx')                                 # Create pd.ExcelFile() object\n",
    "exchanges = xls.sheet_names                                                # Extract sheet names and store in exchanges\n",
    "listings=[]\n",
    "\n",
    "for exchange in exchanges:\n",
    "    listing = pd.read_excel(xls, sheetname=exchange, na_values='n/a')\n",
    "    listing['Exchange'] = exchange\n",
    "    listings.append(listing)\n",
    "\n",
    "combined_listing = pd.concat(listings)"
   ]
  },
  {
   "cell_type": "code",
   "execution_count": null,
   "metadata": {},
   "outputs": [],
   "source": [
    "### The DataReader: Access financial data online\n",
    "from pandas_datareader.data import DataReader\n",
    "from datetime import date\n",
    "\n",
    "start = date(2015, 1, 1)\n",
    "end = date(2016, 12, 31)\n",
    "ticker = 'GOOG'\n",
    "data_source = 'google'    # Google Finance\n",
    "\n",
    "stock_data = DataReader(ticker, data_source, start, end)\n",
    "stock_data.info()"
   ]
  },
  {
   "cell_type": "code",
   "execution_count": null,
   "metadata": {},
   "outputs": [],
   "source": [
    "### Economic data from the Federal Reserve\n",
    "from pandas_datareader.data import DataReader\n",
    "from datetime import date\n",
    "\n",
    "series_code = 'DGS10'   # 10-year Treasury Rate\n",
    "data_source = 'fred'    # FED Economic Data Service\n",
    "start = date(1962, 1, 1)\n",
    "\n",
    "data = DataReader(series_code, data_source, start)"
   ]
  },
  {
   "cell_type": "code",
   "execution_count": null,
   "metadata": {},
   "outputs": [],
   "source": [
    "### Economic data from the Federal Reserve\n",
    "from pandas_datareader.data import DataReader\n",
    "from datetime import date\n",
    "\n",
    "start = date(2000, 1, 1)\n",
    "series_code = 'DCOILWTICO'   # West Yexas Intermediate Oil Price\n",
    "oil = DataReader(series_code, 'fred', start)\n",
    "\n",
    "ticker = 'XOM'    # Exxon Mobile Corp\n",
    "stock = DataReader(ticker, 'google', start)\n",
    "\n",
    "data = pd.concat([stock[['Close']], oil], axis=1)  # Concat by columns\n",
    "data.info()\n",
    "\n",
    "data.columns = ['Exxon', 'Oil Price']\n",
    "data.plot(); plt.show()"
   ]
  },
  {
   "cell_type": "code",
   "execution_count": null,
   "metadata": {},
   "outputs": [],
   "source": [
    "# TWO SERIES\n",
    "start = date(1950,1,1)\n",
    "series = ['UNRATE', 'CIVPART']              # Define the series codes\n",
    "econ_data = DataReader(series, 'fred', start)\n",
    "\n",
    "econ_data.columns = ['Unemployment Rate', 'Participation Rate']\n",
    "econ_data.plot(subplots=True, title='Labor Market');plt.show()"
   ]
  },
  {
   "cell_type": "code",
   "execution_count": null,
   "metadata": {},
   "outputs": [],
   "source": [
    "# TOP\n",
    "top5 = df['ColA'].nlargest(n=5)\n",
    "top_3_companies = listings.loc[(listings.Sector=='Finance'), 'Market Capitalization'].nlargest(n=3)"
   ]
  },
  {
   "cell_type": "code",
   "execution_count": null,
   "metadata": {},
   "outputs": [],
   "source": [
    "# manage a MultiIndex\n",
    "nasdaq = pd.read_excel('listings.xlsx', sheetname='nasdaq', na_values='n/a')\n",
    "nasdaq.set_index('Stock Symbol', inplace=True)\n",
    "top_5 = nasdaq['Market Capitalization'].nlargest(n=5)\n",
    "top_5.div(1000000)\n",
    "\n",
    "tickers = top_5.index.tolist()    # Convert index to list\n",
    "panel = DataReader(tickers, 'google', start=date(2015,1,1))\n",
    "data = panel.to_frame()               # df with MultiIndex\n",
    "data.info()\n",
    "\n",
    "unstacked = data['Close'].unstack()"
   ]
  },
  {
   "cell_type": "code",
   "execution_count": null,
   "metadata": {},
   "outputs": [],
   "source": [
    "### GROUP BY\n",
    "nyse.info()\n",
    "nyse['market_cap_m'] = nyse['Market Capitalization'].div(1e6)                          # Create market_cap_m\n",
    "nyse = nyse.drop('Market Capitalization', axis=1)                                      # Drop market cap column\n",
    "mcap_by_sector = nyse.groupby('Sector')                                                # Group nyse by sector\n",
    "median_mcap_by_sector = mcap_by_sector.market_cap_m.median()                           # Calculate median\n",
    "\n",
    "# Plot and show as horizontal bar chart\n",
    "median_mcap_by_sector.plot(kind='barh', title='NYSE - Median Market Capitalization')\n",
    "plt.xlabel('USD mn')\n",
    "plt.show()"
   ]
  },
  {
   "cell_type": "code",
   "execution_count": null,
   "metadata": {},
   "outputs": [],
   "source": [
    "### Company value by exchange and sector\n",
    "\n",
    "by_sector_exchange = listings.groupby(['Sector', 'Exchange'])            # Group listings by Sector and Exchange\n",
    "mcap_by_sector_exchange = by_sector_exchange.market_cap_m.median()       # Calculate the median market cap\n",
    "print(mcap_by_sector_exchange.head())                                    # Display the head of the result\n",
    "\n",
    "mcap_unstacked = mcap_by_sector_exchange.unstack()                       # Unstack mcap_by_sector_exchange\n",
    "\n",
    "mcap_unstacked.plot(kind='bar', title='Median Market Capitalization by Exchange')    # Plot as a bar chart\n",
    "plt.xlabel('USD mn')\n",
    "plt.show()"
   ]
  },
  {
   "cell_type": "code",
   "execution_count": null,
   "metadata": {},
   "outputs": [],
   "source": [
    "### Calculate several metrics by sector and exchange\n",
    "\n",
    "listings['market_cap_m'] = listings['Market Capitalization'].div(1e6)\n",
    "by_sector_exchange = listings.groupby(['Sector', 'Exchange'])\n",
    "\n",
    "bse_mcm = by_sector_exchange['market_cap_m']\n",
    "summary = bse_mcm.agg({'Average': 'mean', 'Median': 'median', 'Standard Deviation': 'std'})\n",
    "print(summary)\n"
   ]
  },
  {
   "cell_type": "code",
   "execution_count": null,
   "metadata": {},
   "outputs": [],
   "source": [
    "import seaborn as sns\n",
    "\n",
    "listings = listings[(listings['IPO Year'] > 2000) & (listings.Exchange != 'amex')]  # Exclude IPOs > 2000 and from the 'amex'\n",
    "listings['IPO Year'] = listings['IPO Year'].astype(int)                             # Convert IPO Year to integer\n",
    "listings['market_cap_m'] = listings['Market Capitalization'].div(1e6)               # Create market_cap_m\n",
    "listings = listings[listings.market_cap_m < listings.market_cap_m.quantile(.95)]    # Exclude outliers\n",
    "sns.pointplot(x=market_cap_m, y='market_cap_m', hue='Exchange', data=listings)      # Create the pointplot\n",
    "plt.xticks(rotation=45)                                                             # Rotate xticks\n",
    "plt.show()"
   ]
  }
 ],
 "metadata": {
  "kernelspec": {
   "display_name": "Python 3",
   "language": "python",
   "name": "python3"
  },
  "language_info": {
   "codemirror_mode": {
    "name": "ipython",
    "version": 3
   },
   "file_extension": ".py",
   "mimetype": "text/x-python",
   "name": "python",
   "nbconvert_exporter": "python",
   "pygments_lexer": "ipython3",
   "version": "3.6.3"
  }
 },
 "nbformat": 4,
 "nbformat_minor": 2
}
