{
 "cells": [
  {
   "cell_type": "code",
   "execution_count": 11,
   "metadata": {},
   "outputs": [],
   "source": [
    "import numpy as np"
   ]
  },
  {
   "cell_type": "markdown",
   "metadata": {},
   "source": [
    "<h2>Activation Function</h2>"
   ]
  },
  {
   "cell_type": "markdown",
   "metadata": {},
   "source": [
    "<b>ReLU</b> - Rectified Linear Activation Function - Takes a single number as input, return 0 if the input is negative, or the input if the input is positive.<br>\n",
    "<b>TANH</b> - <br>\n",
    "<b>Sigmoid</b> - <br>\n",
    "<b>Linear</b> - <br>"
   ]
  },
  {
   "cell_type": "code",
   "execution_count": null,
   "metadata": {},
   "outputs": [],
   "source": [
    "### Obs:\n",
    "slope = 2 * input_data * error"
   ]
  },
  {
   "cell_type": "markdown",
   "metadata": {},
   "source": [
    "<h2>FOWARD PROPAGATION - Prediction"
   ]
  },
  {
   "cell_type": "code",
   "execution_count": null,
   "metadata": {},
   "outputs": [],
   "source": [
    "### FOWARD PROPAGATION - Prediction\n",
    "\n",
    "input_data = np.array([2, 3])\n",
    "weights = {'node_0' : np.array([1, 1]),\n",
    "'node_1' : np.array([-1, 1]),\n",
    "'output' : np.array([2, -1]),\n",
    "}\n",
    "node_0_value = (input_data * weights['node_0']).sum()\n",
    "node_1_value = (input_data * weights['node_1']).sum()\n",
    "\n",
    "hidden_layer_values = np.array([node_0_value, node_1_value])\n",
    "print (hidden_layer_values)\n",
    "\n",
    "output = hidden_layer_values * weights['output'].sum()\n",
    "print(output)"
   ]
  },
  {
   "cell_type": "markdown",
   "metadata": {},
   "source": [
    "\n"
   ]
  },
  {
   "cell_type": "code",
   "execution_count": 29,
   "metadata": {},
   "outputs": [
    {
     "name": "stdout",
     "output_type": "stream",
     "text": [
      "[52, 63, 0, 148]\n"
     ]
    }
   ],
   "source": [
    "### Predict with ONE Hidden Layer\n",
    "\n",
    "input_data = [np.array([3, 5]), np.array([ 1, -1]), np.array([0, 0]), np.array([8, 4])]\n",
    "weights = {'node_0': [2,  4],\n",
    "           'node_1': [4, -5],\n",
    "           'output': [2,  7]}\n",
    "\n",
    "\n",
    "def relu(input):\n",
    "    '''Calculate the value for the output of the relu function'''    \n",
    "    output = max(0, input)        \n",
    "    return(output)\n",
    "\n",
    "\n",
    "def predict_with_network(input_data_row, weights):\n",
    "    \n",
    "    node_0_input = (input_data_row * weights['node_0']).sum()                                  # Calculate node 0 value\n",
    "    node_0_output = relu(node_0_input)\n",
    "    \n",
    "    node_1_input = (input_data_row * weights['node_1']).sum()                                  # Calculate node 1 value\n",
    "    node_1_output = relu(node_1_input)\n",
    "    \n",
    "    hidden_layer_outputs = np.array([node_0_output, node_1_output])                            # Put node values into array\n",
    "        \n",
    "    input_to_final_layer = (hidden_layer_outputs * weights['output']).sum()                    # Calculate model output\n",
    "    model_output = relu(input_to_final_layer)\n",
    "    \n",
    "    return(model_output)\n",
    "\n",
    "results = []\n",
    "for input_data_row in input_data:    \n",
    "    results.append(predict_with_network(input_data_row, weights))                              # Append prediction to results\n",
    "\n",
    "print(results)\n",
    "        "
   ]
  },
  {
   "cell_type": "code",
   "execution_count": 31,
   "metadata": {},
   "outputs": [
    {
     "name": "stdout",
     "output_type": "stream",
     "text": [
      "[  0 182]\n"
     ]
    }
   ],
   "source": [
    "### Predict with TWO Hidden Layer\n",
    "\n",
    "input_data = np.array([3, 5])\n",
    "weights = {'node_0_0': [ 2,  4],\n",
    "           'node_0_1': [ 4, -5],\n",
    "           'node_1_0': [-1,  2],\n",
    "           'node_1_1': [ 1,  2],\n",
    "           'output'  : [ 2,  7]}\n",
    "\n",
    "\n",
    "def predict_with_network(input_data, weights):\n",
    "    \n",
    "    node_0_0_input = (input_data * weights['node_0_0']).sum()               # Calculate node 0 in the first hidden layer\n",
    "    node_0_0_output = relu(node_0_0_input)\n",
    "    \n",
    "    node_0_1_input = (input_data * weights['node_0_1']).sum()               # Calculate node 1 in the first hidden layer\n",
    "    node_0_1_output = relu(node_0_1_input)\n",
    "    \n",
    "    hidden_0_outputs = np.array([node_0_0_output, node_0_1_output])         # Put node values into array\n",
    "        \n",
    "    node_1_0_input = (hidden_0_outputs * weights['node_1_0']).sum()         # Calculate node 0 in the second hidden layer\n",
    "    node_1_0_output = relu(node_1_0_input)\n",
    "    \n",
    "    node_1_1_input = (hidden_0_outputs * weights['node_1_1']).sum()         # Calculate node 1 in the second hidden layer\n",
    "    node_1_1_output = relu(node_1_1_input)\n",
    "    \n",
    "    hidden_1_outputs = np.array([node_1_0_output, node_1_1_output])         # Put node values into array\n",
    "    \n",
    "    model_output = (hidden_1_outputs * weights['output'])                   # Calculate model output without relu()\n",
    "        \n",
    "    return(model_output)\n",
    "\n",
    "output = predict_with_network(input_data)\n",
    "print(output)\n"
   ]
  },
  {
   "cell_type": "markdown",
   "metadata": {},
   "source": [
    "<b>Calculating slopes"
   ]
  },
  {
   "cell_type": "code",
   "execution_count": 39,
   "metadata": {},
   "outputs": [
    {
     "name": "stdout",
     "output_type": "stream",
     "text": [
      "Original error:  5\n",
      "Slope:  [30 40]\n",
      "Updated error:  2.5\n"
     ]
    }
   ],
   "source": [
    "### Calculating slopes & Improving weights\n",
    "\n",
    "weights = np.array([1, 2])\n",
    "input_data = np.array([3, 4])\n",
    "target = 6\n",
    "learning_rate = 0.01\n",
    "\n",
    "preds = (weights * input_data).sum()                         # Calculate the predictions\n",
    "error = preds - target                                       # Calculate the error\n",
    "print('Original error: ', error)                             # Print the original error\n",
    "\n",
    "slope = 2 * input_data * error                               # Calculate the slope\n",
    "print('Slope: ', slope)                                      # Print the slope\n",
    "\n",
    "weights_updated = weights - (learning_rate * slope)          # Update the weights\n",
    "preds_updated = (weights_updated * input_data).sum()         # Get updated predictions\n",
    "\n",
    "error_updated = preds_updated - target                       # Calculate updated error\n",
    "print('Updated error: ', error_updated)                      # Print the updated error\n"
   ]
  },
  {
   "cell_type": "code",
   "execution_count": 53,
   "metadata": {},
   "outputs": [
    {
     "name": "stdout",
     "output_type": "stream",
     "text": [
      "Original error:  7\n"
     ]
    },
    {
     "data": {
      "image/png": "[encoded data removed]",
      "text/plain": [
       "<matplotlib.figure.Figure at 0x20bc87cc358>"
      ]
     },
     "metadata": {},
     "output_type": "display_data"
    }
   ],
   "source": [
    "### Iteratively update weights\n",
    "\n",
    "def get_error(input_data, target, weights):\n",
    "    preds = (weights * input_data).sum()\n",
    "    error = preds - target\n",
    "    return(error)\n",
    "\n",
    "def get_slope(input_data, target, weights):\n",
    "    error = get_error(input_data, target, weights)\n",
    "    slope = 2 * input_data * error\n",
    "    return(slope)\n",
    "\n",
    "def get_mse(input_data, target, weights):\n",
    "    errors = get_error(input_data, target, weights)\n",
    "    mse = np.mean(errors**2)\n",
    "    return(mse)\n",
    "\n",
    "input_data    = np.array([1, 2, 3])\n",
    "weights       = np.array([0, 2, 1])\n",
    "target        = 0\n",
    "learning_rate = 0.01\n",
    "n_updates     = 20\n",
    "mse_hist      = []\n",
    "preds_hist    = []\n",
    "\n",
    "preds = (weights * input_data).sum()                         # Calculate the predictions\n",
    "error = preds - target                                       # Calculate the error\n",
    "print('Original error: ', error)                             # Print the original error\n",
    "\n",
    "# Iterate over the number of updates\n",
    "for i in range(n_updates):    \n",
    "    slope = get_slope(input_data, target, weights)    \n",
    "    weights = weights - learning_rate * slope\n",
    "    preds = (weights * input_data).sum()\n",
    "    preds_hist.append(preds)\n",
    "    mse = get_mse(input_data, target, weights)\n",
    "    mse_hist.append(mse)\n",
    "\n",
    "# Plot the mse history\n",
    "import matplotlib.pyplot as plt\n",
    "plt.plot(mse_hist)\n",
    "plt.xlabel('Iterations')\n",
    "plt.ylabel('Mean Squared Error')\n",
    "plt.show()\n"
   ]
  },
  {
   "cell_type": "markdown",
   "metadata": {},
   "source": [
    "<b>BACK PROPAGATION</b><p>\n",
    "The relationship between forward and backward propagation<br>\n",
    "If you have gone through 4 iterations of calculating slopes (using backward propagation) and then updated weights, how many times must you have done forward propagation? Answer: 4<br>\n",
    "Each time you generate predictions using forward propagation, you update the weights using backward propagation<p>\n",
    "\n",
    "<b>Gradients for weight is product of:</b>\n",
    "1. Node value feeding into that weight<br>\n",
    "2. Slope of activation function for the node being fed into<br>\n",
    "3. Slope of loss function w.r.t. output node<br>"
   ]
  },
  {
   "cell_type": "markdown",
   "metadata": {},
   "source": [
    "<h2>KERAS"
   ]
  },
  {
   "cell_type": "markdown",
   "metadata": {},
   "source": [
    "<b>Model building steps</b><br>\n",
    "<b>Specify Architecture</b> - #_Layers, #_Nodes, Activation Function<br>\n",
    "<b>Compile</b> - Loss function (ie.mean_squared_error for Regression, categorical_crossentropy for Classification), Specify the optimizer (controls the learning rate) - Adam is a good optimizer<br>\n",
    "<b>Fit</b> - Apply backpropagation and gradient descent, and optimization<br>\n",
    "<b>Predict</b><br>"
   ]
  },
  {
   "cell_type": "code",
   "execution_count": null,
   "metadata": {},
   "outputs": [],
   "source": [
    "### REGRESSION\n",
    "### MODEL SPECIFICATION\n",
    "import numpy as np\n",
    "from keras.layers import Dense            # All the nodes connects with all nodes in next layer\n",
    "from keras.models import Sequential       # Each layer connects with the next layer\n",
    "\n",
    "predictors = np.loadtxt('predictors_data.csv', delimiter=',')\n",
    "n_cols = predictors.shape[1]\n",
    "\n",
    "model = Sequential()  \n",
    "model.add(Dense(100, activation='relu', input_shape=(n_cols,)))       # Add layer with 100 nodes, with n_cols and undefined rows\n",
    "model.add(Dense(100, activation='relu'))\n",
    "model.add(Dense(1))                                                   # Add output node with 1 node\n",
    "\n",
    "### COMPILE\n",
    "# model.compile(optimizer='adam', loss='categorical_crossentropy')         # Classification\n",
    "model.compile(optimizer='adam', loss='mean_squared_error')                 # Regression, Adam is a good optimizer (ie. 'sgd')\n",
    "\n",
    "### FIT\n",
    "# Scaling data before fitting can ease optimization - Subtract feat by its mean and divide by std_dev (Model???)\n",
    "model.fit(predictors, target)\n",
    "\n",
    "### PREDICT\n",
    "predictions = model.predict(pred_data)"
   ]
  },
  {
   "cell_type": "code",
   "execution_count": null,
   "metadata": {},
   "outputs": [],
   "source": [
    "### CLASSIFICATION\n",
    "### MODEL SPECIFICATION\n",
    "import numpy as np\n",
    "from keras.layers import Dense            # All the nodes connects with all nodes in next layer\n",
    "from keras.models import Sequential       # Each layer connects with the next layer\n",
    "from keras.utils  import to_categorical\n",
    "\n",
    "data = pd.read_csv('basketball_shot_log.csv')\n",
    "predictors = data.drop(['shot_result'], axis=1).as_matrix()          # as_matrix stores as numpy matrix\n",
    "target = to_categorical(data.shot_result)\n",
    "\n",
    "n_cols = predictors.shape[1]\n",
    "\n",
    "model = Sequential()  \n",
    "model.add(Dense(100, activation='relu', input_shape=(n_cols,)))\n",
    "model.add(Dense(100, activation='relu'))\n",
    "model.add(Dense(100, activation='relu'))\n",
    "model.add(Dense(2, activation='softmax'))\n",
    "\n",
    "### COMPILE\n",
    "model.compile(optimizer='adam', loss='categorical_crossentropy', metrics=['accuracy'])       # Classification\n",
    "\n",
    "### FIT\n",
    "# Scaling data before fitting can ease optimization - Subtract feat by its mean and divide by std_dev (Model???)\n",
    "model.fit(predictors, target,\n",
    "          validation_split=0.3)                            # cross validations folds\n",
    "\n",
    "### PREDICT\n",
    "predictions = model.predict(pred_data)\n",
    "probability_true = predictions[:,1]\n"
   ]
  },
  {
   "cell_type": "code",
   "execution_count": null,
   "metadata": {},
   "outputs": [],
   "source": [
    "### SAVING , RELOADING and USING THE MODEL\n",
    "from keras.models import load_model\n",
    "\n",
    "model.save('model_file.h5')                    # Saving\n",
    "\n",
    "my_model = load_model('my_model.h5')           # loading to memory\n",
    "my_model.summary()                             # Verify model structure\n",
    "predictions = my_model.predict(data)\n"
   ]
  },
  {
   "cell_type": "markdown",
   "metadata": {},
   "source": [
    "<h2>MODEL OPTIMIZATION</h2>\n",
    "https://keras.io/optimizers/"
   ]
  },
  {
   "cell_type": "code",
   "execution_count": null,
   "metadata": {},
   "outputs": [],
   "source": [
    "# SGD - Stochastic Gradient Descent optimizers\n",
    "\"\"\"Arguments\n",
    "   lr: float >= 0. Learning rate.\n",
    "   momentum: float >= 0. Parameter updates momentum.\n",
    "   decay: float >= 0. Learning rate decay over each update.\n",
    "   nesterov: boolean. Whether to apply Nesterov momentum.\"\"\"\n",
    "\n",
    "def get_new_model(input_shape = input_shape):\n",
    "    model = Sequenial()\n",
    "    model.add(Dense(100, activation='relu', input_shape=(n_cols,)))\n",
    "    model.add(Dense(100, activation='relu'))    \n",
    "    model.add(Dense(2, activation='softmax'))\n",
    "    return model\n",
    "\n",
    "from keras.optimizers import SGD\n",
    "lr_to_test = [0.000001, 0.01, 1]\n",
    "for lr in lr_to_test:\n",
    "    print('\\n\\nTesting model with learning rate: %f\\n'%lr )\n",
    "    model = get_new_model()\n",
    "    my_optimizer = SGD(lr=lr)\n",
    "    model.compile(optimizer=my_optimizer, loss='categorical_crossentropy')"
   ]
  },
  {
   "cell_type": "code",
   "execution_count": null,
   "metadata": {},
   "outputs": [],
   "source": [
    "### ADAM optimizer\n",
    "\"\"\"Arguments\n",
    "   lr: float >= 0. Learning rate.\n",
    "   beta_1: float, 0 < beta < 1. Generally close to 1.\n",
    "   beta_2: float, 0 < beta < 1. Generally close to 1.\n",
    "   epsilon: float >= 0. Fuzz factor.\n",
    "   decay: float >= 0. Learning rate decay over each update.\"\"\"\n",
    "\n",
    "keras.optimizers.Adam(lr=0.001, beta_1=0.9, beta_2=0.999, epsilon=1e-08, decay=0.0)"
   ]
  },
  {
   "cell_type": "markdown",
   "metadata": {},
   "source": [
    "<h2>VALIDATION"
   ]
  },
  {
   "cell_type": "code",
   "execution_count": null,
   "metadata": {},
   "outputs": [],
   "source": [
    "### Early Stopping\n",
    "from keras.callbacks import EarlyStopping\n",
    "\n",
    "early_stopping_monitor = EarlyStopping(patience=2)         # patience = how many epochs without improving before stop training\n",
    "\n",
    "model.fit(predictors, target, \n",
    "          validation_split=0.3,                            # cross validations folds\n",
    "          epochs=20,                                       # num of epochs\n",
    "          callbacks=[early_stopping_monitor])              # callback is a list, can include other monitors"
   ]
  },
  {
   "cell_type": "code",
   "execution_count": null,
   "metadata": {},
   "outputs": [],
   "source": [
    "\n",
    "# Model 2 - 10 nodes\n",
    "model_1 = Sequential()\n",
    "model_1.add(Dense(10, activation='relu', input_shape=input_shape))\n",
    "model_1.add(Dense(10, activation='relu'))\n",
    "model_1.add(Dense(2, activation='softmax'))\n",
    "model_1.compile(optimizer='adam', loss='categorical_crossentropy', metrics=['accuracy'])\n",
    "\n",
    "# Model 2 - 100 nodes\n",
    "model_2 = Sequential()\n",
    "model_2.add(Dense(100, activation='relu', input_shape=input_shape))\n",
    "model_2.add(Dense(100, activation='relu'))\n",
    "model_2.add(Dense(2, activation='softmax'))\n",
    "model_2.compile(optimizer='adam', loss='categorical_crossentropy', metrics=['accuracy'])\n",
    "\n",
    "# Fit models\n",
    "early_stopping_monitor = EarlyStopping(patience=2)\n",
    "model_1_training = model_1.fit(predictors, target, epochs=15, validation_split=0.2, callbacks=[early_stopping_monitor], verbose=False)\n",
    "model_2_training = model_2.fit(predictors, target, epochs=15, validation_split=0.2, callbacks=[early_stopping_monitor], verbose=False)\n",
    "\n",
    "# Create the plot\n",
    "plt.plot(model_1_training.history['val_loss'], 'r', model_2_training.history['val_loss'], 'b')\n",
    "plt.xlabel('Epochs')\n",
    "plt.ylabel('Validation score')\n",
    "plt.show()\n"
   ]
  },
  {
   "cell_type": "code",
   "execution_count": null,
   "metadata": {},
   "outputs": [],
   "source": []
  }
 ],
 "metadata": {
  "kernelspec": {
   "display_name": "Python 3",
   "language": "python",
   "name": "python3"
  },
  "language_info": {
   "codemirror_mode": {
    "name": "ipython",
    "version": 3
   },
   "file_extension": ".py",
   "mimetype": "text/x-python",
   "name": "python",
   "nbconvert_exporter": "python",
   "pygments_lexer": "ipython3",
   "version": "3.5.4"
  }
 },
 "nbformat": 4,
 "nbformat_minor": 2
}
