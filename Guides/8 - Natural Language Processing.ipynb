{
 "cells": [
  {
   "cell_type": "markdown",
   "metadata": {},
   "source": [
    "Tokenization - Splitting a string into segments; store segments as list\n",
    "- Tokenize on whitespace\n",
    "- Tokenize on whitespace and punctuation\n",
    "\n",
    "\"Bag of Words\" --> Count the number of times a particular token appears; this approach discards information about word order\n",
    "\n",
    "n-grams - \n",
    "\n",
    "\n",
    "NLP tricks for text data:\n",
    "- Tokenize on punctuation to avoid hyphens; underscores; etc\n",
    "- include unigrams and bi-grams in the model to capture important information involving multiple tokens - e.g; 'middle school' : ngram_range=(1; 2)"
   ]
  },
  {
   "cell_type": "markdown",
   "metadata": {},
   "source": [
    "<a name=\"NLP\"></a>\n",
    "<h3> Natural Language Processing</h3><p>\n",
    "Must NOT have NaNs"
   ]
  },
  {
   "cell_type": "code",
   "execution_count": null,
   "metadata": {},
   "outputs": [],
   "source": [
    "### Textual Feature Encoding\n",
    "from sklearn.feature_extraction.text import CountVectorizer           # Bag of Words\n",
    "\n",
    "TOKENS_BASIC = '\\\\S+(?=\\\\s+)'\n",
    "TOKENS_ALPHANUMERIC = '[A-Za-z0-9]+(?=\\\\s+)'\n",
    "\n",
    "vector = CountVectorizer(token_pattern=TOKENS_BASIC)\n",
    "# vector = CountVectorizer(token_pattern=TOKENS_ALPHANUMERIC, ngram_range=(1, 2))   # ngram range 1 and 2 tokens\n",
    "vector.fit(df)"
   ]
  },
  {
   "cell_type": "code",
   "execution_count": null,
   "metadata": {},
   "outputs": [],
   "source": [
    "# Print the number of tokens and first 15 tokens\n",
    "msg = \"There are {} tokens if we split on non-alpha numeric\"     # example msg\n",
    "print(msg.format(len(vec_alphanumeric.get_feature_names())))     # Number of tokens\n",
    "print(vec_alphanumeric.get_feature_names()[:15])                 # print first 15 tokens"
   ]
  },
  {
   "cell_type": "code",
   "execution_count": null,
   "metadata": {},
   "outputs": [],
   "source": [
    "### Textual Feature Encoding\n",
    "from sklearn.feature_extraction.text import CountVectorizer           # Bag of Words\n",
    "\n",
    "corpus = [\"Authman ran faster than Harry because Authman is real and Harry is fictional.\",\n",
    "          \"Authman and Harry ran faster then faster and faster.\",\n",
    "          \"w00t.\"]\n",
    "\n",
    "bow = CountVectorizer()\n",
    "X = bow.fit_transform(corpus) # This Produces A Sparse Matrix!\n",
    "X"
   ]
  },
  {
   "cell_type": "code",
   "execution_count": null,
   "metadata": {},
   "outputs": [],
   "source": [
    "bow.get_feature_names()"
   ]
  },
  {
   "cell_type": "code",
   "execution_count": null,
   "metadata": {},
   "outputs": [],
   "source": [
    "X.toarray()"
   ]
  },
  {
   "cell_type": "code",
   "execution_count": null,
   "metadata": {},
   "outputs": [],
   "source": []
  },
  {
   "cell_type": "code",
   "execution_count": null,
   "metadata": {},
   "outputs": [],
   "source": []
  }
 ],
 "metadata": {
  "kernelspec": {
   "display_name": "Python 3",
   "language": "python",
   "name": "python3"
  },
  "language_info": {
   "codemirror_mode": {
    "name": "ipython",
    "version": 3
   },
   "file_extension": ".py",
   "mimetype": "text/x-python",
   "name": "python",
   "nbconvert_exporter": "python",
   "pygments_lexer": "ipython3",
   "version": "3.6.3"
  }
 },
 "nbformat": 4,
 "nbformat_minor": 2
}
