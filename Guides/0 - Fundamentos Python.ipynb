{
 "cells": [
  {
   "cell_type": "code",
   "execution_count": null,
   "metadata": {},
   "outputs": [],
   "source": []
  },
  {
   "cell_type": "code",
   "execution_count": null,
   "metadata": {},
   "outputs": [],
   "source": [
    "### FORMAT\n",
    "nums = [4,5,6]\n",
    "msg = “Numbers: {0} {1} {2}”.format(nums[0],nums[1],nums[2])\n",
    "print msg\n",
    "# resp: Numbers: 4 5 6\n",
    "\n",
    "a = “{x} e {y}” .format (x=5, y=12)\n",
    "print a\n",
    "# resp: 5 e 12\n"
   ]
  },
  {
   "cell_type": "code",
   "execution_count": null,
   "metadata": {},
   "outputs": [],
   "source": [
    "if condição:\n",
    "    comando True\n",
    "elif condição:\n",
    "    comando True\n",
    "else:\n",
    "    comando False\n"
   ]
  },
  {
   "cell_type": "markdown",
   "metadata": {},
   "source": [
    "<h3>Loops:</h3>\n",
    "While com duas condições. Sai do loop quando uma é satisfeita.\n"
   ]
  },
  {
   "cell_type": "code",
   "execution_count": null,
   "metadata": {},
   "outputs": [],
   "source": [
    "while condiçãoFalse and condiçãoFalse2:\n",
    "    comando 1\n",
    "    comando 2\n",
    "\n",
    "# manipulando loops: break, continue, exit()\n"
   ]
  },
  {
   "cell_type": "code",
   "execution_count": null,
   "metadata": {},
   "outputs": [],
   "source": [
    "for num in nums:\n",
    "    print (num)\n",
    "\n",
    "for letter in 'DataCamp':\n",
    "    print(letter)\n",
    "\n",
    "for i in range(4):\n",
    "    print(i)\n",
    "\n",
    "for i in range(5,10,2):          #De 5 a 10 passo 2\n",
    "    print(num[i])\n",
    "\n",
    "for index, value in enumerate(avengers):\n",
    "    print(index, value)\n",
    "   \n",
    "   \n",
    "word = 'Da'\n",
    "it = iter(word)\n",
    "next(it)\n",
    "\n",
    "# Dict\n",
    "for key, value in dictionary.items():\n",
    "    print(key, value)"
   ]
  },
  {
   "cell_type": "markdown",
   "metadata": {},
   "source": [
    "<b>Ranges"
   ]
  },
  {
   "cell_type": "code",
   "execution_count": null,
   "metadata": {},
   "outputs": [],
   "source": [
    "range(10)                # resp: 0,1,2,3,4,5,6,7,8,9\n",
    "range(3,8)               # resp: 3,4,5,6,7\n",
    "range(2,10,2)            # resp: 2,4,6,8\n",
    "\n",
    "np.arange(1,10)          # (1,2,3,4,5,6,7,8,9,10)"
   ]
  },
  {
   "cell_type": "code",
   "execution_count": null,
   "metadata": {},
   "outputs": [],
   "source": [
    "# CALCULATION\n",
    "ColA.divide(ColB, axis='rows') # Divide duas colunas, respeitando o indice (Correto para Time Series)\n",
    "ColA.multiply(ColB, axis='rows') # Multiplica\n",
    "ColA.add(ColB, fill_value=0) # Divide duas colunas, insere 0 \n",
    "ColA.add(ColB, fill_value=0).add(ColC, fill_value=0)"
   ]
  },
  {
   "cell_type": "code",
   "execution_count": null,
   "metadata": {},
   "outputs": [],
   "source": [
    "df.floordiv(12)                          # Divide to 12 - in Pandas\n",
    "np.floor_divide(df, 12)                  # Divide to 12 - in Numpy\n",
    "df.apply(lambda n: n/12)                 # Divide to 12 - in Lambda"
   ]
  },
  {
   "cell_type": "markdown",
   "metadata": {},
   "source": [
    "<h3>Strings Functions</h3>"
   ]
  },
  {
   "cell_type": "code",
   "execution_count": null,
   "metadata": {},
   "outputs": [],
   "source": [
    "print(',' .join(['spam','eggs','ham']))                     # spam,eggs,ham\n",
    "print('spam','eggs','ham' .split(','))                      # [‘spam’,’eggs’,’ham’]\n",
    "print('Hello ME' .replace('ME','world'))                    # Hello world\n",
    "print('This is a sentence') .startswith('This'))            # True\n",
    "print('This is a sentence') .endswith('sentence'))          # True\n",
    "print('This is a sentence') .upper())                       # THIS IS A SENTENCE\n",
    "print('THIS IS A SENTENCE') .lower())                       # this is a sentence\n",
    "print('This is a sentence') .capitalize())                  # This is a sentence\n"
   ]
  },
  {
   "cell_type": "code",
   "execution_count": null,
   "metadata": {},
   "outputs": [],
   "source": [
    "siter = 'liz'\n",
    "sister.capitalize()       = Liz\n",
    "sister.replace('z', 'sa') = Lisa\n",
    "sister.upper()            = LISA\n"
   ]
  },
  {
   "cell_type": "markdown",
   "metadata": {},
   "source": [
    "<h3>Functions</h3>"
   ]
  },
  {
   "cell_type": "code",
   "execution_count": null,
   "metadata": {},
   "outputs": [],
   "source": [
    "def function (default=1):              # set a default valeu for an argument\n",
    "def function (*args):                  # pass a flexible argument\n",
    "def function (**kwargs):               # pass a dict to a function\n"
   ]
  },
  {
   "cell_type": "markdown",
   "metadata": {},
   "source": [
    "<h3>Funções Numéricas:</h3>"
   ]
  },
  {
   "cell_type": "code",
   "execution_count": null,
   "metadata": {},
   "outputs": [],
   "source": [
    "min (1,2,3,4,2,8,7)\n",
    "max (1,2,3,4,2,8,7)\n",
    "abs(-99)\n",
    "round (10.67, 1)\n",
    "sum([1,2,3,4,5])\n"
   ]
  },
  {
   "cell_type": "markdown",
   "metadata": {},
   "source": [
    "<h3>Listas</h3>"
   ]
  },
  {
   "cell_type": "code",
   "execution_count": null,
   "metadata": {},
   "outputs": [],
   "source": [
    "Lista = [1,2,3,4,5,6,7,8]\n",
    "Lista2 = [“string”, 0, [1, 2, variavel], 4.56]\n",
    "Lista3=”Hello World!”\n",
    "\n",
    "print (Lista2[1])                   # 0\n",
    "print (Lista3[6])                   # W\n",
    "print (Lista[2:6])                  # [3,4,5,6]                # Primeiro argumento entra na lista, ultimo não\n",
    "print (Lista[3:])                   # [4,5,6,7,8]              # A partir do 3º até o fim\n",
    "print (Lista[:6])                   # [1,2,3,4,5,6]            # Do início até o 6º item\n",
    "print (Lista[::2])                  # [1,3,5]                  # Toda a lista com salto de 2\n",
    "print (Lista[::-1])                 # [8,7,6,5,4,3,2,1]        # Toda a lista com salto de -1\n",
    "Lista[2] = 0                        # [1,2,0,4,5,6,7,8] \n",
    "Lista + [9,10]                      # [1,2,0,4,5,6,7,8,9,10]\n",
    "\n",
    "lista2 = lista1[:]                  # clona a lista1 na lista2\n",
    "\n",
    "# List Comprehensions\n",
    "# [ output expression for iterator variable in iterable if predicate expression ]\n",
    "cubos = [i**3 for i in range(5)]                         # [0,1,8,27,64]\n",
    "pares = [i**2 for i in range(10) if i**2 % 2 == 0]       # [0,4,16,36,64]"
   ]
  },
  {
   "cell_type": "markdown",
   "metadata": {},
   "source": [
    "Funções e Métodos de Listas"
   ]
  },
  {
   "cell_type": "code",
   "execution_count": null,
   "metadata": {},
   "outputs": [],
   "source": [
    "nums = [55,44,33,22,11]\n",
    "\n",
    "# all e any retornam True ou False\n",
    "if all ([i > 5 for i in nums]):\n",
    "    print(“Todos maiores que 5.”)\n",
    "\n",
    "for v in enumerate (nums):       # enumerate: lista os índices e valores da lista\n",
    "    print (v)                    # (0,55) (1,44) (2,33) (3,22) (4,11)\n",
    "nums.append(00)                  # [55,44,33,22,11,00]\n",
    "len(nums)                        # 5\n",
    "nums.insert(0,66)                # [66,55,44,33,22,11,00]\n",
    "nums.index(“22”)                 # 4\t# retorna o índice solicitado\n",
    "nums.count(“22”)                 # 1 \t# conta o total de ocorrências solicitada\n",
    "del nums[3]                      # [66,55,44, 22,11,00]\n",
    "nums.sort()                      # ordena a lista de forma crescente\n",
    "nums.remove()\n",
    "nums.reverse()\n"
   ]
  },
  {
   "cell_type": "markdown",
   "metadata": {},
   "source": [
    "<h3>Dicionários</h3>"
   ]
  },
  {
   "cell_type": "code",
   "execution_count": null,
   "metadata": {},
   "outputs": [],
   "source": [
    "dic = {1:'azul', 2:'amarelo', 3:'verde', 4:'roxo'}         # {key:value}\n",
    "\n",
    "dic[3]                             # verde\n",
    "dic[5] = 'vermelho'                # {1:”azul”, 2:”amarelo”, 3:”verde”, 4:”roxo”, 5:”vermelho”}\n",
    "2 in dic                           # True\n",
    "'azul' in dic                      # False           # Verifica existencia\n",
    "dic.get(2                          # “amarelo”\n",
    "del(dic['5'])                      # {1:”azul”, 2:”amarelo”, 3:”verde”, 4:”roxo”}\n",
    "dic.get(9,'Não Encontrado')        # “Não Encontrado”\n",
    "dic.keys()                         # 1,2,3,4\n",
    "\n",
    "        \n",
    "# Exemple\n",
    "europe = { 'spain': { 'capital':'madrid', 'population':46.77 },\n",
    "           'france': { 'capital':'paris', 'population':66.03 },\n",
    "\n",
    "data = {'capital':'rome', 'population':59.83}       # Create sub-dictionary data\n",
    "europe['italy'] = data                              # Add data to europe under key 'italy'"
   ]
  },
  {
   "cell_type": "code",
   "execution_count": null,
   "metadata": {},
   "outputs": [],
   "source": [
    "#### Tuple \n",
    "Set = {1,2,3,4,5,6,7,8}               # Não pode haver valores repetidos\n",
    "Tuple = (1,2,3,4,5,6,7,8)             # Tuples são imutáveis, mas são mais rápidos que Listas\n",
    "Tuple[3] = 10                         # TypeError     # Tuples são imutáveis\n"
   ]
  },
  {
   "cell_type": "markdown",
   "metadata": {},
   "source": [
    "<h3>Regular Expressions</h3>"
   ]
  },
  {
   "cell_type": "code",
   "execution_count": null,
   "metadata": {},
   "outputs": [],
   "source": [
    "import re\n",
    "str = \"My name is David. Hi David.\"\n",
    "pattern = r\"David\"\n",
    "newstr = re.sub(pattern, \"Amy\", str)\n",
    "print(newstr)\n",
    "\n",
    "re.match(padrão, string)                  # procura pelo padrão no inicio da string\n",
    "re.search(padrão, string)                 # procura pelo padrão em qualquer lugar da string\n",
    "re.findall(padrão, string)                # retorna uma lista de substrings encontradas\n",
    "re.sub(padrão, novo, string, max=0)       # substitui os padrões por novo na string, se max=0 substitui todas as ocorrências\n",
    "\n",
    "Metacharacters:\n",
    "pattern = r\"gr.y\"                         # . é qualquer caracter                         resp: gray, grey, grwy,grxy...\n",
    "pattern = r\"^grey\"                        # coincide o padrão com o início (^) da string\n",
    "pattern = r\"grey$\"                        # coincide o padrão com o fim ($) da string\n",
    "pattern = r\"[aeiou]\"                      # padrão com lista de vogais.\n",
    "pattern = r\"[A-Z][A-Z][0-9]\"              # 3 digitos sendo o primeiro e o segundo com letras maiúsculas e o terceiro com digito\n",
    "pattern = r\"[^A-Z]\"                       # O ^ inverte o padrão, ou seja, nenhuma letra maiúscula\n",
    "pattern = r\"egg(spam)*\"                   #ZERO ou mais repetições do que está no ()      resp: egg ou eggspam ou eggspamspam...\n",
    "pattern = r\"(g)+\"                         #UMA ou mais repetições do que está no ()       resp: g ou ggggggggggg...\n",
    "pattern = r\"ice(-)?cream\"                 #ZERO ou UMA repetição                          resp: ice-cream ou ice--cream\n",
    "pattern = r\"9{1,3}$\"                      #Entre 1 ou 3 repetições do 9\n",
    "\n",
    "# Use A-Za-z to match the set of lower and upper case letters, \\. to match periods, and \\s to match whitespace between words."
   ]
  },
  {
   "cell_type": "code",
   "execution_count": null,
   "metadata": {},
   "outputs": [],
   "source": [
    "# Criar um padrão\n",
    "pattern = re.compile('\\$\\d*\\.\\d{2}')              # $12345.67\n",
    "CPF = re.compile('\\d{3}.\\d{3}.\\d{3}-\\d{2}')\n",
    "result = CPF.match('754.259.657-65')              # Verifica se está igual o padrão\n",
    "print(bool(CPF))\n",
    "\n",
    "# Anchor the pattern to match exactly what you want by placing a ^ in the beginning and $ in the end.\n",
    "\n",
    "pattern='\\$\\d*\\.\\d{2}'                            # A dollar sign, an arbitrary number of digits, a decimal point, 2 digits.\n",
    "pattern='[A-Z]\\w*'                                # A capital letter, followed by an arbitrary number of alphanumeric characters\n",
    "pattern3 = bool(re.match(pattern='[A-Z]\\w*', string='Australia'))  "
   ]
  },
  {
   "cell_type": "code",
   "execution_count": null,
   "metadata": {},
   "outputs": [],
   "source": [
    "# Extracting numerical values from strings\n",
    "# \\d is the pattern required to find digits followed with + so that the previous element is matched one or more times.\n",
    "matches = re.findall('\\d+', 'the recipe calls for 10 strawberries and 1 banana') \n",
    "\n"
   ]
  },
  {
   "cell_type": "markdown",
   "metadata": {},
   "source": [
    "<h2>Numpy"
   ]
  },
  {
   "cell_type": "code",
   "execution_count": null,
   "metadata": {},
   "outputs": [],
   "source": [
    "### Random Numbers\n",
    "np.random.seed(123)           # set a start seed\n",
    "np.random.rand()              # generate a float between 0 and 1\n",
    "np.random.randint(x, y)       # generate a integer between 0 and y (exclude)\n"
   ]
  },
  {
   "cell_type": "code",
   "execution_count": null,
   "metadata": {},
   "outputs": [],
   "source": [
    "# Numpy MESHGRID\n",
    "import numpy as np\n",
    "Array1 = np.linspace(-2, 2, 41)           # Generate array from -2 to +2 with 41 values\n",
    "Array2 = np.linspace(-1, 1, 41)           # Generate array from -2 to +2 with 41 values\n",
    "X,Y = np.meshgrid(Array1, Array2)"
   ]
  },
  {
   "cell_type": "code",
   "execution_count": null,
   "metadata": {},
   "outputs": [],
   "source": []
  },
  {
   "cell_type": "markdown",
   "metadata": {},
   "source": [
    "<h2>EXEMPLES"
   ]
  },
  {
   "cell_type": "code",
   "execution_count": null,
   "metadata": {},
   "outputs": [],
   "source": [
    "# Conta qtd de um dado caractere em um texto\n",
    "def count_char(text, char):\n",
    "     count = 0\n",
    "     for c in text:\n",
    "          if c == char:\n",
    "               count += 1\n",
    "return count"
   ]
  },
  {
   "cell_type": "code",
   "execution_count": null,
   "metadata": {},
   "outputs": [],
   "source": [
    "# Heads or Tails\n",
    "import numpy as np\n",
    "np.random.seed(42)\n",
    "outcomes = []\n",
    "for x in range (10):\n",
    "    coin =  np.random.randint(0,2)\n",
    "    if coin == 0:\n",
    "        outcomes.append('heads')\n",
    "    else:\n",
    "        outcomes.append('tails')\n",
    "print (outcomes)\n"
   ]
  },
  {
   "cell_type": "code",
   "execution_count": null,
   "metadata": {},
   "outputs": [],
   "source": []
  },
  {
   "cell_type": "code",
   "execution_count": null,
   "metadata": {},
   "outputs": [],
   "source": []
  },
  {
   "cell_type": "code",
   "execution_count": null,
   "metadata": {},
   "outputs": [],
   "source": []
  },
  {
   "cell_type": "code",
   "execution_count": null,
   "metadata": {},
   "outputs": [],
   "source": []
  },
  {
   "cell_type": "code",
   "execution_count": null,
   "metadata": {},
   "outputs": [],
   "source": []
  },
  {
   "cell_type": "code",
   "execution_count": null,
   "metadata": {},
   "outputs": [],
   "source": []
  },
  {
   "cell_type": "code",
   "execution_count": null,
   "metadata": {},
   "outputs": [],
   "source": []
  }
 ],
 "metadata": {
  "kernelspec": {
   "display_name": "Python 3",
   "language": "python",
   "name": "python3"
  },
  "language_info": {
   "codemirror_mode": {
    "name": "ipython",
    "version": 3
   },
   "file_extension": ".py",
   "mimetype": "text/x-python",
   "name": "python",
   "nbconvert_exporter": "python",
   "pygments_lexer": "ipython3",
   "version": "3.6.3"
  }
 },
 "nbformat": 4,
 "nbformat_minor": 2
}
