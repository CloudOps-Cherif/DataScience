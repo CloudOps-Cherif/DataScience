{
 "cells": [
  {
   "cell_type": "code",
   "execution_count": null,
   "metadata": {},
   "outputs": [],
   "source": [
    "# Plotting with glyphs"
   ]
  },
  {
   "cell_type": "code",
   "execution_count": 14,
   "metadata": {},
   "outputs": [
    {
     "data": {
      "text/html": [
       "\n",
       "    <div class=\"bk-root\">\n",
       "        <a href=\"https://bokeh.pydata.org\" target=\"_blank\" class=\"bk-logo bk-logo-small bk-logo-notebook\"></a>\n",
       "        <span id=\"75528ee9-2ac6-4dcb-a1c0-46a2e25345f4\">Loading BokehJS ...</span>\n",
       "    </div>"
      ]
     },
     "metadata": {},
     "output_type": "display_data"
    },
    {
     "data": {
      "application/javascript": [
       "\n",
       "(function(root) {\n",
       "  function now() {\n",
       "    return new Date();\n",
       "  }\n",
       "\n",
       "  var force = true;\n",
       "\n",
       "  if (typeof (root._bokeh_onload_callbacks) === \"undefined\" || force === true) {\n",
       "    root._bokeh_onload_callbacks = [];\n",
       "    root._bokeh_is_loading = undefined;\n",
       "  }\n",
       "\n",
       "  var JS_MIME_TYPE = 'application/javascript';\n",
       "  var HTML_MIME_TYPE = 'text/html';\n",
       "  var EXEC_MIME_TYPE = 'application/vnd.bokehjs_exec.v0+json';\n",
       "  var CLASS_NAME = 'output_bokeh rendered_html';\n",
       "\n",
       "  /**\n",
       "   * Render data to the DOM node\n",
       "   */\n",
       "  function render(props, node) {\n",
       "    var script = document.createElement(\"script\");\n",
       "    node.appendChild(script);\n",
       "  }\n",
       "\n",
       "  /**\n",
       "   * Handle when an output is cleared or removed\n",
       "   */\n",
       "  function handleClearOutput(event, handle) {\n",
       "    var cell = handle.cell;\n",
       "\n",
       "    var id = cell.output_area._bokeh_element_id;\n",
       "    var server_id = cell.output_area._bokeh_server_id;\n",
       "    // Clean up Bokeh references\n",
       "    if (id !== undefined) {\n",
       "      Bokeh.index[id].model.document.clear();\n",
       "      delete Bokeh.index[id];\n",
       "    }\n",
       "\n",
       "    if (server_id !== undefined) {\n",
       "      // Clean up Bokeh references\n",
       "      var cmd = \"from bokeh.io.state import curstate; print(curstate().uuid_to_server['\" + server_id + \"'].get_sessions()[0].document.roots[0]._id)\";\n",
       "      cell.notebook.kernel.execute(cmd, {\n",
       "        iopub: {\n",
       "          output: function(msg) {\n",
       "            var element_id = msg.content.text.trim();\n",
       "            Bokeh.index[element_id].model.document.clear();\n",
       "            delete Bokeh.index[element_id];\n",
       "          }\n",
       "        }\n",
       "      });\n",
       "      // Destroy server and session\n",
       "      var cmd = \"import bokeh.io.notebook as ion; ion.destroy_server('\" + server_id + \"')\";\n",
       "      cell.notebook.kernel.execute(cmd);\n",
       "    }\n",
       "  }\n",
       "\n",
       "  /**\n",
       "   * Handle when a new output is added\n",
       "   */\n",
       "  function handleAddOutput(event, handle) {\n",
       "    var output_area = handle.output_area;\n",
       "    var output = handle.output;\n",
       "\n",
       "    // limit handleAddOutput to display_data with EXEC_MIME_TYPE content only\n",
       "    if ((output.output_type != \"display_data\") || (!output.data.hasOwnProperty(EXEC_MIME_TYPE))) {\n",
       "      return\n",
       "    }\n",
       "\n",
       "    var toinsert = output_area.element.find(\".\" + CLASS_NAME.split(' ')[0]);\n",
       "\n",
       "    if (output.metadata[EXEC_MIME_TYPE][\"id\"] !== undefined) {\n",
       "      toinsert[0].firstChild.textContent = output.data[JS_MIME_TYPE];\n",
       "      // store reference to embed id on output_area\n",
       "      output_area._bokeh_element_id = output.metadata[EXEC_MIME_TYPE][\"id\"];\n",
       "    }\n",
       "    if (output.metadata[EXEC_MIME_TYPE][\"server_id\"] !== undefined) {\n",
       "      var bk_div = document.createElement(\"div\");\n",
       "      bk_div.innerHTML = output.data[HTML_MIME_TYPE];\n",
       "      var script_attrs = bk_div.children[0].attributes;\n",
       "      for (var i = 0; i < script_attrs.length; i++) {\n",
       "        toinsert[0].firstChild.setAttribute(script_attrs[i].name, script_attrs[i].value);\n",
       "      }\n",
       "      // store reference to server id on output_area\n",
       "      output_area._bokeh_server_id = output.metadata[EXEC_MIME_TYPE][\"server_id\"];\n",
       "    }\n",
       "  }\n",
       "\n",
       "  function register_renderer(events, OutputArea) {\n",
       "\n",
       "    function append_mime(data, metadata, element) {\n",
       "      // create a DOM node to render to\n",
       "      var toinsert = this.create_output_subarea(\n",
       "        metadata,\n",
       "        CLASS_NAME,\n",
       "        EXEC_MIME_TYPE\n",
       "      );\n",
       "      this.keyboard_manager.register_events(toinsert);\n",
       "      // Render to node\n",
       "      var props = {data: data, metadata: metadata[EXEC_MIME_TYPE]};\n",
       "      render(props, toinsert[0]);\n",
       "      element.append(toinsert);\n",
       "      return toinsert\n",
       "    }\n",
       "\n",
       "    /* Handle when an output is cleared or removed */\n",
       "    events.on('clear_output.CodeCell', handleClearOutput);\n",
       "    events.on('delete.Cell', handleClearOutput);\n",
       "\n",
       "    /* Handle when a new output is added */\n",
       "    events.on('output_added.OutputArea', handleAddOutput);\n",
       "\n",
       "    /**\n",
       "     * Register the mime type and append_mime function with output_area\n",
       "     */\n",
       "    OutputArea.prototype.register_mime_type(EXEC_MIME_TYPE, append_mime, {\n",
       "      /* Is output safe? */\n",
       "      safe: true,\n",
       "      /* Index of renderer in `output_area.display_order` */\n",
       "      index: 0\n",
       "    });\n",
       "  }\n",
       "\n",
       "  // register the mime type if in Jupyter Notebook environment and previously unregistered\n",
       "  if (root.Jupyter !== undefined) {\n",
       "    var events = require('base/js/events');\n",
       "    var OutputArea = require('notebook/js/outputarea').OutputArea;\n",
       "\n",
       "    if (OutputArea.prototype.mime_types().indexOf(EXEC_MIME_TYPE) == -1) {\n",
       "      register_renderer(events, OutputArea);\n",
       "    }\n",
       "  }\n",
       "\n",
       "  \n",
       "  if (typeof (root._bokeh_timeout) === \"undefined\" || force === true) {\n",
       "    root._bokeh_timeout = Date.now() + 5000;\n",
       "    root._bokeh_failed_load = false;\n",
       "  }\n",
       "\n",
       "  var NB_LOAD_WARNING = {'data': {'text/html':\n",
       "     \"<div style='background-color: #fdd'>\\n\"+\n",
       "     \"<p>\\n\"+\n",
       "     \"BokehJS does not appear to have successfully loaded. If loading BokehJS from CDN, this \\n\"+\n",
       "     \"may be due to a slow or bad network connection. Possible fixes:\\n\"+\n",
       "     \"</p>\\n\"+\n",
       "     \"<ul>\\n\"+\n",
       "     \"<li>re-rerun `output_notebook()` to attempt to load from CDN again, or</li>\\n\"+\n",
       "     \"<li>use INLINE resources instead, as so:</li>\\n\"+\n",
       "     \"</ul>\\n\"+\n",
       "     \"<code>\\n\"+\n",
       "     \"from bokeh.resources import INLINE\\n\"+\n",
       "     \"output_notebook(resources=INLINE)\\n\"+\n",
       "     \"</code>\\n\"+\n",
       "     \"</div>\"}};\n",
       "\n",
       "  function display_loaded() {\n",
       "    var el = document.getElementById(\"75528ee9-2ac6-4dcb-a1c0-46a2e25345f4\");\n",
       "    if (el != null) {\n",
       "      el.textContent = \"BokehJS is loading...\";\n",
       "    }\n",
       "    if (root.Bokeh !== undefined) {\n",
       "      if (el != null) {\n",
       "        el.textContent = \"BokehJS \" + root.Bokeh.version + \" successfully loaded.\";\n",
       "      }\n",
       "    } else if (Date.now() < root._bokeh_timeout) {\n",
       "      setTimeout(display_loaded, 100)\n",
       "    }\n",
       "  }\n",
       "\n",
       "\n",
       "  function run_callbacks() {\n",
       "    try {\n",
       "      root._bokeh_onload_callbacks.forEach(function(callback) { callback() });\n",
       "    }\n",
       "    finally {\n",
       "      delete root._bokeh_onload_callbacks\n",
       "    }\n",
       "    console.info(\"Bokeh: all callbacks have finished\");\n",
       "  }\n",
       "\n",
       "  function load_libs(js_urls, callback) {\n",
       "    root._bokeh_onload_callbacks.push(callback);\n",
       "    if (root._bokeh_is_loading > 0) {\n",
       "      console.log(\"Bokeh: BokehJS is being loaded, scheduling callback at\", now());\n",
       "      return null;\n",
       "    }\n",
       "    if (js_urls == null || js_urls.length === 0) {\n",
       "      run_callbacks();\n",
       "      return null;\n",
       "    }\n",
       "    console.log(\"Bokeh: BokehJS not loaded, scheduling load and callback at\", now());\n",
       "    root._bokeh_is_loading = js_urls.length;\n",
       "    for (var i = 0; i < js_urls.length; i++) {\n",
       "      var url = js_urls[i];\n",
       "      var s = document.createElement('script');\n",
       "      s.src = url;\n",
       "      s.async = false;\n",
       "      s.onreadystatechange = s.onload = function() {\n",
       "        root._bokeh_is_loading--;\n",
       "        if (root._bokeh_is_loading === 0) {\n",
       "          console.log(\"Bokeh: all BokehJS libraries loaded\");\n",
       "          run_callbacks()\n",
       "        }\n",
       "      };\n",
       "      s.onerror = function() {\n",
       "        console.warn(\"failed to load library \" + url);\n",
       "      };\n",
       "      console.log(\"Bokeh: injecting script tag for BokehJS library: \", url);\n",
       "      document.getElementsByTagName(\"head\")[0].appendChild(s);\n",
       "    }\n",
       "  };var element = document.getElementById(\"75528ee9-2ac6-4dcb-a1c0-46a2e25345f4\");\n",
       "  if (element == null) {\n",
       "    console.log(\"Bokeh: ERROR: autoload.js configured with elementid '75528ee9-2ac6-4dcb-a1c0-46a2e25345f4' but no matching script tag was found. \")\n",
       "    return false;\n",
       "  }\n",
       "\n",
       "  var js_urls = [\"https://cdn.pydata.org/bokeh/release/bokeh-0.12.11.min.js\", \"https://cdn.pydata.org/bokeh/release/bokeh-widgets-0.12.11.min.js\", \"https://cdn.pydata.org/bokeh/release/bokeh-tables-0.12.11.min.js\", \"https://cdn.pydata.org/bokeh/release/bokeh-gl-0.12.11.min.js\"];\n",
       "\n",
       "  var inline_js = [\n",
       "    function(Bokeh) {\n",
       "      Bokeh.set_log_level(\"info\");\n",
       "    },\n",
       "    \n",
       "    function(Bokeh) {\n",
       "      \n",
       "    },\n",
       "    function(Bokeh) {\n",
       "      console.log(\"Bokeh: injecting CSS: https://cdn.pydata.org/bokeh/release/bokeh-0.12.11.min.css\");\n",
       "      Bokeh.embed.inject_css(\"https://cdn.pydata.org/bokeh/release/bokeh-0.12.11.min.css\");\n",
       "      console.log(\"Bokeh: injecting CSS: https://cdn.pydata.org/bokeh/release/bokeh-widgets-0.12.11.min.css\");\n",
       "      Bokeh.embed.inject_css(\"https://cdn.pydata.org/bokeh/release/bokeh-widgets-0.12.11.min.css\");\n",
       "      console.log(\"Bokeh: injecting CSS: https://cdn.pydata.org/bokeh/release/bokeh-tables-0.12.11.min.css\");\n",
       "      Bokeh.embed.inject_css(\"https://cdn.pydata.org/bokeh/release/bokeh-tables-0.12.11.min.css\");\n",
       "    }\n",
       "  ];\n",
       "\n",
       "  function run_inline_js() {\n",
       "    \n",
       "    if ((root.Bokeh !== undefined) || (force === true)) {\n",
       "      for (var i = 0; i < inline_js.length; i++) {\n",
       "        inline_js[i].call(root, root.Bokeh);\n",
       "      }if (force === true) {\n",
       "        display_loaded();\n",
       "      }} else if (Date.now() < root._bokeh_timeout) {\n",
       "      setTimeout(run_inline_js, 100);\n",
       "    } else if (!root._bokeh_failed_load) {\n",
       "      console.log(\"Bokeh: BokehJS failed to load within specified timeout.\");\n",
       "      root._bokeh_failed_load = true;\n",
       "    } else if (force !== true) {\n",
       "      var cell = $(document.getElementById(\"75528ee9-2ac6-4dcb-a1c0-46a2e25345f4\")).parents('.cell').data().cell;\n",
       "      cell.output_area.append_execute_result(NB_LOAD_WARNING)\n",
       "    }\n",
       "\n",
       "  }\n",
       "\n",
       "  if (root._bokeh_is_loading === 0) {\n",
       "    console.log(\"Bokeh: BokehJS loaded, going straight to plotting\");\n",
       "    run_inline_js();\n",
       "  } else {\n",
       "    load_libs(js_urls, function() {\n",
       "      console.log(\"Bokeh: BokehJS plotting callback run at\", now());\n",
       "      run_inline_js();\n",
       "    });\n",
       "  }\n",
       "}(window));"
      ],
      "application/vnd.bokehjs_load.v0+json": "\n(function(root) {\n  function now() {\n    return new Date();\n  }\n\n  var force = true;\n\n  if (typeof (root._bokeh_onload_callbacks) === \"undefined\" || force === true) {\n    root._bokeh_onload_callbacks = [];\n    root._bokeh_is_loading = undefined;\n  }\n\n  \n\n  \n  if (typeof (root._bokeh_timeout) === \"undefined\" || force === true) {\n    root._bokeh_timeout = Date.now() + 5000;\n    root._bokeh_failed_load = false;\n  }\n\n  var NB_LOAD_WARNING = {'data': {'text/html':\n     \"<div style='background-color: #fdd'>\\n\"+\n     \"<p>\\n\"+\n     \"BokehJS does not appear to have successfully loaded. If loading BokehJS from CDN, this \\n\"+\n     \"may be due to a slow or bad network connection. Possible fixes:\\n\"+\n     \"</p>\\n\"+\n     \"<ul>\\n\"+\n     \"<li>re-rerun `output_notebook()` to attempt to load from CDN again, or</li>\\n\"+\n     \"<li>use INLINE resources instead, as so:</li>\\n\"+\n     \"</ul>\\n\"+\n     \"<code>\\n\"+\n     \"from bokeh.resources import INLINE\\n\"+\n     \"output_notebook(resources=INLINE)\\n\"+\n     \"</code>\\n\"+\n     \"</div>\"}};\n\n  function display_loaded() {\n    var el = document.getElementById(\"75528ee9-2ac6-4dcb-a1c0-46a2e25345f4\");\n    if (el != null) {\n      el.textContent = \"BokehJS is loading...\";\n    }\n    if (root.Bokeh !== undefined) {\n      if (el != null) {\n        el.textContent = \"BokehJS \" + root.Bokeh.version + \" successfully loaded.\";\n      }\n    } else if (Date.now() < root._bokeh_timeout) {\n      setTimeout(display_loaded, 100)\n    }\n  }\n\n\n  function run_callbacks() {\n    try {\n      root._bokeh_onload_callbacks.forEach(function(callback) { callback() });\n    }\n    finally {\n      delete root._bokeh_onload_callbacks\n    }\n    console.info(\"Bokeh: all callbacks have finished\");\n  }\n\n  function load_libs(js_urls, callback) {\n    root._bokeh_onload_callbacks.push(callback);\n    if (root._bokeh_is_loading > 0) {\n      console.log(\"Bokeh: BokehJS is being loaded, scheduling callback at\", now());\n      return null;\n    }\n    if (js_urls == null || js_urls.length === 0) {\n      run_callbacks();\n      return null;\n    }\n    console.log(\"Bokeh: BokehJS not loaded, scheduling load and callback at\", now());\n    root._bokeh_is_loading = js_urls.length;\n    for (var i = 0; i < js_urls.length; i++) {\n      var url = js_urls[i];\n      var s = document.createElement('script');\n      s.src = url;\n      s.async = false;\n      s.onreadystatechange = s.onload = function() {\n        root._bokeh_is_loading--;\n        if (root._bokeh_is_loading === 0) {\n          console.log(\"Bokeh: all BokehJS libraries loaded\");\n          run_callbacks()\n        }\n      };\n      s.onerror = function() {\n        console.warn(\"failed to load library \" + url);\n      };\n      console.log(\"Bokeh: injecting script tag for BokehJS library: \", url);\n      document.getElementsByTagName(\"head\")[0].appendChild(s);\n    }\n  };var element = document.getElementById(\"75528ee9-2ac6-4dcb-a1c0-46a2e25345f4\");\n  if (element == null) {\n    console.log(\"Bokeh: ERROR: autoload.js configured with elementid '75528ee9-2ac6-4dcb-a1c0-46a2e25345f4' but no matching script tag was found. \")\n    return false;\n  }\n\n  var js_urls = [\"https://cdn.pydata.org/bokeh/release/bokeh-0.12.11.min.js\", \"https://cdn.pydata.org/bokeh/release/bokeh-widgets-0.12.11.min.js\", \"https://cdn.pydata.org/bokeh/release/bokeh-tables-0.12.11.min.js\", \"https://cdn.pydata.org/bokeh/release/bokeh-gl-0.12.11.min.js\"];\n\n  var inline_js = [\n    function(Bokeh) {\n      Bokeh.set_log_level(\"info\");\n    },\n    \n    function(Bokeh) {\n      \n    },\n    function(Bokeh) {\n      console.log(\"Bokeh: injecting CSS: https://cdn.pydata.org/bokeh/release/bokeh-0.12.11.min.css\");\n      Bokeh.embed.inject_css(\"https://cdn.pydata.org/bokeh/release/bokeh-0.12.11.min.css\");\n      console.log(\"Bokeh: injecting CSS: https://cdn.pydata.org/bokeh/release/bokeh-widgets-0.12.11.min.css\");\n      Bokeh.embed.inject_css(\"https://cdn.pydata.org/bokeh/release/bokeh-widgets-0.12.11.min.css\");\n      console.log(\"Bokeh: injecting CSS: https://cdn.pydata.org/bokeh/release/bokeh-tables-0.12.11.min.css\");\n      Bokeh.embed.inject_css(\"https://cdn.pydata.org/bokeh/release/bokeh-tables-0.12.11.min.css\");\n    }\n  ];\n\n  function run_inline_js() {\n    \n    if ((root.Bokeh !== undefined) || (force === true)) {\n      for (var i = 0; i < inline_js.length; i++) {\n        inline_js[i].call(root, root.Bokeh);\n      }if (force === true) {\n        display_loaded();\n      }} else if (Date.now() < root._bokeh_timeout) {\n      setTimeout(run_inline_js, 100);\n    } else if (!root._bokeh_failed_load) {\n      console.log(\"Bokeh: BokehJS failed to load within specified timeout.\");\n      root._bokeh_failed_load = true;\n    } else if (force !== true) {\n      var cell = $(document.getElementById(\"75528ee9-2ac6-4dcb-a1c0-46a2e25345f4\")).parents('.cell').data().cell;\n      cell.output_area.append_execute_result(NB_LOAD_WARNING)\n    }\n\n  }\n\n  if (root._bokeh_is_loading === 0) {\n    console.log(\"Bokeh: BokehJS loaded, going straight to plotting\");\n    run_inline_js();\n  } else {\n    load_libs(js_urls, function() {\n      console.log(\"Bokeh: BokehJS plotting callback run at\", now());\n      run_inline_js();\n    });\n  }\n}(window));"
     },
     "metadata": {},
     "output_type": "display_data"
    },
    {
     "data": {
      "text/html": [
       "\n",
       "<div class=\"bk-root\">\n",
       "    <div class=\"bk-plotdiv\" id=\"c50a9157-5d8d-4de5-b3a8-7f962c0f5601\"></div>\n",
       "</div>"
      ]
     },
     "metadata": {},
     "output_type": "display_data"
    },
    {
     "data": {
      "application/javascript": [
       "(function(root) {\n",
       "  function embed_document(root) {\n",
       "    var docs_json = {\"706a9327-acc3-40f7-ab3b-0414e1e85ddd\":{\"roots\":{\"references\":[{\"attributes\":{\"bottom_units\":\"screen\",\"fill_alpha\":{\"value\":0.5},\"fill_color\":{\"value\":\"lightgrey\"},\"left_units\":\"screen\",\"level\":\"overlay\",\"line_alpha\":{\"value\":1.0},\"line_color\":{\"value\":\"black\"},\"line_dash\":[4,4],\"line_width\":{\"value\":2},\"plot\":null,\"render_mode\":\"css\",\"right_units\":\"screen\",\"top_units\":\"screen\"},\"id\":\"c7c5469d-3234-41d9-b412-5308852f2d99\",\"type\":\"BoxAnnotation\"},{\"attributes\":{\"fill_color\":{\"value\":\"blue\"},\"line_color\":{\"value\":\"blue\"},\"x\":{\"field\":\"petal_length\"},\"y\":{\"field\":\"sepal_length\"}},\"id\":\"f9ae6fbf-f359-4e30-80bd-bde3e18527ae\",\"type\":\"Circle\"},{\"attributes\":{},\"id\":\"e59e4704-12b8-4673-933d-cead202b5f1a\",\"type\":\"PanTool\"},{\"attributes\":{\"active_drag\":\"auto\",\"active_inspect\":\"auto\",\"active_scroll\":\"auto\",\"active_tap\":\"auto\",\"tools\":[{\"id\":\"e59e4704-12b8-4673-933d-cead202b5f1a\",\"type\":\"PanTool\"},{\"id\":\"093c3a37-2fca-41bb-93a1-c5d3e3aed355\",\"type\":\"WheelZoomTool\"},{\"id\":\"0ccff8c5-4cf5-4e88-ae0d-68608e482a16\",\"type\":\"BoxZoomTool\"},{\"id\":\"38e920f8-de8b-4910-987d-61250fe66cb9\",\"type\":\"SaveTool\"},{\"id\":\"2d2824eb-3514-41fe-9cd0-11e24ced4f6b\",\"type\":\"ResetTool\"},{\"id\":\"7710facf-72ee-4dc4-9201-1851a65503ac\",\"type\":\"HelpTool\"}]},\"id\":\"dc60e531-fd45-4989-a7db-40631ae593a2\",\"type\":\"Toolbar\"},{\"attributes\":{},\"id\":\"093c3a37-2fca-41bb-93a1-c5d3e3aed355\",\"type\":\"WheelZoomTool\"},{\"attributes\":{\"plot\":null,\"text\":\"petal lenght vs. sepal lenght\"},\"id\":\"097c1f77-c91a-4f25-bf7a-ac84668f16b2\",\"type\":\"Title\"},{\"attributes\":{\"overlay\":{\"id\":\"c7c5469d-3234-41d9-b412-5308852f2d99\",\"type\":\"BoxAnnotation\"}},\"id\":\"0ccff8c5-4cf5-4e88-ae0d-68608e482a16\",\"type\":\"BoxZoomTool\"},{\"attributes\":{\"callback\":null,\"column_names\":[\"sepal_length\",\"sepal_width\",\"petal_length\",\"petal_width\",\"species\",\"index\"],\"data\":{\"index\":[0,1,2,3,4,5,6,7,8,9,10,11,12,13,14,15,16,17,18,19,20,21,22,23,24,25,26,27,28,29,30,31,32,33,34,35,36,37,38,39,40,41,42,43,44,45,46,47,48,49,50,51,52,53,54,55,56,57,58,59,60,61,62,63,64,65,66,67,68,69,70,71,72,73,74,75,76,77,78,79,80,81,82,83,84,85,86,87,88,89,90,91,92,93,94,95,96,97,98,99,100,101,102,103,104,105,106,107,108,109,110,111,112,113,114,115,116,117,118,119,120,121,122,123,124,125,126,127,128,129,130,131,132,133,134,135,136,137,138,139,140,141,142,143,144,145,146,147,148,149],\"petal_length\":{\"__ndarray__\":\"ZmZmZmZm9j9mZmZmZmb2P83MzMzMzPQ/AAAAAAAA+D9mZmZmZmb2PzMzMzMzM/s/ZmZmZmZm9j8AAAAAAAD4P2ZmZmZmZvY/AAAAAAAA+D8AAAAAAAD4P5qZmZmZmfk/ZmZmZmZm9j+amZmZmZnxPzMzMzMzM/M/AAAAAAAA+D/NzMzMzMz0P2ZmZmZmZvY/MzMzMzMz+z8AAAAAAAD4PzMzMzMzM/s/AAAAAAAA+D8AAAAAAADwPzMzMzMzM/s/ZmZmZmZm/j+amZmZmZn5P5qZmZmZmfk/AAAAAAAA+D9mZmZmZmb2P5qZmZmZmfk/mpmZmZmZ+T8AAAAAAAD4PwAAAAAAAPg/ZmZmZmZm9j8AAAAAAAD4PzMzMzMzM/M/zczMzMzM9D9mZmZmZmb2P83MzMzMzPQ/AAAAAAAA+D/NzMzMzMz0P83MzMzMzPQ/zczMzMzM9D+amZmZmZn5P2ZmZmZmZv4/ZmZmZmZm9j+amZmZmZn5P2ZmZmZmZvY/AAAAAAAA+D9mZmZmZmb2P83MzMzMzBJAAAAAAAAAEkCamZmZmZkTQAAAAAAAABBAZmZmZmZmEkAAAAAAAAASQM3MzMzMzBJAZmZmZmZmCkBmZmZmZmYSQDMzMzMzMw9AAAAAAAAADEDNzMzMzMwQQAAAAAAAABBAzczMzMzMEkDNzMzMzMwMQJqZmZmZmRFAAAAAAAAAEkBmZmZmZmYQQAAAAAAAABJAMzMzMzMzD0AzMzMzMzMTQAAAAAAAABBAmpmZmZmZE0DNzMzMzMwSQDMzMzMzMxFAmpmZmZmZEUAzMzMzMzMTQAAAAAAAABRAAAAAAAAAEkAAAAAAAAAMQGZmZmZmZg5AmpmZmZmZDUAzMzMzMzMPQGZmZmZmZhRAAAAAAAAAEkAAAAAAAAASQM3MzMzMzBJAmpmZmZmZEUBmZmZmZmYQQAAAAAAAABBAmpmZmZmZEUBmZmZmZmYSQAAAAAAAABBAZmZmZmZmCkDNzMzMzMwQQM3MzMzMzBBAzczMzMzMEEAzMzMzMzMRQAAAAAAAAAhAZmZmZmZmEEAAAAAAAAAYQGZmZmZmZhRAmpmZmZmZF0BmZmZmZmYWQDMzMzMzMxdAZmZmZmZmGkAAAAAAAAASQDMzMzMzMxlAMzMzMzMzF0BmZmZmZmYYQGZmZmZmZhRAMzMzMzMzFUAAAAAAAAAWQAAAAAAAABRAZmZmZmZmFEAzMzMzMzMVQAAAAAAAABZAzczMzMzMGkCamZmZmZkbQAAAAAAAABRAzczMzMzMFkCamZmZmZkTQM3MzMzMzBpAmpmZmZmZE0DNzMzMzMwWQAAAAAAAABhAMzMzMzMzE0CamZmZmZkTQGZmZmZmZhZAMzMzMzMzF0BmZmZmZmYYQJqZmZmZmRlAZmZmZmZmFkBmZmZmZmYUQGZmZmZmZhZAZmZmZmZmGEBmZmZmZmYWQAAAAAAAABZAMzMzMzMzE0CamZmZmZkVQGZmZmZmZhZAZmZmZmZmFEBmZmZmZmYUQJqZmZmZmRdAzczMzMzMFkDNzMzMzMwUQAAAAAAAABRAzczMzMzMFECamZmZmZkVQGZmZmZmZhRA\",\"dtype\":\"float64\",\"shape\":[150]},\"petal_width\":{\"__ndarray__\":\"mpmZmZmZyT+amZmZmZnJP5qZmZmZmck/mpmZmZmZyT+amZmZmZnJP5qZmZmZmdk/MzMzMzMz0z+amZmZmZnJP5qZmZmZmck/mpmZmZmZuT+amZmZmZnJP5qZmZmZmck/mpmZmZmZuT+amZmZmZm5P5qZmZmZmck/mpmZmZmZ2T+amZmZmZnZPzMzMzMzM9M/MzMzMzMz0z8zMzMzMzPTP5qZmZmZmck/mpmZmZmZ2T+amZmZmZnJPwAAAAAAAOA/mpmZmZmZyT+amZmZmZnJP5qZmZmZmdk/mpmZmZmZyT+amZmZmZnJP5qZmZmZmck/mpmZmZmZyT+amZmZmZnZP5qZmZmZmbk/mpmZmZmZyT+amZmZmZnJP5qZmZmZmck/mpmZmZmZyT+amZmZmZm5P5qZmZmZmck/mpmZmZmZyT8zMzMzMzPTPzMzMzMzM9M/mpmZmZmZyT8zMzMzMzPjP5qZmZmZmdk/MzMzMzMz0z+amZmZmZnJP5qZmZmZmck/mpmZmZmZyT+amZmZmZnJP2ZmZmZmZvY/AAAAAAAA+D8AAAAAAAD4P83MzMzMzPQ/AAAAAAAA+D/NzMzMzMz0P5qZmZmZmfk/AAAAAAAA8D/NzMzMzMz0P2ZmZmZmZvY/AAAAAAAA8D8AAAAAAAD4PwAAAAAAAPA/ZmZmZmZm9j/NzMzMzMz0P2ZmZmZmZvY/AAAAAAAA+D8AAAAAAADwPwAAAAAAAPg/mpmZmZmZ8T/NzMzMzMz8P83MzMzMzPQ/AAAAAAAA+D8zMzMzMzPzP83MzMzMzPQ/ZmZmZmZm9j9mZmZmZmb2PzMzMzMzM/s/AAAAAAAA+D8AAAAAAADwP5qZmZmZmfE/AAAAAAAA8D8zMzMzMzPzP5qZmZmZmfk/AAAAAAAA+D+amZmZmZn5PwAAAAAAAPg/zczMzMzM9D/NzMzMzMz0P83MzMzMzPQ/MzMzMzMz8z9mZmZmZmb2PzMzMzMzM/M/AAAAAAAA8D/NzMzMzMz0PzMzMzMzM/M/zczMzMzM9D/NzMzMzMz0P5qZmZmZmfE/zczMzMzM9D8AAAAAAAAEQGZmZmZmZv4/zczMzMzMAEDNzMzMzMz8P5qZmZmZmQFAzczMzMzMAEAzMzMzMzP7P83MzMzMzPw/zczMzMzM/D8AAAAAAAAEQAAAAAAAAABAZmZmZmZm/j/NzMzMzMwAQAAAAAAAAABAMzMzMzMzA0BmZmZmZmYCQM3MzMzMzPw/mpmZmZmZAUBmZmZmZmYCQAAAAAAAAPg/ZmZmZmZmAkAAAAAAAAAAQAAAAAAAAABAzczMzMzM/D/NzMzMzMwAQM3MzMzMzPw/zczMzMzM/D/NzMzMzMz8P83MzMzMzABAmpmZmZmZ+T9mZmZmZmb+PwAAAAAAAABAmpmZmZmZAUAAAAAAAAD4P2ZmZmZmZvY/ZmZmZmZmAkAzMzMzMzMDQM3MzMzMzPw/zczMzMzM/D/NzMzMzMwAQDMzMzMzMwNAZmZmZmZmAkBmZmZmZmb+P2ZmZmZmZgJAAAAAAAAABEBmZmZmZmYCQGZmZmZmZv4/AAAAAAAAAEBmZmZmZmYCQM3MzMzMzPw/\",\"dtype\":\"float64\",\"shape\":[150]},\"sepal_length\":{\"__ndarray__\":\"ZmZmZmZmFECamZmZmZkTQM3MzMzMzBJAZmZmZmZmEkAAAAAAAAAUQJqZmZmZmRVAZmZmZmZmEkAAAAAAAAAUQJqZmZmZmRFAmpmZmZmZE0CamZmZmZkVQDMzMzMzMxNAMzMzMzMzE0AzMzMzMzMRQDMzMzMzMxdAzczMzMzMFkCamZmZmZkVQGZmZmZmZhRAzczMzMzMFkBmZmZmZmYUQJqZmZmZmRVAZmZmZmZmFEBmZmZmZmYSQGZmZmZmZhRAMzMzMzMzE0AAAAAAAAAUQAAAAAAAABRAzczMzMzMFEDNzMzMzMwUQM3MzMzMzBJAMzMzMzMzE0CamZmZmZkVQM3MzMzMzBRAAAAAAAAAFkCamZmZmZkTQAAAAAAAABRAAAAAAAAAFkCamZmZmZkTQJqZmZmZmRFAZmZmZmZmFEAAAAAAAAAUQAAAAAAAABJAmpmZmZmZEUAAAAAAAAAUQGZmZmZmZhRAMzMzMzMzE0BmZmZmZmYUQGZmZmZmZhJAMzMzMzMzFUAAAAAAAAAUQAAAAAAAABxAmpmZmZmZGUCamZmZmZkbQAAAAAAAABZAAAAAAAAAGkDNzMzMzMwWQDMzMzMzMxlAmpmZmZmZE0BmZmZmZmYaQM3MzMzMzBRAAAAAAAAAFECamZmZmZkXQAAAAAAAABhAZmZmZmZmGEBmZmZmZmYWQM3MzMzMzBpAZmZmZmZmFkAzMzMzMzMXQM3MzMzMzBhAZmZmZmZmFkCamZmZmZkXQGZmZmZmZhhAMzMzMzMzGUBmZmZmZmYYQJqZmZmZmRlAZmZmZmZmGkAzMzMzMzMbQM3MzMzMzBpAAAAAAAAAGEDNzMzMzMwWQAAAAAAAABZAAAAAAAAAFkAzMzMzMzMXQAAAAAAAABhAmpmZmZmZFUAAAAAAAAAYQM3MzMzMzBpAMzMzMzMzGUBmZmZmZmYWQAAAAAAAABZAAAAAAAAAFkBmZmZmZmYYQDMzMzMzMxdAAAAAAAAAFEBmZmZmZmYWQM3MzMzMzBZAzczMzMzMFkDNzMzMzMwYQGZmZmZmZhRAzczMzMzMFkAzMzMzMzMZQDMzMzMzMxdAZmZmZmZmHEAzMzMzMzMZQAAAAAAAABpAZmZmZmZmHkCamZmZmZkTQDMzMzMzMx1AzczMzMzMGkDNzMzMzMwcQAAAAAAAABpAmpmZmZmZGUAzMzMzMzMbQM3MzMzMzBZAMzMzMzMzF0CamZmZmZkZQAAAAAAAABpAzczMzMzMHkDNzMzMzMweQAAAAAAAABhAmpmZmZmZG0BmZmZmZmYWQM3MzMzMzB5AMzMzMzMzGUDNzMzMzMwaQM3MzMzMzBxAzczMzMzMGEBmZmZmZmYYQJqZmZmZmRlAzczMzMzMHECamZmZmZkdQJqZmZmZmR9AmpmZmZmZGUAzMzMzMzMZQGZmZmZmZhhAzczMzMzMHkAzMzMzMzMZQJqZmZmZmRlAAAAAAAAAGECamZmZmZkbQM3MzMzMzBpAmpmZmZmZG0AzMzMzMzMXQDMzMzMzMxtAzczMzMzMGkDNzMzMzMwaQDMzMzMzMxlAAAAAAAAAGkDNzMzMzMwYQJqZmZmZmRdA\",\"dtype\":\"float64\",\"shape\":[150]},\"sepal_width\":{\"__ndarray__\":\"AAAAAAAADEAAAAAAAAAIQJqZmZmZmQlAzczMzMzMCEDNzMzMzMwMQDMzMzMzMw9AMzMzMzMzC0AzMzMzMzMLQDMzMzMzMwdAzczMzMzMCECamZmZmZkNQDMzMzMzMwtAAAAAAAAACEAAAAAAAAAIQAAAAAAAABBAmpmZmZmZEUAzMzMzMzMPQAAAAAAAAAxAZmZmZmZmDkBmZmZmZmYOQDMzMzMzMwtAmpmZmZmZDUDNzMzMzMwMQGZmZmZmZgpAMzMzMzMzC0AAAAAAAAAIQDMzMzMzMwtAAAAAAAAADEAzMzMzMzMLQJqZmZmZmQlAzczMzMzMCEAzMzMzMzMLQGZmZmZmZhBAzczMzMzMEEDNzMzMzMwIQJqZmZmZmQlAAAAAAAAADEDNzMzMzMwMQAAAAAAAAAhAMzMzMzMzC0AAAAAAAAAMQGZmZmZmZgJAmpmZmZmZCUAAAAAAAAAMQGZmZmZmZg5AAAAAAAAACEBmZmZmZmYOQJqZmZmZmQlAmpmZmZmZDUBmZmZmZmYKQJqZmZmZmQlAmpmZmZmZCUDNzMzMzMwIQGZmZmZmZgJAZmZmZmZmBkBmZmZmZmYGQGZmZmZmZgpAMzMzMzMzA0AzMzMzMzMHQJqZmZmZmQVAAAAAAAAAAEAAAAAAAAAIQJqZmZmZmQFAMzMzMzMzB0AzMzMzMzMHQM3MzMzMzAhAAAAAAAAACECamZmZmZkFQJqZmZmZmQFAAAAAAAAABECamZmZmZkJQGZmZmZmZgZAAAAAAAAABEBmZmZmZmYGQDMzMzMzMwdAAAAAAAAACEBmZmZmZmYGQAAAAAAAAAhAMzMzMzMzB0DNzMzMzMwEQDMzMzMzMwNAMzMzMzMzA0CamZmZmZkFQJqZmZmZmQVAAAAAAAAACEAzMzMzMzMLQM3MzMzMzAhAZmZmZmZmAkAAAAAAAAAIQAAAAAAAAARAzczMzMzMBEAAAAAAAAAIQM3MzMzMzARAZmZmZmZmAkCamZmZmZkFQAAAAAAAAAhAMzMzMzMzB0AzMzMzMzMHQAAAAAAAAARAZmZmZmZmBkBmZmZmZmYKQJqZmZmZmQVAAAAAAAAACEAzMzMzMzMHQAAAAAAAAAhAAAAAAAAACEAAAAAAAAAEQDMzMzMzMwdAAAAAAAAABEDNzMzMzMwMQJqZmZmZmQlAmpmZmZmZBUAAAAAAAAAIQAAAAAAAAARAZmZmZmZmBkCamZmZmZkJQAAAAAAAAAhAZmZmZmZmDkDNzMzMzMwEQJqZmZmZmQFAmpmZmZmZCUBmZmZmZmYGQGZmZmZmZgZAmpmZmZmZBUBmZmZmZmYKQJqZmZmZmQlAZmZmZmZmBkAAAAAAAAAIQGZmZmZmZgZAAAAAAAAACEBmZmZmZmYGQGZmZmZmZg5AZmZmZmZmBkBmZmZmZmYGQM3MzMzMzARAAAAAAAAACEAzMzMzMzMLQM3MzMzMzAhAAAAAAAAACEDNzMzMzMwIQM3MzMzMzAhAzczMzMzMCECamZmZmZkFQJqZmZmZmQlAZmZmZmZmCkAAAAAAAAAIQAAAAAAAAARAAAAAAAAACEAzMzMzMzMLQAAAAAAAAAhA\",\"dtype\":\"float64\",\"shape\":[150]},\"species\":[\"setosa\",\"setosa\",\"setosa\",\"setosa\",\"setosa\",\"setosa\",\"setosa\",\"setosa\",\"setosa\",\"setosa\",\"setosa\",\"setosa\",\"setosa\",\"setosa\",\"setosa\",\"setosa\",\"setosa\",\"setosa\",\"setosa\",\"setosa\",\"setosa\",\"setosa\",\"setosa\",\"setosa\",\"setosa\",\"setosa\",\"setosa\",\"setosa\",\"setosa\",\"setosa\",\"setosa\",\"setosa\",\"setosa\",\"setosa\",\"setosa\",\"setosa\",\"setosa\",\"setosa\",\"setosa\",\"setosa\",\"setosa\",\"setosa\",\"setosa\",\"setosa\",\"setosa\",\"setosa\",\"setosa\",\"setosa\",\"setosa\",\"setosa\",\"versicolor\",\"versicolor\",\"versicolor\",\"versicolor\",\"versicolor\",\"versicolor\",\"versicolor\",\"versicolor\",\"versicolor\",\"versicolor\",\"versicolor\",\"versicolor\",\"versicolor\",\"versicolor\",\"versicolor\",\"versicolor\",\"versicolor\",\"versicolor\",\"versicolor\",\"versicolor\",\"versicolor\",\"versicolor\",\"versicolor\",\"versicolor\",\"versicolor\",\"versicolor\",\"versicolor\",\"versicolor\",\"versicolor\",\"versicolor\",\"versicolor\",\"versicolor\",\"versicolor\",\"versicolor\",\"versicolor\",\"versicolor\",\"versicolor\",\"versicolor\",\"versicolor\",\"versicolor\",\"versicolor\",\"versicolor\",\"versicolor\",\"versicolor\",\"versicolor\",\"versicolor\",\"versicolor\",\"versicolor\",\"versicolor\",\"versicolor\",\"virginica\",\"virginica\",\"virginica\",\"virginica\",\"virginica\",\"virginica\",\"virginica\",\"virginica\",\"virginica\",\"virginica\",\"virginica\",\"virginica\",\"virginica\",\"virginica\",\"virginica\",\"virginica\",\"virginica\",\"virginica\",\"virginica\",\"virginica\",\"virginica\",\"virginica\",\"virginica\",\"virginica\",\"virginica\",\"virginica\",\"virginica\",\"virginica\",\"virginica\",\"virginica\",\"virginica\",\"virginica\",\"virginica\",\"virginica\",\"virginica\",\"virginica\",\"virginica\",\"virginica\",\"virginica\",\"virginica\",\"virginica\",\"virginica\",\"virginica\",\"virginica\",\"virginica\",\"virginica\",\"virginica\",\"virginica\",\"virginica\",\"virginica\"]}},\"id\":\"ce890389-381e-4a08-93b0-889c997762f6\",\"type\":\"ColumnDataSource\"},{\"attributes\":{},\"id\":\"38e920f8-de8b-4910-987d-61250fe66cb9\",\"type\":\"SaveTool\"},{\"attributes\":{\"callback\":null},\"id\":\"51e263e9-932d-4d74-9ed4-33999dd5c6f8\",\"type\":\"DataRange1d\"},{\"attributes\":{},\"id\":\"e91530a5-e9b4-493d-bc27-6c85af7dcf13\",\"type\":\"LinearScale\"},{\"attributes\":{},\"id\":\"2d2824eb-3514-41fe-9cd0-11e24ced4f6b\",\"type\":\"ResetTool\"},{\"attributes\":{\"callback\":null},\"id\":\"247b1cbc-fa92-4276-93dc-79417070baca\",\"type\":\"DataRange1d\"},{\"attributes\":{},\"id\":\"6abeefa1-35a1-4ff1-8ce0-67112fb8c365\",\"type\":\"LinearScale\"},{\"attributes\":{},\"id\":\"7710facf-72ee-4dc4-9201-1851a65503ac\",\"type\":\"HelpTool\"},{\"attributes\":{\"plot\":{\"id\":\"8f1dfd5e-dc81-4caf-bb5c-adfeaa0d0c64\",\"subtype\":\"Figure\",\"type\":\"Plot\"},\"ticker\":{\"id\":\"0971405a-29f2-41ad-b709-978d481892f7\",\"type\":\"BasicTicker\"}},\"id\":\"762c9db1-643d-4169-b7c1-c66a3fcc30ec\",\"type\":\"Grid\"},{\"attributes\":{\"source\":{\"id\":\"ce890389-381e-4a08-93b0-889c997762f6\",\"type\":\"ColumnDataSource\"}},\"id\":\"a349e2cf-a872-461a-9601-384807b3c39d\",\"type\":\"CDSView\"},{\"attributes\":{\"formatter\":{\"id\":\"835d8dfc-f208-47f8-97ce-431049285b54\",\"type\":\"BasicTickFormatter\"},\"plot\":{\"id\":\"8f1dfd5e-dc81-4caf-bb5c-adfeaa0d0c64\",\"subtype\":\"Figure\",\"type\":\"Plot\"},\"ticker\":{\"id\":\"0971405a-29f2-41ad-b709-978d481892f7\",\"type\":\"BasicTicker\"}},\"id\":\"b35ad10a-be2f-4260-bbc7-352dc57bb749\",\"type\":\"LinearAxis\"},{\"attributes\":{},\"id\":\"835d8dfc-f208-47f8-97ce-431049285b54\",\"type\":\"BasicTickFormatter\"},{\"attributes\":{},\"id\":\"0971405a-29f2-41ad-b709-978d481892f7\",\"type\":\"BasicTicker\"},{\"attributes\":{},\"id\":\"c45c2af2-c931-426b-8c52-e4734a24ef20\",\"type\":\"BasicTickFormatter\"},{\"attributes\":{\"formatter\":{\"id\":\"c45c2af2-c931-426b-8c52-e4734a24ef20\",\"type\":\"BasicTickFormatter\"},\"plot\":{\"id\":\"8f1dfd5e-dc81-4caf-bb5c-adfeaa0d0c64\",\"subtype\":\"Figure\",\"type\":\"Plot\"},\"ticker\":{\"id\":\"b02cce02-25a7-4c1b-902d-15ec44629814\",\"type\":\"BasicTicker\"}},\"id\":\"c7821309-5039-4fe2-b4bf-643d54317111\",\"type\":\"LinearAxis\"},{\"attributes\":{\"data_source\":{\"id\":\"ce890389-381e-4a08-93b0-889c997762f6\",\"type\":\"ColumnDataSource\"},\"glyph\":{\"id\":\"f9ae6fbf-f359-4e30-80bd-bde3e18527ae\",\"type\":\"Circle\"},\"hover_glyph\":null,\"muted_glyph\":null,\"nonselection_glyph\":{\"id\":\"2863fe59-c3a3-496b-b09f-3d88d64515f5\",\"type\":\"Circle\"},\"selection_glyph\":null,\"view\":{\"id\":\"a349e2cf-a872-461a-9601-384807b3c39d\",\"type\":\"CDSView\"}},\"id\":\"08d03070-f4b3-42c2-b8dc-4583c6dda476\",\"type\":\"GlyphRenderer\"},{\"attributes\":{},\"id\":\"b02cce02-25a7-4c1b-902d-15ec44629814\",\"type\":\"BasicTicker\"},{\"attributes\":{\"dimension\":1,\"plot\":{\"id\":\"8f1dfd5e-dc81-4caf-bb5c-adfeaa0d0c64\",\"subtype\":\"Figure\",\"type\":\"Plot\"},\"ticker\":{\"id\":\"b02cce02-25a7-4c1b-902d-15ec44629814\",\"type\":\"BasicTicker\"}},\"id\":\"b81d4e04-681c-4c1b-94e5-501ca50818d2\",\"type\":\"Grid\"},{\"attributes\":{\"fill_alpha\":{\"value\":0.1},\"fill_color\":{\"value\":\"#1f77b4\"},\"line_alpha\":{\"value\":0.1},\"line_color\":{\"value\":\"#1f77b4\"},\"x\":{\"field\":\"petal_length\"},\"y\":{\"field\":\"sepal_length\"}},\"id\":\"2863fe59-c3a3-496b-b09f-3d88d64515f5\",\"type\":\"Circle\"},{\"attributes\":{\"below\":[{\"id\":\"b35ad10a-be2f-4260-bbc7-352dc57bb749\",\"type\":\"LinearAxis\"}],\"left\":[{\"id\":\"c7821309-5039-4fe2-b4bf-643d54317111\",\"type\":\"LinearAxis\"}],\"plot_height\":300,\"plot_width\":300,\"renderers\":[{\"id\":\"b35ad10a-be2f-4260-bbc7-352dc57bb749\",\"type\":\"LinearAxis\"},{\"id\":\"762c9db1-643d-4169-b7c1-c66a3fcc30ec\",\"type\":\"Grid\"},{\"id\":\"c7821309-5039-4fe2-b4bf-643d54317111\",\"type\":\"LinearAxis\"},{\"id\":\"b81d4e04-681c-4c1b-94e5-501ca50818d2\",\"type\":\"Grid\"},{\"id\":\"c7c5469d-3234-41d9-b412-5308852f2d99\",\"type\":\"BoxAnnotation\"},{\"id\":\"08d03070-f4b3-42c2-b8dc-4583c6dda476\",\"type\":\"GlyphRenderer\"}],\"title\":{\"id\":\"097c1f77-c91a-4f25-bf7a-ac84668f16b2\",\"type\":\"Title\"},\"toolbar\":{\"id\":\"dc60e531-fd45-4989-a7db-40631ae593a2\",\"type\":\"Toolbar\"},\"x_range\":{\"id\":\"51e263e9-932d-4d74-9ed4-33999dd5c6f8\",\"type\":\"DataRange1d\"},\"x_scale\":{\"id\":\"e91530a5-e9b4-493d-bc27-6c85af7dcf13\",\"type\":\"LinearScale\"},\"y_range\":{\"id\":\"247b1cbc-fa92-4276-93dc-79417070baca\",\"type\":\"DataRange1d\"},\"y_scale\":{\"id\":\"6abeefa1-35a1-4ff1-8ce0-67112fb8c365\",\"type\":\"LinearScale\"}},\"id\":\"8f1dfd5e-dc81-4caf-bb5c-adfeaa0d0c64\",\"subtype\":\"Figure\",\"type\":\"Plot\"}],\"root_ids\":[\"8f1dfd5e-dc81-4caf-bb5c-adfeaa0d0c64\"]},\"title\":\"Bokeh Application\",\"version\":\"0.12.11\"}};\n",
       "    var render_items = [{\"docid\":\"706a9327-acc3-40f7-ab3b-0414e1e85ddd\",\"elementid\":\"c50a9157-5d8d-4de5-b3a8-7f962c0f5601\",\"modelid\":\"8f1dfd5e-dc81-4caf-bb5c-adfeaa0d0c64\"}];\n",
       "    root.Bokeh.embed.embed_items(docs_json, render_items);\n",
       "  }\n",
       "  if (root.Bokeh !== undefined) {\n",
       "    embed_document(root);\n",
       "  } else {\n",
       "    var attempts = 0;\n",
       "    var timer = setInterval(function(root) {\n",
       "      if (root.Bokeh !== undefined) {\n",
       "        embed_document(root);\n",
       "        clearInterval(timer);\n",
       "      }\n",
       "      attempts++;\n",
       "      if (attempts > 100) {\n",
       "        console.log(\"Bokeh: ERROR: Unable to embed document because BokehJS library is missing\")\n",
       "        clearInterval(timer);\n",
       "      }\n",
       "    }, 10, root)\n",
       "  }\n",
       "})(window);"
      ],
      "application/vnd.bokehjs_exec.v0+json": ""
     },
     "metadata": {
      "application/vnd.bokehjs_exec.v0+json": {
       "id": "8f1dfd5e-dc81-4caf-bb5c-adfeaa0d0c64"
      }
     },
     "output_type": "display_data"
    }
   ],
   "source": [
    "from bokeh.sampledata.iris import flowers\n",
    "from bokeh.plotting import figure\n",
    "from bokeh.io import output_notebook, show\n",
    "import pandas as pd\n",
    "\n",
    "source = pd.DataFrame(flowers)\n",
    "\n",
    "p1 = figure(title='petal lenght vs. sepal lenght', plot_width=300, plot_height=300)\n",
    "p1.circle('petal_length', 'sepal_length', color='blue', source=source)\n",
    "\n",
    "p2 = figure(title='petal lenght vs. sepal width', plot_width=300, plot_height=300)\n",
    "p2.square('petal_length', 'sepal_width', color='green', source=source)\n",
    "\n",
    "p3 = figure(title='petal lenght vs. petal lenght', plot_width=300, plot_height=300)\n",
    "p3.diamond('petal_length', 'petal_length', line_color='red', fill_color=None, source=source)\n",
    "output_notebook()               # display on notebook\n",
    "show(p1)"
   ]
  },
  {
   "cell_type": "code",
   "execution_count": null,
   "metadata": {},
   "outputs": [],
   "source": [
    "from bokeh.io import output_file, show\n",
    "from bokeh.io import output_notebook, show, push_notebook\n",
    "from bokeh.plotting import figure\n",
    "\n",
    "plot = figure(plot_width=400, tools='pan, box_zoom')\n",
    "plot.circle([1,2,3,4,5], [8,6,5,2,3])      # list with x,y coordinates\n",
    "# output_file('circle.html')               # display on browser\n",
    "output_notebook()                          # display on notebook\n",
    "show(plot)"
   ]
  },
  {
   "cell_type": "code",
   "execution_count": 2,
   "metadata": {},
   "outputs": [
    {
     "data": {
      "text/html": [
       "\n",
       "<div class=\"bk-root\">\n",
       "    <div class=\"bk-plotdiv\" id=\"d30c6ca7-bd97-4b48-896c-5f28722e14eb\"></div>\n",
       "</div>"
      ]
     },
     "metadata": {},
     "output_type": "display_data"
    },
    {
     "data": {
      "application/javascript": [
       "(function(root) {\n",
       "  function embed_document(root) {\n",
       "    var docs_json = {\"03ccc018-b8f1-49cf-bbe3-a51a263936b1\":{\"roots\":{\"references\":[{\"attributes\":{\"callback\":null,\"column_names\":[\"x\",\"y\"],\"data\":{\"x\":[1,2,3,4,5],\"y\":[8,6,5,2,3]}},\"id\":\"8c53a3b0-035f-409d-94ba-ddae67735f0b\",\"type\":\"ColumnDataSource\"},{\"attributes\":{\"fill_alpha\":{\"value\":0.1},\"fill_color\":{\"value\":\"#1f77b4\"},\"line_alpha\":{\"value\":0.1},\"line_color\":{\"value\":\"#1f77b4\"},\"size\":{\"units\":\"screen\",\"value\":10},\"x\":{\"field\":\"x\"},\"y\":{\"field\":\"y\"}},\"id\":\"105e891e-3e56-46f2-8065-a0f4a5607e84\",\"type\":\"Circle\"},{\"attributes\":{\"callback\":null},\"id\":\"98687b78-c4c1-44d3-9139-67b5f4ff5d13\",\"type\":\"DataRange1d\"},{\"attributes\":{\"callback\":null},\"id\":\"a416fac0-7036-4ec2-89bf-53f7f6eff019\",\"type\":\"DataRange1d\"},{\"attributes\":{\"plot\":{\"id\":\"9e38bc30-468a-46a1-bef4-2d0a0cd8e3fc\",\"subtype\":\"Figure\",\"type\":\"Plot\"},\"ticker\":{\"id\":\"57c807ce-ccb2-41a8-bfa0-74980d6767d5\",\"type\":\"BasicTicker\"}},\"id\":\"bd489cbb-ee51-4f99-b495-4b824d7df112\",\"type\":\"Grid\"},{\"attributes\":{},\"id\":\"1d46d7ab-3de2-4c49-8781-d6f303289b3b\",\"type\":\"BasicTickFormatter\"},{\"attributes\":{\"plot\":null,\"text\":\"\"},\"id\":\"89ce85e0-31b0-459e-92ea-09e0e3ae9713\",\"type\":\"Title\"},{\"attributes\":{},\"id\":\"742d1282-0c7f-4eed-ad78-4b36c521e1bd\",\"type\":\"LinearScale\"},{\"attributes\":{\"formatter\":{\"id\":\"3d1b0452-dd39-4a7a-bf99-4d145d6b7ea5\",\"type\":\"BasicTickFormatter\"},\"plot\":{\"id\":\"b7141f85-4800-4bd4-bba7-6af041ed9cac\",\"subtype\":\"Figure\",\"type\":\"Plot\"},\"ticker\":{\"id\":\"3e13c4cd-3cf3-4074-8241-19af99d670b4\",\"type\":\"BasicTicker\"}},\"id\":\"97ce2a4c-7409-4f66-971c-019f5326fd17\",\"type\":\"LinearAxis\"},{\"attributes\":{},\"id\":\"57c807ce-ccb2-41a8-bfa0-74980d6767d5\",\"type\":\"BasicTicker\"},{\"attributes\":{},\"id\":\"564db8a6-7f46-4cd9-be89-3e1ce77a593a\",\"type\":\"LinearScale\"},{\"attributes\":{},\"id\":\"3951a273-ae1d-4b78-a9e9-6a43c7fb8613\",\"type\":\"BasicTicker\"},{\"attributes\":{\"callback\":null},\"id\":\"a0ef03f6-de72-4111-ae29-97112de785ab\",\"type\":\"DataRange1d\"},{\"attributes\":{\"formatter\":{\"id\":\"b784c7c1-10d4-4596-9e03-bebfd3c849d1\",\"type\":\"BasicTickFormatter\"},\"plot\":{\"id\":\"9e38bc30-468a-46a1-bef4-2d0a0cd8e3fc\",\"subtype\":\"Figure\",\"type\":\"Plot\"},\"ticker\":{\"id\":\"57c807ce-ccb2-41a8-bfa0-74980d6767d5\",\"type\":\"BasicTicker\"}},\"id\":\"87eda7ff-cd0d-4f99-984c-cfc7763f4abb\",\"type\":\"LinearAxis\"},{\"attributes\":{\"callback\":null,\"column_names\":[\"x\",\"y\"],\"data\":{\"x\":[1,2,3,4,5],\"y\":[8,6,5,2,3]}},\"id\":\"44902ba4-a7dd-4cfe-ab50-0ad0bc029b52\",\"type\":\"ColumnDataSource\"},{\"attributes\":{\"formatter\":{\"id\":\"918b022f-744d-4ff5-b6df-a8c870461866\",\"type\":\"BasicTickFormatter\"},\"plot\":{\"id\":\"b7141f85-4800-4bd4-bba7-6af041ed9cac\",\"subtype\":\"Figure\",\"type\":\"Plot\"},\"ticker\":{\"id\":\"3951a273-ae1d-4b78-a9e9-6a43c7fb8613\",\"type\":\"BasicTicker\"}},\"id\":\"1827fdf2-389a-4c34-98a4-f1e4242a3c31\",\"type\":\"LinearAxis\"},{\"attributes\":{\"plot\":{\"id\":\"b7141f85-4800-4bd4-bba7-6af041ed9cac\",\"subtype\":\"Figure\",\"type\":\"Plot\"},\"ticker\":{\"id\":\"3951a273-ae1d-4b78-a9e9-6a43c7fb8613\",\"type\":\"BasicTicker\"}},\"id\":\"272501b9-49c9-4ffd-af7c-2c3fe3f5b35b\",\"type\":\"Grid\"},{\"attributes\":{\"data_source\":{\"id\":\"44902ba4-a7dd-4cfe-ab50-0ad0bc029b52\",\"type\":\"ColumnDataSource\"},\"glyph\":{\"id\":\"14a58a6d-2795-42f5-8a95-1f12395fe419\",\"type\":\"Circle\"},\"hover_glyph\":null,\"muted_glyph\":null,\"nonselection_glyph\":{\"id\":\"105e891e-3e56-46f2-8065-a0f4a5607e84\",\"type\":\"Circle\"},\"selection_glyph\":null,\"view\":{\"id\":\"66622ed5-d135-42f5-85e0-29e489933aa0\",\"type\":\"CDSView\"}},\"id\":\"71bdecf3-9ea9-49b2-ba3a-ff8316babca3\",\"type\":\"GlyphRenderer\"},{\"attributes\":{},\"id\":\"81c73652-eb0a-4aee-9e51-6b393c701f5d\",\"type\":\"BasicTicker\"},{\"attributes\":{\"fill_color\":{\"value\":\"#1f77b4\"},\"line_color\":{\"value\":\"#1f77b4\"},\"size\":{\"units\":\"screen\",\"value\":10},\"x\":{\"field\":\"x\"},\"y\":{\"field\":\"y\"}},\"id\":\"14a58a6d-2795-42f5-8a95-1f12395fe419\",\"type\":\"Circle\"},{\"attributes\":{\"overlay\":{\"id\":\"4e69a14a-3583-4b5f-ac84-e864ad966ad7\",\"type\":\"BoxAnnotation\"}},\"id\":\"6d03f7d7-eb02-4d0e-8fa6-f35cb38aece5\",\"type\":\"BoxZoomTool\"},{\"attributes\":{\"active_drag\":\"auto\",\"active_inspect\":\"auto\",\"active_scroll\":\"auto\",\"active_tap\":\"auto\",\"tools\":[{\"id\":\"3cd31503-545b-4614-b09d-2998cb6d8e14\",\"type\":\"PanTool\"},{\"id\":\"c9dcca57-6309-4cc0-9f6d-5638a286e3b1\",\"type\":\"WheelZoomTool\"},{\"id\":\"6d03f7d7-eb02-4d0e-8fa6-f35cb38aece5\",\"type\":\"BoxZoomTool\"},{\"id\":\"c2cba2b7-2cf6-4400-9b93-325126955f05\",\"type\":\"SaveTool\"},{\"id\":\"be52a431-2869-4f91-a5e7-9c38de9e8d66\",\"type\":\"ResetTool\"},{\"id\":\"003d3d7c-9885-4825-8681-d885aeb6d149\",\"type\":\"HelpTool\"}]},\"id\":\"138a0117-e34c-4ba4-990a-eb02ea80ae23\",\"type\":\"Toolbar\"},{\"attributes\":{},\"id\":\"003d3d7c-9885-4825-8681-d885aeb6d149\",\"type\":\"HelpTool\"},{\"attributes\":{},\"id\":\"be52a431-2869-4f91-a5e7-9c38de9e8d66\",\"type\":\"ResetTool\"},{\"attributes\":{},\"id\":\"3cd31503-545b-4614-b09d-2998cb6d8e14\",\"type\":\"PanTool\"},{\"attributes\":{\"formatter\":{\"id\":\"1d46d7ab-3de2-4c49-8781-d6f303289b3b\",\"type\":\"BasicTickFormatter\"},\"plot\":{\"id\":\"9e38bc30-468a-46a1-bef4-2d0a0cd8e3fc\",\"subtype\":\"Figure\",\"type\":\"Plot\"},\"ticker\":{\"id\":\"81c73652-eb0a-4aee-9e51-6b393c701f5d\",\"type\":\"BasicTicker\"}},\"id\":\"53604bc0-70b0-4a2f-860f-1f89cb0a68a1\",\"type\":\"LinearAxis\"},{\"attributes\":{},\"id\":\"c2cba2b7-2cf6-4400-9b93-325126955f05\",\"type\":\"SaveTool\"},{\"attributes\":{\"source\":{\"id\":\"8c53a3b0-035f-409d-94ba-ddae67735f0b\",\"type\":\"ColumnDataSource\"}},\"id\":\"06c56ca5-e52d-4b17-a5ba-1831d3e2c2f2\",\"type\":\"CDSView\"},{\"attributes\":{\"fill_alpha\":{\"value\":0.1},\"fill_color\":{\"value\":\"#1f77b4\"},\"line_alpha\":{\"value\":0.1},\"line_color\":{\"value\":\"#1f77b4\"},\"size\":{\"units\":\"screen\",\"value\":10},\"x\":{\"field\":\"x\"},\"y\":{\"field\":\"y\"}},\"id\":\"6814a282-4446-4a95-a284-5afdeace96bb\",\"type\":\"Circle\"},{\"attributes\":{},\"id\":\"c9dcca57-6309-4cc0-9f6d-5638a286e3b1\",\"type\":\"WheelZoomTool\"},{\"attributes\":{},\"id\":\"918b022f-744d-4ff5-b6df-a8c870461866\",\"type\":\"BasicTickFormatter\"},{\"attributes\":{\"source\":{\"id\":\"44902ba4-a7dd-4cfe-ab50-0ad0bc029b52\",\"type\":\"ColumnDataSource\"}},\"id\":\"66622ed5-d135-42f5-85e0-29e489933aa0\",\"type\":\"CDSView\"},{\"attributes\":{\"dimension\":1,\"plot\":{\"id\":\"b7141f85-4800-4bd4-bba7-6af041ed9cac\",\"subtype\":\"Figure\",\"type\":\"Plot\"},\"ticker\":{\"id\":\"3e13c4cd-3cf3-4074-8241-19af99d670b4\",\"type\":\"BasicTicker\"}},\"id\":\"3452b2bb-23f7-4d0d-ad26-41babd7cec67\",\"type\":\"Grid\"},{\"attributes\":{\"bottom_units\":\"screen\",\"fill_alpha\":{\"value\":0.5},\"fill_color\":{\"value\":\"lightgrey\"},\"left_units\":\"screen\",\"level\":\"overlay\",\"line_alpha\":{\"value\":1.0},\"line_color\":{\"value\":\"black\"},\"line_dash\":[4,4],\"line_width\":{\"value\":2},\"plot\":null,\"render_mode\":\"css\",\"right_units\":\"screen\",\"top_units\":\"screen\"},\"id\":\"4e69a14a-3583-4b5f-ac84-e864ad966ad7\",\"type\":\"BoxAnnotation\"},{\"attributes\":{\"children\":[{\"id\":\"9e38bc30-468a-46a1-bef4-2d0a0cd8e3fc\",\"subtype\":\"Figure\",\"type\":\"Plot\"},{\"id\":\"b7141f85-4800-4bd4-bba7-6af041ed9cac\",\"subtype\":\"Figure\",\"type\":\"Plot\"}]},\"id\":\"acc770fc-a90f-421b-bb76-c39c114bfaad\",\"type\":\"Row\"},{\"attributes\":{\"callback\":null},\"id\":\"63d239ae-bbaf-41ad-8fc6-b00cb41601b6\",\"type\":\"DataRange1d\"},{\"attributes\":{},\"id\":\"3d1b0452-dd39-4a7a-bf99-4d145d6b7ea5\",\"type\":\"BasicTickFormatter\"},{\"attributes\":{},\"id\":\"3e13c4cd-3cf3-4074-8241-19af99d670b4\",\"type\":\"BasicTicker\"},{\"attributes\":{\"bottom_units\":\"screen\",\"fill_alpha\":{\"value\":0.5},\"fill_color\":{\"value\":\"lightgrey\"},\"left_units\":\"screen\",\"level\":\"overlay\",\"line_alpha\":{\"value\":1.0},\"line_color\":{\"value\":\"black\"},\"line_dash\":[4,4],\"line_width\":{\"value\":2},\"plot\":null,\"render_mode\":\"css\",\"right_units\":\"screen\",\"top_units\":\"screen\"},\"id\":\"fc89417b-92b2-465d-a710-28fb67ef04b4\",\"type\":\"BoxAnnotation\"},{\"attributes\":{\"plot\":null,\"text\":\"\"},\"id\":\"47ff5090-0ad1-4fb7-ad7d-171ef9a930bc\",\"type\":\"Title\"},{\"attributes\":{\"data_source\":{\"id\":\"8c53a3b0-035f-409d-94ba-ddae67735f0b\",\"type\":\"ColumnDataSource\"},\"glyph\":{\"id\":\"b536a827-76aa-4828-b47f-b88765fa7fa9\",\"type\":\"Circle\"},\"hover_glyph\":null,\"muted_glyph\":null,\"nonselection_glyph\":{\"id\":\"6814a282-4446-4a95-a284-5afdeace96bb\",\"type\":\"Circle\"},\"selection_glyph\":null,\"view\":{\"id\":\"06c56ca5-e52d-4b17-a5ba-1831d3e2c2f2\",\"type\":\"CDSView\"}},\"id\":\"0b102410-8f3c-4ef9-93b0-dd25d0f3fdb0\",\"type\":\"GlyphRenderer\"},{\"attributes\":{},\"id\":\"04e88011-e278-4778-95e7-c5048d283fb0\",\"type\":\"PanTool\"},{\"attributes\":{\"fill_color\":{\"value\":\"#1f77b4\"},\"line_color\":{\"value\":\"#1f77b4\"},\"size\":{\"units\":\"screen\",\"value\":10},\"x\":{\"field\":\"x\"},\"y\":{\"field\":\"y\"}},\"id\":\"b536a827-76aa-4828-b47f-b88765fa7fa9\",\"type\":\"Circle\"},{\"attributes\":{\"below\":[{\"id\":\"87eda7ff-cd0d-4f99-984c-cfc7763f4abb\",\"type\":\"LinearAxis\"}],\"left\":[{\"id\":\"53604bc0-70b0-4a2f-860f-1f89cb0a68a1\",\"type\":\"LinearAxis\"}],\"plot_height\":150,\"plot_width\":300,\"renderers\":[{\"id\":\"87eda7ff-cd0d-4f99-984c-cfc7763f4abb\",\"type\":\"LinearAxis\"},{\"id\":\"bd489cbb-ee51-4f99-b495-4b824d7df112\",\"type\":\"Grid\"},{\"id\":\"53604bc0-70b0-4a2f-860f-1f89cb0a68a1\",\"type\":\"LinearAxis\"},{\"id\":\"46aa2d72-db84-4805-b5c1-b07099fa7a84\",\"type\":\"Grid\"},{\"id\":\"fc89417b-92b2-465d-a710-28fb67ef04b4\",\"type\":\"BoxAnnotation\"},{\"id\":\"0b102410-8f3c-4ef9-93b0-dd25d0f3fdb0\",\"type\":\"GlyphRenderer\"}],\"title\":{\"id\":\"89ce85e0-31b0-459e-92ea-09e0e3ae9713\",\"type\":\"Title\"},\"toolbar\":{\"id\":\"a132e99c-d021-4aa9-b15b-49520bc87e41\",\"type\":\"Toolbar\"},\"x_range\":{\"id\":\"63d239ae-bbaf-41ad-8fc6-b00cb41601b6\",\"type\":\"DataRange1d\"},\"x_scale\":{\"id\":\"742d1282-0c7f-4eed-ad78-4b36c521e1bd\",\"type\":\"LinearScale\"},\"y_range\":{\"id\":\"98687b78-c4c1-44d3-9139-67b5f4ff5d13\",\"type\":\"DataRange1d\"},\"y_scale\":{\"id\":\"564db8a6-7f46-4cd9-be89-3e1ce77a593a\",\"type\":\"LinearScale\"}},\"id\":\"9e38bc30-468a-46a1-bef4-2d0a0cd8e3fc\",\"subtype\":\"Figure\",\"type\":\"Plot\"},{\"attributes\":{},\"id\":\"7c14044a-bdfa-4820-9c48-4df3052f0b74\",\"type\":\"LinearScale\"},{\"attributes\":{},\"id\":\"b784c7c1-10d4-4596-9e03-bebfd3c849d1\",\"type\":\"BasicTickFormatter\"},{\"attributes\":{\"below\":[{\"id\":\"1827fdf2-389a-4c34-98a4-f1e4242a3c31\",\"type\":\"LinearAxis\"}],\"left\":[{\"id\":\"97ce2a4c-7409-4f66-971c-019f5326fd17\",\"type\":\"LinearAxis\"}],\"plot_height\":150,\"plot_width\":300,\"renderers\":[{\"id\":\"1827fdf2-389a-4c34-98a4-f1e4242a3c31\",\"type\":\"LinearAxis\"},{\"id\":\"272501b9-49c9-4ffd-af7c-2c3fe3f5b35b\",\"type\":\"Grid\"},{\"id\":\"97ce2a4c-7409-4f66-971c-019f5326fd17\",\"type\":\"LinearAxis\"},{\"id\":\"3452b2bb-23f7-4d0d-ad26-41babd7cec67\",\"type\":\"Grid\"},{\"id\":\"4e69a14a-3583-4b5f-ac84-e864ad966ad7\",\"type\":\"BoxAnnotation\"},{\"id\":\"71bdecf3-9ea9-49b2-ba3a-ff8316babca3\",\"type\":\"GlyphRenderer\"}],\"title\":{\"id\":\"47ff5090-0ad1-4fb7-ad7d-171ef9a930bc\",\"type\":\"Title\"},\"toolbar\":{\"id\":\"138a0117-e34c-4ba4-990a-eb02ea80ae23\",\"type\":\"Toolbar\"},\"x_range\":{\"id\":\"a416fac0-7036-4ec2-89bf-53f7f6eff019\",\"type\":\"DataRange1d\"},\"x_scale\":{\"id\":\"7c14044a-bdfa-4820-9c48-4df3052f0b74\",\"type\":\"LinearScale\"},\"y_range\":{\"id\":\"a0ef03f6-de72-4111-ae29-97112de785ab\",\"type\":\"DataRange1d\"},\"y_scale\":{\"id\":\"7384e089-47cf-4f93-a43d-d67196abbfcc\",\"type\":\"LinearScale\"}},\"id\":\"b7141f85-4800-4bd4-bba7-6af041ed9cac\",\"subtype\":\"Figure\",\"type\":\"Plot\"},{\"attributes\":{},\"id\":\"d3e968fe-a131-4287-ae16-99e85d5c29c6\",\"type\":\"ResetTool\"},{\"attributes\":{},\"id\":\"51c6d580-180f-4956-b37e-3dfedd63a838\",\"type\":\"SaveTool\"},{\"attributes\":{\"overlay\":{\"id\":\"fc89417b-92b2-465d-a710-28fb67ef04b4\",\"type\":\"BoxAnnotation\"}},\"id\":\"a4cccbc7-401d-4e4b-a0d2-e9ac149f91a8\",\"type\":\"BoxZoomTool\"},{\"attributes\":{\"dimension\":1,\"plot\":{\"id\":\"9e38bc30-468a-46a1-bef4-2d0a0cd8e3fc\",\"subtype\":\"Figure\",\"type\":\"Plot\"},\"ticker\":{\"id\":\"81c73652-eb0a-4aee-9e51-6b393c701f5d\",\"type\":\"BasicTicker\"}},\"id\":\"46aa2d72-db84-4805-b5c1-b07099fa7a84\",\"type\":\"Grid\"},{\"attributes\":{},\"id\":\"6f9c4aaf-8e03-4766-83a8-b1b443ee24b2\",\"type\":\"WheelZoomTool\"},{\"attributes\":{},\"id\":\"46e620c5-2040-44a7-b3c9-fc3869d321b5\",\"type\":\"HelpTool\"},{\"attributes\":{},\"id\":\"7384e089-47cf-4f93-a43d-d67196abbfcc\",\"type\":\"LinearScale\"},{\"attributes\":{\"active_drag\":\"auto\",\"active_inspect\":\"auto\",\"active_scroll\":\"auto\",\"active_tap\":\"auto\",\"tools\":[{\"id\":\"04e88011-e278-4778-95e7-c5048d283fb0\",\"type\":\"PanTool\"},{\"id\":\"6f9c4aaf-8e03-4766-83a8-b1b443ee24b2\",\"type\":\"WheelZoomTool\"},{\"id\":\"a4cccbc7-401d-4e4b-a0d2-e9ac149f91a8\",\"type\":\"BoxZoomTool\"},{\"id\":\"51c6d580-180f-4956-b37e-3dfedd63a838\",\"type\":\"SaveTool\"},{\"id\":\"d3e968fe-a131-4287-ae16-99e85d5c29c6\",\"type\":\"ResetTool\"},{\"id\":\"46e620c5-2040-44a7-b3c9-fc3869d321b5\",\"type\":\"HelpTool\"}]},\"id\":\"a132e99c-d021-4aa9-b15b-49520bc87e41\",\"type\":\"Toolbar\"}],\"root_ids\":[\"acc770fc-a90f-421b-bb76-c39c114bfaad\"]},\"title\":\"Bokeh Application\",\"version\":\"0.12.11\"}};\n",
       "    var render_items = [{\"docid\":\"03ccc018-b8f1-49cf-bbe3-a51a263936b1\",\"elementid\":\"d30c6ca7-bd97-4b48-896c-5f28722e14eb\",\"modelid\":\"acc770fc-a90f-421b-bb76-c39c114bfaad\",\"notebook_comms_target\":\"cdb28ee1-230a-4053-b23a-67be89f2fdd5\"}];\n",
       "    root.Bokeh.embed.embed_items(docs_json, render_items);\n",
       "  }\n",
       "  if (root.Bokeh !== undefined) {\n",
       "    embed_document(root);\n",
       "  } else {\n",
       "    var attempts = 0;\n",
       "    var timer = setInterval(function(root) {\n",
       "      if (root.Bokeh !== undefined) {\n",
       "        embed_document(root);\n",
       "        clearInterval(timer);\n",
       "      }\n",
       "      attempts++;\n",
       "      if (attempts > 100) {\n",
       "        console.log(\"Bokeh: ERROR: Unable to embed document because BokehJS library is missing\")\n",
       "        clearInterval(timer);\n",
       "      }\n",
       "    }, 10, root)\n",
       "  }\n",
       "})(window);"
      ],
      "application/vnd.bokehjs_exec.v0+json": ""
     },
     "metadata": {
      "application/vnd.bokehjs_exec.v0+json": {
       "id": "acc770fc-a90f-421b-bb76-c39c114bfaad"
      }
     },
     "output_type": "display_data"
    }
   ],
   "source": [
    "from bokeh.layouts import row, column\n",
    "\n",
    "g1 = figure(plot_width=300, plot_height=150)\n",
    "r1 = g1.circle([1,2,3,4,5], [8,6,5,2,3], size=10)    # list with x,y coordinates\n",
    "\n",
    "g2 = figure(plot_width=300, plot_height=150)\n",
    "r2 = g2.circle([1,2,3,4,5], [8,6,5,2,3], size=10)    # list with x,y coordinates\n",
    "\n",
    "layout = row(g1, g2)\n",
    "#layout = column(p1, p2)\n",
    "t = show(layout, notebook_handle=True)"
   ]
  },
  {
   "cell_type": "code",
   "execution_count": 3,
   "metadata": {},
   "outputs": [
    {
     "data": {
      "text/html": [
       "\n",
       "<div class=\"bk-root\">\n",
       "    <div class=\"bk-plotdiv\" id=\"613c989e-9aaf-47fe-a71e-5ca5a09fa7e9\"></div>\n",
       "</div>"
      ]
     },
     "metadata": {},
     "output_type": "display_data"
    },
    {
     "data": {
      "application/javascript": [
       "(function(root) {\n",
       "  function embed_document(root) {\n",
       "    var docs_json = {\"c779658b-a095-406b-9949-6405c0f98cd9\":{\"roots\":{\"references\":[{\"attributes\":{\"bottom_units\":\"screen\",\"fill_alpha\":{\"value\":0.5},\"fill_color\":{\"value\":\"lightgrey\"},\"left_units\":\"screen\",\"level\":\"overlay\",\"line_alpha\":{\"value\":1.0},\"line_color\":{\"value\":\"black\"},\"line_dash\":[4,4],\"line_width\":{\"value\":2},\"plot\":null,\"render_mode\":\"css\",\"right_units\":\"screen\",\"top_units\":\"screen\"},\"id\":\"74dad0a7-ff01-43aa-ba17-774b10417013\",\"type\":\"BoxAnnotation\"},{\"attributes\":{},\"id\":\"797fc9eb-0d8c-4e29-aa69-971cfee7c436\",\"type\":\"LinearScale\"},{\"attributes\":{},\"id\":\"06d15d90-681c-4279-82fa-12ed3759ee72\",\"type\":\"LinearScale\"},{\"attributes\":{},\"id\":\"b12bf3bf-ae3c-4f9e-9d95-90b02378879e\",\"type\":\"PanTool\"},{\"attributes\":{\"data_source\":{\"id\":\"59601530-d68e-479e-b498-9069afc6db56\",\"type\":\"ColumnDataSource\"},\"glyph\":{\"id\":\"e847e1a0-6e5a-4d2a-82c3-91c0d0430cb8\",\"type\":\"Circle\"},\"hover_glyph\":null,\"muted_glyph\":null,\"nonselection_glyph\":{\"id\":\"a25fd5ee-0650-4d37-a7e1-15064a258219\",\"type\":\"Circle\"},\"selection_glyph\":null,\"view\":{\"id\":\"401d08fd-c350-4031-8c3a-86023c0ee39a\",\"type\":\"CDSView\"}},\"id\":\"7ed37766-6335-45d7-8ca8-6a49eaa61755\",\"type\":\"GlyphRenderer\"},{\"attributes\":{},\"id\":\"214ba040-8d8f-4fb8-8c68-a29b56e0851f\",\"type\":\"WheelZoomTool\"},{\"attributes\":{\"overlay\":{\"id\":\"74dad0a7-ff01-43aa-ba17-774b10417013\",\"type\":\"BoxAnnotation\"}},\"id\":\"7b201172-f985-4aeb-8adc-ce05daecac64\",\"type\":\"BoxZoomTool\"},{\"attributes\":{\"source\":{\"id\":\"59601530-d68e-479e-b498-9069afc6db56\",\"type\":\"ColumnDataSource\"}},\"id\":\"401d08fd-c350-4031-8c3a-86023c0ee39a\",\"type\":\"CDSView\"},{\"attributes\":{},\"id\":\"0f10fb74-d623-42a0-88b6-b8a6d24f7e19\",\"type\":\"SaveTool\"},{\"attributes\":{\"plot\":{\"id\":\"24db6cd6-889e-47f2-bb67-963801be433b\",\"subtype\":\"Figure\",\"type\":\"Plot\"},\"ticker\":{\"id\":\"fac388c3-b260-48c6-b164-429a0355355e\",\"type\":\"BasicTicker\"}},\"id\":\"0a248e5b-474a-4fb1-963b-ee311aef01c1\",\"type\":\"Grid\"},{\"attributes\":{},\"id\":\"4eeabe7c-ecb9-4897-a2d6-bfcea38efeea\",\"type\":\"ResetTool\"},{\"attributes\":{},\"id\":\"a154a9f2-dc28-4bc8-8386-cc8e4b10eef8\",\"type\":\"HelpTool\"},{\"attributes\":{\"formatter\":{\"id\":\"4eb11d5d-c459-49fd-93e4-d68d42eec319\",\"type\":\"BasicTickFormatter\"},\"plot\":{\"id\":\"24db6cd6-889e-47f2-bb67-963801be433b\",\"subtype\":\"Figure\",\"type\":\"Plot\"},\"ticker\":{\"id\":\"fac388c3-b260-48c6-b164-429a0355355e\",\"type\":\"BasicTicker\"}},\"id\":\"0ca41a1b-9155-46f7-98c3-278b68d5e97c\",\"type\":\"LinearAxis\"},{\"attributes\":{\"source\":{\"id\":\"2957709d-fa63-40c4-a4c4-3f0489d1b913\",\"type\":\"ColumnDataSource\"}},\"id\":\"6777607e-6743-4a4d-b773-a8bbcd2e3b28\",\"type\":\"CDSView\"},{\"attributes\":{},\"id\":\"56d939a9-317d-4937-941a-9c56cdf64857\",\"type\":\"BasicTickFormatter\"},{\"attributes\":{},\"id\":\"fac388c3-b260-48c6-b164-429a0355355e\",\"type\":\"BasicTicker\"},{\"attributes\":{\"formatter\":{\"id\":\"a5dd9e62-535e-46eb-b3a5-e5fa43b0b2a4\",\"type\":\"BasicTickFormatter\"},\"plot\":{\"id\":\"24db6cd6-889e-47f2-bb67-963801be433b\",\"subtype\":\"Figure\",\"type\":\"Plot\"},\"ticker\":{\"id\":\"5230e886-9fba-4a8f-b1d3-89d016bf2edc\",\"type\":\"BasicTicker\"}},\"id\":\"2fddae20-243c-4b9e-a4d5-132dff9b663e\",\"type\":\"LinearAxis\"},{\"attributes\":{},\"id\":\"2ee2f36a-8c60-42b0-8876-140fcd0303ec\",\"type\":\"BasicTickFormatter\"},{\"attributes\":{},\"id\":\"5230e886-9fba-4a8f-b1d3-89d016bf2edc\",\"type\":\"BasicTicker\"},{\"attributes\":{\"dimension\":1,\"plot\":{\"id\":\"24db6cd6-889e-47f2-bb67-963801be433b\",\"subtype\":\"Figure\",\"type\":\"Plot\"},\"ticker\":{\"id\":\"5230e886-9fba-4a8f-b1d3-89d016bf2edc\",\"type\":\"BasicTicker\"}},\"id\":\"251184bd-f4cc-4f27-90f8-7c2217825e4e\",\"type\":\"Grid\"},{\"attributes\":{\"bottom_units\":\"screen\",\"fill_alpha\":{\"value\":0.5},\"fill_color\":{\"value\":\"lightgrey\"},\"left_units\":\"screen\",\"level\":\"overlay\",\"line_alpha\":{\"value\":1.0},\"line_color\":{\"value\":\"black\"},\"line_dash\":[4,4],\"line_width\":{\"value\":2},\"plot\":null,\"render_mode\":\"css\",\"right_units\":\"screen\",\"top_units\":\"screen\"},\"id\":\"076917a1-af24-46e0-bc61-30cd39850cc0\",\"type\":\"BoxAnnotation\"},{\"attributes\":{},\"id\":\"4eb11d5d-c459-49fd-93e4-d68d42eec319\",\"type\":\"BasicTickFormatter\"},{\"attributes\":{\"callback\":null},\"id\":\"d602481f-82a7-4b8c-b9e4-22db146d300e\",\"type\":\"DataRange1d\"},{\"attributes\":{},\"id\":\"09b91e4a-e1ac-493e-bfe9-09cc54271b70\",\"type\":\"PanTool\"},{\"attributes\":{},\"id\":\"a5dd9e62-535e-46eb-b3a5-e5fa43b0b2a4\",\"type\":\"BasicTickFormatter\"},{\"attributes\":{\"fill_color\":{\"value\":\"blue\"},\"line_color\":{\"value\":\"blue\"},\"x\":{\"field\":\"petal_length\"},\"y\":{\"field\":\"sepal_length\"}},\"id\":\"e847e1a0-6e5a-4d2a-82c3-91c0d0430cb8\",\"type\":\"Circle\"},{\"attributes\":{\"active_drag\":\"auto\",\"active_inspect\":\"auto\",\"active_scroll\":\"auto\",\"active_tap\":\"auto\",\"tools\":[{\"id\":\"c1f19999-2557-41df-a4bc-692ec51d2418\",\"type\":\"PanTool\"},{\"id\":\"290fbb43-6aba-40d8-b9cd-61f7d3942a2e\",\"type\":\"WheelZoomTool\"},{\"id\":\"909b7ec8-ce6e-4f4a-83bf-47e17d40a7c8\",\"type\":\"BoxZoomTool\"},{\"id\":\"1b8b83c6-3ff9-4c80-9bdd-f9b4a8e66292\",\"type\":\"SaveTool\"},{\"id\":\"c50ba461-d2e0-4648-8fe0-a8643bfae09c\",\"type\":\"ResetTool\"},{\"id\":\"6e0dfae3-a8a6-45c3-a10f-def02667ce94\",\"type\":\"HelpTool\"}]},\"id\":\"f1af7c17-1397-4a16-b4aa-c7a523d8967d\",\"type\":\"Toolbar\"},{\"attributes\":{},\"id\":\"39a1420f-b170-435e-8982-92c606a40be5\",\"type\":\"WheelZoomTool\"},{\"attributes\":{\"overlay\":{\"id\":\"076917a1-af24-46e0-bc61-30cd39850cc0\",\"type\":\"BoxAnnotation\"}},\"id\":\"36a77bd3-b97b-47ae-81e4-204cc851823e\",\"type\":\"BoxZoomTool\"},{\"attributes\":{},\"id\":\"dc64b701-8b90-4fa0-aec8-3e8e9e9bbbbc\",\"type\":\"SaveTool\"},{\"attributes\":{\"callback\":null},\"id\":\"50e2e1ac-08d7-42ec-aae4-247ae7c3a9c2\",\"type\":\"DataRange1d\"},{\"attributes\":{},\"id\":\"531b6498-24c2-4342-abe5-eb0d41b0bc68\",\"type\":\"ResetTool\"},{\"attributes\":{\"active_drag\":\"auto\",\"active_inspect\":\"auto\",\"active_scroll\":\"auto\",\"active_tap\":\"auto\",\"tools\":[{\"id\":\"09b91e4a-e1ac-493e-bfe9-09cc54271b70\",\"type\":\"PanTool\"},{\"id\":\"39a1420f-b170-435e-8982-92c606a40be5\",\"type\":\"WheelZoomTool\"},{\"id\":\"36a77bd3-b97b-47ae-81e4-204cc851823e\",\"type\":\"BoxZoomTool\"},{\"id\":\"dc64b701-8b90-4fa0-aec8-3e8e9e9bbbbc\",\"type\":\"SaveTool\"},{\"id\":\"531b6498-24c2-4342-abe5-eb0d41b0bc68\",\"type\":\"ResetTool\"},{\"id\":\"17e8714c-b7d4-4793-8140-9429dde0f576\",\"type\":\"HelpTool\"}]},\"id\":\"650dd86e-7fc8-4b14-b968-63fea14765ad\",\"type\":\"Toolbar\"},{\"attributes\":{},\"id\":\"17e8714c-b7d4-4793-8140-9429dde0f576\",\"type\":\"HelpTool\"},{\"attributes\":{},\"id\":\"e3d8f640-c28e-459d-901b-5abfa99af48f\",\"type\":\"LinearScale\"},{\"attributes\":{\"fill_color\":{\"value\":null},\"line_color\":{\"value\":\"red\"},\"x\":{\"field\":\"petal_length\"},\"y\":{\"field\":\"petal_length\"}},\"id\":\"3f609fce-1c20-41b2-abb3-8df6b28c5375\",\"type\":\"Diamond\"},{\"attributes\":{\"plot\":null,\"text\":\"petal lenght vs. sepal width\"},\"id\":\"7fe1813c-2aa3-466c-9944-de32418cf1e0\",\"type\":\"Title\"},{\"attributes\":{\"fill_color\":{\"value\":\"green\"},\"line_color\":{\"value\":\"green\"},\"x\":{\"field\":\"petal_length\"},\"y\":{\"field\":\"sepal_width\"}},\"id\":\"f99e50fa-4020-40fa-a4d1-0caf552659ae\",\"type\":\"Square\"},{\"attributes\":{\"callback\":null},\"id\":\"3f755ad3-3dbb-4082-9b82-860f46db2a8c\",\"type\":\"DataRange1d\"},{\"attributes\":{\"callback\":null},\"id\":\"f6f24ac7-81e9-4c9f-ba72-3c618637356c\",\"type\":\"DataRange1d\"},{\"attributes\":{\"callback\":null,\"column_names\":[\"sepal_length\",\"sepal_width\",\"petal_length\",\"petal_width\",\"species\",\"index\"],\"data\":{\"index\":[0,1,2,3,4,5,6,7,8,9,10,11,12,13,14,15,16,17,18,19,20,21,22,23,24,25,26,27,28,29,30,31,32,33,34,35,36,37,38,39,40,41,42,43,44,45,46,47,48,49,50,51,52,53,54,55,56,57,58,59,60,61,62,63,64,65,66,67,68,69,70,71,72,73,74,75,76,77,78,79,80,81,82,83,84,85,86,87,88,89,90,91,92,93,94,95,96,97,98,99,100,101,102,103,104,105,106,107,108,109,110,111,112,113,114,115,116,117,118,119,120,121,122,123,124,125,126,127,128,129,130,131,132,133,134,135,136,137,138,139,140,141,142,143,144,145,146,147,148,149],\"petal_length\":{\"__ndarray__\":\"ZmZmZmZm9j9mZmZmZmb2P83MzMzMzPQ/AAAAAAAA+D9mZmZmZmb2PzMzMzMzM/s/ZmZmZmZm9j8AAAAAAAD4P2ZmZmZmZvY/AAAAAAAA+D8AAAAAAAD4P5qZmZmZmfk/ZmZmZmZm9j+amZmZmZnxPzMzMzMzM/M/AAAAAAAA+D/NzMzMzMz0P2ZmZmZmZvY/MzMzMzMz+z8AAAAAAAD4PzMzMzMzM/s/AAAAAAAA+D8AAAAAAADwPzMzMzMzM/s/ZmZmZmZm/j+amZmZmZn5P5qZmZmZmfk/AAAAAAAA+D9mZmZmZmb2P5qZmZmZmfk/mpmZmZmZ+T8AAAAAAAD4PwAAAAAAAPg/ZmZmZmZm9j8AAAAAAAD4PzMzMzMzM/M/zczMzMzM9D9mZmZmZmb2P83MzMzMzPQ/AAAAAAAA+D/NzMzMzMz0P83MzMzMzPQ/zczMzMzM9D+amZmZmZn5P2ZmZmZmZv4/ZmZmZmZm9j+amZmZmZn5P2ZmZmZmZvY/AAAAAAAA+D9mZmZmZmb2P83MzMzMzBJAAAAAAAAAEkCamZmZmZkTQAAAAAAAABBAZmZmZmZmEkAAAAAAAAASQM3MzMzMzBJAZmZmZmZmCkBmZmZmZmYSQDMzMzMzMw9AAAAAAAAADEDNzMzMzMwQQAAAAAAAABBAzczMzMzMEkDNzMzMzMwMQJqZmZmZmRFAAAAAAAAAEkBmZmZmZmYQQAAAAAAAABJAMzMzMzMzD0AzMzMzMzMTQAAAAAAAABBAmpmZmZmZE0DNzMzMzMwSQDMzMzMzMxFAmpmZmZmZEUAzMzMzMzMTQAAAAAAAABRAAAAAAAAAEkAAAAAAAAAMQGZmZmZmZg5AmpmZmZmZDUAzMzMzMzMPQGZmZmZmZhRAAAAAAAAAEkAAAAAAAAASQM3MzMzMzBJAmpmZmZmZEUBmZmZmZmYQQAAAAAAAABBAmpmZmZmZEUBmZmZmZmYSQAAAAAAAABBAZmZmZmZmCkDNzMzMzMwQQM3MzMzMzBBAzczMzMzMEEAzMzMzMzMRQAAAAAAAAAhAZmZmZmZmEEAAAAAAAAAYQGZmZmZmZhRAmpmZmZmZF0BmZmZmZmYWQDMzMzMzMxdAZmZmZmZmGkAAAAAAAAASQDMzMzMzMxlAMzMzMzMzF0BmZmZmZmYYQGZmZmZmZhRAMzMzMzMzFUAAAAAAAAAWQAAAAAAAABRAZmZmZmZmFEAzMzMzMzMVQAAAAAAAABZAzczMzMzMGkCamZmZmZkbQAAAAAAAABRAzczMzMzMFkCamZmZmZkTQM3MzMzMzBpAmpmZmZmZE0DNzMzMzMwWQAAAAAAAABhAMzMzMzMzE0CamZmZmZkTQGZmZmZmZhZAMzMzMzMzF0BmZmZmZmYYQJqZmZmZmRlAZmZmZmZmFkBmZmZmZmYUQGZmZmZmZhZAZmZmZmZmGEBmZmZmZmYWQAAAAAAAABZAMzMzMzMzE0CamZmZmZkVQGZmZmZmZhZAZmZmZmZmFEBmZmZmZmYUQJqZmZmZmRdAzczMzMzMFkDNzMzMzMwUQAAAAAAAABRAzczMzMzMFECamZmZmZkVQGZmZmZmZhRA\",\"dtype\":\"float64\",\"shape\":[150]},\"petal_width\":{\"__ndarray__\":\"mpmZmZmZyT+amZmZmZnJP5qZmZmZmck/mpmZmZmZyT+amZmZmZnJP5qZmZmZmdk/MzMzMzMz0z+amZmZmZnJP5qZmZmZmck/mpmZmZmZuT+amZmZmZnJP5qZmZmZmck/mpmZmZmZuT+amZmZmZm5P5qZmZmZmck/mpmZmZmZ2T+amZmZmZnZPzMzMzMzM9M/MzMzMzMz0z8zMzMzMzPTP5qZmZmZmck/mpmZmZmZ2T+amZmZmZnJPwAAAAAAAOA/mpmZmZmZyT+amZmZmZnJP5qZmZmZmdk/mpmZmZmZyT+amZmZmZnJP5qZmZmZmck/mpmZmZmZyT+amZmZmZnZP5qZmZmZmbk/mpmZmZmZyT+amZmZmZnJP5qZmZmZmck/mpmZmZmZyT+amZmZmZm5P5qZmZmZmck/mpmZmZmZyT8zMzMzMzPTPzMzMzMzM9M/mpmZmZmZyT8zMzMzMzPjP5qZmZmZmdk/MzMzMzMz0z+amZmZmZnJP5qZmZmZmck/mpmZmZmZyT+amZmZmZnJP2ZmZmZmZvY/AAAAAAAA+D8AAAAAAAD4P83MzMzMzPQ/AAAAAAAA+D/NzMzMzMz0P5qZmZmZmfk/AAAAAAAA8D/NzMzMzMz0P2ZmZmZmZvY/AAAAAAAA8D8AAAAAAAD4PwAAAAAAAPA/ZmZmZmZm9j/NzMzMzMz0P2ZmZmZmZvY/AAAAAAAA+D8AAAAAAADwPwAAAAAAAPg/mpmZmZmZ8T/NzMzMzMz8P83MzMzMzPQ/AAAAAAAA+D8zMzMzMzPzP83MzMzMzPQ/ZmZmZmZm9j9mZmZmZmb2PzMzMzMzM/s/AAAAAAAA+D8AAAAAAADwP5qZmZmZmfE/AAAAAAAA8D8zMzMzMzPzP5qZmZmZmfk/AAAAAAAA+D+amZmZmZn5PwAAAAAAAPg/zczMzMzM9D/NzMzMzMz0P83MzMzMzPQ/MzMzMzMz8z9mZmZmZmb2PzMzMzMzM/M/AAAAAAAA8D/NzMzMzMz0PzMzMzMzM/M/zczMzMzM9D/NzMzMzMz0P5qZmZmZmfE/zczMzMzM9D8AAAAAAAAEQGZmZmZmZv4/zczMzMzMAEDNzMzMzMz8P5qZmZmZmQFAzczMzMzMAEAzMzMzMzP7P83MzMzMzPw/zczMzMzM/D8AAAAAAAAEQAAAAAAAAABAZmZmZmZm/j/NzMzMzMwAQAAAAAAAAABAMzMzMzMzA0BmZmZmZmYCQM3MzMzMzPw/mpmZmZmZAUBmZmZmZmYCQAAAAAAAAPg/ZmZmZmZmAkAAAAAAAAAAQAAAAAAAAABAzczMzMzM/D/NzMzMzMwAQM3MzMzMzPw/zczMzMzM/D/NzMzMzMz8P83MzMzMzABAmpmZmZmZ+T9mZmZmZmb+PwAAAAAAAABAmpmZmZmZAUAAAAAAAAD4P2ZmZmZmZvY/ZmZmZmZmAkAzMzMzMzMDQM3MzMzMzPw/zczMzMzM/D/NzMzMzMwAQDMzMzMzMwNAZmZmZmZmAkBmZmZmZmb+P2ZmZmZmZgJAAAAAAAAABEBmZmZmZmYCQGZmZmZmZv4/AAAAAAAAAEBmZmZmZmYCQM3MzMzMzPw/\",\"dtype\":\"float64\",\"shape\":[150]},\"sepal_length\":{\"__ndarray__\":\"ZmZmZmZmFECamZmZmZkTQM3MzMzMzBJAZmZmZmZmEkAAAAAAAAAUQJqZmZmZmRVAZmZmZmZmEkAAAAAAAAAUQJqZmZmZmRFAmpmZmZmZE0CamZmZmZkVQDMzMzMzMxNAMzMzMzMzE0AzMzMzMzMRQDMzMzMzMxdAzczMzMzMFkCamZmZmZkVQGZmZmZmZhRAzczMzMzMFkBmZmZmZmYUQJqZmZmZmRVAZmZmZmZmFEBmZmZmZmYSQGZmZmZmZhRAMzMzMzMzE0AAAAAAAAAUQAAAAAAAABRAzczMzMzMFEDNzMzMzMwUQM3MzMzMzBJAMzMzMzMzE0CamZmZmZkVQM3MzMzMzBRAAAAAAAAAFkCamZmZmZkTQAAAAAAAABRAAAAAAAAAFkCamZmZmZkTQJqZmZmZmRFAZmZmZmZmFEAAAAAAAAAUQAAAAAAAABJAmpmZmZmZEUAAAAAAAAAUQGZmZmZmZhRAMzMzMzMzE0BmZmZmZmYUQGZmZmZmZhJAMzMzMzMzFUAAAAAAAAAUQAAAAAAAABxAmpmZmZmZGUCamZmZmZkbQAAAAAAAABZAAAAAAAAAGkDNzMzMzMwWQDMzMzMzMxlAmpmZmZmZE0BmZmZmZmYaQM3MzMzMzBRAAAAAAAAAFECamZmZmZkXQAAAAAAAABhAZmZmZmZmGEBmZmZmZmYWQM3MzMzMzBpAZmZmZmZmFkAzMzMzMzMXQM3MzMzMzBhAZmZmZmZmFkCamZmZmZkXQGZmZmZmZhhAMzMzMzMzGUBmZmZmZmYYQJqZmZmZmRlAZmZmZmZmGkAzMzMzMzMbQM3MzMzMzBpAAAAAAAAAGEDNzMzMzMwWQAAAAAAAABZAAAAAAAAAFkAzMzMzMzMXQAAAAAAAABhAmpmZmZmZFUAAAAAAAAAYQM3MzMzMzBpAMzMzMzMzGUBmZmZmZmYWQAAAAAAAABZAAAAAAAAAFkBmZmZmZmYYQDMzMzMzMxdAAAAAAAAAFEBmZmZmZmYWQM3MzMzMzBZAzczMzMzMFkDNzMzMzMwYQGZmZmZmZhRAzczMzMzMFkAzMzMzMzMZQDMzMzMzMxdAZmZmZmZmHEAzMzMzMzMZQAAAAAAAABpAZmZmZmZmHkCamZmZmZkTQDMzMzMzMx1AzczMzMzMGkDNzMzMzMwcQAAAAAAAABpAmpmZmZmZGUAzMzMzMzMbQM3MzMzMzBZAMzMzMzMzF0CamZmZmZkZQAAAAAAAABpAzczMzMzMHkDNzMzMzMweQAAAAAAAABhAmpmZmZmZG0BmZmZmZmYWQM3MzMzMzB5AMzMzMzMzGUDNzMzMzMwaQM3MzMzMzBxAzczMzMzMGEBmZmZmZmYYQJqZmZmZmRlAzczMzMzMHECamZmZmZkdQJqZmZmZmR9AmpmZmZmZGUAzMzMzMzMZQGZmZmZmZhhAzczMzMzMHkAzMzMzMzMZQJqZmZmZmRlAAAAAAAAAGECamZmZmZkbQM3MzMzMzBpAmpmZmZmZG0AzMzMzMzMXQDMzMzMzMxtAzczMzMzMGkDNzMzMzMwaQDMzMzMzMxlAAAAAAAAAGkDNzMzMzMwYQJqZmZmZmRdA\",\"dtype\":\"float64\",\"shape\":[150]},\"sepal_width\":{\"__ndarray__\":\"AAAAAAAADEAAAAAAAAAIQJqZmZmZmQlAzczMzMzMCEDNzMzMzMwMQDMzMzMzMw9AMzMzMzMzC0AzMzMzMzMLQDMzMzMzMwdAzczMzMzMCECamZmZmZkNQDMzMzMzMwtAAAAAAAAACEAAAAAAAAAIQAAAAAAAABBAmpmZmZmZEUAzMzMzMzMPQAAAAAAAAAxAZmZmZmZmDkBmZmZmZmYOQDMzMzMzMwtAmpmZmZmZDUDNzMzMzMwMQGZmZmZmZgpAMzMzMzMzC0AAAAAAAAAIQDMzMzMzMwtAAAAAAAAADEAzMzMzMzMLQJqZmZmZmQlAzczMzMzMCEAzMzMzMzMLQGZmZmZmZhBAzczMzMzMEEDNzMzMzMwIQJqZmZmZmQlAAAAAAAAADEDNzMzMzMwMQAAAAAAAAAhAMzMzMzMzC0AAAAAAAAAMQGZmZmZmZgJAmpmZmZmZCUAAAAAAAAAMQGZmZmZmZg5AAAAAAAAACEBmZmZmZmYOQJqZmZmZmQlAmpmZmZmZDUBmZmZmZmYKQJqZmZmZmQlAmpmZmZmZCUDNzMzMzMwIQGZmZmZmZgJAZmZmZmZmBkBmZmZmZmYGQGZmZmZmZgpAMzMzMzMzA0AzMzMzMzMHQJqZmZmZmQVAAAAAAAAAAEAAAAAAAAAIQJqZmZmZmQFAMzMzMzMzB0AzMzMzMzMHQM3MzMzMzAhAAAAAAAAACECamZmZmZkFQJqZmZmZmQFAAAAAAAAABECamZmZmZkJQGZmZmZmZgZAAAAAAAAABEBmZmZmZmYGQDMzMzMzMwdAAAAAAAAACEBmZmZmZmYGQAAAAAAAAAhAMzMzMzMzB0DNzMzMzMwEQDMzMzMzMwNAMzMzMzMzA0CamZmZmZkFQJqZmZmZmQVAAAAAAAAACEAzMzMzMzMLQM3MzMzMzAhAZmZmZmZmAkAAAAAAAAAIQAAAAAAAAARAzczMzMzMBEAAAAAAAAAIQM3MzMzMzARAZmZmZmZmAkCamZmZmZkFQAAAAAAAAAhAMzMzMzMzB0AzMzMzMzMHQAAAAAAAAARAZmZmZmZmBkBmZmZmZmYKQJqZmZmZmQVAAAAAAAAACEAzMzMzMzMHQAAAAAAAAAhAAAAAAAAACEAAAAAAAAAEQDMzMzMzMwdAAAAAAAAABEDNzMzMzMwMQJqZmZmZmQlAmpmZmZmZBUAAAAAAAAAIQAAAAAAAAARAZmZmZmZmBkCamZmZmZkJQAAAAAAAAAhAZmZmZmZmDkDNzMzMzMwEQJqZmZmZmQFAmpmZmZmZCUBmZmZmZmYGQGZmZmZmZgZAmpmZmZmZBUBmZmZmZmYKQJqZmZmZmQlAZmZmZmZmBkAAAAAAAAAIQGZmZmZmZgZAAAAAAAAACEBmZmZmZmYGQGZmZmZmZg5AZmZmZmZmBkBmZmZmZmYGQM3MzMzMzARAAAAAAAAACEAzMzMzMzMLQM3MzMzMzAhAAAAAAAAACEDNzMzMzMwIQM3MzMzMzAhAzczMzMzMCECamZmZmZkFQJqZmZmZmQlAZmZmZmZmCkAAAAAAAAAIQAAAAAAAAARAAAAAAAAACEAzMzMzMzMLQAAAAAAAAAhA\",\"dtype\":\"float64\",\"shape\":[150]},\"species\":[\"setosa\",\"setosa\",\"setosa\",\"setosa\",\"setosa\",\"setosa\",\"setosa\",\"setosa\",\"setosa\",\"setosa\",\"setosa\",\"setosa\",\"setosa\",\"setosa\",\"setosa\",\"setosa\",\"setosa\",\"setosa\",\"setosa\",\"setosa\",\"setosa\",\"setosa\",\"setosa\",\"setosa\",\"setosa\",\"setosa\",\"setosa\",\"setosa\",\"setosa\",\"setosa\",\"setosa\",\"setosa\",\"setosa\",\"setosa\",\"setosa\",\"setosa\",\"setosa\",\"setosa\",\"setosa\",\"setosa\",\"setosa\",\"setosa\",\"setosa\",\"setosa\",\"setosa\",\"setosa\",\"setosa\",\"setosa\",\"setosa\",\"setosa\",\"versicolor\",\"versicolor\",\"versicolor\",\"versicolor\",\"versicolor\",\"versicolor\",\"versicolor\",\"versicolor\",\"versicolor\",\"versicolor\",\"versicolor\",\"versicolor\",\"versicolor\",\"versicolor\",\"versicolor\",\"versicolor\",\"versicolor\",\"versicolor\",\"versicolor\",\"versicolor\",\"versicolor\",\"versicolor\",\"versicolor\",\"versicolor\",\"versicolor\",\"versicolor\",\"versicolor\",\"versicolor\",\"versicolor\",\"versicolor\",\"versicolor\",\"versicolor\",\"versicolor\",\"versicolor\",\"versicolor\",\"versicolor\",\"versicolor\",\"versicolor\",\"versicolor\",\"versicolor\",\"versicolor\",\"versicolor\",\"versicolor\",\"versicolor\",\"versicolor\",\"versicolor\",\"versicolor\",\"versicolor\",\"versicolor\",\"versicolor\",\"virginica\",\"virginica\",\"virginica\",\"virginica\",\"virginica\",\"virginica\",\"virginica\",\"virginica\",\"virginica\",\"virginica\",\"virginica\",\"virginica\",\"virginica\",\"virginica\",\"virginica\",\"virginica\",\"virginica\",\"virginica\",\"virginica\",\"virginica\",\"virginica\",\"virginica\",\"virginica\",\"virginica\",\"virginica\",\"virginica\",\"virginica\",\"virginica\",\"virginica\",\"virginica\",\"virginica\",\"virginica\",\"virginica\",\"virginica\",\"virginica\",\"virginica\",\"virginica\",\"virginica\",\"virginica\",\"virginica\",\"virginica\",\"virginica\",\"virginica\",\"virginica\",\"virginica\",\"virginica\",\"virginica\",\"virginica\",\"virginica\",\"virginica\"]}},\"id\":\"c3562e53-35e0-4ade-b24a-deea9287b7df\",\"type\":\"ColumnDataSource\"},{\"attributes\":{},\"id\":\"4a538b47-3ad0-47cb-9c4a-6b59c77ddb08\",\"type\":\"LinearScale\"},{\"attributes\":{\"plot\":{\"id\":\"0b9ab3d2-e244-4406-8732-d7c5fe3db9e1\",\"subtype\":\"Figure\",\"type\":\"Plot\"},\"ticker\":{\"id\":\"088d9248-a050-4103-b441-9708daa13c4a\",\"type\":\"BasicTicker\"}},\"id\":\"4d434e9a-3efb-450e-9f98-38ab2dd1591a\",\"type\":\"Grid\"},{\"attributes\":{\"formatter\":{\"id\":\"ca8a92f9-d5f2-44e9-a284-525af29bcc1d\",\"type\":\"BasicTickFormatter\"},\"plot\":{\"id\":\"0b9ab3d2-e244-4406-8732-d7c5fe3db9e1\",\"subtype\":\"Figure\",\"type\":\"Plot\"},\"ticker\":{\"id\":\"088d9248-a050-4103-b441-9708daa13c4a\",\"type\":\"BasicTicker\"}},\"id\":\"3c869e72-f741-427b-b8d5-ecb8e1536b82\",\"type\":\"LinearAxis\"},{\"attributes\":{},\"id\":\"088d9248-a050-4103-b441-9708daa13c4a\",\"type\":\"BasicTicker\"},{\"attributes\":{\"formatter\":{\"id\":\"c29dc50e-8f29-4f84-b454-b7b4bdc83663\",\"type\":\"BasicTickFormatter\"},\"plot\":{\"id\":\"0b9ab3d2-e244-4406-8732-d7c5fe3db9e1\",\"subtype\":\"Figure\",\"type\":\"Plot\"},\"ticker\":{\"id\":\"e3309314-3311-4913-aa88-196053ea8e76\",\"type\":\"BasicTicker\"}},\"id\":\"5391761d-b3b6-42f7-a8db-ba5987dd37dd\",\"type\":\"LinearAxis\"},{\"attributes\":{},\"id\":\"e3309314-3311-4913-aa88-196053ea8e76\",\"type\":\"BasicTicker\"},{\"attributes\":{\"dimension\":1,\"plot\":{\"id\":\"0b9ab3d2-e244-4406-8732-d7c5fe3db9e1\",\"subtype\":\"Figure\",\"type\":\"Plot\"},\"ticker\":{\"id\":\"e3309314-3311-4913-aa88-196053ea8e76\",\"type\":\"BasicTicker\"}},\"id\":\"afc30790-335c-4702-a7eb-0772761153f3\",\"type\":\"Grid\"},{\"attributes\":{\"plot\":null,\"text\":\"petal lenght vs. petal lenght\"},\"id\":\"645ac8c6-2aa1-4bde-85ab-68c29c7e6bea\",\"type\":\"Title\"},{\"attributes\":{\"below\":[{\"id\":\"0ca41a1b-9155-46f7-98c3-278b68d5e97c\",\"type\":\"LinearAxis\"}],\"left\":[{\"id\":\"2fddae20-243c-4b9e-a4d5-132dff9b663e\",\"type\":\"LinearAxis\"}],\"plot_height\":300,\"plot_width\":300,\"renderers\":[{\"id\":\"0ca41a1b-9155-46f7-98c3-278b68d5e97c\",\"type\":\"LinearAxis\"},{\"id\":\"0a248e5b-474a-4fb1-963b-ee311aef01c1\",\"type\":\"Grid\"},{\"id\":\"2fddae20-243c-4b9e-a4d5-132dff9b663e\",\"type\":\"LinearAxis\"},{\"id\":\"251184bd-f4cc-4f27-90f8-7c2217825e4e\",\"type\":\"Grid\"},{\"id\":\"076917a1-af24-46e0-bc61-30cd39850cc0\",\"type\":\"BoxAnnotation\"},{\"id\":\"7ed37766-6335-45d7-8ca8-6a49eaa61755\",\"type\":\"GlyphRenderer\"}],\"title\":{\"id\":\"9de53d69-1191-4679-8ec2-8d1059da4ef5\",\"type\":\"Title\"},\"toolbar\":{\"id\":\"650dd86e-7fc8-4b14-b968-63fea14765ad\",\"type\":\"Toolbar\"},\"x_range\":{\"id\":\"50e2e1ac-08d7-42ec-aae4-247ae7c3a9c2\",\"type\":\"DataRange1d\"},\"x_scale\":{\"id\":\"797fc9eb-0d8c-4e29-aa69-971cfee7c436\",\"type\":\"LinearScale\"},\"y_range\":{\"id\":\"d1e5df24-c1cb-4251-b10f-b78622e97011\",\"type\":\"DataRange1d\"},\"y_scale\":{\"id\":\"06d15d90-681c-4279-82fa-12ed3759ee72\",\"type\":\"LinearScale\"}},\"id\":\"24db6cd6-889e-47f2-bb67-963801be433b\",\"subtype\":\"Figure\",\"type\":\"Plot\"},{\"attributes\":{\"below\":[{\"id\":\"4be84d64-f1e9-445e-b324-dde5693ec065\",\"type\":\"LinearAxis\"}],\"left\":[{\"id\":\"476062bc-b737-4214-a1a6-8647ed18aee4\",\"type\":\"LinearAxis\"}],\"plot_height\":300,\"plot_width\":300,\"renderers\":[{\"id\":\"4be84d64-f1e9-445e-b324-dde5693ec065\",\"type\":\"LinearAxis\"},{\"id\":\"e7e2406d-00b8-4cee-90ae-439c659bc26f\",\"type\":\"Grid\"},{\"id\":\"476062bc-b737-4214-a1a6-8647ed18aee4\",\"type\":\"LinearAxis\"},{\"id\":\"c0bc3cca-74c2-4f24-af7f-3eff19d4284e\",\"type\":\"Grid\"},{\"id\":\"74dad0a7-ff01-43aa-ba17-774b10417013\",\"type\":\"BoxAnnotation\"},{\"id\":\"c8a88e97-9889-41af-b806-4f5d616bdb32\",\"type\":\"GlyphRenderer\"}],\"title\":{\"id\":\"645ac8c6-2aa1-4bde-85ab-68c29c7e6bea\",\"type\":\"Title\"},\"toolbar\":{\"id\":\"62794a98-815d-4371-af30-b1d886bd620b\",\"type\":\"Toolbar\"},\"x_range\":{\"id\":\"91ad912b-c4d5-4667-afa1-4a04ebfdd9f3\",\"type\":\"DataRange1d\"},\"x_scale\":{\"id\":\"9566ffc3-3a1d-434d-8419-be8e47fa6f3b\",\"type\":\"LinearScale\"},\"y_range\":{\"id\":\"d602481f-82a7-4b8c-b9e4-22db146d300e\",\"type\":\"DataRange1d\"},\"y_scale\":{\"id\":\"893c9a21-eac0-48f5-83bc-8c3bb25d0c6f\",\"type\":\"LinearScale\"}},\"id\":\"fdaec900-295b-47b2-b00e-13621d4db9e6\",\"subtype\":\"Figure\",\"type\":\"Plot\"},{\"attributes\":{\"below\":[{\"id\":\"3c869e72-f741-427b-b8d5-ecb8e1536b82\",\"type\":\"LinearAxis\"}],\"left\":[{\"id\":\"5391761d-b3b6-42f7-a8db-ba5987dd37dd\",\"type\":\"LinearAxis\"}],\"plot_height\":300,\"plot_width\":300,\"renderers\":[{\"id\":\"3c869e72-f741-427b-b8d5-ecb8e1536b82\",\"type\":\"LinearAxis\"},{\"id\":\"4d434e9a-3efb-450e-9f98-38ab2dd1591a\",\"type\":\"Grid\"},{\"id\":\"5391761d-b3b6-42f7-a8db-ba5987dd37dd\",\"type\":\"LinearAxis\"},{\"id\":\"afc30790-335c-4702-a7eb-0772761153f3\",\"type\":\"Grid\"},{\"id\":\"187e010e-3bc1-43b7-b6b1-de7db234ed31\",\"type\":\"BoxAnnotation\"},{\"id\":\"bb2eb9f9-e608-4001-8df9-a94854da16cd\",\"type\":\"GlyphRenderer\"}],\"title\":{\"id\":\"7fe1813c-2aa3-466c-9944-de32418cf1e0\",\"type\":\"Title\"},\"toolbar\":{\"id\":\"f1af7c17-1397-4a16-b4aa-c7a523d8967d\",\"type\":\"Toolbar\"},\"x_range\":{\"id\":\"f6f24ac7-81e9-4c9f-ba72-3c618637356c\",\"type\":\"DataRange1d\"},\"x_scale\":{\"id\":\"4a538b47-3ad0-47cb-9c4a-6b59c77ddb08\",\"type\":\"LinearScale\"},\"y_range\":{\"id\":\"3f755ad3-3dbb-4082-9b82-860f46db2a8c\",\"type\":\"DataRange1d\"},\"y_scale\":{\"id\":\"e3d8f640-c28e-459d-901b-5abfa99af48f\",\"type\":\"LinearScale\"}},\"id\":\"0b9ab3d2-e244-4406-8732-d7c5fe3db9e1\",\"subtype\":\"Figure\",\"type\":\"Plot\"},{\"attributes\":{\"fill_alpha\":{\"value\":0.1},\"fill_color\":{\"value\":\"#1f77b4\"},\"line_alpha\":{\"value\":0.1},\"line_color\":{\"value\":\"#1f77b4\"},\"x\":{\"field\":\"petal_length\"},\"y\":{\"field\":\"petal_length\"}},\"id\":\"f4cc7383-d2fd-4c1c-9744-b54109e5a7cd\",\"type\":\"Diamond\"},{\"attributes\":{\"bottom_units\":\"screen\",\"fill_alpha\":{\"value\":0.5},\"fill_color\":{\"value\":\"lightgrey\"},\"left_units\":\"screen\",\"level\":\"overlay\",\"line_alpha\":{\"value\":1.0},\"line_color\":{\"value\":\"black\"},\"line_dash\":[4,4],\"line_width\":{\"value\":2},\"plot\":null,\"render_mode\":\"css\",\"right_units\":\"screen\",\"top_units\":\"screen\"},\"id\":\"187e010e-3bc1-43b7-b6b1-de7db234ed31\",\"type\":\"BoxAnnotation\"},{\"attributes\":{\"callback\":null,\"column_names\":[\"sepal_length\",\"sepal_width\",\"petal_length\",\"petal_width\",\"species\",\"index\"],\"data\":{\"index\":[0,1,2,3,4,5,6,7,8,9,10,11,12,13,14,15,16,17,18,19,20,21,22,23,24,25,26,27,28,29,30,31,32,33,34,35,36,37,38,39,40,41,42,43,44,45,46,47,48,49,50,51,52,53,54,55,56,57,58,59,60,61,62,63,64,65,66,67,68,69,70,71,72,73,74,75,76,77,78,79,80,81,82,83,84,85,86,87,88,89,90,91,92,93,94,95,96,97,98,99,100,101,102,103,104,105,106,107,108,109,110,111,112,113,114,115,116,117,118,119,120,121,122,123,124,125,126,127,128,129,130,131,132,133,134,135,136,137,138,139,140,141,142,143,144,145,146,147,148,149],\"petal_length\":{\"__ndarray__\":\"ZmZmZmZm9j9mZmZmZmb2P83MzMzMzPQ/AAAAAAAA+D9mZmZmZmb2PzMzMzMzM/s/ZmZmZmZm9j8AAAAAAAD4P2ZmZmZmZvY/AAAAAAAA+D8AAAAAAAD4P5qZmZmZmfk/ZmZmZmZm9j+amZmZmZnxPzMzMzMzM/M/AAAAAAAA+D/NzMzMzMz0P2ZmZmZmZvY/MzMzMzMz+z8AAAAAAAD4PzMzMzMzM/s/AAAAAAAA+D8AAAAAAADwPzMzMzMzM/s/ZmZmZmZm/j+amZmZmZn5P5qZmZmZmfk/AAAAAAAA+D9mZmZmZmb2P5qZmZmZmfk/mpmZmZmZ+T8AAAAAAAD4PwAAAAAAAPg/ZmZmZmZm9j8AAAAAAAD4PzMzMzMzM/M/zczMzMzM9D9mZmZmZmb2P83MzMzMzPQ/AAAAAAAA+D/NzMzMzMz0P83MzMzMzPQ/zczMzMzM9D+amZmZmZn5P2ZmZmZmZv4/ZmZmZmZm9j+amZmZmZn5P2ZmZmZmZvY/AAAAAAAA+D9mZmZmZmb2P83MzMzMzBJAAAAAAAAAEkCamZmZmZkTQAAAAAAAABBAZmZmZmZmEkAAAAAAAAASQM3MzMzMzBJAZmZmZmZmCkBmZmZmZmYSQDMzMzMzMw9AAAAAAAAADEDNzMzMzMwQQAAAAAAAABBAzczMzMzMEkDNzMzMzMwMQJqZmZmZmRFAAAAAAAAAEkBmZmZmZmYQQAAAAAAAABJAMzMzMzMzD0AzMzMzMzMTQAAAAAAAABBAmpmZmZmZE0DNzMzMzMwSQDMzMzMzMxFAmpmZmZmZEUAzMzMzMzMTQAAAAAAAABRAAAAAAAAAEkAAAAAAAAAMQGZmZmZmZg5AmpmZmZmZDUAzMzMzMzMPQGZmZmZmZhRAAAAAAAAAEkAAAAAAAAASQM3MzMzMzBJAmpmZmZmZEUBmZmZmZmYQQAAAAAAAABBAmpmZmZmZEUBmZmZmZmYSQAAAAAAAABBAZmZmZmZmCkDNzMzMzMwQQM3MzMzMzBBAzczMzMzMEEAzMzMzMzMRQAAAAAAAAAhAZmZmZmZmEEAAAAAAAAAYQGZmZmZmZhRAmpmZmZmZF0BmZmZmZmYWQDMzMzMzMxdAZmZmZmZmGkAAAAAAAAASQDMzMzMzMxlAMzMzMzMzF0BmZmZmZmYYQGZmZmZmZhRAMzMzMzMzFUAAAAAAAAAWQAAAAAAAABRAZmZmZmZmFEAzMzMzMzMVQAAAAAAAABZAzczMzMzMGkCamZmZmZkbQAAAAAAAABRAzczMzMzMFkCamZmZmZkTQM3MzMzMzBpAmpmZmZmZE0DNzMzMzMwWQAAAAAAAABhAMzMzMzMzE0CamZmZmZkTQGZmZmZmZhZAMzMzMzMzF0BmZmZmZmYYQJqZmZmZmRlAZmZmZmZmFkBmZmZmZmYUQGZmZmZmZhZAZmZmZmZmGEBmZmZmZmYWQAAAAAAAABZAMzMzMzMzE0CamZmZmZkVQGZmZmZmZhZAZmZmZmZmFEBmZmZmZmYUQJqZmZmZmRdAzczMzMzMFkDNzMzMzMwUQAAAAAAAABRAzczMzMzMFECamZmZmZkVQGZmZmZmZhRA\",\"dtype\":\"float64\",\"shape\":[150]},\"petal_width\":{\"__ndarray__\":\"mpmZmZmZyT+amZmZmZnJP5qZmZmZmck/mpmZmZmZyT+amZmZmZnJP5qZmZmZmdk/MzMzMzMz0z+amZmZmZnJP5qZmZmZmck/mpmZmZmZuT+amZmZmZnJP5qZmZmZmck/mpmZmZmZuT+amZmZmZm5P5qZmZmZmck/mpmZmZmZ2T+amZmZmZnZPzMzMzMzM9M/MzMzMzMz0z8zMzMzMzPTP5qZmZmZmck/mpmZmZmZ2T+amZmZmZnJPwAAAAAAAOA/mpmZmZmZyT+amZmZmZnJP5qZmZmZmdk/mpmZmZmZyT+amZmZmZnJP5qZmZmZmck/mpmZmZmZyT+amZmZmZnZP5qZmZmZmbk/mpmZmZmZyT+amZmZmZnJP5qZmZmZmck/mpmZmZmZyT+amZmZmZm5P5qZmZmZmck/mpmZmZmZyT8zMzMzMzPTPzMzMzMzM9M/mpmZmZmZyT8zMzMzMzPjP5qZmZmZmdk/MzMzMzMz0z+amZmZmZnJP5qZmZmZmck/mpmZmZmZyT+amZmZmZnJP2ZmZmZmZvY/AAAAAAAA+D8AAAAAAAD4P83MzMzMzPQ/AAAAAAAA+D/NzMzMzMz0P5qZmZmZmfk/AAAAAAAA8D/NzMzMzMz0P2ZmZmZmZvY/AAAAAAAA8D8AAAAAAAD4PwAAAAAAAPA/ZmZmZmZm9j/NzMzMzMz0P2ZmZmZmZvY/AAAAAAAA+D8AAAAAAADwPwAAAAAAAPg/mpmZmZmZ8T/NzMzMzMz8P83MzMzMzPQ/AAAAAAAA+D8zMzMzMzPzP83MzMzMzPQ/ZmZmZmZm9j9mZmZmZmb2PzMzMzMzM/s/AAAAAAAA+D8AAAAAAADwP5qZmZmZmfE/AAAAAAAA8D8zMzMzMzPzP5qZmZmZmfk/AAAAAAAA+D+amZmZmZn5PwAAAAAAAPg/zczMzMzM9D/NzMzMzMz0P83MzMzMzPQ/MzMzMzMz8z9mZmZmZmb2PzMzMzMzM/M/AAAAAAAA8D/NzMzMzMz0PzMzMzMzM/M/zczMzMzM9D/NzMzMzMz0P5qZmZmZmfE/zczMzMzM9D8AAAAAAAAEQGZmZmZmZv4/zczMzMzMAEDNzMzMzMz8P5qZmZmZmQFAzczMzMzMAEAzMzMzMzP7P83MzMzMzPw/zczMzMzM/D8AAAAAAAAEQAAAAAAAAABAZmZmZmZm/j/NzMzMzMwAQAAAAAAAAABAMzMzMzMzA0BmZmZmZmYCQM3MzMzMzPw/mpmZmZmZAUBmZmZmZmYCQAAAAAAAAPg/ZmZmZmZmAkAAAAAAAAAAQAAAAAAAAABAzczMzMzM/D/NzMzMzMwAQM3MzMzMzPw/zczMzMzM/D/NzMzMzMz8P83MzMzMzABAmpmZmZmZ+T9mZmZmZmb+PwAAAAAAAABAmpmZmZmZAUAAAAAAAAD4P2ZmZmZmZvY/ZmZmZmZmAkAzMzMzMzMDQM3MzMzMzPw/zczMzMzM/D/NzMzMzMwAQDMzMzMzMwNAZmZmZmZmAkBmZmZmZmb+P2ZmZmZmZgJAAAAAAAAABEBmZmZmZmYCQGZmZmZmZv4/AAAAAAAAAEBmZmZmZmYCQM3MzMzMzPw/\",\"dtype\":\"float64\",\"shape\":[150]},\"sepal_length\":{\"__ndarray__\":\"ZmZmZmZmFECamZmZmZkTQM3MzMzMzBJAZmZmZmZmEkAAAAAAAAAUQJqZmZmZmRVAZmZmZmZmEkAAAAAAAAAUQJqZmZmZmRFAmpmZmZmZE0CamZmZmZkVQDMzMzMzMxNAMzMzMzMzE0AzMzMzMzMRQDMzMzMzMxdAzczMzMzMFkCamZmZmZkVQGZmZmZmZhRAzczMzMzMFkBmZmZmZmYUQJqZmZmZmRVAZmZmZmZmFEBmZmZmZmYSQGZmZmZmZhRAMzMzMzMzE0AAAAAAAAAUQAAAAAAAABRAzczMzMzMFEDNzMzMzMwUQM3MzMzMzBJAMzMzMzMzE0CamZmZmZkVQM3MzMzMzBRAAAAAAAAAFkCamZmZmZkTQAAAAAAAABRAAAAAAAAAFkCamZmZmZkTQJqZmZmZmRFAZmZmZmZmFEAAAAAAAAAUQAAAAAAAABJAmpmZmZmZEUAAAAAAAAAUQGZmZmZmZhRAMzMzMzMzE0BmZmZmZmYUQGZmZmZmZhJAMzMzMzMzFUAAAAAAAAAUQAAAAAAAABxAmpmZmZmZGUCamZmZmZkbQAAAAAAAABZAAAAAAAAAGkDNzMzMzMwWQDMzMzMzMxlAmpmZmZmZE0BmZmZmZmYaQM3MzMzMzBRAAAAAAAAAFECamZmZmZkXQAAAAAAAABhAZmZmZmZmGEBmZmZmZmYWQM3MzMzMzBpAZmZmZmZmFkAzMzMzMzMXQM3MzMzMzBhAZmZmZmZmFkCamZmZmZkXQGZmZmZmZhhAMzMzMzMzGUBmZmZmZmYYQJqZmZmZmRlAZmZmZmZmGkAzMzMzMzMbQM3MzMzMzBpAAAAAAAAAGEDNzMzMzMwWQAAAAAAAABZAAAAAAAAAFkAzMzMzMzMXQAAAAAAAABhAmpmZmZmZFUAAAAAAAAAYQM3MzMzMzBpAMzMzMzMzGUBmZmZmZmYWQAAAAAAAABZAAAAAAAAAFkBmZmZmZmYYQDMzMzMzMxdAAAAAAAAAFEBmZmZmZmYWQM3MzMzMzBZAzczMzMzMFkDNzMzMzMwYQGZmZmZmZhRAzczMzMzMFkAzMzMzMzMZQDMzMzMzMxdAZmZmZmZmHEAzMzMzMzMZQAAAAAAAABpAZmZmZmZmHkCamZmZmZkTQDMzMzMzMx1AzczMzMzMGkDNzMzMzMwcQAAAAAAAABpAmpmZmZmZGUAzMzMzMzMbQM3MzMzMzBZAMzMzMzMzF0CamZmZmZkZQAAAAAAAABpAzczMzMzMHkDNzMzMzMweQAAAAAAAABhAmpmZmZmZG0BmZmZmZmYWQM3MzMzMzB5AMzMzMzMzGUDNzMzMzMwaQM3MzMzMzBxAzczMzMzMGEBmZmZmZmYYQJqZmZmZmRlAzczMzMzMHECamZmZmZkdQJqZmZmZmR9AmpmZmZmZGUAzMzMzMzMZQGZmZmZmZhhAzczMzMzMHkAzMzMzMzMZQJqZmZmZmRlAAAAAAAAAGECamZmZmZkbQM3MzMzMzBpAmpmZmZmZG0AzMzMzMzMXQDMzMzMzMxtAzczMzMzMGkDNzMzMzMwaQDMzMzMzMxlAAAAAAAAAGkDNzMzMzMwYQJqZmZmZmRdA\",\"dtype\":\"float64\",\"shape\":[150]},\"sepal_width\":{\"__ndarray__\":\"AAAAAAAADEAAAAAAAAAIQJqZmZmZmQlAzczMzMzMCEDNzMzMzMwMQDMzMzMzMw9AMzMzMzMzC0AzMzMzMzMLQDMzMzMzMwdAzczMzMzMCECamZmZmZkNQDMzMzMzMwtAAAAAAAAACEAAAAAAAAAIQAAAAAAAABBAmpmZmZmZEUAzMzMzMzMPQAAAAAAAAAxAZmZmZmZmDkBmZmZmZmYOQDMzMzMzMwtAmpmZmZmZDUDNzMzMzMwMQGZmZmZmZgpAMzMzMzMzC0AAAAAAAAAIQDMzMzMzMwtAAAAAAAAADEAzMzMzMzMLQJqZmZmZmQlAzczMzMzMCEAzMzMzMzMLQGZmZmZmZhBAzczMzMzMEEDNzMzMzMwIQJqZmZmZmQlAAAAAAAAADEDNzMzMzMwMQAAAAAAAAAhAMzMzMzMzC0AAAAAAAAAMQGZmZmZmZgJAmpmZmZmZCUAAAAAAAAAMQGZmZmZmZg5AAAAAAAAACEBmZmZmZmYOQJqZmZmZmQlAmpmZmZmZDUBmZmZmZmYKQJqZmZmZmQlAmpmZmZmZCUDNzMzMzMwIQGZmZmZmZgJAZmZmZmZmBkBmZmZmZmYGQGZmZmZmZgpAMzMzMzMzA0AzMzMzMzMHQJqZmZmZmQVAAAAAAAAAAEAAAAAAAAAIQJqZmZmZmQFAMzMzMzMzB0AzMzMzMzMHQM3MzMzMzAhAAAAAAAAACECamZmZmZkFQJqZmZmZmQFAAAAAAAAABECamZmZmZkJQGZmZmZmZgZAAAAAAAAABEBmZmZmZmYGQDMzMzMzMwdAAAAAAAAACEBmZmZmZmYGQAAAAAAAAAhAMzMzMzMzB0DNzMzMzMwEQDMzMzMzMwNAMzMzMzMzA0CamZmZmZkFQJqZmZmZmQVAAAAAAAAACEAzMzMzMzMLQM3MzMzMzAhAZmZmZmZmAkAAAAAAAAAIQAAAAAAAAARAzczMzMzMBEAAAAAAAAAIQM3MzMzMzARAZmZmZmZmAkCamZmZmZkFQAAAAAAAAAhAMzMzMzMzB0AzMzMzMzMHQAAAAAAAAARAZmZmZmZmBkBmZmZmZmYKQJqZmZmZmQVAAAAAAAAACEAzMzMzMzMHQAAAAAAAAAhAAAAAAAAACEAAAAAAAAAEQDMzMzMzMwdAAAAAAAAABEDNzMzMzMwMQJqZmZmZmQlAmpmZmZmZBUAAAAAAAAAIQAAAAAAAAARAZmZmZmZmBkCamZmZmZkJQAAAAAAAAAhAZmZmZmZmDkDNzMzMzMwEQJqZmZmZmQFAmpmZmZmZCUBmZmZmZmYGQGZmZmZmZgZAmpmZmZmZBUBmZmZmZmYKQJqZmZmZmQlAZmZmZmZmBkAAAAAAAAAIQGZmZmZmZgZAAAAAAAAACEBmZmZmZmYGQGZmZmZmZg5AZmZmZmZmBkBmZmZmZmYGQM3MzMzMzARAAAAAAAAACEAzMzMzMzMLQM3MzMzMzAhAAAAAAAAACEDNzMzMzMwIQM3MzMzMzAhAzczMzMzMCECamZmZmZkFQJqZmZmZmQlAZmZmZmZmCkAAAAAAAAAIQAAAAAAAAARAAAAAAAAACEAzMzMzMzMLQAAAAAAAAAhA\",\"dtype\":\"float64\",\"shape\":[150]},\"species\":[\"setosa\",\"setosa\",\"setosa\",\"setosa\",\"setosa\",\"setosa\",\"setosa\",\"setosa\",\"setosa\",\"setosa\",\"setosa\",\"setosa\",\"setosa\",\"setosa\",\"setosa\",\"setosa\",\"setosa\",\"setosa\",\"setosa\",\"setosa\",\"setosa\",\"setosa\",\"setosa\",\"setosa\",\"setosa\",\"setosa\",\"setosa\",\"setosa\",\"setosa\",\"setosa\",\"setosa\",\"setosa\",\"setosa\",\"setosa\",\"setosa\",\"setosa\",\"setosa\",\"setosa\",\"setosa\",\"setosa\",\"setosa\",\"setosa\",\"setosa\",\"setosa\",\"setosa\",\"setosa\",\"setosa\",\"setosa\",\"setosa\",\"setosa\",\"versicolor\",\"versicolor\",\"versicolor\",\"versicolor\",\"versicolor\",\"versicolor\",\"versicolor\",\"versicolor\",\"versicolor\",\"versicolor\",\"versicolor\",\"versicolor\",\"versicolor\",\"versicolor\",\"versicolor\",\"versicolor\",\"versicolor\",\"versicolor\",\"versicolor\",\"versicolor\",\"versicolor\",\"versicolor\",\"versicolor\",\"versicolor\",\"versicolor\",\"versicolor\",\"versicolor\",\"versicolor\",\"versicolor\",\"versicolor\",\"versicolor\",\"versicolor\",\"versicolor\",\"versicolor\",\"versicolor\",\"versicolor\",\"versicolor\",\"versicolor\",\"versicolor\",\"versicolor\",\"versicolor\",\"versicolor\",\"versicolor\",\"versicolor\",\"versicolor\",\"versicolor\",\"versicolor\",\"versicolor\",\"versicolor\",\"versicolor\",\"virginica\",\"virginica\",\"virginica\",\"virginica\",\"virginica\",\"virginica\",\"virginica\",\"virginica\",\"virginica\",\"virginica\",\"virginica\",\"virginica\",\"virginica\",\"virginica\",\"virginica\",\"virginica\",\"virginica\",\"virginica\",\"virginica\",\"virginica\",\"virginica\",\"virginica\",\"virginica\",\"virginica\",\"virginica\",\"virginica\",\"virginica\",\"virginica\",\"virginica\",\"virginica\",\"virginica\",\"virginica\",\"virginica\",\"virginica\",\"virginica\",\"virginica\",\"virginica\",\"virginica\",\"virginica\",\"virginica\",\"virginica\",\"virginica\",\"virginica\",\"virginica\",\"virginica\",\"virginica\",\"virginica\",\"virginica\",\"virginica\",\"virginica\"]}},\"id\":\"59601530-d68e-479e-b498-9069afc6db56\",\"type\":\"ColumnDataSource\"},{\"attributes\":{},\"id\":\"c1f19999-2557-41df-a4bc-692ec51d2418\",\"type\":\"PanTool\"},{\"attributes\":{\"children\":[{\"id\":\"24db6cd6-889e-47f2-bb67-963801be433b\",\"subtype\":\"Figure\",\"type\":\"Plot\"},{\"id\":\"0b9ab3d2-e244-4406-8732-d7c5fe3db9e1\",\"subtype\":\"Figure\",\"type\":\"Plot\"}]},\"id\":\"c841b1c0-9945-411a-850c-b7b71eeaf8b5\",\"type\":\"Column\"},{\"attributes\":{},\"id\":\"290fbb43-6aba-40d8-b9cd-61f7d3942a2e\",\"type\":\"WheelZoomTool\"},{\"attributes\":{\"children\":[{\"id\":\"c841b1c0-9945-411a-850c-b7b71eeaf8b5\",\"type\":\"Column\"},{\"id\":\"fdaec900-295b-47b2-b00e-13621d4db9e6\",\"subtype\":\"Figure\",\"type\":\"Plot\"}]},\"id\":\"57a1221c-59ce-4419-b3fc-a246e0950062\",\"type\":\"Row\"},{\"attributes\":{\"overlay\":{\"id\":\"187e010e-3bc1-43b7-b6b1-de7db234ed31\",\"type\":\"BoxAnnotation\"}},\"id\":\"909b7ec8-ce6e-4f4a-83bf-47e17d40a7c8\",\"type\":\"BoxZoomTool\"},{\"attributes\":{},\"id\":\"1b8b83c6-3ff9-4c80-9bdd-f9b4a8e66292\",\"type\":\"SaveTool\"},{\"attributes\":{\"plot\":null,\"text\":\"petal lenght vs. sepal lenght\"},\"id\":\"9de53d69-1191-4679-8ec2-8d1059da4ef5\",\"type\":\"Title\"},{\"attributes\":{},\"id\":\"c50ba461-d2e0-4648-8fe0-a8643bfae09c\",\"type\":\"ResetTool\"},{\"attributes\":{},\"id\":\"6e0dfae3-a8a6-45c3-a10f-def02667ce94\",\"type\":\"HelpTool\"},{\"attributes\":{\"source\":{\"id\":\"c3562e53-35e0-4ade-b24a-deea9287b7df\",\"type\":\"ColumnDataSource\"}},\"id\":\"74d468ac-7e1c-4f0e-8c18-63c6ada5a2b6\",\"type\":\"CDSView\"},{\"attributes\":{},\"id\":\"ca8a92f9-d5f2-44e9-a284-525af29bcc1d\",\"type\":\"BasicTickFormatter\"},{\"attributes\":{},\"id\":\"c29dc50e-8f29-4f84-b454-b7b4bdc83663\",\"type\":\"BasicTickFormatter\"},{\"attributes\":{\"data_source\":{\"id\":\"c3562e53-35e0-4ade-b24a-deea9287b7df\",\"type\":\"ColumnDataSource\"},\"glyph\":{\"id\":\"f99e50fa-4020-40fa-a4d1-0caf552659ae\",\"type\":\"Square\"},\"hover_glyph\":null,\"muted_glyph\":null,\"nonselection_glyph\":{\"id\":\"2bcaa545-4c5a-4e04-86a6-331aedf0008f\",\"type\":\"Square\"},\"selection_glyph\":null,\"view\":{\"id\":\"74d468ac-7e1c-4f0e-8c18-63c6ada5a2b6\",\"type\":\"CDSView\"}},\"id\":\"bb2eb9f9-e608-4001-8df9-a94854da16cd\",\"type\":\"GlyphRenderer\"},{\"attributes\":{\"callback\":null},\"id\":\"91ad912b-c4d5-4667-afa1-4a04ebfdd9f3\",\"type\":\"DataRange1d\"},{\"attributes\":{\"callback\":null},\"id\":\"d1e5df24-c1cb-4251-b10f-b78622e97011\",\"type\":\"DataRange1d\"},{\"attributes\":{\"fill_alpha\":{\"value\":0.1},\"fill_color\":{\"value\":\"#1f77b4\"},\"line_alpha\":{\"value\":0.1},\"line_color\":{\"value\":\"#1f77b4\"},\"x\":{\"field\":\"petal_length\"},\"y\":{\"field\":\"sepal_width\"}},\"id\":\"2bcaa545-4c5a-4e04-86a6-331aedf0008f\",\"type\":\"Square\"},{\"attributes\":{},\"id\":\"893c9a21-eac0-48f5-83bc-8c3bb25d0c6f\",\"type\":\"LinearScale\"},{\"attributes\":{\"active_drag\":\"auto\",\"active_inspect\":\"auto\",\"active_scroll\":\"auto\",\"active_tap\":\"auto\",\"tools\":[{\"id\":\"b12bf3bf-ae3c-4f9e-9d95-90b02378879e\",\"type\":\"PanTool\"},{\"id\":\"214ba040-8d8f-4fb8-8c68-a29b56e0851f\",\"type\":\"WheelZoomTool\"},{\"id\":\"7b201172-f985-4aeb-8adc-ce05daecac64\",\"type\":\"BoxZoomTool\"},{\"id\":\"0f10fb74-d623-42a0-88b6-b8a6d24f7e19\",\"type\":\"SaveTool\"},{\"id\":\"4eeabe7c-ecb9-4897-a2d6-bfcea38efeea\",\"type\":\"ResetTool\"},{\"id\":\"a154a9f2-dc28-4bc8-8386-cc8e4b10eef8\",\"type\":\"HelpTool\"}]},\"id\":\"62794a98-815d-4371-af30-b1d886bd620b\",\"type\":\"Toolbar\"},{\"attributes\":{},\"id\":\"9566ffc3-3a1d-434d-8419-be8e47fa6f3b\",\"type\":\"LinearScale\"},{\"attributes\":{\"plot\":{\"id\":\"fdaec900-295b-47b2-b00e-13621d4db9e6\",\"subtype\":\"Figure\",\"type\":\"Plot\"},\"ticker\":{\"id\":\"1aba3deb-5930-45d5-bbaa-6c7db54dba88\",\"type\":\"BasicTicker\"}},\"id\":\"e7e2406d-00b8-4cee-90ae-439c659bc26f\",\"type\":\"Grid\"},{\"attributes\":{\"formatter\":{\"id\":\"56d939a9-317d-4937-941a-9c56cdf64857\",\"type\":\"BasicTickFormatter\"},\"plot\":{\"id\":\"fdaec900-295b-47b2-b00e-13621d4db9e6\",\"subtype\":\"Figure\",\"type\":\"Plot\"},\"ticker\":{\"id\":\"1aba3deb-5930-45d5-bbaa-6c7db54dba88\",\"type\":\"BasicTicker\"}},\"id\":\"4be84d64-f1e9-445e-b324-dde5693ec065\",\"type\":\"LinearAxis\"},{\"attributes\":{},\"id\":\"1aba3deb-5930-45d5-bbaa-6c7db54dba88\",\"type\":\"BasicTicker\"},{\"attributes\":{\"formatter\":{\"id\":\"2ee2f36a-8c60-42b0-8876-140fcd0303ec\",\"type\":\"BasicTickFormatter\"},\"plot\":{\"id\":\"fdaec900-295b-47b2-b00e-13621d4db9e6\",\"subtype\":\"Figure\",\"type\":\"Plot\"},\"ticker\":{\"id\":\"0de935b8-5821-49af-98b3-3ea3624266d9\",\"type\":\"BasicTicker\"}},\"id\":\"476062bc-b737-4214-a1a6-8647ed18aee4\",\"type\":\"LinearAxis\"},{\"attributes\":{},\"id\":\"0de935b8-5821-49af-98b3-3ea3624266d9\",\"type\":\"BasicTicker\"},{\"attributes\":{\"dimension\":1,\"plot\":{\"id\":\"fdaec900-295b-47b2-b00e-13621d4db9e6\",\"subtype\":\"Figure\",\"type\":\"Plot\"},\"ticker\":{\"id\":\"0de935b8-5821-49af-98b3-3ea3624266d9\",\"type\":\"BasicTicker\"}},\"id\":\"c0bc3cca-74c2-4f24-af7f-3eff19d4284e\",\"type\":\"Grid\"},{\"attributes\":{\"fill_alpha\":{\"value\":0.1},\"fill_color\":{\"value\":\"#1f77b4\"},\"line_alpha\":{\"value\":0.1},\"line_color\":{\"value\":\"#1f77b4\"},\"x\":{\"field\":\"petal_length\"},\"y\":{\"field\":\"sepal_length\"}},\"id\":\"a25fd5ee-0650-4d37-a7e1-15064a258219\",\"type\":\"Circle\"},{\"attributes\":{\"data_source\":{\"id\":\"2957709d-fa63-40c4-a4c4-3f0489d1b913\",\"type\":\"ColumnDataSource\"},\"glyph\":{\"id\":\"3f609fce-1c20-41b2-abb3-8df6b28c5375\",\"type\":\"Diamond\"},\"hover_glyph\":null,\"muted_glyph\":null,\"nonselection_glyph\":{\"id\":\"f4cc7383-d2fd-4c1c-9744-b54109e5a7cd\",\"type\":\"Diamond\"},\"selection_glyph\":null,\"view\":{\"id\":\"6777607e-6743-4a4d-b773-a8bbcd2e3b28\",\"type\":\"CDSView\"}},\"id\":\"c8a88e97-9889-41af-b806-4f5d616bdb32\",\"type\":\"GlyphRenderer\"},{\"attributes\":{\"callback\":null,\"column_names\":[\"sepal_length\",\"sepal_width\",\"petal_length\",\"petal_width\",\"species\",\"index\"],\"data\":{\"index\":[0,1,2,3,4,5,6,7,8,9,10,11,12,13,14,15,16,17,18,19,20,21,22,23,24,25,26,27,28,29,30,31,32,33,34,35,36,37,38,39,40,41,42,43,44,45,46,47,48,49,50,51,52,53,54,55,56,57,58,59,60,61,62,63,64,65,66,67,68,69,70,71,72,73,74,75,76,77,78,79,80,81,82,83,84,85,86,87,88,89,90,91,92,93,94,95,96,97,98,99,100,101,102,103,104,105,106,107,108,109,110,111,112,113,114,115,116,117,118,119,120,121,122,123,124,125,126,127,128,129,130,131,132,133,134,135,136,137,138,139,140,141,142,143,144,145,146,147,148,149],\"petal_length\":{\"__ndarray__\":\"ZmZmZmZm9j9mZmZmZmb2P83MzMzMzPQ/AAAAAAAA+D9mZmZmZmb2PzMzMzMzM/s/ZmZmZmZm9j8AAAAAAAD4P2ZmZmZmZvY/AAAAAAAA+D8AAAAAAAD4P5qZmZmZmfk/ZmZmZmZm9j+amZmZmZnxPzMzMzMzM/M/AAAAAAAA+D/NzMzMzMz0P2ZmZmZmZvY/MzMzMzMz+z8AAAAAAAD4PzMzMzMzM/s/AAAAAAAA+D8AAAAAAADwPzMzMzMzM/s/ZmZmZmZm/j+amZmZmZn5P5qZmZmZmfk/AAAAAAAA+D9mZmZmZmb2P5qZmZmZmfk/mpmZmZmZ+T8AAAAAAAD4PwAAAAAAAPg/ZmZmZmZm9j8AAAAAAAD4PzMzMzMzM/M/zczMzMzM9D9mZmZmZmb2P83MzMzMzPQ/AAAAAAAA+D/NzMzMzMz0P83MzMzMzPQ/zczMzMzM9D+amZmZmZn5P2ZmZmZmZv4/ZmZmZmZm9j+amZmZmZn5P2ZmZmZmZvY/AAAAAAAA+D9mZmZmZmb2P83MzMzMzBJAAAAAAAAAEkCamZmZmZkTQAAAAAAAABBAZmZmZmZmEkAAAAAAAAASQM3MzMzMzBJAZmZmZmZmCkBmZmZmZmYSQDMzMzMzMw9AAAAAAAAADEDNzMzMzMwQQAAAAAAAABBAzczMzMzMEkDNzMzMzMwMQJqZmZmZmRFAAAAAAAAAEkBmZmZmZmYQQAAAAAAAABJAMzMzMzMzD0AzMzMzMzMTQAAAAAAAABBAmpmZmZmZE0DNzMzMzMwSQDMzMzMzMxFAmpmZmZmZEUAzMzMzMzMTQAAAAAAAABRAAAAAAAAAEkAAAAAAAAAMQGZmZmZmZg5AmpmZmZmZDUAzMzMzMzMPQGZmZmZmZhRAAAAAAAAAEkAAAAAAAAASQM3MzMzMzBJAmpmZmZmZEUBmZmZmZmYQQAAAAAAAABBAmpmZmZmZEUBmZmZmZmYSQAAAAAAAABBAZmZmZmZmCkDNzMzMzMwQQM3MzMzMzBBAzczMzMzMEEAzMzMzMzMRQAAAAAAAAAhAZmZmZmZmEEAAAAAAAAAYQGZmZmZmZhRAmpmZmZmZF0BmZmZmZmYWQDMzMzMzMxdAZmZmZmZmGkAAAAAAAAASQDMzMzMzMxlAMzMzMzMzF0BmZmZmZmYYQGZmZmZmZhRAMzMzMzMzFUAAAAAAAAAWQAAAAAAAABRAZmZmZmZmFEAzMzMzMzMVQAAAAAAAABZAzczMzMzMGkCamZmZmZkbQAAAAAAAABRAzczMzMzMFkCamZmZmZkTQM3MzMzMzBpAmpmZmZmZE0DNzMzMzMwWQAAAAAAAABhAMzMzMzMzE0CamZmZmZkTQGZmZmZmZhZAMzMzMzMzF0BmZmZmZmYYQJqZmZmZmRlAZmZmZmZmFkBmZmZmZmYUQGZmZmZmZhZAZmZmZmZmGEBmZmZmZmYWQAAAAAAAABZAMzMzMzMzE0CamZmZmZkVQGZmZmZmZhZAZmZmZmZmFEBmZmZmZmYUQJqZmZmZmRdAzczMzMzMFkDNzMzMzMwUQAAAAAAAABRAzczMzMzMFECamZmZmZkVQGZmZmZmZhRA\",\"dtype\":\"float64\",\"shape\":[150]},\"petal_width\":{\"__ndarray__\":\"mpmZmZmZyT+amZmZmZnJP5qZmZmZmck/mpmZmZmZyT+amZmZmZnJP5qZmZmZmdk/MzMzMzMz0z+amZmZmZnJP5qZmZmZmck/mpmZmZmZuT+amZmZmZnJP5qZmZmZmck/mpmZmZmZuT+amZmZmZm5P5qZmZmZmck/mpmZmZmZ2T+amZmZmZnZPzMzMzMzM9M/MzMzMzMz0z8zMzMzMzPTP5qZmZmZmck/mpmZmZmZ2T+amZmZmZnJPwAAAAAAAOA/mpmZmZmZyT+amZmZmZnJP5qZmZmZmdk/mpmZmZmZyT+amZmZmZnJP5qZmZmZmck/mpmZmZmZyT+amZmZmZnZP5qZmZmZmbk/mpmZmZmZyT+amZmZmZnJP5qZmZmZmck/mpmZmZmZyT+amZmZmZm5P5qZmZmZmck/mpmZmZmZyT8zMzMzMzPTPzMzMzMzM9M/mpmZmZmZyT8zMzMzMzPjP5qZmZmZmdk/MzMzMzMz0z+amZmZmZnJP5qZmZmZmck/mpmZmZmZyT+amZmZmZnJP2ZmZmZmZvY/AAAAAAAA+D8AAAAAAAD4P83MzMzMzPQ/AAAAAAAA+D/NzMzMzMz0P5qZmZmZmfk/AAAAAAAA8D/NzMzMzMz0P2ZmZmZmZvY/AAAAAAAA8D8AAAAAAAD4PwAAAAAAAPA/ZmZmZmZm9j/NzMzMzMz0P2ZmZmZmZvY/AAAAAAAA+D8AAAAAAADwPwAAAAAAAPg/mpmZmZmZ8T/NzMzMzMz8P83MzMzMzPQ/AAAAAAAA+D8zMzMzMzPzP83MzMzMzPQ/ZmZmZmZm9j9mZmZmZmb2PzMzMzMzM/s/AAAAAAAA+D8AAAAAAADwP5qZmZmZmfE/AAAAAAAA8D8zMzMzMzPzP5qZmZmZmfk/AAAAAAAA+D+amZmZmZn5PwAAAAAAAPg/zczMzMzM9D/NzMzMzMz0P83MzMzMzPQ/MzMzMzMz8z9mZmZmZmb2PzMzMzMzM/M/AAAAAAAA8D/NzMzMzMz0PzMzMzMzM/M/zczMzMzM9D/NzMzMzMz0P5qZmZmZmfE/zczMzMzM9D8AAAAAAAAEQGZmZmZmZv4/zczMzMzMAEDNzMzMzMz8P5qZmZmZmQFAzczMzMzMAEAzMzMzMzP7P83MzMzMzPw/zczMzMzM/D8AAAAAAAAEQAAAAAAAAABAZmZmZmZm/j/NzMzMzMwAQAAAAAAAAABAMzMzMzMzA0BmZmZmZmYCQM3MzMzMzPw/mpmZmZmZAUBmZmZmZmYCQAAAAAAAAPg/ZmZmZmZmAkAAAAAAAAAAQAAAAAAAAABAzczMzMzM/D/NzMzMzMwAQM3MzMzMzPw/zczMzMzM/D/NzMzMzMz8P83MzMzMzABAmpmZmZmZ+T9mZmZmZmb+PwAAAAAAAABAmpmZmZmZAUAAAAAAAAD4P2ZmZmZmZvY/ZmZmZmZmAkAzMzMzMzMDQM3MzMzMzPw/zczMzMzM/D/NzMzMzMwAQDMzMzMzMwNAZmZmZmZmAkBmZmZmZmb+P2ZmZmZmZgJAAAAAAAAABEBmZmZmZmYCQGZmZmZmZv4/AAAAAAAAAEBmZmZmZmYCQM3MzMzMzPw/\",\"dtype\":\"float64\",\"shape\":[150]},\"sepal_length\":{\"__ndarray__\":\"ZmZmZmZmFECamZmZmZkTQM3MzMzMzBJAZmZmZmZmEkAAAAAAAAAUQJqZmZmZmRVAZmZmZmZmEkAAAAAAAAAUQJqZmZmZmRFAmpmZmZmZE0CamZmZmZkVQDMzMzMzMxNAMzMzMzMzE0AzMzMzMzMRQDMzMzMzMxdAzczMzMzMFkCamZmZmZkVQGZmZmZmZhRAzczMzMzMFkBmZmZmZmYUQJqZmZmZmRVAZmZmZmZmFEBmZmZmZmYSQGZmZmZmZhRAMzMzMzMzE0AAAAAAAAAUQAAAAAAAABRAzczMzMzMFEDNzMzMzMwUQM3MzMzMzBJAMzMzMzMzE0CamZmZmZkVQM3MzMzMzBRAAAAAAAAAFkCamZmZmZkTQAAAAAAAABRAAAAAAAAAFkCamZmZmZkTQJqZmZmZmRFAZmZmZmZmFEAAAAAAAAAUQAAAAAAAABJAmpmZmZmZEUAAAAAAAAAUQGZmZmZmZhRAMzMzMzMzE0BmZmZmZmYUQGZmZmZmZhJAMzMzMzMzFUAAAAAAAAAUQAAAAAAAABxAmpmZmZmZGUCamZmZmZkbQAAAAAAAABZAAAAAAAAAGkDNzMzMzMwWQDMzMzMzMxlAmpmZmZmZE0BmZmZmZmYaQM3MzMzMzBRAAAAAAAAAFECamZmZmZkXQAAAAAAAABhAZmZmZmZmGEBmZmZmZmYWQM3MzMzMzBpAZmZmZmZmFkAzMzMzMzMXQM3MzMzMzBhAZmZmZmZmFkCamZmZmZkXQGZmZmZmZhhAMzMzMzMzGUBmZmZmZmYYQJqZmZmZmRlAZmZmZmZmGkAzMzMzMzMbQM3MzMzMzBpAAAAAAAAAGEDNzMzMzMwWQAAAAAAAABZAAAAAAAAAFkAzMzMzMzMXQAAAAAAAABhAmpmZmZmZFUAAAAAAAAAYQM3MzMzMzBpAMzMzMzMzGUBmZmZmZmYWQAAAAAAAABZAAAAAAAAAFkBmZmZmZmYYQDMzMzMzMxdAAAAAAAAAFEBmZmZmZmYWQM3MzMzMzBZAzczMzMzMFkDNzMzMzMwYQGZmZmZmZhRAzczMzMzMFkAzMzMzMzMZQDMzMzMzMxdAZmZmZmZmHEAzMzMzMzMZQAAAAAAAABpAZmZmZmZmHkCamZmZmZkTQDMzMzMzMx1AzczMzMzMGkDNzMzMzMwcQAAAAAAAABpAmpmZmZmZGUAzMzMzMzMbQM3MzMzMzBZAMzMzMzMzF0CamZmZmZkZQAAAAAAAABpAzczMzMzMHkDNzMzMzMweQAAAAAAAABhAmpmZmZmZG0BmZmZmZmYWQM3MzMzMzB5AMzMzMzMzGUDNzMzMzMwaQM3MzMzMzBxAzczMzMzMGEBmZmZmZmYYQJqZmZmZmRlAzczMzMzMHECamZmZmZkdQJqZmZmZmR9AmpmZmZmZGUAzMzMzMzMZQGZmZmZmZhhAzczMzMzMHkAzMzMzMzMZQJqZmZmZmRlAAAAAAAAAGECamZmZmZkbQM3MzMzMzBpAmpmZmZmZG0AzMzMzMzMXQDMzMzMzMxtAzczMzMzMGkDNzMzMzMwaQDMzMzMzMxlAAAAAAAAAGkDNzMzMzMwYQJqZmZmZmRdA\",\"dtype\":\"float64\",\"shape\":[150]},\"sepal_width\":{\"__ndarray__\":\"AAAAAAAADEAAAAAAAAAIQJqZmZmZmQlAzczMzMzMCEDNzMzMzMwMQDMzMzMzMw9AMzMzMzMzC0AzMzMzMzMLQDMzMzMzMwdAzczMzMzMCECamZmZmZkNQDMzMzMzMwtAAAAAAAAACEAAAAAAAAAIQAAAAAAAABBAmpmZmZmZEUAzMzMzMzMPQAAAAAAAAAxAZmZmZmZmDkBmZmZmZmYOQDMzMzMzMwtAmpmZmZmZDUDNzMzMzMwMQGZmZmZmZgpAMzMzMzMzC0AAAAAAAAAIQDMzMzMzMwtAAAAAAAAADEAzMzMzMzMLQJqZmZmZmQlAzczMzMzMCEAzMzMzMzMLQGZmZmZmZhBAzczMzMzMEEDNzMzMzMwIQJqZmZmZmQlAAAAAAAAADEDNzMzMzMwMQAAAAAAAAAhAMzMzMzMzC0AAAAAAAAAMQGZmZmZmZgJAmpmZmZmZCUAAAAAAAAAMQGZmZmZmZg5AAAAAAAAACEBmZmZmZmYOQJqZmZmZmQlAmpmZmZmZDUBmZmZmZmYKQJqZmZmZmQlAmpmZmZmZCUDNzMzMzMwIQGZmZmZmZgJAZmZmZmZmBkBmZmZmZmYGQGZmZmZmZgpAMzMzMzMzA0AzMzMzMzMHQJqZmZmZmQVAAAAAAAAAAEAAAAAAAAAIQJqZmZmZmQFAMzMzMzMzB0AzMzMzMzMHQM3MzMzMzAhAAAAAAAAACECamZmZmZkFQJqZmZmZmQFAAAAAAAAABECamZmZmZkJQGZmZmZmZgZAAAAAAAAABEBmZmZmZmYGQDMzMzMzMwdAAAAAAAAACEBmZmZmZmYGQAAAAAAAAAhAMzMzMzMzB0DNzMzMzMwEQDMzMzMzMwNAMzMzMzMzA0CamZmZmZkFQJqZmZmZmQVAAAAAAAAACEAzMzMzMzMLQM3MzMzMzAhAZmZmZmZmAkAAAAAAAAAIQAAAAAAAAARAzczMzMzMBEAAAAAAAAAIQM3MzMzMzARAZmZmZmZmAkCamZmZmZkFQAAAAAAAAAhAMzMzMzMzB0AzMzMzMzMHQAAAAAAAAARAZmZmZmZmBkBmZmZmZmYKQJqZmZmZmQVAAAAAAAAACEAzMzMzMzMHQAAAAAAAAAhAAAAAAAAACEAAAAAAAAAEQDMzMzMzMwdAAAAAAAAABEDNzMzMzMwMQJqZmZmZmQlAmpmZmZmZBUAAAAAAAAAIQAAAAAAAAARAZmZmZmZmBkCamZmZmZkJQAAAAAAAAAhAZmZmZmZmDkDNzMzMzMwEQJqZmZmZmQFAmpmZmZmZCUBmZmZmZmYGQGZmZmZmZgZAmpmZmZmZBUBmZmZmZmYKQJqZmZmZmQlAZmZmZmZmBkAAAAAAAAAIQGZmZmZmZgZAAAAAAAAACEBmZmZmZmYGQGZmZmZmZg5AZmZmZmZmBkBmZmZmZmYGQM3MzMzMzARAAAAAAAAACEAzMzMzMzMLQM3MzMzMzAhAAAAAAAAACEDNzMzMzMwIQM3MzMzMzAhAzczMzMzMCECamZmZmZkFQJqZmZmZmQlAZmZmZmZmCkAAAAAAAAAIQAAAAAAAAARAAAAAAAAACEAzMzMzMzMLQAAAAAAAAAhA\",\"dtype\":\"float64\",\"shape\":[150]},\"species\":[\"setosa\",\"setosa\",\"setosa\",\"setosa\",\"setosa\",\"setosa\",\"setosa\",\"setosa\",\"setosa\",\"setosa\",\"setosa\",\"setosa\",\"setosa\",\"setosa\",\"setosa\",\"setosa\",\"setosa\",\"setosa\",\"setosa\",\"setosa\",\"setosa\",\"setosa\",\"setosa\",\"setosa\",\"setosa\",\"setosa\",\"setosa\",\"setosa\",\"setosa\",\"setosa\",\"setosa\",\"setosa\",\"setosa\",\"setosa\",\"setosa\",\"setosa\",\"setosa\",\"setosa\",\"setosa\",\"setosa\",\"setosa\",\"setosa\",\"setosa\",\"setosa\",\"setosa\",\"setosa\",\"setosa\",\"setosa\",\"setosa\",\"setosa\",\"versicolor\",\"versicolor\",\"versicolor\",\"versicolor\",\"versicolor\",\"versicolor\",\"versicolor\",\"versicolor\",\"versicolor\",\"versicolor\",\"versicolor\",\"versicolor\",\"versicolor\",\"versicolor\",\"versicolor\",\"versicolor\",\"versicolor\",\"versicolor\",\"versicolor\",\"versicolor\",\"versicolor\",\"versicolor\",\"versicolor\",\"versicolor\",\"versicolor\",\"versicolor\",\"versicolor\",\"versicolor\",\"versicolor\",\"versicolor\",\"versicolor\",\"versicolor\",\"versicolor\",\"versicolor\",\"versicolor\",\"versicolor\",\"versicolor\",\"versicolor\",\"versicolor\",\"versicolor\",\"versicolor\",\"versicolor\",\"versicolor\",\"versicolor\",\"versicolor\",\"versicolor\",\"versicolor\",\"versicolor\",\"versicolor\",\"versicolor\",\"virginica\",\"virginica\",\"virginica\",\"virginica\",\"virginica\",\"virginica\",\"virginica\",\"virginica\",\"virginica\",\"virginica\",\"virginica\",\"virginica\",\"virginica\",\"virginica\",\"virginica\",\"virginica\",\"virginica\",\"virginica\",\"virginica\",\"virginica\",\"virginica\",\"virginica\",\"virginica\",\"virginica\",\"virginica\",\"virginica\",\"virginica\",\"virginica\",\"virginica\",\"virginica\",\"virginica\",\"virginica\",\"virginica\",\"virginica\",\"virginica\",\"virginica\",\"virginica\",\"virginica\",\"virginica\",\"virginica\",\"virginica\",\"virginica\",\"virginica\",\"virginica\",\"virginica\",\"virginica\",\"virginica\",\"virginica\",\"virginica\",\"virginica\"]}},\"id\":\"2957709d-fa63-40c4-a4c4-3f0489d1b913\",\"type\":\"ColumnDataSource\"}],\"root_ids\":[\"57a1221c-59ce-4419-b3fc-a246e0950062\"]},\"title\":\"Bokeh Application\",\"version\":\"0.12.11\"}};\n",
       "    var render_items = [{\"docid\":\"c779658b-a095-406b-9949-6405c0f98cd9\",\"elementid\":\"613c989e-9aaf-47fe-a71e-5ca5a09fa7e9\",\"modelid\":\"57a1221c-59ce-4419-b3fc-a246e0950062\"}];\n",
       "    root.Bokeh.embed.embed_items(docs_json, render_items);\n",
       "  }\n",
       "  if (root.Bokeh !== undefined) {\n",
       "    embed_document(root);\n",
       "  } else {\n",
       "    var attempts = 0;\n",
       "    var timer = setInterval(function(root) {\n",
       "      if (root.Bokeh !== undefined) {\n",
       "        embed_document(root);\n",
       "        clearInterval(timer);\n",
       "      }\n",
       "      attempts++;\n",
       "      if (attempts > 100) {\n",
       "        console.log(\"Bokeh: ERROR: Unable to embed document because BokehJS library is missing\")\n",
       "        clearInterval(timer);\n",
       "      }\n",
       "    }, 10, root)\n",
       "  }\n",
       "})(window);"
      ],
      "application/vnd.bokehjs_exec.v0+json": ""
     },
     "metadata": {
      "application/vnd.bokehjs_exec.v0+json": {
       "id": "57a1221c-59ce-4419-b3fc-a246e0950062"
      }
     },
     "output_type": "display_data"
    }
   ],
   "source": [
    "# LAYOUT\n",
    "from bokeh.layouts import row, column\n",
    "layout = row(column(p1, p2),p3)\n",
    "show(layout)"
   ]
  },
  {
   "cell_type": "code",
   "execution_count": 4,
   "metadata": {},
   "outputs": [
    {
     "data": {
      "text/html": [
       "\n",
       "<div class=\"bk-root\">\n",
       "    <div class=\"bk-plotdiv\" id=\"65e4f911-b71b-4cd6-bfc1-ae05e22a38cb\"></div>\n",
       "</div>"
      ]
     },
     "metadata": {},
     "output_type": "display_data"
    },
    {
     "data": {
      "application/javascript": [
       "(function(root) {\n",
       "  function embed_document(root) {\n",
       "    var docs_json = {\"b11a9cb8-0a05-42db-9e4d-72d59b5d7a06\":{\"roots\":{\"references\":[{\"attributes\":{},\"id\":\"797fc9eb-0d8c-4e29-aa69-971cfee7c436\",\"type\":\"LinearScale\"},{\"attributes\":{\"bottom_units\":\"screen\",\"fill_alpha\":{\"value\":0.5},\"fill_color\":{\"value\":\"lightgrey\"},\"left_units\":\"screen\",\"level\":\"overlay\",\"line_alpha\":{\"value\":1.0},\"line_color\":{\"value\":\"black\"},\"line_dash\":[4,4],\"line_width\":{\"value\":2},\"plot\":null,\"render_mode\":\"css\",\"right_units\":\"screen\",\"top_units\":\"screen\"},\"id\":\"74dad0a7-ff01-43aa-ba17-774b10417013\",\"type\":\"BoxAnnotation\"},{\"attributes\":{},\"id\":\"06d15d90-681c-4279-82fa-12ed3759ee72\",\"type\":\"LinearScale\"},{\"attributes\":{},\"id\":\"b12bf3bf-ae3c-4f9e-9d95-90b02378879e\",\"type\":\"PanTool\"},{\"attributes\":{\"data_source\":{\"id\":\"59601530-d68e-479e-b498-9069afc6db56\",\"type\":\"ColumnDataSource\"},\"glyph\":{\"id\":\"e847e1a0-6e5a-4d2a-82c3-91c0d0430cb8\",\"type\":\"Circle\"},\"hover_glyph\":null,\"muted_glyph\":null,\"nonselection_glyph\":{\"id\":\"a25fd5ee-0650-4d37-a7e1-15064a258219\",\"type\":\"Circle\"},\"selection_glyph\":null,\"view\":{\"id\":\"401d08fd-c350-4031-8c3a-86023c0ee39a\",\"type\":\"CDSView\"}},\"id\":\"7ed37766-6335-45d7-8ca8-6a49eaa61755\",\"type\":\"GlyphRenderer\"},{\"attributes\":{},\"id\":\"214ba040-8d8f-4fb8-8c68-a29b56e0851f\",\"type\":\"WheelZoomTool\"},{\"attributes\":{\"source\":{\"id\":\"59601530-d68e-479e-b498-9069afc6db56\",\"type\":\"ColumnDataSource\"}},\"id\":\"401d08fd-c350-4031-8c3a-86023c0ee39a\",\"type\":\"CDSView\"},{\"attributes\":{\"overlay\":{\"id\":\"74dad0a7-ff01-43aa-ba17-774b10417013\",\"type\":\"BoxAnnotation\"}},\"id\":\"7b201172-f985-4aeb-8adc-ce05daecac64\",\"type\":\"BoxZoomTool\"},{\"attributes\":{\"children\":[{\"id\":\"0b9ab3d2-e244-4406-8732-d7c5fe3db9e1\",\"subtype\":\"Figure\",\"type\":\"Plot\"},{\"id\":\"fdaec900-295b-47b2-b00e-13621d4db9e6\",\"subtype\":\"Figure\",\"type\":\"Plot\"}]},\"id\":\"ee20454a-ad02-4b97-be37-92461df9840d\",\"type\":\"Row\"},{\"attributes\":{},\"id\":\"0f10fb74-d623-42a0-88b6-b8a6d24f7e19\",\"type\":\"SaveTool\"},{\"attributes\":{\"plot\":{\"id\":\"24db6cd6-889e-47f2-bb67-963801be433b\",\"subtype\":\"Figure\",\"type\":\"Plot\"},\"ticker\":{\"id\":\"fac388c3-b260-48c6-b164-429a0355355e\",\"type\":\"BasicTicker\"}},\"id\":\"0a248e5b-474a-4fb1-963b-ee311aef01c1\",\"type\":\"Grid\"},{\"attributes\":{\"height\":300,\"width\":300},\"id\":\"caaabfef-0cca-43f6-96d3-e8f793beedd3\",\"type\":\"Spacer\"},{\"attributes\":{},\"id\":\"4eeabe7c-ecb9-4897-a2d6-bfcea38efeea\",\"type\":\"ResetTool\"},{\"attributes\":{},\"id\":\"a154a9f2-dc28-4bc8-8386-cc8e4b10eef8\",\"type\":\"HelpTool\"},{\"attributes\":{\"formatter\":{\"id\":\"4eb11d5d-c459-49fd-93e4-d68d42eec319\",\"type\":\"BasicTickFormatter\"},\"plot\":{\"id\":\"24db6cd6-889e-47f2-bb67-963801be433b\",\"subtype\":\"Figure\",\"type\":\"Plot\"},\"ticker\":{\"id\":\"fac388c3-b260-48c6-b164-429a0355355e\",\"type\":\"BasicTicker\"}},\"id\":\"0ca41a1b-9155-46f7-98c3-278b68d5e97c\",\"type\":\"LinearAxis\"},{\"attributes\":{\"source\":{\"id\":\"2957709d-fa63-40c4-a4c4-3f0489d1b913\",\"type\":\"ColumnDataSource\"}},\"id\":\"6777607e-6743-4a4d-b773-a8bbcd2e3b28\",\"type\":\"CDSView\"},{\"attributes\":{},\"id\":\"fac388c3-b260-48c6-b164-429a0355355e\",\"type\":\"BasicTicker\"},{\"attributes\":{},\"id\":\"56d939a9-317d-4937-941a-9c56cdf64857\",\"type\":\"BasicTickFormatter\"},{\"attributes\":{\"formatter\":{\"id\":\"a5dd9e62-535e-46eb-b3a5-e5fa43b0b2a4\",\"type\":\"BasicTickFormatter\"},\"plot\":{\"id\":\"24db6cd6-889e-47f2-bb67-963801be433b\",\"subtype\":\"Figure\",\"type\":\"Plot\"},\"ticker\":{\"id\":\"5230e886-9fba-4a8f-b1d3-89d016bf2edc\",\"type\":\"BasicTicker\"}},\"id\":\"2fddae20-243c-4b9e-a4d5-132dff9b663e\",\"type\":\"LinearAxis\"},{\"attributes\":{},\"id\":\"2ee2f36a-8c60-42b0-8876-140fcd0303ec\",\"type\":\"BasicTickFormatter\"},{\"attributes\":{},\"id\":\"5230e886-9fba-4a8f-b1d3-89d016bf2edc\",\"type\":\"BasicTicker\"},{\"attributes\":{\"dimension\":1,\"plot\":{\"id\":\"24db6cd6-889e-47f2-bb67-963801be433b\",\"subtype\":\"Figure\",\"type\":\"Plot\"},\"ticker\":{\"id\":\"5230e886-9fba-4a8f-b1d3-89d016bf2edc\",\"type\":\"BasicTicker\"}},\"id\":\"251184bd-f4cc-4f27-90f8-7c2217825e4e\",\"type\":\"Grid\"},{\"attributes\":{\"bottom_units\":\"screen\",\"fill_alpha\":{\"value\":0.5},\"fill_color\":{\"value\":\"lightgrey\"},\"left_units\":\"screen\",\"level\":\"overlay\",\"line_alpha\":{\"value\":1.0},\"line_color\":{\"value\":\"black\"},\"line_dash\":[4,4],\"line_width\":{\"value\":2},\"plot\":null,\"render_mode\":\"css\",\"right_units\":\"screen\",\"top_units\":\"screen\"},\"id\":\"076917a1-af24-46e0-bc61-30cd39850cc0\",\"type\":\"BoxAnnotation\"},{\"attributes\":{},\"id\":\"4eb11d5d-c459-49fd-93e4-d68d42eec319\",\"type\":\"BasicTickFormatter\"},{\"attributes\":{\"children\":[{\"id\":\"caaabfef-0cca-43f6-96d3-e8f793beedd3\",\"type\":\"Spacer\"},{\"id\":\"24db6cd6-889e-47f2-bb67-963801be433b\",\"subtype\":\"Figure\",\"type\":\"Plot\"}]},\"id\":\"9257c754-daf3-4472-9815-8c51a76d4eef\",\"type\":\"Row\"},{\"attributes\":{\"callback\":null},\"id\":\"d602481f-82a7-4b8c-b9e4-22db146d300e\",\"type\":\"DataRange1d\"},{\"attributes\":{},\"id\":\"09b91e4a-e1ac-493e-bfe9-09cc54271b70\",\"type\":\"PanTool\"},{\"attributes\":{},\"id\":\"a5dd9e62-535e-46eb-b3a5-e5fa43b0b2a4\",\"type\":\"BasicTickFormatter\"},{\"attributes\":{\"fill_color\":{\"value\":\"blue\"},\"line_color\":{\"value\":\"blue\"},\"x\":{\"field\":\"petal_length\"},\"y\":{\"field\":\"sepal_length\"}},\"id\":\"e847e1a0-6e5a-4d2a-82c3-91c0d0430cb8\",\"type\":\"Circle\"},{\"attributes\":{\"active_drag\":\"auto\",\"active_inspect\":\"auto\",\"active_scroll\":\"auto\",\"active_tap\":\"auto\",\"tools\":[{\"id\":\"c1f19999-2557-41df-a4bc-692ec51d2418\",\"type\":\"PanTool\"},{\"id\":\"290fbb43-6aba-40d8-b9cd-61f7d3942a2e\",\"type\":\"WheelZoomTool\"},{\"id\":\"909b7ec8-ce6e-4f4a-83bf-47e17d40a7c8\",\"type\":\"BoxZoomTool\"},{\"id\":\"1b8b83c6-3ff9-4c80-9bdd-f9b4a8e66292\",\"type\":\"SaveTool\"},{\"id\":\"c50ba461-d2e0-4648-8fe0-a8643bfae09c\",\"type\":\"ResetTool\"},{\"id\":\"6e0dfae3-a8a6-45c3-a10f-def02667ce94\",\"type\":\"HelpTool\"}]},\"id\":\"f1af7c17-1397-4a16-b4aa-c7a523d8967d\",\"type\":\"Toolbar\"},{\"attributes\":{},\"id\":\"39a1420f-b170-435e-8982-92c606a40be5\",\"type\":\"WheelZoomTool\"},{\"attributes\":{\"overlay\":{\"id\":\"076917a1-af24-46e0-bc61-30cd39850cc0\",\"type\":\"BoxAnnotation\"}},\"id\":\"36a77bd3-b97b-47ae-81e4-204cc851823e\",\"type\":\"BoxZoomTool\"},{\"attributes\":{},\"id\":\"dc64b701-8b90-4fa0-aec8-3e8e9e9bbbbc\",\"type\":\"SaveTool\"},{\"attributes\":{},\"id\":\"531b6498-24c2-4342-abe5-eb0d41b0bc68\",\"type\":\"ResetTool\"},{\"attributes\":{\"callback\":null},\"id\":\"50e2e1ac-08d7-42ec-aae4-247ae7c3a9c2\",\"type\":\"DataRange1d\"},{\"attributes\":{},\"id\":\"17e8714c-b7d4-4793-8140-9429dde0f576\",\"type\":\"HelpTool\"},{\"attributes\":{\"active_drag\":\"auto\",\"active_inspect\":\"auto\",\"active_scroll\":\"auto\",\"active_tap\":\"auto\",\"tools\":[{\"id\":\"09b91e4a-e1ac-493e-bfe9-09cc54271b70\",\"type\":\"PanTool\"},{\"id\":\"39a1420f-b170-435e-8982-92c606a40be5\",\"type\":\"WheelZoomTool\"},{\"id\":\"36a77bd3-b97b-47ae-81e4-204cc851823e\",\"type\":\"BoxZoomTool\"},{\"id\":\"dc64b701-8b90-4fa0-aec8-3e8e9e9bbbbc\",\"type\":\"SaveTool\"},{\"id\":\"531b6498-24c2-4342-abe5-eb0d41b0bc68\",\"type\":\"ResetTool\"},{\"id\":\"17e8714c-b7d4-4793-8140-9429dde0f576\",\"type\":\"HelpTool\"}]},\"id\":\"650dd86e-7fc8-4b14-b968-63fea14765ad\",\"type\":\"Toolbar\"},{\"attributes\":{},\"id\":\"e3d8f640-c28e-459d-901b-5abfa99af48f\",\"type\":\"LinearScale\"},{\"attributes\":{\"fill_color\":{\"value\":null},\"line_color\":{\"value\":\"red\"},\"x\":{\"field\":\"petal_length\"},\"y\":{\"field\":\"petal_length\"}},\"id\":\"3f609fce-1c20-41b2-abb3-8df6b28c5375\",\"type\":\"Diamond\"},{\"attributes\":{\"plot\":null,\"text\":\"petal lenght vs. sepal width\"},\"id\":\"7fe1813c-2aa3-466c-9944-de32418cf1e0\",\"type\":\"Title\"},{\"attributes\":{\"fill_color\":{\"value\":\"green\"},\"line_color\":{\"value\":\"green\"},\"x\":{\"field\":\"petal_length\"},\"y\":{\"field\":\"sepal_width\"}},\"id\":\"f99e50fa-4020-40fa-a4d1-0caf552659ae\",\"type\":\"Square\"},{\"attributes\":{\"callback\":null},\"id\":\"3f755ad3-3dbb-4082-9b82-860f46db2a8c\",\"type\":\"DataRange1d\"},{\"attributes\":{\"callback\":null},\"id\":\"f6f24ac7-81e9-4c9f-ba72-3c618637356c\",\"type\":\"DataRange1d\"},{\"attributes\":{\"children\":[{\"id\":\"9257c754-daf3-4472-9815-8c51a76d4eef\",\"type\":\"Row\"},{\"id\":\"ee20454a-ad02-4b97-be37-92461df9840d\",\"type\":\"Row\"}]},\"id\":\"44a12862-5d79-4ca5-b8ff-383109f148d4\",\"type\":\"Column\"},{\"attributes\":{\"callback\":null,\"column_names\":[\"sepal_length\",\"sepal_width\",\"petal_length\",\"petal_width\",\"species\",\"index\"],\"data\":{\"index\":[0,1,2,3,4,5,6,7,8,9,10,11,12,13,14,15,16,17,18,19,20,21,22,23,24,25,26,27,28,29,30,31,32,33,34,35,36,37,38,39,40,41,42,43,44,45,46,47,48,49,50,51,52,53,54,55,56,57,58,59,60,61,62,63,64,65,66,67,68,69,70,71,72,73,74,75,76,77,78,79,80,81,82,83,84,85,86,87,88,89,90,91,92,93,94,95,96,97,98,99,100,101,102,103,104,105,106,107,108,109,110,111,112,113,114,115,116,117,118,119,120,121,122,123,124,125,126,127,128,129,130,131,132,133,134,135,136,137,138,139,140,141,142,143,144,145,146,147,148,149],\"petal_length\":{\"__ndarray__\":\"ZmZmZmZm9j9mZmZmZmb2P83MzMzMzPQ/AAAAAAAA+D9mZmZmZmb2PzMzMzMzM/s/ZmZmZmZm9j8AAAAAAAD4P2ZmZmZmZvY/AAAAAAAA+D8AAAAAAAD4P5qZmZmZmfk/ZmZmZmZm9j+amZmZmZnxPzMzMzMzM/M/AAAAAAAA+D/NzMzMzMz0P2ZmZmZmZvY/MzMzMzMz+z8AAAAAAAD4PzMzMzMzM/s/AAAAAAAA+D8AAAAAAADwPzMzMzMzM/s/ZmZmZmZm/j+amZmZmZn5P5qZmZmZmfk/AAAAAAAA+D9mZmZmZmb2P5qZmZmZmfk/mpmZmZmZ+T8AAAAAAAD4PwAAAAAAAPg/ZmZmZmZm9j8AAAAAAAD4PzMzMzMzM/M/zczMzMzM9D9mZmZmZmb2P83MzMzMzPQ/AAAAAAAA+D/NzMzMzMz0P83MzMzMzPQ/zczMzMzM9D+amZmZmZn5P2ZmZmZmZv4/ZmZmZmZm9j+amZmZmZn5P2ZmZmZmZvY/AAAAAAAA+D9mZmZmZmb2P83MzMzMzBJAAAAAAAAAEkCamZmZmZkTQAAAAAAAABBAZmZmZmZmEkAAAAAAAAASQM3MzMzMzBJAZmZmZmZmCkBmZmZmZmYSQDMzMzMzMw9AAAAAAAAADEDNzMzMzMwQQAAAAAAAABBAzczMzMzMEkDNzMzMzMwMQJqZmZmZmRFAAAAAAAAAEkBmZmZmZmYQQAAAAAAAABJAMzMzMzMzD0AzMzMzMzMTQAAAAAAAABBAmpmZmZmZE0DNzMzMzMwSQDMzMzMzMxFAmpmZmZmZEUAzMzMzMzMTQAAAAAAAABRAAAAAAAAAEkAAAAAAAAAMQGZmZmZmZg5AmpmZmZmZDUAzMzMzMzMPQGZmZmZmZhRAAAAAAAAAEkAAAAAAAAASQM3MzMzMzBJAmpmZmZmZEUBmZmZmZmYQQAAAAAAAABBAmpmZmZmZEUBmZmZmZmYSQAAAAAAAABBAZmZmZmZmCkDNzMzMzMwQQM3MzMzMzBBAzczMzMzMEEAzMzMzMzMRQAAAAAAAAAhAZmZmZmZmEEAAAAAAAAAYQGZmZmZmZhRAmpmZmZmZF0BmZmZmZmYWQDMzMzMzMxdAZmZmZmZmGkAAAAAAAAASQDMzMzMzMxlAMzMzMzMzF0BmZmZmZmYYQGZmZmZmZhRAMzMzMzMzFUAAAAAAAAAWQAAAAAAAABRAZmZmZmZmFEAzMzMzMzMVQAAAAAAAABZAzczMzMzMGkCamZmZmZkbQAAAAAAAABRAzczMzMzMFkCamZmZmZkTQM3MzMzMzBpAmpmZmZmZE0DNzMzMzMwWQAAAAAAAABhAMzMzMzMzE0CamZmZmZkTQGZmZmZmZhZAMzMzMzMzF0BmZmZmZmYYQJqZmZmZmRlAZmZmZmZmFkBmZmZmZmYUQGZmZmZmZhZAZmZmZmZmGEBmZmZmZmYWQAAAAAAAABZAMzMzMzMzE0CamZmZmZkVQGZmZmZmZhZAZmZmZmZmFEBmZmZmZmYUQJqZmZmZmRdAzczMzMzMFkDNzMzMzMwUQAAAAAAAABRAzczMzMzMFECamZmZmZkVQGZmZmZmZhRA\",\"dtype\":\"float64\",\"shape\":[150]},\"petal_width\":{\"__ndarray__\":\"mpmZmZmZyT+amZmZmZnJP5qZmZmZmck/mpmZmZmZyT+amZmZmZnJP5qZmZmZmdk/MzMzMzMz0z+amZmZmZnJP5qZmZmZmck/mpmZmZmZuT+amZmZmZnJP5qZmZmZmck/mpmZmZmZuT+amZmZmZm5P5qZmZmZmck/mpmZmZmZ2T+amZmZmZnZPzMzMzMzM9M/MzMzMzMz0z8zMzMzMzPTP5qZmZmZmck/mpmZmZmZ2T+amZmZmZnJPwAAAAAAAOA/mpmZmZmZyT+amZmZmZnJP5qZmZmZmdk/mpmZmZmZyT+amZmZmZnJP5qZmZmZmck/mpmZmZmZyT+amZmZmZnZP5qZmZmZmbk/mpmZmZmZyT+amZmZmZnJP5qZmZmZmck/mpmZmZmZyT+amZmZmZm5P5qZmZmZmck/mpmZmZmZyT8zMzMzMzPTPzMzMzMzM9M/mpmZmZmZyT8zMzMzMzPjP5qZmZmZmdk/MzMzMzMz0z+amZmZmZnJP5qZmZmZmck/mpmZmZmZyT+amZmZmZnJP2ZmZmZmZvY/AAAAAAAA+D8AAAAAAAD4P83MzMzMzPQ/AAAAAAAA+D/NzMzMzMz0P5qZmZmZmfk/AAAAAAAA8D/NzMzMzMz0P2ZmZmZmZvY/AAAAAAAA8D8AAAAAAAD4PwAAAAAAAPA/ZmZmZmZm9j/NzMzMzMz0P2ZmZmZmZvY/AAAAAAAA+D8AAAAAAADwPwAAAAAAAPg/mpmZmZmZ8T/NzMzMzMz8P83MzMzMzPQ/AAAAAAAA+D8zMzMzMzPzP83MzMzMzPQ/ZmZmZmZm9j9mZmZmZmb2PzMzMzMzM/s/AAAAAAAA+D8AAAAAAADwP5qZmZmZmfE/AAAAAAAA8D8zMzMzMzPzP5qZmZmZmfk/AAAAAAAA+D+amZmZmZn5PwAAAAAAAPg/zczMzMzM9D/NzMzMzMz0P83MzMzMzPQ/MzMzMzMz8z9mZmZmZmb2PzMzMzMzM/M/AAAAAAAA8D/NzMzMzMz0PzMzMzMzM/M/zczMzMzM9D/NzMzMzMz0P5qZmZmZmfE/zczMzMzM9D8AAAAAAAAEQGZmZmZmZv4/zczMzMzMAEDNzMzMzMz8P5qZmZmZmQFAzczMzMzMAEAzMzMzMzP7P83MzMzMzPw/zczMzMzM/D8AAAAAAAAEQAAAAAAAAABAZmZmZmZm/j/NzMzMzMwAQAAAAAAAAABAMzMzMzMzA0BmZmZmZmYCQM3MzMzMzPw/mpmZmZmZAUBmZmZmZmYCQAAAAAAAAPg/ZmZmZmZmAkAAAAAAAAAAQAAAAAAAAABAzczMzMzM/D/NzMzMzMwAQM3MzMzMzPw/zczMzMzM/D/NzMzMzMz8P83MzMzMzABAmpmZmZmZ+T9mZmZmZmb+PwAAAAAAAABAmpmZmZmZAUAAAAAAAAD4P2ZmZmZmZvY/ZmZmZmZmAkAzMzMzMzMDQM3MzMzMzPw/zczMzMzM/D/NzMzMzMwAQDMzMzMzMwNAZmZmZmZmAkBmZmZmZmb+P2ZmZmZmZgJAAAAAAAAABEBmZmZmZmYCQGZmZmZmZv4/AAAAAAAAAEBmZmZmZmYCQM3MzMzMzPw/\",\"dtype\":\"float64\",\"shape\":[150]},\"sepal_length\":{\"__ndarray__\":\"ZmZmZmZmFECamZmZmZkTQM3MzMzMzBJAZmZmZmZmEkAAAAAAAAAUQJqZmZmZmRVAZmZmZmZmEkAAAAAAAAAUQJqZmZmZmRFAmpmZmZmZE0CamZmZmZkVQDMzMzMzMxNAMzMzMzMzE0AzMzMzMzMRQDMzMzMzMxdAzczMzMzMFkCamZmZmZkVQGZmZmZmZhRAzczMzMzMFkBmZmZmZmYUQJqZmZmZmRVAZmZmZmZmFEBmZmZmZmYSQGZmZmZmZhRAMzMzMzMzE0AAAAAAAAAUQAAAAAAAABRAzczMzMzMFEDNzMzMzMwUQM3MzMzMzBJAMzMzMzMzE0CamZmZmZkVQM3MzMzMzBRAAAAAAAAAFkCamZmZmZkTQAAAAAAAABRAAAAAAAAAFkCamZmZmZkTQJqZmZmZmRFAZmZmZmZmFEAAAAAAAAAUQAAAAAAAABJAmpmZmZmZEUAAAAAAAAAUQGZmZmZmZhRAMzMzMzMzE0BmZmZmZmYUQGZmZmZmZhJAMzMzMzMzFUAAAAAAAAAUQAAAAAAAABxAmpmZmZmZGUCamZmZmZkbQAAAAAAAABZAAAAAAAAAGkDNzMzMzMwWQDMzMzMzMxlAmpmZmZmZE0BmZmZmZmYaQM3MzMzMzBRAAAAAAAAAFECamZmZmZkXQAAAAAAAABhAZmZmZmZmGEBmZmZmZmYWQM3MzMzMzBpAZmZmZmZmFkAzMzMzMzMXQM3MzMzMzBhAZmZmZmZmFkCamZmZmZkXQGZmZmZmZhhAMzMzMzMzGUBmZmZmZmYYQJqZmZmZmRlAZmZmZmZmGkAzMzMzMzMbQM3MzMzMzBpAAAAAAAAAGEDNzMzMzMwWQAAAAAAAABZAAAAAAAAAFkAzMzMzMzMXQAAAAAAAABhAmpmZmZmZFUAAAAAAAAAYQM3MzMzMzBpAMzMzMzMzGUBmZmZmZmYWQAAAAAAAABZAAAAAAAAAFkBmZmZmZmYYQDMzMzMzMxdAAAAAAAAAFEBmZmZmZmYWQM3MzMzMzBZAzczMzMzMFkDNzMzMzMwYQGZmZmZmZhRAzczMzMzMFkAzMzMzMzMZQDMzMzMzMxdAZmZmZmZmHEAzMzMzMzMZQAAAAAAAABpAZmZmZmZmHkCamZmZmZkTQDMzMzMzMx1AzczMzMzMGkDNzMzMzMwcQAAAAAAAABpAmpmZmZmZGUAzMzMzMzMbQM3MzMzMzBZAMzMzMzMzF0CamZmZmZkZQAAAAAAAABpAzczMzMzMHkDNzMzMzMweQAAAAAAAABhAmpmZmZmZG0BmZmZmZmYWQM3MzMzMzB5AMzMzMzMzGUDNzMzMzMwaQM3MzMzMzBxAzczMzMzMGEBmZmZmZmYYQJqZmZmZmRlAzczMzMzMHECamZmZmZkdQJqZmZmZmR9AmpmZmZmZGUAzMzMzMzMZQGZmZmZmZhhAzczMzMzMHkAzMzMzMzMZQJqZmZmZmRlAAAAAAAAAGECamZmZmZkbQM3MzMzMzBpAmpmZmZmZG0AzMzMzMzMXQDMzMzMzMxtAzczMzMzMGkDNzMzMzMwaQDMzMzMzMxlAAAAAAAAAGkDNzMzMzMwYQJqZmZmZmRdA\",\"dtype\":\"float64\",\"shape\":[150]},\"sepal_width\":{\"__ndarray__\":\"AAAAAAAADEAAAAAAAAAIQJqZmZmZmQlAzczMzMzMCEDNzMzMzMwMQDMzMzMzMw9AMzMzMzMzC0AzMzMzMzMLQDMzMzMzMwdAzczMzMzMCECamZmZmZkNQDMzMzMzMwtAAAAAAAAACEAAAAAAAAAIQAAAAAAAABBAmpmZmZmZEUAzMzMzMzMPQAAAAAAAAAxAZmZmZmZmDkBmZmZmZmYOQDMzMzMzMwtAmpmZmZmZDUDNzMzMzMwMQGZmZmZmZgpAMzMzMzMzC0AAAAAAAAAIQDMzMzMzMwtAAAAAAAAADEAzMzMzMzMLQJqZmZmZmQlAzczMzMzMCEAzMzMzMzMLQGZmZmZmZhBAzczMzMzMEEDNzMzMzMwIQJqZmZmZmQlAAAAAAAAADEDNzMzMzMwMQAAAAAAAAAhAMzMzMzMzC0AAAAAAAAAMQGZmZmZmZgJAmpmZmZmZCUAAAAAAAAAMQGZmZmZmZg5AAAAAAAAACEBmZmZmZmYOQJqZmZmZmQlAmpmZmZmZDUBmZmZmZmYKQJqZmZmZmQlAmpmZmZmZCUDNzMzMzMwIQGZmZmZmZgJAZmZmZmZmBkBmZmZmZmYGQGZmZmZmZgpAMzMzMzMzA0AzMzMzMzMHQJqZmZmZmQVAAAAAAAAAAEAAAAAAAAAIQJqZmZmZmQFAMzMzMzMzB0AzMzMzMzMHQM3MzMzMzAhAAAAAAAAACECamZmZmZkFQJqZmZmZmQFAAAAAAAAABECamZmZmZkJQGZmZmZmZgZAAAAAAAAABEBmZmZmZmYGQDMzMzMzMwdAAAAAAAAACEBmZmZmZmYGQAAAAAAAAAhAMzMzMzMzB0DNzMzMzMwEQDMzMzMzMwNAMzMzMzMzA0CamZmZmZkFQJqZmZmZmQVAAAAAAAAACEAzMzMzMzMLQM3MzMzMzAhAZmZmZmZmAkAAAAAAAAAIQAAAAAAAAARAzczMzMzMBEAAAAAAAAAIQM3MzMzMzARAZmZmZmZmAkCamZmZmZkFQAAAAAAAAAhAMzMzMzMzB0AzMzMzMzMHQAAAAAAAAARAZmZmZmZmBkBmZmZmZmYKQJqZmZmZmQVAAAAAAAAACEAzMzMzMzMHQAAAAAAAAAhAAAAAAAAACEAAAAAAAAAEQDMzMzMzMwdAAAAAAAAABEDNzMzMzMwMQJqZmZmZmQlAmpmZmZmZBUAAAAAAAAAIQAAAAAAAAARAZmZmZmZmBkCamZmZmZkJQAAAAAAAAAhAZmZmZmZmDkDNzMzMzMwEQJqZmZmZmQFAmpmZmZmZCUBmZmZmZmYGQGZmZmZmZgZAmpmZmZmZBUBmZmZmZmYKQJqZmZmZmQlAZmZmZmZmBkAAAAAAAAAIQGZmZmZmZgZAAAAAAAAACEBmZmZmZmYGQGZmZmZmZg5AZmZmZmZmBkBmZmZmZmYGQM3MzMzMzARAAAAAAAAACEAzMzMzMzMLQM3MzMzMzAhAAAAAAAAACEDNzMzMzMwIQM3MzMzMzAhAzczMzMzMCECamZmZmZkFQJqZmZmZmQlAZmZmZmZmCkAAAAAAAAAIQAAAAAAAAARAAAAAAAAACEAzMzMzMzMLQAAAAAAAAAhA\",\"dtype\":\"float64\",\"shape\":[150]},\"species\":[\"setosa\",\"setosa\",\"setosa\",\"setosa\",\"setosa\",\"setosa\",\"setosa\",\"setosa\",\"setosa\",\"setosa\",\"setosa\",\"setosa\",\"setosa\",\"setosa\",\"setosa\",\"setosa\",\"setosa\",\"setosa\",\"setosa\",\"setosa\",\"setosa\",\"setosa\",\"setosa\",\"setosa\",\"setosa\",\"setosa\",\"setosa\",\"setosa\",\"setosa\",\"setosa\",\"setosa\",\"setosa\",\"setosa\",\"setosa\",\"setosa\",\"setosa\",\"setosa\",\"setosa\",\"setosa\",\"setosa\",\"setosa\",\"setosa\",\"setosa\",\"setosa\",\"setosa\",\"setosa\",\"setosa\",\"setosa\",\"setosa\",\"setosa\",\"versicolor\",\"versicolor\",\"versicolor\",\"versicolor\",\"versicolor\",\"versicolor\",\"versicolor\",\"versicolor\",\"versicolor\",\"versicolor\",\"versicolor\",\"versicolor\",\"versicolor\",\"versicolor\",\"versicolor\",\"versicolor\",\"versicolor\",\"versicolor\",\"versicolor\",\"versicolor\",\"versicolor\",\"versicolor\",\"versicolor\",\"versicolor\",\"versicolor\",\"versicolor\",\"versicolor\",\"versicolor\",\"versicolor\",\"versicolor\",\"versicolor\",\"versicolor\",\"versicolor\",\"versicolor\",\"versicolor\",\"versicolor\",\"versicolor\",\"versicolor\",\"versicolor\",\"versicolor\",\"versicolor\",\"versicolor\",\"versicolor\",\"versicolor\",\"versicolor\",\"versicolor\",\"versicolor\",\"versicolor\",\"versicolor\",\"versicolor\",\"virginica\",\"virginica\",\"virginica\",\"virginica\",\"virginica\",\"virginica\",\"virginica\",\"virginica\",\"virginica\",\"virginica\",\"virginica\",\"virginica\",\"virginica\",\"virginica\",\"virginica\",\"virginica\",\"virginica\",\"virginica\",\"virginica\",\"virginica\",\"virginica\",\"virginica\",\"virginica\",\"virginica\",\"virginica\",\"virginica\",\"virginica\",\"virginica\",\"virginica\",\"virginica\",\"virginica\",\"virginica\",\"virginica\",\"virginica\",\"virginica\",\"virginica\",\"virginica\",\"virginica\",\"virginica\",\"virginica\",\"virginica\",\"virginica\",\"virginica\",\"virginica\",\"virginica\",\"virginica\",\"virginica\",\"virginica\",\"virginica\",\"virginica\"]}},\"id\":\"c3562e53-35e0-4ade-b24a-deea9287b7df\",\"type\":\"ColumnDataSource\"},{\"attributes\":{},\"id\":\"4a538b47-3ad0-47cb-9c4a-6b59c77ddb08\",\"type\":\"LinearScale\"},{\"attributes\":{\"plot\":{\"id\":\"0b9ab3d2-e244-4406-8732-d7c5fe3db9e1\",\"subtype\":\"Figure\",\"type\":\"Plot\"},\"ticker\":{\"id\":\"088d9248-a050-4103-b441-9708daa13c4a\",\"type\":\"BasicTicker\"}},\"id\":\"4d434e9a-3efb-450e-9f98-38ab2dd1591a\",\"type\":\"Grid\"},{\"attributes\":{\"formatter\":{\"id\":\"ca8a92f9-d5f2-44e9-a284-525af29bcc1d\",\"type\":\"BasicTickFormatter\"},\"plot\":{\"id\":\"0b9ab3d2-e244-4406-8732-d7c5fe3db9e1\",\"subtype\":\"Figure\",\"type\":\"Plot\"},\"ticker\":{\"id\":\"088d9248-a050-4103-b441-9708daa13c4a\",\"type\":\"BasicTicker\"}},\"id\":\"3c869e72-f741-427b-b8d5-ecb8e1536b82\",\"type\":\"LinearAxis\"},{\"attributes\":{},\"id\":\"088d9248-a050-4103-b441-9708daa13c4a\",\"type\":\"BasicTicker\"},{\"attributes\":{\"formatter\":{\"id\":\"c29dc50e-8f29-4f84-b454-b7b4bdc83663\",\"type\":\"BasicTickFormatter\"},\"plot\":{\"id\":\"0b9ab3d2-e244-4406-8732-d7c5fe3db9e1\",\"subtype\":\"Figure\",\"type\":\"Plot\"},\"ticker\":{\"id\":\"e3309314-3311-4913-aa88-196053ea8e76\",\"type\":\"BasicTicker\"}},\"id\":\"5391761d-b3b6-42f7-a8db-ba5987dd37dd\",\"type\":\"LinearAxis\"},{\"attributes\":{},\"id\":\"e3309314-3311-4913-aa88-196053ea8e76\",\"type\":\"BasicTicker\"},{\"attributes\":{\"dimension\":1,\"plot\":{\"id\":\"0b9ab3d2-e244-4406-8732-d7c5fe3db9e1\",\"subtype\":\"Figure\",\"type\":\"Plot\"},\"ticker\":{\"id\":\"e3309314-3311-4913-aa88-196053ea8e76\",\"type\":\"BasicTicker\"}},\"id\":\"afc30790-335c-4702-a7eb-0772761153f3\",\"type\":\"Grid\"},{\"attributes\":{\"plot\":null,\"text\":\"petal lenght vs. petal lenght\"},\"id\":\"645ac8c6-2aa1-4bde-85ab-68c29c7e6bea\",\"type\":\"Title\"},{\"attributes\":{\"below\":[{\"id\":\"4be84d64-f1e9-445e-b324-dde5693ec065\",\"type\":\"LinearAxis\"}],\"left\":[{\"id\":\"476062bc-b737-4214-a1a6-8647ed18aee4\",\"type\":\"LinearAxis\"}],\"plot_height\":300,\"plot_width\":300,\"renderers\":[{\"id\":\"4be84d64-f1e9-445e-b324-dde5693ec065\",\"type\":\"LinearAxis\"},{\"id\":\"e7e2406d-00b8-4cee-90ae-439c659bc26f\",\"type\":\"Grid\"},{\"id\":\"476062bc-b737-4214-a1a6-8647ed18aee4\",\"type\":\"LinearAxis\"},{\"id\":\"c0bc3cca-74c2-4f24-af7f-3eff19d4284e\",\"type\":\"Grid\"},{\"id\":\"74dad0a7-ff01-43aa-ba17-774b10417013\",\"type\":\"BoxAnnotation\"},{\"id\":\"c8a88e97-9889-41af-b806-4f5d616bdb32\",\"type\":\"GlyphRenderer\"}],\"title\":{\"id\":\"645ac8c6-2aa1-4bde-85ab-68c29c7e6bea\",\"type\":\"Title\"},\"toolbar\":{\"id\":\"62794a98-815d-4371-af30-b1d886bd620b\",\"type\":\"Toolbar\"},\"toolbar_location\":null,\"x_range\":{\"id\":\"91ad912b-c4d5-4667-afa1-4a04ebfdd9f3\",\"type\":\"DataRange1d\"},\"x_scale\":{\"id\":\"9566ffc3-3a1d-434d-8419-be8e47fa6f3b\",\"type\":\"LinearScale\"},\"y_range\":{\"id\":\"d602481f-82a7-4b8c-b9e4-22db146d300e\",\"type\":\"DataRange1d\"},\"y_scale\":{\"id\":\"893c9a21-eac0-48f5-83bc-8c3bb25d0c6f\",\"type\":\"LinearScale\"}},\"id\":\"fdaec900-295b-47b2-b00e-13621d4db9e6\",\"subtype\":\"Figure\",\"type\":\"Plot\"},{\"attributes\":{\"below\":[{\"id\":\"0ca41a1b-9155-46f7-98c3-278b68d5e97c\",\"type\":\"LinearAxis\"}],\"left\":[{\"id\":\"2fddae20-243c-4b9e-a4d5-132dff9b663e\",\"type\":\"LinearAxis\"}],\"plot_height\":300,\"plot_width\":300,\"renderers\":[{\"id\":\"0ca41a1b-9155-46f7-98c3-278b68d5e97c\",\"type\":\"LinearAxis\"},{\"id\":\"0a248e5b-474a-4fb1-963b-ee311aef01c1\",\"type\":\"Grid\"},{\"id\":\"2fddae20-243c-4b9e-a4d5-132dff9b663e\",\"type\":\"LinearAxis\"},{\"id\":\"251184bd-f4cc-4f27-90f8-7c2217825e4e\",\"type\":\"Grid\"},{\"id\":\"076917a1-af24-46e0-bc61-30cd39850cc0\",\"type\":\"BoxAnnotation\"},{\"id\":\"7ed37766-6335-45d7-8ca8-6a49eaa61755\",\"type\":\"GlyphRenderer\"}],\"title\":{\"id\":\"9de53d69-1191-4679-8ec2-8d1059da4ef5\",\"type\":\"Title\"},\"toolbar\":{\"id\":\"650dd86e-7fc8-4b14-b968-63fea14765ad\",\"type\":\"Toolbar\"},\"toolbar_location\":null,\"x_range\":{\"id\":\"50e2e1ac-08d7-42ec-aae4-247ae7c3a9c2\",\"type\":\"DataRange1d\"},\"x_scale\":{\"id\":\"797fc9eb-0d8c-4e29-aa69-971cfee7c436\",\"type\":\"LinearScale\"},\"y_range\":{\"id\":\"d1e5df24-c1cb-4251-b10f-b78622e97011\",\"type\":\"DataRange1d\"},\"y_scale\":{\"id\":\"06d15d90-681c-4279-82fa-12ed3759ee72\",\"type\":\"LinearScale\"}},\"id\":\"24db6cd6-889e-47f2-bb67-963801be433b\",\"subtype\":\"Figure\",\"type\":\"Plot\"},{\"attributes\":{\"below\":[{\"id\":\"3c869e72-f741-427b-b8d5-ecb8e1536b82\",\"type\":\"LinearAxis\"}],\"left\":[{\"id\":\"5391761d-b3b6-42f7-a8db-ba5987dd37dd\",\"type\":\"LinearAxis\"}],\"plot_height\":300,\"plot_width\":300,\"renderers\":[{\"id\":\"3c869e72-f741-427b-b8d5-ecb8e1536b82\",\"type\":\"LinearAxis\"},{\"id\":\"4d434e9a-3efb-450e-9f98-38ab2dd1591a\",\"type\":\"Grid\"},{\"id\":\"5391761d-b3b6-42f7-a8db-ba5987dd37dd\",\"type\":\"LinearAxis\"},{\"id\":\"afc30790-335c-4702-a7eb-0772761153f3\",\"type\":\"Grid\"},{\"id\":\"187e010e-3bc1-43b7-b6b1-de7db234ed31\",\"type\":\"BoxAnnotation\"},{\"id\":\"bb2eb9f9-e608-4001-8df9-a94854da16cd\",\"type\":\"GlyphRenderer\"}],\"title\":{\"id\":\"7fe1813c-2aa3-466c-9944-de32418cf1e0\",\"type\":\"Title\"},\"toolbar\":{\"id\":\"f1af7c17-1397-4a16-b4aa-c7a523d8967d\",\"type\":\"Toolbar\"},\"toolbar_location\":null,\"x_range\":{\"id\":\"f6f24ac7-81e9-4c9f-ba72-3c618637356c\",\"type\":\"DataRange1d\"},\"x_scale\":{\"id\":\"4a538b47-3ad0-47cb-9c4a-6b59c77ddb08\",\"type\":\"LinearScale\"},\"y_range\":{\"id\":\"3f755ad3-3dbb-4082-9b82-860f46db2a8c\",\"type\":\"DataRange1d\"},\"y_scale\":{\"id\":\"e3d8f640-c28e-459d-901b-5abfa99af48f\",\"type\":\"LinearScale\"}},\"id\":\"0b9ab3d2-e244-4406-8732-d7c5fe3db9e1\",\"subtype\":\"Figure\",\"type\":\"Plot\"},{\"attributes\":{\"fill_alpha\":{\"value\":0.1},\"fill_color\":{\"value\":\"#1f77b4\"},\"line_alpha\":{\"value\":0.1},\"line_color\":{\"value\":\"#1f77b4\"},\"x\":{\"field\":\"petal_length\"},\"y\":{\"field\":\"petal_length\"}},\"id\":\"f4cc7383-d2fd-4c1c-9744-b54109e5a7cd\",\"type\":\"Diamond\"},{\"attributes\":{\"bottom_units\":\"screen\",\"fill_alpha\":{\"value\":0.5},\"fill_color\":{\"value\":\"lightgrey\"},\"left_units\":\"screen\",\"level\":\"overlay\",\"line_alpha\":{\"value\":1.0},\"line_color\":{\"value\":\"black\"},\"line_dash\":[4,4],\"line_width\":{\"value\":2},\"plot\":null,\"render_mode\":\"css\",\"right_units\":\"screen\",\"top_units\":\"screen\"},\"id\":\"187e010e-3bc1-43b7-b6b1-de7db234ed31\",\"type\":\"BoxAnnotation\"},{\"attributes\":{\"callback\":null,\"column_names\":[\"sepal_length\",\"sepal_width\",\"petal_length\",\"petal_width\",\"species\",\"index\"],\"data\":{\"index\":[0,1,2,3,4,5,6,7,8,9,10,11,12,13,14,15,16,17,18,19,20,21,22,23,24,25,26,27,28,29,30,31,32,33,34,35,36,37,38,39,40,41,42,43,44,45,46,47,48,49,50,51,52,53,54,55,56,57,58,59,60,61,62,63,64,65,66,67,68,69,70,71,72,73,74,75,76,77,78,79,80,81,82,83,84,85,86,87,88,89,90,91,92,93,94,95,96,97,98,99,100,101,102,103,104,105,106,107,108,109,110,111,112,113,114,115,116,117,118,119,120,121,122,123,124,125,126,127,128,129,130,131,132,133,134,135,136,137,138,139,140,141,142,143,144,145,146,147,148,149],\"petal_length\":{\"__ndarray__\":\"ZmZmZmZm9j9mZmZmZmb2P83MzMzMzPQ/AAAAAAAA+D9mZmZmZmb2PzMzMzMzM/s/ZmZmZmZm9j8AAAAAAAD4P2ZmZmZmZvY/AAAAAAAA+D8AAAAAAAD4P5qZmZmZmfk/ZmZmZmZm9j+amZmZmZnxPzMzMzMzM/M/AAAAAAAA+D/NzMzMzMz0P2ZmZmZmZvY/MzMzMzMz+z8AAAAAAAD4PzMzMzMzM/s/AAAAAAAA+D8AAAAAAADwPzMzMzMzM/s/ZmZmZmZm/j+amZmZmZn5P5qZmZmZmfk/AAAAAAAA+D9mZmZmZmb2P5qZmZmZmfk/mpmZmZmZ+T8AAAAAAAD4PwAAAAAAAPg/ZmZmZmZm9j8AAAAAAAD4PzMzMzMzM/M/zczMzMzM9D9mZmZmZmb2P83MzMzMzPQ/AAAAAAAA+D/NzMzMzMz0P83MzMzMzPQ/zczMzMzM9D+amZmZmZn5P2ZmZmZmZv4/ZmZmZmZm9j+amZmZmZn5P2ZmZmZmZvY/AAAAAAAA+D9mZmZmZmb2P83MzMzMzBJAAAAAAAAAEkCamZmZmZkTQAAAAAAAABBAZmZmZmZmEkAAAAAAAAASQM3MzMzMzBJAZmZmZmZmCkBmZmZmZmYSQDMzMzMzMw9AAAAAAAAADEDNzMzMzMwQQAAAAAAAABBAzczMzMzMEkDNzMzMzMwMQJqZmZmZmRFAAAAAAAAAEkBmZmZmZmYQQAAAAAAAABJAMzMzMzMzD0AzMzMzMzMTQAAAAAAAABBAmpmZmZmZE0DNzMzMzMwSQDMzMzMzMxFAmpmZmZmZEUAzMzMzMzMTQAAAAAAAABRAAAAAAAAAEkAAAAAAAAAMQGZmZmZmZg5AmpmZmZmZDUAzMzMzMzMPQGZmZmZmZhRAAAAAAAAAEkAAAAAAAAASQM3MzMzMzBJAmpmZmZmZEUBmZmZmZmYQQAAAAAAAABBAmpmZmZmZEUBmZmZmZmYSQAAAAAAAABBAZmZmZmZmCkDNzMzMzMwQQM3MzMzMzBBAzczMzMzMEEAzMzMzMzMRQAAAAAAAAAhAZmZmZmZmEEAAAAAAAAAYQGZmZmZmZhRAmpmZmZmZF0BmZmZmZmYWQDMzMzMzMxdAZmZmZmZmGkAAAAAAAAASQDMzMzMzMxlAMzMzMzMzF0BmZmZmZmYYQGZmZmZmZhRAMzMzMzMzFUAAAAAAAAAWQAAAAAAAABRAZmZmZmZmFEAzMzMzMzMVQAAAAAAAABZAzczMzMzMGkCamZmZmZkbQAAAAAAAABRAzczMzMzMFkCamZmZmZkTQM3MzMzMzBpAmpmZmZmZE0DNzMzMzMwWQAAAAAAAABhAMzMzMzMzE0CamZmZmZkTQGZmZmZmZhZAMzMzMzMzF0BmZmZmZmYYQJqZmZmZmRlAZmZmZmZmFkBmZmZmZmYUQGZmZmZmZhZAZmZmZmZmGEBmZmZmZmYWQAAAAAAAABZAMzMzMzMzE0CamZmZmZkVQGZmZmZmZhZAZmZmZmZmFEBmZmZmZmYUQJqZmZmZmRdAzczMzMzMFkDNzMzMzMwUQAAAAAAAABRAzczMzMzMFECamZmZmZkVQGZmZmZmZhRA\",\"dtype\":\"float64\",\"shape\":[150]},\"petal_width\":{\"__ndarray__\":\"mpmZmZmZyT+amZmZmZnJP5qZmZmZmck/mpmZmZmZyT+amZmZmZnJP5qZmZmZmdk/MzMzMzMz0z+amZmZmZnJP5qZmZmZmck/mpmZmZmZuT+amZmZmZnJP5qZmZmZmck/mpmZmZmZuT+amZmZmZm5P5qZmZmZmck/mpmZmZmZ2T+amZmZmZnZPzMzMzMzM9M/MzMzMzMz0z8zMzMzMzPTP5qZmZmZmck/mpmZmZmZ2T+amZmZmZnJPwAAAAAAAOA/mpmZmZmZyT+amZmZmZnJP5qZmZmZmdk/mpmZmZmZyT+amZmZmZnJP5qZmZmZmck/mpmZmZmZyT+amZmZmZnZP5qZmZmZmbk/mpmZmZmZyT+amZmZmZnJP5qZmZmZmck/mpmZmZmZyT+amZmZmZm5P5qZmZmZmck/mpmZmZmZyT8zMzMzMzPTPzMzMzMzM9M/mpmZmZmZyT8zMzMzMzPjP5qZmZmZmdk/MzMzMzMz0z+amZmZmZnJP5qZmZmZmck/mpmZmZmZyT+amZmZmZnJP2ZmZmZmZvY/AAAAAAAA+D8AAAAAAAD4P83MzMzMzPQ/AAAAAAAA+D/NzMzMzMz0P5qZmZmZmfk/AAAAAAAA8D/NzMzMzMz0P2ZmZmZmZvY/AAAAAAAA8D8AAAAAAAD4PwAAAAAAAPA/ZmZmZmZm9j/NzMzMzMz0P2ZmZmZmZvY/AAAAAAAA+D8AAAAAAADwPwAAAAAAAPg/mpmZmZmZ8T/NzMzMzMz8P83MzMzMzPQ/AAAAAAAA+D8zMzMzMzPzP83MzMzMzPQ/ZmZmZmZm9j9mZmZmZmb2PzMzMzMzM/s/AAAAAAAA+D8AAAAAAADwP5qZmZmZmfE/AAAAAAAA8D8zMzMzMzPzP5qZmZmZmfk/AAAAAAAA+D+amZmZmZn5PwAAAAAAAPg/zczMzMzM9D/NzMzMzMz0P83MzMzMzPQ/MzMzMzMz8z9mZmZmZmb2PzMzMzMzM/M/AAAAAAAA8D/NzMzMzMz0PzMzMzMzM/M/zczMzMzM9D/NzMzMzMz0P5qZmZmZmfE/zczMzMzM9D8AAAAAAAAEQGZmZmZmZv4/zczMzMzMAEDNzMzMzMz8P5qZmZmZmQFAzczMzMzMAEAzMzMzMzP7P83MzMzMzPw/zczMzMzM/D8AAAAAAAAEQAAAAAAAAABAZmZmZmZm/j/NzMzMzMwAQAAAAAAAAABAMzMzMzMzA0BmZmZmZmYCQM3MzMzMzPw/mpmZmZmZAUBmZmZmZmYCQAAAAAAAAPg/ZmZmZmZmAkAAAAAAAAAAQAAAAAAAAABAzczMzMzM/D/NzMzMzMwAQM3MzMzMzPw/zczMzMzM/D/NzMzMzMz8P83MzMzMzABAmpmZmZmZ+T9mZmZmZmb+PwAAAAAAAABAmpmZmZmZAUAAAAAAAAD4P2ZmZmZmZvY/ZmZmZmZmAkAzMzMzMzMDQM3MzMzMzPw/zczMzMzM/D/NzMzMzMwAQDMzMzMzMwNAZmZmZmZmAkBmZmZmZmb+P2ZmZmZmZgJAAAAAAAAABEBmZmZmZmYCQGZmZmZmZv4/AAAAAAAAAEBmZmZmZmYCQM3MzMzMzPw/\",\"dtype\":\"float64\",\"shape\":[150]},\"sepal_length\":{\"__ndarray__\":\"ZmZmZmZmFECamZmZmZkTQM3MzMzMzBJAZmZmZmZmEkAAAAAAAAAUQJqZmZmZmRVAZmZmZmZmEkAAAAAAAAAUQJqZmZmZmRFAmpmZmZmZE0CamZmZmZkVQDMzMzMzMxNAMzMzMzMzE0AzMzMzMzMRQDMzMzMzMxdAzczMzMzMFkCamZmZmZkVQGZmZmZmZhRAzczMzMzMFkBmZmZmZmYUQJqZmZmZmRVAZmZmZmZmFEBmZmZmZmYSQGZmZmZmZhRAMzMzMzMzE0AAAAAAAAAUQAAAAAAAABRAzczMzMzMFEDNzMzMzMwUQM3MzMzMzBJAMzMzMzMzE0CamZmZmZkVQM3MzMzMzBRAAAAAAAAAFkCamZmZmZkTQAAAAAAAABRAAAAAAAAAFkCamZmZmZkTQJqZmZmZmRFAZmZmZmZmFEAAAAAAAAAUQAAAAAAAABJAmpmZmZmZEUAAAAAAAAAUQGZmZmZmZhRAMzMzMzMzE0BmZmZmZmYUQGZmZmZmZhJAMzMzMzMzFUAAAAAAAAAUQAAAAAAAABxAmpmZmZmZGUCamZmZmZkbQAAAAAAAABZAAAAAAAAAGkDNzMzMzMwWQDMzMzMzMxlAmpmZmZmZE0BmZmZmZmYaQM3MzMzMzBRAAAAAAAAAFECamZmZmZkXQAAAAAAAABhAZmZmZmZmGEBmZmZmZmYWQM3MzMzMzBpAZmZmZmZmFkAzMzMzMzMXQM3MzMzMzBhAZmZmZmZmFkCamZmZmZkXQGZmZmZmZhhAMzMzMzMzGUBmZmZmZmYYQJqZmZmZmRlAZmZmZmZmGkAzMzMzMzMbQM3MzMzMzBpAAAAAAAAAGEDNzMzMzMwWQAAAAAAAABZAAAAAAAAAFkAzMzMzMzMXQAAAAAAAABhAmpmZmZmZFUAAAAAAAAAYQM3MzMzMzBpAMzMzMzMzGUBmZmZmZmYWQAAAAAAAABZAAAAAAAAAFkBmZmZmZmYYQDMzMzMzMxdAAAAAAAAAFEBmZmZmZmYWQM3MzMzMzBZAzczMzMzMFkDNzMzMzMwYQGZmZmZmZhRAzczMzMzMFkAzMzMzMzMZQDMzMzMzMxdAZmZmZmZmHEAzMzMzMzMZQAAAAAAAABpAZmZmZmZmHkCamZmZmZkTQDMzMzMzMx1AzczMzMzMGkDNzMzMzMwcQAAAAAAAABpAmpmZmZmZGUAzMzMzMzMbQM3MzMzMzBZAMzMzMzMzF0CamZmZmZkZQAAAAAAAABpAzczMzMzMHkDNzMzMzMweQAAAAAAAABhAmpmZmZmZG0BmZmZmZmYWQM3MzMzMzB5AMzMzMzMzGUDNzMzMzMwaQM3MzMzMzBxAzczMzMzMGEBmZmZmZmYYQJqZmZmZmRlAzczMzMzMHECamZmZmZkdQJqZmZmZmR9AmpmZmZmZGUAzMzMzMzMZQGZmZmZmZhhAzczMzMzMHkAzMzMzMzMZQJqZmZmZmRlAAAAAAAAAGECamZmZmZkbQM3MzMzMzBpAmpmZmZmZG0AzMzMzMzMXQDMzMzMzMxtAzczMzMzMGkDNzMzMzMwaQDMzMzMzMxlAAAAAAAAAGkDNzMzMzMwYQJqZmZmZmRdA\",\"dtype\":\"float64\",\"shape\":[150]},\"sepal_width\":{\"__ndarray__\":\"AAAAAAAADEAAAAAAAAAIQJqZmZmZmQlAzczMzMzMCEDNzMzMzMwMQDMzMzMzMw9AMzMzMzMzC0AzMzMzMzMLQDMzMzMzMwdAzczMzMzMCECamZmZmZkNQDMzMzMzMwtAAAAAAAAACEAAAAAAAAAIQAAAAAAAABBAmpmZmZmZEUAzMzMzMzMPQAAAAAAAAAxAZmZmZmZmDkBmZmZmZmYOQDMzMzMzMwtAmpmZmZmZDUDNzMzMzMwMQGZmZmZmZgpAMzMzMzMzC0AAAAAAAAAIQDMzMzMzMwtAAAAAAAAADEAzMzMzMzMLQJqZmZmZmQlAzczMzMzMCEAzMzMzMzMLQGZmZmZmZhBAzczMzMzMEEDNzMzMzMwIQJqZmZmZmQlAAAAAAAAADEDNzMzMzMwMQAAAAAAAAAhAMzMzMzMzC0AAAAAAAAAMQGZmZmZmZgJAmpmZmZmZCUAAAAAAAAAMQGZmZmZmZg5AAAAAAAAACEBmZmZmZmYOQJqZmZmZmQlAmpmZmZmZDUBmZmZmZmYKQJqZmZmZmQlAmpmZmZmZCUDNzMzMzMwIQGZmZmZmZgJAZmZmZmZmBkBmZmZmZmYGQGZmZmZmZgpAMzMzMzMzA0AzMzMzMzMHQJqZmZmZmQVAAAAAAAAAAEAAAAAAAAAIQJqZmZmZmQFAMzMzMzMzB0AzMzMzMzMHQM3MzMzMzAhAAAAAAAAACECamZmZmZkFQJqZmZmZmQFAAAAAAAAABECamZmZmZkJQGZmZmZmZgZAAAAAAAAABEBmZmZmZmYGQDMzMzMzMwdAAAAAAAAACEBmZmZmZmYGQAAAAAAAAAhAMzMzMzMzB0DNzMzMzMwEQDMzMzMzMwNAMzMzMzMzA0CamZmZmZkFQJqZmZmZmQVAAAAAAAAACEAzMzMzMzMLQM3MzMzMzAhAZmZmZmZmAkAAAAAAAAAIQAAAAAAAAARAzczMzMzMBEAAAAAAAAAIQM3MzMzMzARAZmZmZmZmAkCamZmZmZkFQAAAAAAAAAhAMzMzMzMzB0AzMzMzMzMHQAAAAAAAAARAZmZmZmZmBkBmZmZmZmYKQJqZmZmZmQVAAAAAAAAACEAzMzMzMzMHQAAAAAAAAAhAAAAAAAAACEAAAAAAAAAEQDMzMzMzMwdAAAAAAAAABEDNzMzMzMwMQJqZmZmZmQlAmpmZmZmZBUAAAAAAAAAIQAAAAAAAAARAZmZmZmZmBkCamZmZmZkJQAAAAAAAAAhAZmZmZmZmDkDNzMzMzMwEQJqZmZmZmQFAmpmZmZmZCUBmZmZmZmYGQGZmZmZmZgZAmpmZmZmZBUBmZmZmZmYKQJqZmZmZmQlAZmZmZmZmBkAAAAAAAAAIQGZmZmZmZgZAAAAAAAAACEBmZmZmZmYGQGZmZmZmZg5AZmZmZmZmBkBmZmZmZmYGQM3MzMzMzARAAAAAAAAACEAzMzMzMzMLQM3MzMzMzAhAAAAAAAAACEDNzMzMzMwIQM3MzMzMzAhAzczMzMzMCECamZmZmZkFQJqZmZmZmQlAZmZmZmZmCkAAAAAAAAAIQAAAAAAAAARAAAAAAAAACEAzMzMzMzMLQAAAAAAAAAhA\",\"dtype\":\"float64\",\"shape\":[150]},\"species\":[\"setosa\",\"setosa\",\"setosa\",\"setosa\",\"setosa\",\"setosa\",\"setosa\",\"setosa\",\"setosa\",\"setosa\",\"setosa\",\"setosa\",\"setosa\",\"setosa\",\"setosa\",\"setosa\",\"setosa\",\"setosa\",\"setosa\",\"setosa\",\"setosa\",\"setosa\",\"setosa\",\"setosa\",\"setosa\",\"setosa\",\"setosa\",\"setosa\",\"setosa\",\"setosa\",\"setosa\",\"setosa\",\"setosa\",\"setosa\",\"setosa\",\"setosa\",\"setosa\",\"setosa\",\"setosa\",\"setosa\",\"setosa\",\"setosa\",\"setosa\",\"setosa\",\"setosa\",\"setosa\",\"setosa\",\"setosa\",\"setosa\",\"setosa\",\"versicolor\",\"versicolor\",\"versicolor\",\"versicolor\",\"versicolor\",\"versicolor\",\"versicolor\",\"versicolor\",\"versicolor\",\"versicolor\",\"versicolor\",\"versicolor\",\"versicolor\",\"versicolor\",\"versicolor\",\"versicolor\",\"versicolor\",\"versicolor\",\"versicolor\",\"versicolor\",\"versicolor\",\"versicolor\",\"versicolor\",\"versicolor\",\"versicolor\",\"versicolor\",\"versicolor\",\"versicolor\",\"versicolor\",\"versicolor\",\"versicolor\",\"versicolor\",\"versicolor\",\"versicolor\",\"versicolor\",\"versicolor\",\"versicolor\",\"versicolor\",\"versicolor\",\"versicolor\",\"versicolor\",\"versicolor\",\"versicolor\",\"versicolor\",\"versicolor\",\"versicolor\",\"versicolor\",\"versicolor\",\"versicolor\",\"versicolor\",\"virginica\",\"virginica\",\"virginica\",\"virginica\",\"virginica\",\"virginica\",\"virginica\",\"virginica\",\"virginica\",\"virginica\",\"virginica\",\"virginica\",\"virginica\",\"virginica\",\"virginica\",\"virginica\",\"virginica\",\"virginica\",\"virginica\",\"virginica\",\"virginica\",\"virginica\",\"virginica\",\"virginica\",\"virginica\",\"virginica\",\"virginica\",\"virginica\",\"virginica\",\"virginica\",\"virginica\",\"virginica\",\"virginica\",\"virginica\",\"virginica\",\"virginica\",\"virginica\",\"virginica\",\"virginica\",\"virginica\",\"virginica\",\"virginica\",\"virginica\",\"virginica\",\"virginica\",\"virginica\",\"virginica\",\"virginica\",\"virginica\",\"virginica\"]}},\"id\":\"59601530-d68e-479e-b498-9069afc6db56\",\"type\":\"ColumnDataSource\"},{\"attributes\":{},\"id\":\"c1f19999-2557-41df-a4bc-692ec51d2418\",\"type\":\"PanTool\"},{\"attributes\":{},\"id\":\"290fbb43-6aba-40d8-b9cd-61f7d3942a2e\",\"type\":\"WheelZoomTool\"},{\"attributes\":{\"overlay\":{\"id\":\"187e010e-3bc1-43b7-b6b1-de7db234ed31\",\"type\":\"BoxAnnotation\"}},\"id\":\"909b7ec8-ce6e-4f4a-83bf-47e17d40a7c8\",\"type\":\"BoxZoomTool\"},{\"attributes\":{},\"id\":\"1b8b83c6-3ff9-4c80-9bdd-f9b4a8e66292\",\"type\":\"SaveTool\"},{\"attributes\":{\"plot\":null,\"text\":\"petal lenght vs. sepal lenght\"},\"id\":\"9de53d69-1191-4679-8ec2-8d1059da4ef5\",\"type\":\"Title\"},{\"attributes\":{},\"id\":\"c50ba461-d2e0-4648-8fe0-a8643bfae09c\",\"type\":\"ResetTool\"},{\"attributes\":{},\"id\":\"6e0dfae3-a8a6-45c3-a10f-def02667ce94\",\"type\":\"HelpTool\"},{\"attributes\":{\"source\":{\"id\":\"c3562e53-35e0-4ade-b24a-deea9287b7df\",\"type\":\"ColumnDataSource\"}},\"id\":\"74d468ac-7e1c-4f0e-8c18-63c6ada5a2b6\",\"type\":\"CDSView\"},{\"attributes\":{},\"id\":\"ca8a92f9-d5f2-44e9-a284-525af29bcc1d\",\"type\":\"BasicTickFormatter\"},{\"attributes\":{},\"id\":\"c29dc50e-8f29-4f84-b454-b7b4bdc83663\",\"type\":\"BasicTickFormatter\"},{\"attributes\":{\"data_source\":{\"id\":\"c3562e53-35e0-4ade-b24a-deea9287b7df\",\"type\":\"ColumnDataSource\"},\"glyph\":{\"id\":\"f99e50fa-4020-40fa-a4d1-0caf552659ae\",\"type\":\"Square\"},\"hover_glyph\":null,\"muted_glyph\":null,\"nonselection_glyph\":{\"id\":\"2bcaa545-4c5a-4e04-86a6-331aedf0008f\",\"type\":\"Square\"},\"selection_glyph\":null,\"view\":{\"id\":\"74d468ac-7e1c-4f0e-8c18-63c6ada5a2b6\",\"type\":\"CDSView\"}},\"id\":\"bb2eb9f9-e608-4001-8df9-a94854da16cd\",\"type\":\"GlyphRenderer\"},{\"attributes\":{\"callback\":null},\"id\":\"d1e5df24-c1cb-4251-b10f-b78622e97011\",\"type\":\"DataRange1d\"},{\"attributes\":{\"callback\":null},\"id\":\"91ad912b-c4d5-4667-afa1-4a04ebfdd9f3\",\"type\":\"DataRange1d\"},{\"attributes\":{\"fill_alpha\":{\"value\":0.1},\"fill_color\":{\"value\":\"#1f77b4\"},\"line_alpha\":{\"value\":0.1},\"line_color\":{\"value\":\"#1f77b4\"},\"x\":{\"field\":\"petal_length\"},\"y\":{\"field\":\"sepal_width\"}},\"id\":\"2bcaa545-4c5a-4e04-86a6-331aedf0008f\",\"type\":\"Square\"},{\"attributes\":{},\"id\":\"893c9a21-eac0-48f5-83bc-8c3bb25d0c6f\",\"type\":\"LinearScale\"},{\"attributes\":{\"active_drag\":\"auto\",\"active_inspect\":\"auto\",\"active_scroll\":\"auto\",\"active_tap\":\"auto\",\"tools\":[{\"id\":\"b12bf3bf-ae3c-4f9e-9d95-90b02378879e\",\"type\":\"PanTool\"},{\"id\":\"214ba040-8d8f-4fb8-8c68-a29b56e0851f\",\"type\":\"WheelZoomTool\"},{\"id\":\"7b201172-f985-4aeb-8adc-ce05daecac64\",\"type\":\"BoxZoomTool\"},{\"id\":\"0f10fb74-d623-42a0-88b6-b8a6d24f7e19\",\"type\":\"SaveTool\"},{\"id\":\"4eeabe7c-ecb9-4897-a2d6-bfcea38efeea\",\"type\":\"ResetTool\"},{\"id\":\"a154a9f2-dc28-4bc8-8386-cc8e4b10eef8\",\"type\":\"HelpTool\"}]},\"id\":\"62794a98-815d-4371-af30-b1d886bd620b\",\"type\":\"Toolbar\"},{\"attributes\":{},\"id\":\"9566ffc3-3a1d-434d-8419-be8e47fa6f3b\",\"type\":\"LinearScale\"},{\"attributes\":{\"plot\":{\"id\":\"fdaec900-295b-47b2-b00e-13621d4db9e6\",\"subtype\":\"Figure\",\"type\":\"Plot\"},\"ticker\":{\"id\":\"1aba3deb-5930-45d5-bbaa-6c7db54dba88\",\"type\":\"BasicTicker\"}},\"id\":\"e7e2406d-00b8-4cee-90ae-439c659bc26f\",\"type\":\"Grid\"},{\"attributes\":{\"formatter\":{\"id\":\"56d939a9-317d-4937-941a-9c56cdf64857\",\"type\":\"BasicTickFormatter\"},\"plot\":{\"id\":\"fdaec900-295b-47b2-b00e-13621d4db9e6\",\"subtype\":\"Figure\",\"type\":\"Plot\"},\"ticker\":{\"id\":\"1aba3deb-5930-45d5-bbaa-6c7db54dba88\",\"type\":\"BasicTicker\"}},\"id\":\"4be84d64-f1e9-445e-b324-dde5693ec065\",\"type\":\"LinearAxis\"},{\"attributes\":{},\"id\":\"1aba3deb-5930-45d5-bbaa-6c7db54dba88\",\"type\":\"BasicTicker\"},{\"attributes\":{\"formatter\":{\"id\":\"2ee2f36a-8c60-42b0-8876-140fcd0303ec\",\"type\":\"BasicTickFormatter\"},\"plot\":{\"id\":\"fdaec900-295b-47b2-b00e-13621d4db9e6\",\"subtype\":\"Figure\",\"type\":\"Plot\"},\"ticker\":{\"id\":\"0de935b8-5821-49af-98b3-3ea3624266d9\",\"type\":\"BasicTicker\"}},\"id\":\"476062bc-b737-4214-a1a6-8647ed18aee4\",\"type\":\"LinearAxis\"},{\"attributes\":{},\"id\":\"0de935b8-5821-49af-98b3-3ea3624266d9\",\"type\":\"BasicTicker\"},{\"attributes\":{\"dimension\":1,\"plot\":{\"id\":\"fdaec900-295b-47b2-b00e-13621d4db9e6\",\"subtype\":\"Figure\",\"type\":\"Plot\"},\"ticker\":{\"id\":\"0de935b8-5821-49af-98b3-3ea3624266d9\",\"type\":\"BasicTicker\"}},\"id\":\"c0bc3cca-74c2-4f24-af7f-3eff19d4284e\",\"type\":\"Grid\"},{\"attributes\":{\"fill_alpha\":{\"value\":0.1},\"fill_color\":{\"value\":\"#1f77b4\"},\"line_alpha\":{\"value\":0.1},\"line_color\":{\"value\":\"#1f77b4\"},\"x\":{\"field\":\"petal_length\"},\"y\":{\"field\":\"sepal_length\"}},\"id\":\"a25fd5ee-0650-4d37-a7e1-15064a258219\",\"type\":\"Circle\"},{\"attributes\":{\"data_source\":{\"id\":\"2957709d-fa63-40c4-a4c4-3f0489d1b913\",\"type\":\"ColumnDataSource\"},\"glyph\":{\"id\":\"3f609fce-1c20-41b2-abb3-8df6b28c5375\",\"type\":\"Diamond\"},\"hover_glyph\":null,\"muted_glyph\":null,\"nonselection_glyph\":{\"id\":\"f4cc7383-d2fd-4c1c-9744-b54109e5a7cd\",\"type\":\"Diamond\"},\"selection_glyph\":null,\"view\":{\"id\":\"6777607e-6743-4a4d-b773-a8bbcd2e3b28\",\"type\":\"CDSView\"}},\"id\":\"c8a88e97-9889-41af-b806-4f5d616bdb32\",\"type\":\"GlyphRenderer\"},{\"attributes\":{\"callback\":null,\"column_names\":[\"sepal_length\",\"sepal_width\",\"petal_length\",\"petal_width\",\"species\",\"index\"],\"data\":{\"index\":[0,1,2,3,4,5,6,7,8,9,10,11,12,13,14,15,16,17,18,19,20,21,22,23,24,25,26,27,28,29,30,31,32,33,34,35,36,37,38,39,40,41,42,43,44,45,46,47,48,49,50,51,52,53,54,55,56,57,58,59,60,61,62,63,64,65,66,67,68,69,70,71,72,73,74,75,76,77,78,79,80,81,82,83,84,85,86,87,88,89,90,91,92,93,94,95,96,97,98,99,100,101,102,103,104,105,106,107,108,109,110,111,112,113,114,115,116,117,118,119,120,121,122,123,124,125,126,127,128,129,130,131,132,133,134,135,136,137,138,139,140,141,142,143,144,145,146,147,148,149],\"petal_length\":{\"__ndarray__\":\"ZmZmZmZm9j9mZmZmZmb2P83MzMzMzPQ/AAAAAAAA+D9mZmZmZmb2PzMzMzMzM/s/ZmZmZmZm9j8AAAAAAAD4P2ZmZmZmZvY/AAAAAAAA+D8AAAAAAAD4P5qZmZmZmfk/ZmZmZmZm9j+amZmZmZnxPzMzMzMzM/M/AAAAAAAA+D/NzMzMzMz0P2ZmZmZmZvY/MzMzMzMz+z8AAAAAAAD4PzMzMzMzM/s/AAAAAAAA+D8AAAAAAADwPzMzMzMzM/s/ZmZmZmZm/j+amZmZmZn5P5qZmZmZmfk/AAAAAAAA+D9mZmZmZmb2P5qZmZmZmfk/mpmZmZmZ+T8AAAAAAAD4PwAAAAAAAPg/ZmZmZmZm9j8AAAAAAAD4PzMzMzMzM/M/zczMzMzM9D9mZmZmZmb2P83MzMzMzPQ/AAAAAAAA+D/NzMzMzMz0P83MzMzMzPQ/zczMzMzM9D+amZmZmZn5P2ZmZmZmZv4/ZmZmZmZm9j+amZmZmZn5P2ZmZmZmZvY/AAAAAAAA+D9mZmZmZmb2P83MzMzMzBJAAAAAAAAAEkCamZmZmZkTQAAAAAAAABBAZmZmZmZmEkAAAAAAAAASQM3MzMzMzBJAZmZmZmZmCkBmZmZmZmYSQDMzMzMzMw9AAAAAAAAADEDNzMzMzMwQQAAAAAAAABBAzczMzMzMEkDNzMzMzMwMQJqZmZmZmRFAAAAAAAAAEkBmZmZmZmYQQAAAAAAAABJAMzMzMzMzD0AzMzMzMzMTQAAAAAAAABBAmpmZmZmZE0DNzMzMzMwSQDMzMzMzMxFAmpmZmZmZEUAzMzMzMzMTQAAAAAAAABRAAAAAAAAAEkAAAAAAAAAMQGZmZmZmZg5AmpmZmZmZDUAzMzMzMzMPQGZmZmZmZhRAAAAAAAAAEkAAAAAAAAASQM3MzMzMzBJAmpmZmZmZEUBmZmZmZmYQQAAAAAAAABBAmpmZmZmZEUBmZmZmZmYSQAAAAAAAABBAZmZmZmZmCkDNzMzMzMwQQM3MzMzMzBBAzczMzMzMEEAzMzMzMzMRQAAAAAAAAAhAZmZmZmZmEEAAAAAAAAAYQGZmZmZmZhRAmpmZmZmZF0BmZmZmZmYWQDMzMzMzMxdAZmZmZmZmGkAAAAAAAAASQDMzMzMzMxlAMzMzMzMzF0BmZmZmZmYYQGZmZmZmZhRAMzMzMzMzFUAAAAAAAAAWQAAAAAAAABRAZmZmZmZmFEAzMzMzMzMVQAAAAAAAABZAzczMzMzMGkCamZmZmZkbQAAAAAAAABRAzczMzMzMFkCamZmZmZkTQM3MzMzMzBpAmpmZmZmZE0DNzMzMzMwWQAAAAAAAABhAMzMzMzMzE0CamZmZmZkTQGZmZmZmZhZAMzMzMzMzF0BmZmZmZmYYQJqZmZmZmRlAZmZmZmZmFkBmZmZmZmYUQGZmZmZmZhZAZmZmZmZmGEBmZmZmZmYWQAAAAAAAABZAMzMzMzMzE0CamZmZmZkVQGZmZmZmZhZAZmZmZmZmFEBmZmZmZmYUQJqZmZmZmRdAzczMzMzMFkDNzMzMzMwUQAAAAAAAABRAzczMzMzMFECamZmZmZkVQGZmZmZmZhRA\",\"dtype\":\"float64\",\"shape\":[150]},\"petal_width\":{\"__ndarray__\":\"mpmZmZmZyT+amZmZmZnJP5qZmZmZmck/mpmZmZmZyT+amZmZmZnJP5qZmZmZmdk/MzMzMzMz0z+amZmZmZnJP5qZmZmZmck/mpmZmZmZuT+amZmZmZnJP5qZmZmZmck/mpmZmZmZuT+amZmZmZm5P5qZmZmZmck/mpmZmZmZ2T+amZmZmZnZPzMzMzMzM9M/MzMzMzMz0z8zMzMzMzPTP5qZmZmZmck/mpmZmZmZ2T+amZmZmZnJPwAAAAAAAOA/mpmZmZmZyT+amZmZmZnJP5qZmZmZmdk/mpmZmZmZyT+amZmZmZnJP5qZmZmZmck/mpmZmZmZyT+amZmZmZnZP5qZmZmZmbk/mpmZmZmZyT+amZmZmZnJP5qZmZmZmck/mpmZmZmZyT+amZmZmZm5P5qZmZmZmck/mpmZmZmZyT8zMzMzMzPTPzMzMzMzM9M/mpmZmZmZyT8zMzMzMzPjP5qZmZmZmdk/MzMzMzMz0z+amZmZmZnJP5qZmZmZmck/mpmZmZmZyT+amZmZmZnJP2ZmZmZmZvY/AAAAAAAA+D8AAAAAAAD4P83MzMzMzPQ/AAAAAAAA+D/NzMzMzMz0P5qZmZmZmfk/AAAAAAAA8D/NzMzMzMz0P2ZmZmZmZvY/AAAAAAAA8D8AAAAAAAD4PwAAAAAAAPA/ZmZmZmZm9j/NzMzMzMz0P2ZmZmZmZvY/AAAAAAAA+D8AAAAAAADwPwAAAAAAAPg/mpmZmZmZ8T/NzMzMzMz8P83MzMzMzPQ/AAAAAAAA+D8zMzMzMzPzP83MzMzMzPQ/ZmZmZmZm9j9mZmZmZmb2PzMzMzMzM/s/AAAAAAAA+D8AAAAAAADwP5qZmZmZmfE/AAAAAAAA8D8zMzMzMzPzP5qZmZmZmfk/AAAAAAAA+D+amZmZmZn5PwAAAAAAAPg/zczMzMzM9D/NzMzMzMz0P83MzMzMzPQ/MzMzMzMz8z9mZmZmZmb2PzMzMzMzM/M/AAAAAAAA8D/NzMzMzMz0PzMzMzMzM/M/zczMzMzM9D/NzMzMzMz0P5qZmZmZmfE/zczMzMzM9D8AAAAAAAAEQGZmZmZmZv4/zczMzMzMAEDNzMzMzMz8P5qZmZmZmQFAzczMzMzMAEAzMzMzMzP7P83MzMzMzPw/zczMzMzM/D8AAAAAAAAEQAAAAAAAAABAZmZmZmZm/j/NzMzMzMwAQAAAAAAAAABAMzMzMzMzA0BmZmZmZmYCQM3MzMzMzPw/mpmZmZmZAUBmZmZmZmYCQAAAAAAAAPg/ZmZmZmZmAkAAAAAAAAAAQAAAAAAAAABAzczMzMzM/D/NzMzMzMwAQM3MzMzMzPw/zczMzMzM/D/NzMzMzMz8P83MzMzMzABAmpmZmZmZ+T9mZmZmZmb+PwAAAAAAAABAmpmZmZmZAUAAAAAAAAD4P2ZmZmZmZvY/ZmZmZmZmAkAzMzMzMzMDQM3MzMzMzPw/zczMzMzM/D/NzMzMzMwAQDMzMzMzMwNAZmZmZmZmAkBmZmZmZmb+P2ZmZmZmZgJAAAAAAAAABEBmZmZmZmYCQGZmZmZmZv4/AAAAAAAAAEBmZmZmZmYCQM3MzMzMzPw/\",\"dtype\":\"float64\",\"shape\":[150]},\"sepal_length\":{\"__ndarray__\":\"ZmZmZmZmFECamZmZmZkTQM3MzMzMzBJAZmZmZmZmEkAAAAAAAAAUQJqZmZmZmRVAZmZmZmZmEkAAAAAAAAAUQJqZmZmZmRFAmpmZmZmZE0CamZmZmZkVQDMzMzMzMxNAMzMzMzMzE0AzMzMzMzMRQDMzMzMzMxdAzczMzMzMFkCamZmZmZkVQGZmZmZmZhRAzczMzMzMFkBmZmZmZmYUQJqZmZmZmRVAZmZmZmZmFEBmZmZmZmYSQGZmZmZmZhRAMzMzMzMzE0AAAAAAAAAUQAAAAAAAABRAzczMzMzMFEDNzMzMzMwUQM3MzMzMzBJAMzMzMzMzE0CamZmZmZkVQM3MzMzMzBRAAAAAAAAAFkCamZmZmZkTQAAAAAAAABRAAAAAAAAAFkCamZmZmZkTQJqZmZmZmRFAZmZmZmZmFEAAAAAAAAAUQAAAAAAAABJAmpmZmZmZEUAAAAAAAAAUQGZmZmZmZhRAMzMzMzMzE0BmZmZmZmYUQGZmZmZmZhJAMzMzMzMzFUAAAAAAAAAUQAAAAAAAABxAmpmZmZmZGUCamZmZmZkbQAAAAAAAABZAAAAAAAAAGkDNzMzMzMwWQDMzMzMzMxlAmpmZmZmZE0BmZmZmZmYaQM3MzMzMzBRAAAAAAAAAFECamZmZmZkXQAAAAAAAABhAZmZmZmZmGEBmZmZmZmYWQM3MzMzMzBpAZmZmZmZmFkAzMzMzMzMXQM3MzMzMzBhAZmZmZmZmFkCamZmZmZkXQGZmZmZmZhhAMzMzMzMzGUBmZmZmZmYYQJqZmZmZmRlAZmZmZmZmGkAzMzMzMzMbQM3MzMzMzBpAAAAAAAAAGEDNzMzMzMwWQAAAAAAAABZAAAAAAAAAFkAzMzMzMzMXQAAAAAAAABhAmpmZmZmZFUAAAAAAAAAYQM3MzMzMzBpAMzMzMzMzGUBmZmZmZmYWQAAAAAAAABZAAAAAAAAAFkBmZmZmZmYYQDMzMzMzMxdAAAAAAAAAFEBmZmZmZmYWQM3MzMzMzBZAzczMzMzMFkDNzMzMzMwYQGZmZmZmZhRAzczMzMzMFkAzMzMzMzMZQDMzMzMzMxdAZmZmZmZmHEAzMzMzMzMZQAAAAAAAABpAZmZmZmZmHkCamZmZmZkTQDMzMzMzMx1AzczMzMzMGkDNzMzMzMwcQAAAAAAAABpAmpmZmZmZGUAzMzMzMzMbQM3MzMzMzBZAMzMzMzMzF0CamZmZmZkZQAAAAAAAABpAzczMzMzMHkDNzMzMzMweQAAAAAAAABhAmpmZmZmZG0BmZmZmZmYWQM3MzMzMzB5AMzMzMzMzGUDNzMzMzMwaQM3MzMzMzBxAzczMzMzMGEBmZmZmZmYYQJqZmZmZmRlAzczMzMzMHECamZmZmZkdQJqZmZmZmR9AmpmZmZmZGUAzMzMzMzMZQGZmZmZmZhhAzczMzMzMHkAzMzMzMzMZQJqZmZmZmRlAAAAAAAAAGECamZmZmZkbQM3MzMzMzBpAmpmZmZmZG0AzMzMzMzMXQDMzMzMzMxtAzczMzMzMGkDNzMzMzMwaQDMzMzMzMxlAAAAAAAAAGkDNzMzMzMwYQJqZmZmZmRdA\",\"dtype\":\"float64\",\"shape\":[150]},\"sepal_width\":{\"__ndarray__\":\"AAAAAAAADEAAAAAAAAAIQJqZmZmZmQlAzczMzMzMCEDNzMzMzMwMQDMzMzMzMw9AMzMzMzMzC0AzMzMzMzMLQDMzMzMzMwdAzczMzMzMCECamZmZmZkNQDMzMzMzMwtAAAAAAAAACEAAAAAAAAAIQAAAAAAAABBAmpmZmZmZEUAzMzMzMzMPQAAAAAAAAAxAZmZmZmZmDkBmZmZmZmYOQDMzMzMzMwtAmpmZmZmZDUDNzMzMzMwMQGZmZmZmZgpAMzMzMzMzC0AAAAAAAAAIQDMzMzMzMwtAAAAAAAAADEAzMzMzMzMLQJqZmZmZmQlAzczMzMzMCEAzMzMzMzMLQGZmZmZmZhBAzczMzMzMEEDNzMzMzMwIQJqZmZmZmQlAAAAAAAAADEDNzMzMzMwMQAAAAAAAAAhAMzMzMzMzC0AAAAAAAAAMQGZmZmZmZgJAmpmZmZmZCUAAAAAAAAAMQGZmZmZmZg5AAAAAAAAACEBmZmZmZmYOQJqZmZmZmQlAmpmZmZmZDUBmZmZmZmYKQJqZmZmZmQlAmpmZmZmZCUDNzMzMzMwIQGZmZmZmZgJAZmZmZmZmBkBmZmZmZmYGQGZmZmZmZgpAMzMzMzMzA0AzMzMzMzMHQJqZmZmZmQVAAAAAAAAAAEAAAAAAAAAIQJqZmZmZmQFAMzMzMzMzB0AzMzMzMzMHQM3MzMzMzAhAAAAAAAAACECamZmZmZkFQJqZmZmZmQFAAAAAAAAABECamZmZmZkJQGZmZmZmZgZAAAAAAAAABEBmZmZmZmYGQDMzMzMzMwdAAAAAAAAACEBmZmZmZmYGQAAAAAAAAAhAMzMzMzMzB0DNzMzMzMwEQDMzMzMzMwNAMzMzMzMzA0CamZmZmZkFQJqZmZmZmQVAAAAAAAAACEAzMzMzMzMLQM3MzMzMzAhAZmZmZmZmAkAAAAAAAAAIQAAAAAAAAARAzczMzMzMBEAAAAAAAAAIQM3MzMzMzARAZmZmZmZmAkCamZmZmZkFQAAAAAAAAAhAMzMzMzMzB0AzMzMzMzMHQAAAAAAAAARAZmZmZmZmBkBmZmZmZmYKQJqZmZmZmQVAAAAAAAAACEAzMzMzMzMHQAAAAAAAAAhAAAAAAAAACEAAAAAAAAAEQDMzMzMzMwdAAAAAAAAABEDNzMzMzMwMQJqZmZmZmQlAmpmZmZmZBUAAAAAAAAAIQAAAAAAAAARAZmZmZmZmBkCamZmZmZkJQAAAAAAAAAhAZmZmZmZmDkDNzMzMzMwEQJqZmZmZmQFAmpmZmZmZCUBmZmZmZmYGQGZmZmZmZgZAmpmZmZmZBUBmZmZmZmYKQJqZmZmZmQlAZmZmZmZmBkAAAAAAAAAIQGZmZmZmZgZAAAAAAAAACEBmZmZmZmYGQGZmZmZmZg5AZmZmZmZmBkBmZmZmZmYGQM3MzMzMzARAAAAAAAAACEAzMzMzMzMLQM3MzMzMzAhAAAAAAAAACEDNzMzMzMwIQM3MzMzMzAhAzczMzMzMCECamZmZmZkFQJqZmZmZmQlAZmZmZmZmCkAAAAAAAAAIQAAAAAAAAARAAAAAAAAACEAzMzMzMzMLQAAAAAAAAAhA\",\"dtype\":\"float64\",\"shape\":[150]},\"species\":[\"setosa\",\"setosa\",\"setosa\",\"setosa\",\"setosa\",\"setosa\",\"setosa\",\"setosa\",\"setosa\",\"setosa\",\"setosa\",\"setosa\",\"setosa\",\"setosa\",\"setosa\",\"setosa\",\"setosa\",\"setosa\",\"setosa\",\"setosa\",\"setosa\",\"setosa\",\"setosa\",\"setosa\",\"setosa\",\"setosa\",\"setosa\",\"setosa\",\"setosa\",\"setosa\",\"setosa\",\"setosa\",\"setosa\",\"setosa\",\"setosa\",\"setosa\",\"setosa\",\"setosa\",\"setosa\",\"setosa\",\"setosa\",\"setosa\",\"setosa\",\"setosa\",\"setosa\",\"setosa\",\"setosa\",\"setosa\",\"setosa\",\"setosa\",\"versicolor\",\"versicolor\",\"versicolor\",\"versicolor\",\"versicolor\",\"versicolor\",\"versicolor\",\"versicolor\",\"versicolor\",\"versicolor\",\"versicolor\",\"versicolor\",\"versicolor\",\"versicolor\",\"versicolor\",\"versicolor\",\"versicolor\",\"versicolor\",\"versicolor\",\"versicolor\",\"versicolor\",\"versicolor\",\"versicolor\",\"versicolor\",\"versicolor\",\"versicolor\",\"versicolor\",\"versicolor\",\"versicolor\",\"versicolor\",\"versicolor\",\"versicolor\",\"versicolor\",\"versicolor\",\"versicolor\",\"versicolor\",\"versicolor\",\"versicolor\",\"versicolor\",\"versicolor\",\"versicolor\",\"versicolor\",\"versicolor\",\"versicolor\",\"versicolor\",\"versicolor\",\"versicolor\",\"versicolor\",\"versicolor\",\"versicolor\",\"virginica\",\"virginica\",\"virginica\",\"virginica\",\"virginica\",\"virginica\",\"virginica\",\"virginica\",\"virginica\",\"virginica\",\"virginica\",\"virginica\",\"virginica\",\"virginica\",\"virginica\",\"virginica\",\"virginica\",\"virginica\",\"virginica\",\"virginica\",\"virginica\",\"virginica\",\"virginica\",\"virginica\",\"virginica\",\"virginica\",\"virginica\",\"virginica\",\"virginica\",\"virginica\",\"virginica\",\"virginica\",\"virginica\",\"virginica\",\"virginica\",\"virginica\",\"virginica\",\"virginica\",\"virginica\",\"virginica\",\"virginica\",\"virginica\",\"virginica\",\"virginica\",\"virginica\",\"virginica\",\"virginica\",\"virginica\",\"virginica\",\"virginica\"]}},\"id\":\"2957709d-fa63-40c4-a4c4-3f0489d1b913\",\"type\":\"ColumnDataSource\"}],\"root_ids\":[\"44a12862-5d79-4ca5-b8ff-383109f148d4\"]},\"title\":\"Bokeh Application\",\"version\":\"0.12.11\"}};\n",
       "    var render_items = [{\"docid\":\"b11a9cb8-0a05-42db-9e4d-72d59b5d7a06\",\"elementid\":\"65e4f911-b71b-4cd6-bfc1-ae05e22a38cb\",\"modelid\":\"44a12862-5d79-4ca5-b8ff-383109f148d4\"}];\n",
       "    root.Bokeh.embed.embed_items(docs_json, render_items);\n",
       "  }\n",
       "  if (root.Bokeh !== undefined) {\n",
       "    embed_document(root);\n",
       "  } else {\n",
       "    var attempts = 0;\n",
       "    var timer = setInterval(function(root) {\n",
       "      if (root.Bokeh !== undefined) {\n",
       "        embed_document(root);\n",
       "        clearInterval(timer);\n",
       "      }\n",
       "      attempts++;\n",
       "      if (attempts > 100) {\n",
       "        console.log(\"Bokeh: ERROR: Unable to embed document because BokehJS library is missing\")\n",
       "        clearInterval(timer);\n",
       "      }\n",
       "    }, 10, root)\n",
       "  }\n",
       "})(window);"
      ],
      "application/vnd.bokehjs_exec.v0+json": ""
     },
     "metadata": {
      "application/vnd.bokehjs_exec.v0+json": {
       "id": "44a12862-5d79-4ca5-b8ff-383109f148d4"
      }
     },
     "output_type": "display_data"
    }
   ],
   "source": [
    "from bokeh.layouts import gridplot\n",
    "layout = gridplot([None, p1], [p2, p3], toolbar_location=None)\n",
    "show(layout)\n",
    "\n",
    "#ou \n",
    "# row1 = [p1, p2]\n",
    "# row2 = [p3, p4]\n",
    "# layout = gridplot([row1, row2])"
   ]
  },
  {
   "cell_type": "code",
   "execution_count": 5,
   "metadata": {},
   "outputs": [
    {
     "data": {
      "text/html": [
       "\n",
       "<div class=\"bk-root\">\n",
       "    <div class=\"bk-plotdiv\" id=\"b745c2b8-253d-44b4-94d4-449518244bfb\"></div>\n",
       "</div>"
      ]
     },
     "metadata": {},
     "output_type": "display_data"
    },
    {
     "data": {
      "application/javascript": [
       "(function(root) {\n",
       "  function embed_document(root) {\n",
       "    var docs_json = {\"4bac257a-567c-4a82-8534-0b92b9114a29\":{\"roots\":{\"references\":[{\"attributes\":{},\"id\":\"797fc9eb-0d8c-4e29-aa69-971cfee7c436\",\"type\":\"LinearScale\"},{\"attributes\":{\"bottom_units\":\"screen\",\"fill_alpha\":{\"value\":0.5},\"fill_color\":{\"value\":\"lightgrey\"},\"left_units\":\"screen\",\"level\":\"overlay\",\"line_alpha\":{\"value\":1.0},\"line_color\":{\"value\":\"black\"},\"line_dash\":[4,4],\"line_width\":{\"value\":2},\"plot\":null,\"render_mode\":\"css\",\"right_units\":\"screen\",\"top_units\":\"screen\"},\"id\":\"74dad0a7-ff01-43aa-ba17-774b10417013\",\"type\":\"BoxAnnotation\"},{\"attributes\":{},\"id\":\"06d15d90-681c-4279-82fa-12ed3759ee72\",\"type\":\"LinearScale\"},{\"attributes\":{},\"id\":\"b12bf3bf-ae3c-4f9e-9d95-90b02378879e\",\"type\":\"PanTool\"},{\"attributes\":{\"data_source\":{\"id\":\"59601530-d68e-479e-b498-9069afc6db56\",\"type\":\"ColumnDataSource\"},\"glyph\":{\"id\":\"e847e1a0-6e5a-4d2a-82c3-91c0d0430cb8\",\"type\":\"Circle\"},\"hover_glyph\":null,\"muted_glyph\":null,\"nonselection_glyph\":{\"id\":\"a25fd5ee-0650-4d37-a7e1-15064a258219\",\"type\":\"Circle\"},\"selection_glyph\":null,\"view\":{\"id\":\"401d08fd-c350-4031-8c3a-86023c0ee39a\",\"type\":\"CDSView\"}},\"id\":\"7ed37766-6335-45d7-8ca8-6a49eaa61755\",\"type\":\"GlyphRenderer\"},{\"attributes\":{},\"id\":\"214ba040-8d8f-4fb8-8c68-a29b56e0851f\",\"type\":\"WheelZoomTool\"},{\"attributes\":{\"source\":{\"id\":\"59601530-d68e-479e-b498-9069afc6db56\",\"type\":\"ColumnDataSource\"}},\"id\":\"401d08fd-c350-4031-8c3a-86023c0ee39a\",\"type\":\"CDSView\"},{\"attributes\":{\"overlay\":{\"id\":\"74dad0a7-ff01-43aa-ba17-774b10417013\",\"type\":\"BoxAnnotation\"}},\"id\":\"7b201172-f985-4aeb-8adc-ce05daecac64\",\"type\":\"BoxZoomTool\"},{\"attributes\":{},\"id\":\"0f10fb74-d623-42a0-88b6-b8a6d24f7e19\",\"type\":\"SaveTool\"},{\"attributes\":{\"plot\":{\"id\":\"24db6cd6-889e-47f2-bb67-963801be433b\",\"subtype\":\"Figure\",\"type\":\"Plot\"},\"ticker\":{\"id\":\"fac388c3-b260-48c6-b164-429a0355355e\",\"type\":\"BasicTicker\"}},\"id\":\"0a248e5b-474a-4fb1-963b-ee311aef01c1\",\"type\":\"Grid\"},{\"attributes\":{},\"id\":\"4eeabe7c-ecb9-4897-a2d6-bfcea38efeea\",\"type\":\"ResetTool\"},{\"attributes\":{},\"id\":\"a154a9f2-dc28-4bc8-8386-cc8e4b10eef8\",\"type\":\"HelpTool\"},{\"attributes\":{\"formatter\":{\"id\":\"4eb11d5d-c459-49fd-93e4-d68d42eec319\",\"type\":\"BasicTickFormatter\"},\"plot\":{\"id\":\"24db6cd6-889e-47f2-bb67-963801be433b\",\"subtype\":\"Figure\",\"type\":\"Plot\"},\"ticker\":{\"id\":\"fac388c3-b260-48c6-b164-429a0355355e\",\"type\":\"BasicTicker\"}},\"id\":\"0ca41a1b-9155-46f7-98c3-278b68d5e97c\",\"type\":\"LinearAxis\"},{\"attributes\":{\"source\":{\"id\":\"2957709d-fa63-40c4-a4c4-3f0489d1b913\",\"type\":\"ColumnDataSource\"}},\"id\":\"6777607e-6743-4a4d-b773-a8bbcd2e3b28\",\"type\":\"CDSView\"},{\"attributes\":{},\"id\":\"fac388c3-b260-48c6-b164-429a0355355e\",\"type\":\"BasicTicker\"},{\"attributes\":{},\"id\":\"56d939a9-317d-4937-941a-9c56cdf64857\",\"type\":\"BasicTickFormatter\"},{\"attributes\":{\"formatter\":{\"id\":\"a5dd9e62-535e-46eb-b3a5-e5fa43b0b2a4\",\"type\":\"BasicTickFormatter\"},\"plot\":{\"id\":\"24db6cd6-889e-47f2-bb67-963801be433b\",\"subtype\":\"Figure\",\"type\":\"Plot\"},\"ticker\":{\"id\":\"5230e886-9fba-4a8f-b1d3-89d016bf2edc\",\"type\":\"BasicTicker\"}},\"id\":\"2fddae20-243c-4b9e-a4d5-132dff9b663e\",\"type\":\"LinearAxis\"},{\"attributes\":{},\"id\":\"2ee2f36a-8c60-42b0-8876-140fcd0303ec\",\"type\":\"BasicTickFormatter\"},{\"attributes\":{},\"id\":\"5230e886-9fba-4a8f-b1d3-89d016bf2edc\",\"type\":\"BasicTicker\"},{\"attributes\":{\"dimension\":1,\"plot\":{\"id\":\"24db6cd6-889e-47f2-bb67-963801be433b\",\"subtype\":\"Figure\",\"type\":\"Plot\"},\"ticker\":{\"id\":\"5230e886-9fba-4a8f-b1d3-89d016bf2edc\",\"type\":\"BasicTicker\"}},\"id\":\"251184bd-f4cc-4f27-90f8-7c2217825e4e\",\"type\":\"Grid\"},{\"attributes\":{\"bottom_units\":\"screen\",\"fill_alpha\":{\"value\":0.5},\"fill_color\":{\"value\":\"lightgrey\"},\"left_units\":\"screen\",\"level\":\"overlay\",\"line_alpha\":{\"value\":1.0},\"line_color\":{\"value\":\"black\"},\"line_dash\":[4,4],\"line_width\":{\"value\":2},\"plot\":null,\"render_mode\":\"css\",\"right_units\":\"screen\",\"top_units\":\"screen\"},\"id\":\"076917a1-af24-46e0-bc61-30cd39850cc0\",\"type\":\"BoxAnnotation\"},{\"attributes\":{},\"id\":\"4eb11d5d-c459-49fd-93e4-d68d42eec319\",\"type\":\"BasicTickFormatter\"},{\"attributes\":{\"callback\":null},\"id\":\"d602481f-82a7-4b8c-b9e4-22db146d300e\",\"type\":\"DataRange1d\"},{\"attributes\":{},\"id\":\"09b91e4a-e1ac-493e-bfe9-09cc54271b70\",\"type\":\"PanTool\"},{\"attributes\":{},\"id\":\"a5dd9e62-535e-46eb-b3a5-e5fa43b0b2a4\",\"type\":\"BasicTickFormatter\"},{\"attributes\":{\"fill_color\":{\"value\":\"blue\"},\"line_color\":{\"value\":\"blue\"},\"x\":{\"field\":\"petal_length\"},\"y\":{\"field\":\"sepal_length\"}},\"id\":\"e847e1a0-6e5a-4d2a-82c3-91c0d0430cb8\",\"type\":\"Circle\"},{\"attributes\":{\"active_drag\":\"auto\",\"active_inspect\":\"auto\",\"active_scroll\":\"auto\",\"active_tap\":\"auto\",\"tools\":[{\"id\":\"c1f19999-2557-41df-a4bc-692ec51d2418\",\"type\":\"PanTool\"},{\"id\":\"290fbb43-6aba-40d8-b9cd-61f7d3942a2e\",\"type\":\"WheelZoomTool\"},{\"id\":\"909b7ec8-ce6e-4f4a-83bf-47e17d40a7c8\",\"type\":\"BoxZoomTool\"},{\"id\":\"1b8b83c6-3ff9-4c80-9bdd-f9b4a8e66292\",\"type\":\"SaveTool\"},{\"id\":\"c50ba461-d2e0-4648-8fe0-a8643bfae09c\",\"type\":\"ResetTool\"},{\"id\":\"6e0dfae3-a8a6-45c3-a10f-def02667ce94\",\"type\":\"HelpTool\"}]},\"id\":\"f1af7c17-1397-4a16-b4aa-c7a523d8967d\",\"type\":\"Toolbar\"},{\"attributes\":{},\"id\":\"39a1420f-b170-435e-8982-92c606a40be5\",\"type\":\"WheelZoomTool\"},{\"attributes\":{\"overlay\":{\"id\":\"076917a1-af24-46e0-bc61-30cd39850cc0\",\"type\":\"BoxAnnotation\"}},\"id\":\"36a77bd3-b97b-47ae-81e4-204cc851823e\",\"type\":\"BoxZoomTool\"},{\"attributes\":{},\"id\":\"dc64b701-8b90-4fa0-aec8-3e8e9e9bbbbc\",\"type\":\"SaveTool\"},{\"attributes\":{},\"id\":\"531b6498-24c2-4342-abe5-eb0d41b0bc68\",\"type\":\"ResetTool\"},{\"attributes\":{\"callback\":null},\"id\":\"50e2e1ac-08d7-42ec-aae4-247ae7c3a9c2\",\"type\":\"DataRange1d\"},{\"attributes\":{},\"id\":\"17e8714c-b7d4-4793-8140-9429dde0f576\",\"type\":\"HelpTool\"},{\"attributes\":{\"active_drag\":\"auto\",\"active_inspect\":\"auto\",\"active_scroll\":\"auto\",\"active_tap\":\"auto\",\"tools\":[{\"id\":\"09b91e4a-e1ac-493e-bfe9-09cc54271b70\",\"type\":\"PanTool\"},{\"id\":\"39a1420f-b170-435e-8982-92c606a40be5\",\"type\":\"WheelZoomTool\"},{\"id\":\"36a77bd3-b97b-47ae-81e4-204cc851823e\",\"type\":\"BoxZoomTool\"},{\"id\":\"dc64b701-8b90-4fa0-aec8-3e8e9e9bbbbc\",\"type\":\"SaveTool\"},{\"id\":\"531b6498-24c2-4342-abe5-eb0d41b0bc68\",\"type\":\"ResetTool\"},{\"id\":\"17e8714c-b7d4-4793-8140-9429dde0f576\",\"type\":\"HelpTool\"}]},\"id\":\"650dd86e-7fc8-4b14-b968-63fea14765ad\",\"type\":\"Toolbar\"},{\"attributes\":{},\"id\":\"e3d8f640-c28e-459d-901b-5abfa99af48f\",\"type\":\"LinearScale\"},{\"attributes\":{\"child\":{\"id\":\"8831dece-174c-43ef-8402-20ca46bfe574\",\"type\":\"Row\"},\"title\":\"second\"},\"id\":\"3b08881f-3971-4bb6-a3a3-ed10c997c9ae\",\"type\":\"Panel\"},{\"attributes\":{\"fill_color\":{\"value\":null},\"line_color\":{\"value\":\"red\"},\"x\":{\"field\":\"petal_length\"},\"y\":{\"field\":\"petal_length\"}},\"id\":\"3f609fce-1c20-41b2-abb3-8df6b28c5375\",\"type\":\"Diamond\"},{\"attributes\":{\"plot\":null,\"text\":\"petal lenght vs. sepal width\"},\"id\":\"7fe1813c-2aa3-466c-9944-de32418cf1e0\",\"type\":\"Title\"},{\"attributes\":{\"fill_color\":{\"value\":\"green\"},\"line_color\":{\"value\":\"green\"},\"x\":{\"field\":\"petal_length\"},\"y\":{\"field\":\"sepal_width\"}},\"id\":\"f99e50fa-4020-40fa-a4d1-0caf552659ae\",\"type\":\"Square\"},{\"attributes\":{\"callback\":null},\"id\":\"3f755ad3-3dbb-4082-9b82-860f46db2a8c\",\"type\":\"DataRange1d\"},{\"attributes\":{\"callback\":null},\"id\":\"f6f24ac7-81e9-4c9f-ba72-3c618637356c\",\"type\":\"DataRange1d\"},{\"attributes\":{\"callback\":null,\"column_names\":[\"sepal_length\",\"sepal_width\",\"petal_length\",\"petal_width\",\"species\",\"index\"],\"data\":{\"index\":[0,1,2,3,4,5,6,7,8,9,10,11,12,13,14,15,16,17,18,19,20,21,22,23,24,25,26,27,28,29,30,31,32,33,34,35,36,37,38,39,40,41,42,43,44,45,46,47,48,49,50,51,52,53,54,55,56,57,58,59,60,61,62,63,64,65,66,67,68,69,70,71,72,73,74,75,76,77,78,79,80,81,82,83,84,85,86,87,88,89,90,91,92,93,94,95,96,97,98,99,100,101,102,103,104,105,106,107,108,109,110,111,112,113,114,115,116,117,118,119,120,121,122,123,124,125,126,127,128,129,130,131,132,133,134,135,136,137,138,139,140,141,142,143,144,145,146,147,148,149],\"petal_length\":{\"__ndarray__\":\"ZmZmZmZm9j9mZmZmZmb2P83MzMzMzPQ/AAAAAAAA+D9mZmZmZmb2PzMzMzMzM/s/ZmZmZmZm9j8AAAAAAAD4P2ZmZmZmZvY/AAAAAAAA+D8AAAAAAAD4P5qZmZmZmfk/ZmZmZmZm9j+amZmZmZnxPzMzMzMzM/M/AAAAAAAA+D/NzMzMzMz0P2ZmZmZmZvY/MzMzMzMz+z8AAAAAAAD4PzMzMzMzM/s/AAAAAAAA+D8AAAAAAADwPzMzMzMzM/s/ZmZmZmZm/j+amZmZmZn5P5qZmZmZmfk/AAAAAAAA+D9mZmZmZmb2P5qZmZmZmfk/mpmZmZmZ+T8AAAAAAAD4PwAAAAAAAPg/ZmZmZmZm9j8AAAAAAAD4PzMzMzMzM/M/zczMzMzM9D9mZmZmZmb2P83MzMzMzPQ/AAAAAAAA+D/NzMzMzMz0P83MzMzMzPQ/zczMzMzM9D+amZmZmZn5P2ZmZmZmZv4/ZmZmZmZm9j+amZmZmZn5P2ZmZmZmZvY/AAAAAAAA+D9mZmZmZmb2P83MzMzMzBJAAAAAAAAAEkCamZmZmZkTQAAAAAAAABBAZmZmZmZmEkAAAAAAAAASQM3MzMzMzBJAZmZmZmZmCkBmZmZmZmYSQDMzMzMzMw9AAAAAAAAADEDNzMzMzMwQQAAAAAAAABBAzczMzMzMEkDNzMzMzMwMQJqZmZmZmRFAAAAAAAAAEkBmZmZmZmYQQAAAAAAAABJAMzMzMzMzD0AzMzMzMzMTQAAAAAAAABBAmpmZmZmZE0DNzMzMzMwSQDMzMzMzMxFAmpmZmZmZEUAzMzMzMzMTQAAAAAAAABRAAAAAAAAAEkAAAAAAAAAMQGZmZmZmZg5AmpmZmZmZDUAzMzMzMzMPQGZmZmZmZhRAAAAAAAAAEkAAAAAAAAASQM3MzMzMzBJAmpmZmZmZEUBmZmZmZmYQQAAAAAAAABBAmpmZmZmZEUBmZmZmZmYSQAAAAAAAABBAZmZmZmZmCkDNzMzMzMwQQM3MzMzMzBBAzczMzMzMEEAzMzMzMzMRQAAAAAAAAAhAZmZmZmZmEEAAAAAAAAAYQGZmZmZmZhRAmpmZmZmZF0BmZmZmZmYWQDMzMzMzMxdAZmZmZmZmGkAAAAAAAAASQDMzMzMzMxlAMzMzMzMzF0BmZmZmZmYYQGZmZmZmZhRAMzMzMzMzFUAAAAAAAAAWQAAAAAAAABRAZmZmZmZmFEAzMzMzMzMVQAAAAAAAABZAzczMzMzMGkCamZmZmZkbQAAAAAAAABRAzczMzMzMFkCamZmZmZkTQM3MzMzMzBpAmpmZmZmZE0DNzMzMzMwWQAAAAAAAABhAMzMzMzMzE0CamZmZmZkTQGZmZmZmZhZAMzMzMzMzF0BmZmZmZmYYQJqZmZmZmRlAZmZmZmZmFkBmZmZmZmYUQGZmZmZmZhZAZmZmZmZmGEBmZmZmZmYWQAAAAAAAABZAMzMzMzMzE0CamZmZmZkVQGZmZmZmZhZAZmZmZmZmFEBmZmZmZmYUQJqZmZmZmRdAzczMzMzMFkDNzMzMzMwUQAAAAAAAABRAzczMzMzMFECamZmZmZkVQGZmZmZmZhRA\",\"dtype\":\"float64\",\"shape\":[150]},\"petal_width\":{\"__ndarray__\":\"mpmZmZmZyT+amZmZmZnJP5qZmZmZmck/mpmZmZmZyT+amZmZmZnJP5qZmZmZmdk/MzMzMzMz0z+amZmZmZnJP5qZmZmZmck/mpmZmZmZuT+amZmZmZnJP5qZmZmZmck/mpmZmZmZuT+amZmZmZm5P5qZmZmZmck/mpmZmZmZ2T+amZmZmZnZPzMzMzMzM9M/MzMzMzMz0z8zMzMzMzPTP5qZmZmZmck/mpmZmZmZ2T+amZmZmZnJPwAAAAAAAOA/mpmZmZmZyT+amZmZmZnJP5qZmZmZmdk/mpmZmZmZyT+amZmZmZnJP5qZmZmZmck/mpmZmZmZyT+amZmZmZnZP5qZmZmZmbk/mpmZmZmZyT+amZmZmZnJP5qZmZmZmck/mpmZmZmZyT+amZmZmZm5P5qZmZmZmck/mpmZmZmZyT8zMzMzMzPTPzMzMzMzM9M/mpmZmZmZyT8zMzMzMzPjP5qZmZmZmdk/MzMzMzMz0z+amZmZmZnJP5qZmZmZmck/mpmZmZmZyT+amZmZmZnJP2ZmZmZmZvY/AAAAAAAA+D8AAAAAAAD4P83MzMzMzPQ/AAAAAAAA+D/NzMzMzMz0P5qZmZmZmfk/AAAAAAAA8D/NzMzMzMz0P2ZmZmZmZvY/AAAAAAAA8D8AAAAAAAD4PwAAAAAAAPA/ZmZmZmZm9j/NzMzMzMz0P2ZmZmZmZvY/AAAAAAAA+D8AAAAAAADwPwAAAAAAAPg/mpmZmZmZ8T/NzMzMzMz8P83MzMzMzPQ/AAAAAAAA+D8zMzMzMzPzP83MzMzMzPQ/ZmZmZmZm9j9mZmZmZmb2PzMzMzMzM/s/AAAAAAAA+D8AAAAAAADwP5qZmZmZmfE/AAAAAAAA8D8zMzMzMzPzP5qZmZmZmfk/AAAAAAAA+D+amZmZmZn5PwAAAAAAAPg/zczMzMzM9D/NzMzMzMz0P83MzMzMzPQ/MzMzMzMz8z9mZmZmZmb2PzMzMzMzM/M/AAAAAAAA8D/NzMzMzMz0PzMzMzMzM/M/zczMzMzM9D/NzMzMzMz0P5qZmZmZmfE/zczMzMzM9D8AAAAAAAAEQGZmZmZmZv4/zczMzMzMAEDNzMzMzMz8P5qZmZmZmQFAzczMzMzMAEAzMzMzMzP7P83MzMzMzPw/zczMzMzM/D8AAAAAAAAEQAAAAAAAAABAZmZmZmZm/j/NzMzMzMwAQAAAAAAAAABAMzMzMzMzA0BmZmZmZmYCQM3MzMzMzPw/mpmZmZmZAUBmZmZmZmYCQAAAAAAAAPg/ZmZmZmZmAkAAAAAAAAAAQAAAAAAAAABAzczMzMzM/D/NzMzMzMwAQM3MzMzMzPw/zczMzMzM/D/NzMzMzMz8P83MzMzMzABAmpmZmZmZ+T9mZmZmZmb+PwAAAAAAAABAmpmZmZmZAUAAAAAAAAD4P2ZmZmZmZvY/ZmZmZmZmAkAzMzMzMzMDQM3MzMzMzPw/zczMzMzM/D/NzMzMzMwAQDMzMzMzMwNAZmZmZmZmAkBmZmZmZmb+P2ZmZmZmZgJAAAAAAAAABEBmZmZmZmYCQGZmZmZmZv4/AAAAAAAAAEBmZmZmZmYCQM3MzMzMzPw/\",\"dtype\":\"float64\",\"shape\":[150]},\"sepal_length\":{\"__ndarray__\":\"ZmZmZmZmFECamZmZmZkTQM3MzMzMzBJAZmZmZmZmEkAAAAAAAAAUQJqZmZmZmRVAZmZmZmZmEkAAAAAAAAAUQJqZmZmZmRFAmpmZmZmZE0CamZmZmZkVQDMzMzMzMxNAMzMzMzMzE0AzMzMzMzMRQDMzMzMzMxdAzczMzMzMFkCamZmZmZkVQGZmZmZmZhRAzczMzMzMFkBmZmZmZmYUQJqZmZmZmRVAZmZmZmZmFEBmZmZmZmYSQGZmZmZmZhRAMzMzMzMzE0AAAAAAAAAUQAAAAAAAABRAzczMzMzMFEDNzMzMzMwUQM3MzMzMzBJAMzMzMzMzE0CamZmZmZkVQM3MzMzMzBRAAAAAAAAAFkCamZmZmZkTQAAAAAAAABRAAAAAAAAAFkCamZmZmZkTQJqZmZmZmRFAZmZmZmZmFEAAAAAAAAAUQAAAAAAAABJAmpmZmZmZEUAAAAAAAAAUQGZmZmZmZhRAMzMzMzMzE0BmZmZmZmYUQGZmZmZmZhJAMzMzMzMzFUAAAAAAAAAUQAAAAAAAABxAmpmZmZmZGUCamZmZmZkbQAAAAAAAABZAAAAAAAAAGkDNzMzMzMwWQDMzMzMzMxlAmpmZmZmZE0BmZmZmZmYaQM3MzMzMzBRAAAAAAAAAFECamZmZmZkXQAAAAAAAABhAZmZmZmZmGEBmZmZmZmYWQM3MzMzMzBpAZmZmZmZmFkAzMzMzMzMXQM3MzMzMzBhAZmZmZmZmFkCamZmZmZkXQGZmZmZmZhhAMzMzMzMzGUBmZmZmZmYYQJqZmZmZmRlAZmZmZmZmGkAzMzMzMzMbQM3MzMzMzBpAAAAAAAAAGEDNzMzMzMwWQAAAAAAAABZAAAAAAAAAFkAzMzMzMzMXQAAAAAAAABhAmpmZmZmZFUAAAAAAAAAYQM3MzMzMzBpAMzMzMzMzGUBmZmZmZmYWQAAAAAAAABZAAAAAAAAAFkBmZmZmZmYYQDMzMzMzMxdAAAAAAAAAFEBmZmZmZmYWQM3MzMzMzBZAzczMzMzMFkDNzMzMzMwYQGZmZmZmZhRAzczMzMzMFkAzMzMzMzMZQDMzMzMzMxdAZmZmZmZmHEAzMzMzMzMZQAAAAAAAABpAZmZmZmZmHkCamZmZmZkTQDMzMzMzMx1AzczMzMzMGkDNzMzMzMwcQAAAAAAAABpAmpmZmZmZGUAzMzMzMzMbQM3MzMzMzBZAMzMzMzMzF0CamZmZmZkZQAAAAAAAABpAzczMzMzMHkDNzMzMzMweQAAAAAAAABhAmpmZmZmZG0BmZmZmZmYWQM3MzMzMzB5AMzMzMzMzGUDNzMzMzMwaQM3MzMzMzBxAzczMzMzMGEBmZmZmZmYYQJqZmZmZmRlAzczMzMzMHECamZmZmZkdQJqZmZmZmR9AmpmZmZmZGUAzMzMzMzMZQGZmZmZmZhhAzczMzMzMHkAzMzMzMzMZQJqZmZmZmRlAAAAAAAAAGECamZmZmZkbQM3MzMzMzBpAmpmZmZmZG0AzMzMzMzMXQDMzMzMzMxtAzczMzMzMGkDNzMzMzMwaQDMzMzMzMxlAAAAAAAAAGkDNzMzMzMwYQJqZmZmZmRdA\",\"dtype\":\"float64\",\"shape\":[150]},\"sepal_width\":{\"__ndarray__\":\"AAAAAAAADEAAAAAAAAAIQJqZmZmZmQlAzczMzMzMCEDNzMzMzMwMQDMzMzMzMw9AMzMzMzMzC0AzMzMzMzMLQDMzMzMzMwdAzczMzMzMCECamZmZmZkNQDMzMzMzMwtAAAAAAAAACEAAAAAAAAAIQAAAAAAAABBAmpmZmZmZEUAzMzMzMzMPQAAAAAAAAAxAZmZmZmZmDkBmZmZmZmYOQDMzMzMzMwtAmpmZmZmZDUDNzMzMzMwMQGZmZmZmZgpAMzMzMzMzC0AAAAAAAAAIQDMzMzMzMwtAAAAAAAAADEAzMzMzMzMLQJqZmZmZmQlAzczMzMzMCEAzMzMzMzMLQGZmZmZmZhBAzczMzMzMEEDNzMzMzMwIQJqZmZmZmQlAAAAAAAAADEDNzMzMzMwMQAAAAAAAAAhAMzMzMzMzC0AAAAAAAAAMQGZmZmZmZgJAmpmZmZmZCUAAAAAAAAAMQGZmZmZmZg5AAAAAAAAACEBmZmZmZmYOQJqZmZmZmQlAmpmZmZmZDUBmZmZmZmYKQJqZmZmZmQlAmpmZmZmZCUDNzMzMzMwIQGZmZmZmZgJAZmZmZmZmBkBmZmZmZmYGQGZmZmZmZgpAMzMzMzMzA0AzMzMzMzMHQJqZmZmZmQVAAAAAAAAAAEAAAAAAAAAIQJqZmZmZmQFAMzMzMzMzB0AzMzMzMzMHQM3MzMzMzAhAAAAAAAAACECamZmZmZkFQJqZmZmZmQFAAAAAAAAABECamZmZmZkJQGZmZmZmZgZAAAAAAAAABEBmZmZmZmYGQDMzMzMzMwdAAAAAAAAACEBmZmZmZmYGQAAAAAAAAAhAMzMzMzMzB0DNzMzMzMwEQDMzMzMzMwNAMzMzMzMzA0CamZmZmZkFQJqZmZmZmQVAAAAAAAAACEAzMzMzMzMLQM3MzMzMzAhAZmZmZmZmAkAAAAAAAAAIQAAAAAAAAARAzczMzMzMBEAAAAAAAAAIQM3MzMzMzARAZmZmZmZmAkCamZmZmZkFQAAAAAAAAAhAMzMzMzMzB0AzMzMzMzMHQAAAAAAAAARAZmZmZmZmBkBmZmZmZmYKQJqZmZmZmQVAAAAAAAAACEAzMzMzMzMHQAAAAAAAAAhAAAAAAAAACEAAAAAAAAAEQDMzMzMzMwdAAAAAAAAABEDNzMzMzMwMQJqZmZmZmQlAmpmZmZmZBUAAAAAAAAAIQAAAAAAAAARAZmZmZmZmBkCamZmZmZkJQAAAAAAAAAhAZmZmZmZmDkDNzMzMzMwEQJqZmZmZmQFAmpmZmZmZCUBmZmZmZmYGQGZmZmZmZgZAmpmZmZmZBUBmZmZmZmYKQJqZmZmZmQlAZmZmZmZmBkAAAAAAAAAIQGZmZmZmZgZAAAAAAAAACEBmZmZmZmYGQGZmZmZmZg5AZmZmZmZmBkBmZmZmZmYGQM3MzMzMzARAAAAAAAAACEAzMzMzMzMLQM3MzMzMzAhAAAAAAAAACEDNzMzMzMwIQM3MzMzMzAhAzczMzMzMCECamZmZmZkFQJqZmZmZmQlAZmZmZmZmCkAAAAAAAAAIQAAAAAAAAARAAAAAAAAACEAzMzMzMzMLQAAAAAAAAAhA\",\"dtype\":\"float64\",\"shape\":[150]},\"species\":[\"setosa\",\"setosa\",\"setosa\",\"setosa\",\"setosa\",\"setosa\",\"setosa\",\"setosa\",\"setosa\",\"setosa\",\"setosa\",\"setosa\",\"setosa\",\"setosa\",\"setosa\",\"setosa\",\"setosa\",\"setosa\",\"setosa\",\"setosa\",\"setosa\",\"setosa\",\"setosa\",\"setosa\",\"setosa\",\"setosa\",\"setosa\",\"setosa\",\"setosa\",\"setosa\",\"setosa\",\"setosa\",\"setosa\",\"setosa\",\"setosa\",\"setosa\",\"setosa\",\"setosa\",\"setosa\",\"setosa\",\"setosa\",\"setosa\",\"setosa\",\"setosa\",\"setosa\",\"setosa\",\"setosa\",\"setosa\",\"setosa\",\"setosa\",\"versicolor\",\"versicolor\",\"versicolor\",\"versicolor\",\"versicolor\",\"versicolor\",\"versicolor\",\"versicolor\",\"versicolor\",\"versicolor\",\"versicolor\",\"versicolor\",\"versicolor\",\"versicolor\",\"versicolor\",\"versicolor\",\"versicolor\",\"versicolor\",\"versicolor\",\"versicolor\",\"versicolor\",\"versicolor\",\"versicolor\",\"versicolor\",\"versicolor\",\"versicolor\",\"versicolor\",\"versicolor\",\"versicolor\",\"versicolor\",\"versicolor\",\"versicolor\",\"versicolor\",\"versicolor\",\"versicolor\",\"versicolor\",\"versicolor\",\"versicolor\",\"versicolor\",\"versicolor\",\"versicolor\",\"versicolor\",\"versicolor\",\"versicolor\",\"versicolor\",\"versicolor\",\"versicolor\",\"versicolor\",\"versicolor\",\"versicolor\",\"virginica\",\"virginica\",\"virginica\",\"virginica\",\"virginica\",\"virginica\",\"virginica\",\"virginica\",\"virginica\",\"virginica\",\"virginica\",\"virginica\",\"virginica\",\"virginica\",\"virginica\",\"virginica\",\"virginica\",\"virginica\",\"virginica\",\"virginica\",\"virginica\",\"virginica\",\"virginica\",\"virginica\",\"virginica\",\"virginica\",\"virginica\",\"virginica\",\"virginica\",\"virginica\",\"virginica\",\"virginica\",\"virginica\",\"virginica\",\"virginica\",\"virginica\",\"virginica\",\"virginica\",\"virginica\",\"virginica\",\"virginica\",\"virginica\",\"virginica\",\"virginica\",\"virginica\",\"virginica\",\"virginica\",\"virginica\",\"virginica\",\"virginica\"]}},\"id\":\"c3562e53-35e0-4ade-b24a-deea9287b7df\",\"type\":\"ColumnDataSource\"},{\"attributes\":{},\"id\":\"4a538b47-3ad0-47cb-9c4a-6b59c77ddb08\",\"type\":\"LinearScale\"},{\"attributes\":{\"plot\":{\"id\":\"0b9ab3d2-e244-4406-8732-d7c5fe3db9e1\",\"subtype\":\"Figure\",\"type\":\"Plot\"},\"ticker\":{\"id\":\"088d9248-a050-4103-b441-9708daa13c4a\",\"type\":\"BasicTicker\"}},\"id\":\"4d434e9a-3efb-450e-9f98-38ab2dd1591a\",\"type\":\"Grid\"},{\"attributes\":{\"formatter\":{\"id\":\"ca8a92f9-d5f2-44e9-a284-525af29bcc1d\",\"type\":\"BasicTickFormatter\"},\"plot\":{\"id\":\"0b9ab3d2-e244-4406-8732-d7c5fe3db9e1\",\"subtype\":\"Figure\",\"type\":\"Plot\"},\"ticker\":{\"id\":\"088d9248-a050-4103-b441-9708daa13c4a\",\"type\":\"BasicTicker\"}},\"id\":\"3c869e72-f741-427b-b8d5-ecb8e1536b82\",\"type\":\"LinearAxis\"},{\"attributes\":{},\"id\":\"088d9248-a050-4103-b441-9708daa13c4a\",\"type\":\"BasicTicker\"},{\"attributes\":{\"formatter\":{\"id\":\"c29dc50e-8f29-4f84-b454-b7b4bdc83663\",\"type\":\"BasicTickFormatter\"},\"plot\":{\"id\":\"0b9ab3d2-e244-4406-8732-d7c5fe3db9e1\",\"subtype\":\"Figure\",\"type\":\"Plot\"},\"ticker\":{\"id\":\"e3309314-3311-4913-aa88-196053ea8e76\",\"type\":\"BasicTicker\"}},\"id\":\"5391761d-b3b6-42f7-a8db-ba5987dd37dd\",\"type\":\"LinearAxis\"},{\"attributes\":{\"children\":[{\"id\":\"fdaec900-295b-47b2-b00e-13621d4db9e6\",\"subtype\":\"Figure\",\"type\":\"Plot\"}]},\"id\":\"8831dece-174c-43ef-8402-20ca46bfe574\",\"type\":\"Row\"},{\"attributes\":{},\"id\":\"e3309314-3311-4913-aa88-196053ea8e76\",\"type\":\"BasicTicker\"},{\"attributes\":{\"children\":[{\"id\":\"24db6cd6-889e-47f2-bb67-963801be433b\",\"subtype\":\"Figure\",\"type\":\"Plot\"},{\"id\":\"0b9ab3d2-e244-4406-8732-d7c5fe3db9e1\",\"subtype\":\"Figure\",\"type\":\"Plot\"}]},\"id\":\"f7de0b3a-8630-4310-8078-f7f92e8d9d82\",\"type\":\"Row\"},{\"attributes\":{\"dimension\":1,\"plot\":{\"id\":\"0b9ab3d2-e244-4406-8732-d7c5fe3db9e1\",\"subtype\":\"Figure\",\"type\":\"Plot\"},\"ticker\":{\"id\":\"e3309314-3311-4913-aa88-196053ea8e76\",\"type\":\"BasicTicker\"}},\"id\":\"afc30790-335c-4702-a7eb-0772761153f3\",\"type\":\"Grid\"},{\"attributes\":{\"plot\":null,\"text\":\"petal lenght vs. petal lenght\"},\"id\":\"645ac8c6-2aa1-4bde-85ab-68c29c7e6bea\",\"type\":\"Title\"},{\"attributes\":{\"below\":[{\"id\":\"0ca41a1b-9155-46f7-98c3-278b68d5e97c\",\"type\":\"LinearAxis\"}],\"left\":[{\"id\":\"2fddae20-243c-4b9e-a4d5-132dff9b663e\",\"type\":\"LinearAxis\"}],\"plot_height\":300,\"plot_width\":300,\"renderers\":[{\"id\":\"0ca41a1b-9155-46f7-98c3-278b68d5e97c\",\"type\":\"LinearAxis\"},{\"id\":\"0a248e5b-474a-4fb1-963b-ee311aef01c1\",\"type\":\"Grid\"},{\"id\":\"2fddae20-243c-4b9e-a4d5-132dff9b663e\",\"type\":\"LinearAxis\"},{\"id\":\"251184bd-f4cc-4f27-90f8-7c2217825e4e\",\"type\":\"Grid\"},{\"id\":\"076917a1-af24-46e0-bc61-30cd39850cc0\",\"type\":\"BoxAnnotation\"},{\"id\":\"7ed37766-6335-45d7-8ca8-6a49eaa61755\",\"type\":\"GlyphRenderer\"}],\"title\":{\"id\":\"9de53d69-1191-4679-8ec2-8d1059da4ef5\",\"type\":\"Title\"},\"toolbar\":{\"id\":\"650dd86e-7fc8-4b14-b968-63fea14765ad\",\"type\":\"Toolbar\"},\"toolbar_location\":null,\"x_range\":{\"id\":\"50e2e1ac-08d7-42ec-aae4-247ae7c3a9c2\",\"type\":\"DataRange1d\"},\"x_scale\":{\"id\":\"797fc9eb-0d8c-4e29-aa69-971cfee7c436\",\"type\":\"LinearScale\"},\"y_range\":{\"id\":\"d1e5df24-c1cb-4251-b10f-b78622e97011\",\"type\":\"DataRange1d\"},\"y_scale\":{\"id\":\"06d15d90-681c-4279-82fa-12ed3759ee72\",\"type\":\"LinearScale\"}},\"id\":\"24db6cd6-889e-47f2-bb67-963801be433b\",\"subtype\":\"Figure\",\"type\":\"Plot\"},{\"attributes\":{\"below\":[{\"id\":\"4be84d64-f1e9-445e-b324-dde5693ec065\",\"type\":\"LinearAxis\"}],\"left\":[{\"id\":\"476062bc-b737-4214-a1a6-8647ed18aee4\",\"type\":\"LinearAxis\"}],\"plot_height\":300,\"plot_width\":300,\"renderers\":[{\"id\":\"4be84d64-f1e9-445e-b324-dde5693ec065\",\"type\":\"LinearAxis\"},{\"id\":\"e7e2406d-00b8-4cee-90ae-439c659bc26f\",\"type\":\"Grid\"},{\"id\":\"476062bc-b737-4214-a1a6-8647ed18aee4\",\"type\":\"LinearAxis\"},{\"id\":\"c0bc3cca-74c2-4f24-af7f-3eff19d4284e\",\"type\":\"Grid\"},{\"id\":\"74dad0a7-ff01-43aa-ba17-774b10417013\",\"type\":\"BoxAnnotation\"},{\"id\":\"c8a88e97-9889-41af-b806-4f5d616bdb32\",\"type\":\"GlyphRenderer\"}],\"title\":{\"id\":\"645ac8c6-2aa1-4bde-85ab-68c29c7e6bea\",\"type\":\"Title\"},\"toolbar\":{\"id\":\"62794a98-815d-4371-af30-b1d886bd620b\",\"type\":\"Toolbar\"},\"toolbar_location\":null,\"x_range\":{\"id\":\"91ad912b-c4d5-4667-afa1-4a04ebfdd9f3\",\"type\":\"DataRange1d\"},\"x_scale\":{\"id\":\"9566ffc3-3a1d-434d-8419-be8e47fa6f3b\",\"type\":\"LinearScale\"},\"y_range\":{\"id\":\"d602481f-82a7-4b8c-b9e4-22db146d300e\",\"type\":\"DataRange1d\"},\"y_scale\":{\"id\":\"893c9a21-eac0-48f5-83bc-8c3bb25d0c6f\",\"type\":\"LinearScale\"}},\"id\":\"fdaec900-295b-47b2-b00e-13621d4db9e6\",\"subtype\":\"Figure\",\"type\":\"Plot\"},{\"attributes\":{\"below\":[{\"id\":\"3c869e72-f741-427b-b8d5-ecb8e1536b82\",\"type\":\"LinearAxis\"}],\"left\":[{\"id\":\"5391761d-b3b6-42f7-a8db-ba5987dd37dd\",\"type\":\"LinearAxis\"}],\"plot_height\":300,\"plot_width\":300,\"renderers\":[{\"id\":\"3c869e72-f741-427b-b8d5-ecb8e1536b82\",\"type\":\"LinearAxis\"},{\"id\":\"4d434e9a-3efb-450e-9f98-38ab2dd1591a\",\"type\":\"Grid\"},{\"id\":\"5391761d-b3b6-42f7-a8db-ba5987dd37dd\",\"type\":\"LinearAxis\"},{\"id\":\"afc30790-335c-4702-a7eb-0772761153f3\",\"type\":\"Grid\"},{\"id\":\"187e010e-3bc1-43b7-b6b1-de7db234ed31\",\"type\":\"BoxAnnotation\"},{\"id\":\"bb2eb9f9-e608-4001-8df9-a94854da16cd\",\"type\":\"GlyphRenderer\"}],\"title\":{\"id\":\"7fe1813c-2aa3-466c-9944-de32418cf1e0\",\"type\":\"Title\"},\"toolbar\":{\"id\":\"f1af7c17-1397-4a16-b4aa-c7a523d8967d\",\"type\":\"Toolbar\"},\"toolbar_location\":null,\"x_range\":{\"id\":\"f6f24ac7-81e9-4c9f-ba72-3c618637356c\",\"type\":\"DataRange1d\"},\"x_scale\":{\"id\":\"4a538b47-3ad0-47cb-9c4a-6b59c77ddb08\",\"type\":\"LinearScale\"},\"y_range\":{\"id\":\"3f755ad3-3dbb-4082-9b82-860f46db2a8c\",\"type\":\"DataRange1d\"},\"y_scale\":{\"id\":\"e3d8f640-c28e-459d-901b-5abfa99af48f\",\"type\":\"LinearScale\"}},\"id\":\"0b9ab3d2-e244-4406-8732-d7c5fe3db9e1\",\"subtype\":\"Figure\",\"type\":\"Plot\"},{\"attributes\":{\"fill_alpha\":{\"value\":0.1},\"fill_color\":{\"value\":\"#1f77b4\"},\"line_alpha\":{\"value\":0.1},\"line_color\":{\"value\":\"#1f77b4\"},\"x\":{\"field\":\"petal_length\"},\"y\":{\"field\":\"petal_length\"}},\"id\":\"f4cc7383-d2fd-4c1c-9744-b54109e5a7cd\",\"type\":\"Diamond\"},{\"attributes\":{\"bottom_units\":\"screen\",\"fill_alpha\":{\"value\":0.5},\"fill_color\":{\"value\":\"lightgrey\"},\"left_units\":\"screen\",\"level\":\"overlay\",\"line_alpha\":{\"value\":1.0},\"line_color\":{\"value\":\"black\"},\"line_dash\":[4,4],\"line_width\":{\"value\":2},\"plot\":null,\"render_mode\":\"css\",\"right_units\":\"screen\",\"top_units\":\"screen\"},\"id\":\"187e010e-3bc1-43b7-b6b1-de7db234ed31\",\"type\":\"BoxAnnotation\"},{\"attributes\":{\"callback\":null,\"column_names\":[\"sepal_length\",\"sepal_width\",\"petal_length\",\"petal_width\",\"species\",\"index\"],\"data\":{\"index\":[0,1,2,3,4,5,6,7,8,9,10,11,12,13,14,15,16,17,18,19,20,21,22,23,24,25,26,27,28,29,30,31,32,33,34,35,36,37,38,39,40,41,42,43,44,45,46,47,48,49,50,51,52,53,54,55,56,57,58,59,60,61,62,63,64,65,66,67,68,69,70,71,72,73,74,75,76,77,78,79,80,81,82,83,84,85,86,87,88,89,90,91,92,93,94,95,96,97,98,99,100,101,102,103,104,105,106,107,108,109,110,111,112,113,114,115,116,117,118,119,120,121,122,123,124,125,126,127,128,129,130,131,132,133,134,135,136,137,138,139,140,141,142,143,144,145,146,147,148,149],\"petal_length\":{\"__ndarray__\":\"ZmZmZmZm9j9mZmZmZmb2P83MzMzMzPQ/AAAAAAAA+D9mZmZmZmb2PzMzMzMzM/s/ZmZmZmZm9j8AAAAAAAD4P2ZmZmZmZvY/AAAAAAAA+D8AAAAAAAD4P5qZmZmZmfk/ZmZmZmZm9j+amZmZmZnxPzMzMzMzM/M/AAAAAAAA+D/NzMzMzMz0P2ZmZmZmZvY/MzMzMzMz+z8AAAAAAAD4PzMzMzMzM/s/AAAAAAAA+D8AAAAAAADwPzMzMzMzM/s/ZmZmZmZm/j+amZmZmZn5P5qZmZmZmfk/AAAAAAAA+D9mZmZmZmb2P5qZmZmZmfk/mpmZmZmZ+T8AAAAAAAD4PwAAAAAAAPg/ZmZmZmZm9j8AAAAAAAD4PzMzMzMzM/M/zczMzMzM9D9mZmZmZmb2P83MzMzMzPQ/AAAAAAAA+D/NzMzMzMz0P83MzMzMzPQ/zczMzMzM9D+amZmZmZn5P2ZmZmZmZv4/ZmZmZmZm9j+amZmZmZn5P2ZmZmZmZvY/AAAAAAAA+D9mZmZmZmb2P83MzMzMzBJAAAAAAAAAEkCamZmZmZkTQAAAAAAAABBAZmZmZmZmEkAAAAAAAAASQM3MzMzMzBJAZmZmZmZmCkBmZmZmZmYSQDMzMzMzMw9AAAAAAAAADEDNzMzMzMwQQAAAAAAAABBAzczMzMzMEkDNzMzMzMwMQJqZmZmZmRFAAAAAAAAAEkBmZmZmZmYQQAAAAAAAABJAMzMzMzMzD0AzMzMzMzMTQAAAAAAAABBAmpmZmZmZE0DNzMzMzMwSQDMzMzMzMxFAmpmZmZmZEUAzMzMzMzMTQAAAAAAAABRAAAAAAAAAEkAAAAAAAAAMQGZmZmZmZg5AmpmZmZmZDUAzMzMzMzMPQGZmZmZmZhRAAAAAAAAAEkAAAAAAAAASQM3MzMzMzBJAmpmZmZmZEUBmZmZmZmYQQAAAAAAAABBAmpmZmZmZEUBmZmZmZmYSQAAAAAAAABBAZmZmZmZmCkDNzMzMzMwQQM3MzMzMzBBAzczMzMzMEEAzMzMzMzMRQAAAAAAAAAhAZmZmZmZmEEAAAAAAAAAYQGZmZmZmZhRAmpmZmZmZF0BmZmZmZmYWQDMzMzMzMxdAZmZmZmZmGkAAAAAAAAASQDMzMzMzMxlAMzMzMzMzF0BmZmZmZmYYQGZmZmZmZhRAMzMzMzMzFUAAAAAAAAAWQAAAAAAAABRAZmZmZmZmFEAzMzMzMzMVQAAAAAAAABZAzczMzMzMGkCamZmZmZkbQAAAAAAAABRAzczMzMzMFkCamZmZmZkTQM3MzMzMzBpAmpmZmZmZE0DNzMzMzMwWQAAAAAAAABhAMzMzMzMzE0CamZmZmZkTQGZmZmZmZhZAMzMzMzMzF0BmZmZmZmYYQJqZmZmZmRlAZmZmZmZmFkBmZmZmZmYUQGZmZmZmZhZAZmZmZmZmGEBmZmZmZmYWQAAAAAAAABZAMzMzMzMzE0CamZmZmZkVQGZmZmZmZhZAZmZmZmZmFEBmZmZmZmYUQJqZmZmZmRdAzczMzMzMFkDNzMzMzMwUQAAAAAAAABRAzczMzMzMFECamZmZmZkVQGZmZmZmZhRA\",\"dtype\":\"float64\",\"shape\":[150]},\"petal_width\":{\"__ndarray__\":\"mpmZmZmZyT+amZmZmZnJP5qZmZmZmck/mpmZmZmZyT+amZmZmZnJP5qZmZmZmdk/MzMzMzMz0z+amZmZmZnJP5qZmZmZmck/mpmZmZmZuT+amZmZmZnJP5qZmZmZmck/mpmZmZmZuT+amZmZmZm5P5qZmZmZmck/mpmZmZmZ2T+amZmZmZnZPzMzMzMzM9M/MzMzMzMz0z8zMzMzMzPTP5qZmZmZmck/mpmZmZmZ2T+amZmZmZnJPwAAAAAAAOA/mpmZmZmZyT+amZmZmZnJP5qZmZmZmdk/mpmZmZmZyT+amZmZmZnJP5qZmZmZmck/mpmZmZmZyT+amZmZmZnZP5qZmZmZmbk/mpmZmZmZyT+amZmZmZnJP5qZmZmZmck/mpmZmZmZyT+amZmZmZm5P5qZmZmZmck/mpmZmZmZyT8zMzMzMzPTPzMzMzMzM9M/mpmZmZmZyT8zMzMzMzPjP5qZmZmZmdk/MzMzMzMz0z+amZmZmZnJP5qZmZmZmck/mpmZmZmZyT+amZmZmZnJP2ZmZmZmZvY/AAAAAAAA+D8AAAAAAAD4P83MzMzMzPQ/AAAAAAAA+D/NzMzMzMz0P5qZmZmZmfk/AAAAAAAA8D/NzMzMzMz0P2ZmZmZmZvY/AAAAAAAA8D8AAAAAAAD4PwAAAAAAAPA/ZmZmZmZm9j/NzMzMzMz0P2ZmZmZmZvY/AAAAAAAA+D8AAAAAAADwPwAAAAAAAPg/mpmZmZmZ8T/NzMzMzMz8P83MzMzMzPQ/AAAAAAAA+D8zMzMzMzPzP83MzMzMzPQ/ZmZmZmZm9j9mZmZmZmb2PzMzMzMzM/s/AAAAAAAA+D8AAAAAAADwP5qZmZmZmfE/AAAAAAAA8D8zMzMzMzPzP5qZmZmZmfk/AAAAAAAA+D+amZmZmZn5PwAAAAAAAPg/zczMzMzM9D/NzMzMzMz0P83MzMzMzPQ/MzMzMzMz8z9mZmZmZmb2PzMzMzMzM/M/AAAAAAAA8D/NzMzMzMz0PzMzMzMzM/M/zczMzMzM9D/NzMzMzMz0P5qZmZmZmfE/zczMzMzM9D8AAAAAAAAEQGZmZmZmZv4/zczMzMzMAEDNzMzMzMz8P5qZmZmZmQFAzczMzMzMAEAzMzMzMzP7P83MzMzMzPw/zczMzMzM/D8AAAAAAAAEQAAAAAAAAABAZmZmZmZm/j/NzMzMzMwAQAAAAAAAAABAMzMzMzMzA0BmZmZmZmYCQM3MzMzMzPw/mpmZmZmZAUBmZmZmZmYCQAAAAAAAAPg/ZmZmZmZmAkAAAAAAAAAAQAAAAAAAAABAzczMzMzM/D/NzMzMzMwAQM3MzMzMzPw/zczMzMzM/D/NzMzMzMz8P83MzMzMzABAmpmZmZmZ+T9mZmZmZmb+PwAAAAAAAABAmpmZmZmZAUAAAAAAAAD4P2ZmZmZmZvY/ZmZmZmZmAkAzMzMzMzMDQM3MzMzMzPw/zczMzMzM/D/NzMzMzMwAQDMzMzMzMwNAZmZmZmZmAkBmZmZmZmb+P2ZmZmZmZgJAAAAAAAAABEBmZmZmZmYCQGZmZmZmZv4/AAAAAAAAAEBmZmZmZmYCQM3MzMzMzPw/\",\"dtype\":\"float64\",\"shape\":[150]},\"sepal_length\":{\"__ndarray__\":\"ZmZmZmZmFECamZmZmZkTQM3MzMzMzBJAZmZmZmZmEkAAAAAAAAAUQJqZmZmZmRVAZmZmZmZmEkAAAAAAAAAUQJqZmZmZmRFAmpmZmZmZE0CamZmZmZkVQDMzMzMzMxNAMzMzMzMzE0AzMzMzMzMRQDMzMzMzMxdAzczMzMzMFkCamZmZmZkVQGZmZmZmZhRAzczMzMzMFkBmZmZmZmYUQJqZmZmZmRVAZmZmZmZmFEBmZmZmZmYSQGZmZmZmZhRAMzMzMzMzE0AAAAAAAAAUQAAAAAAAABRAzczMzMzMFEDNzMzMzMwUQM3MzMzMzBJAMzMzMzMzE0CamZmZmZkVQM3MzMzMzBRAAAAAAAAAFkCamZmZmZkTQAAAAAAAABRAAAAAAAAAFkCamZmZmZkTQJqZmZmZmRFAZmZmZmZmFEAAAAAAAAAUQAAAAAAAABJAmpmZmZmZEUAAAAAAAAAUQGZmZmZmZhRAMzMzMzMzE0BmZmZmZmYUQGZmZmZmZhJAMzMzMzMzFUAAAAAAAAAUQAAAAAAAABxAmpmZmZmZGUCamZmZmZkbQAAAAAAAABZAAAAAAAAAGkDNzMzMzMwWQDMzMzMzMxlAmpmZmZmZE0BmZmZmZmYaQM3MzMzMzBRAAAAAAAAAFECamZmZmZkXQAAAAAAAABhAZmZmZmZmGEBmZmZmZmYWQM3MzMzMzBpAZmZmZmZmFkAzMzMzMzMXQM3MzMzMzBhAZmZmZmZmFkCamZmZmZkXQGZmZmZmZhhAMzMzMzMzGUBmZmZmZmYYQJqZmZmZmRlAZmZmZmZmGkAzMzMzMzMbQM3MzMzMzBpAAAAAAAAAGEDNzMzMzMwWQAAAAAAAABZAAAAAAAAAFkAzMzMzMzMXQAAAAAAAABhAmpmZmZmZFUAAAAAAAAAYQM3MzMzMzBpAMzMzMzMzGUBmZmZmZmYWQAAAAAAAABZAAAAAAAAAFkBmZmZmZmYYQDMzMzMzMxdAAAAAAAAAFEBmZmZmZmYWQM3MzMzMzBZAzczMzMzMFkDNzMzMzMwYQGZmZmZmZhRAzczMzMzMFkAzMzMzMzMZQDMzMzMzMxdAZmZmZmZmHEAzMzMzMzMZQAAAAAAAABpAZmZmZmZmHkCamZmZmZkTQDMzMzMzMx1AzczMzMzMGkDNzMzMzMwcQAAAAAAAABpAmpmZmZmZGUAzMzMzMzMbQM3MzMzMzBZAMzMzMzMzF0CamZmZmZkZQAAAAAAAABpAzczMzMzMHkDNzMzMzMweQAAAAAAAABhAmpmZmZmZG0BmZmZmZmYWQM3MzMzMzB5AMzMzMzMzGUDNzMzMzMwaQM3MzMzMzBxAzczMzMzMGEBmZmZmZmYYQJqZmZmZmRlAzczMzMzMHECamZmZmZkdQJqZmZmZmR9AmpmZmZmZGUAzMzMzMzMZQGZmZmZmZhhAzczMzMzMHkAzMzMzMzMZQJqZmZmZmRlAAAAAAAAAGECamZmZmZkbQM3MzMzMzBpAmpmZmZmZG0AzMzMzMzMXQDMzMzMzMxtAzczMzMzMGkDNzMzMzMwaQDMzMzMzMxlAAAAAAAAAGkDNzMzMzMwYQJqZmZmZmRdA\",\"dtype\":\"float64\",\"shape\":[150]},\"sepal_width\":{\"__ndarray__\":\"AAAAAAAADEAAAAAAAAAIQJqZmZmZmQlAzczMzMzMCEDNzMzMzMwMQDMzMzMzMw9AMzMzMzMzC0AzMzMzMzMLQDMzMzMzMwdAzczMzMzMCECamZmZmZkNQDMzMzMzMwtAAAAAAAAACEAAAAAAAAAIQAAAAAAAABBAmpmZmZmZEUAzMzMzMzMPQAAAAAAAAAxAZmZmZmZmDkBmZmZmZmYOQDMzMzMzMwtAmpmZmZmZDUDNzMzMzMwMQGZmZmZmZgpAMzMzMzMzC0AAAAAAAAAIQDMzMzMzMwtAAAAAAAAADEAzMzMzMzMLQJqZmZmZmQlAzczMzMzMCEAzMzMzMzMLQGZmZmZmZhBAzczMzMzMEEDNzMzMzMwIQJqZmZmZmQlAAAAAAAAADEDNzMzMzMwMQAAAAAAAAAhAMzMzMzMzC0AAAAAAAAAMQGZmZmZmZgJAmpmZmZmZCUAAAAAAAAAMQGZmZmZmZg5AAAAAAAAACEBmZmZmZmYOQJqZmZmZmQlAmpmZmZmZDUBmZmZmZmYKQJqZmZmZmQlAmpmZmZmZCUDNzMzMzMwIQGZmZmZmZgJAZmZmZmZmBkBmZmZmZmYGQGZmZmZmZgpAMzMzMzMzA0AzMzMzMzMHQJqZmZmZmQVAAAAAAAAAAEAAAAAAAAAIQJqZmZmZmQFAMzMzMzMzB0AzMzMzMzMHQM3MzMzMzAhAAAAAAAAACECamZmZmZkFQJqZmZmZmQFAAAAAAAAABECamZmZmZkJQGZmZmZmZgZAAAAAAAAABEBmZmZmZmYGQDMzMzMzMwdAAAAAAAAACEBmZmZmZmYGQAAAAAAAAAhAMzMzMzMzB0DNzMzMzMwEQDMzMzMzMwNAMzMzMzMzA0CamZmZmZkFQJqZmZmZmQVAAAAAAAAACEAzMzMzMzMLQM3MzMzMzAhAZmZmZmZmAkAAAAAAAAAIQAAAAAAAAARAzczMzMzMBEAAAAAAAAAIQM3MzMzMzARAZmZmZmZmAkCamZmZmZkFQAAAAAAAAAhAMzMzMzMzB0AzMzMzMzMHQAAAAAAAAARAZmZmZmZmBkBmZmZmZmYKQJqZmZmZmQVAAAAAAAAACEAzMzMzMzMHQAAAAAAAAAhAAAAAAAAACEAAAAAAAAAEQDMzMzMzMwdAAAAAAAAABEDNzMzMzMwMQJqZmZmZmQlAmpmZmZmZBUAAAAAAAAAIQAAAAAAAAARAZmZmZmZmBkCamZmZmZkJQAAAAAAAAAhAZmZmZmZmDkDNzMzMzMwEQJqZmZmZmQFAmpmZmZmZCUBmZmZmZmYGQGZmZmZmZgZAmpmZmZmZBUBmZmZmZmYKQJqZmZmZmQlAZmZmZmZmBkAAAAAAAAAIQGZmZmZmZgZAAAAAAAAACEBmZmZmZmYGQGZmZmZmZg5AZmZmZmZmBkBmZmZmZmYGQM3MzMzMzARAAAAAAAAACEAzMzMzMzMLQM3MzMzMzAhAAAAAAAAACEDNzMzMzMwIQM3MzMzMzAhAzczMzMzMCECamZmZmZkFQJqZmZmZmQlAZmZmZmZmCkAAAAAAAAAIQAAAAAAAAARAAAAAAAAACEAzMzMzMzMLQAAAAAAAAAhA\",\"dtype\":\"float64\",\"shape\":[150]},\"species\":[\"setosa\",\"setosa\",\"setosa\",\"setosa\",\"setosa\",\"setosa\",\"setosa\",\"setosa\",\"setosa\",\"setosa\",\"setosa\",\"setosa\",\"setosa\",\"setosa\",\"setosa\",\"setosa\",\"setosa\",\"setosa\",\"setosa\",\"setosa\",\"setosa\",\"setosa\",\"setosa\",\"setosa\",\"setosa\",\"setosa\",\"setosa\",\"setosa\",\"setosa\",\"setosa\",\"setosa\",\"setosa\",\"setosa\",\"setosa\",\"setosa\",\"setosa\",\"setosa\",\"setosa\",\"setosa\",\"setosa\",\"setosa\",\"setosa\",\"setosa\",\"setosa\",\"setosa\",\"setosa\",\"setosa\",\"setosa\",\"setosa\",\"setosa\",\"versicolor\",\"versicolor\",\"versicolor\",\"versicolor\",\"versicolor\",\"versicolor\",\"versicolor\",\"versicolor\",\"versicolor\",\"versicolor\",\"versicolor\",\"versicolor\",\"versicolor\",\"versicolor\",\"versicolor\",\"versicolor\",\"versicolor\",\"versicolor\",\"versicolor\",\"versicolor\",\"versicolor\",\"versicolor\",\"versicolor\",\"versicolor\",\"versicolor\",\"versicolor\",\"versicolor\",\"versicolor\",\"versicolor\",\"versicolor\",\"versicolor\",\"versicolor\",\"versicolor\",\"versicolor\",\"versicolor\",\"versicolor\",\"versicolor\",\"versicolor\",\"versicolor\",\"versicolor\",\"versicolor\",\"versicolor\",\"versicolor\",\"versicolor\",\"versicolor\",\"versicolor\",\"versicolor\",\"versicolor\",\"versicolor\",\"versicolor\",\"virginica\",\"virginica\",\"virginica\",\"virginica\",\"virginica\",\"virginica\",\"virginica\",\"virginica\",\"virginica\",\"virginica\",\"virginica\",\"virginica\",\"virginica\",\"virginica\",\"virginica\",\"virginica\",\"virginica\",\"virginica\",\"virginica\",\"virginica\",\"virginica\",\"virginica\",\"virginica\",\"virginica\",\"virginica\",\"virginica\",\"virginica\",\"virginica\",\"virginica\",\"virginica\",\"virginica\",\"virginica\",\"virginica\",\"virginica\",\"virginica\",\"virginica\",\"virginica\",\"virginica\",\"virginica\",\"virginica\",\"virginica\",\"virginica\",\"virginica\",\"virginica\",\"virginica\",\"virginica\",\"virginica\",\"virginica\",\"virginica\",\"virginica\"]}},\"id\":\"59601530-d68e-479e-b498-9069afc6db56\",\"type\":\"ColumnDataSource\"},{\"attributes\":{},\"id\":\"c1f19999-2557-41df-a4bc-692ec51d2418\",\"type\":\"PanTool\"},{\"attributes\":{},\"id\":\"290fbb43-6aba-40d8-b9cd-61f7d3942a2e\",\"type\":\"WheelZoomTool\"},{\"attributes\":{\"overlay\":{\"id\":\"187e010e-3bc1-43b7-b6b1-de7db234ed31\",\"type\":\"BoxAnnotation\"}},\"id\":\"909b7ec8-ce6e-4f4a-83bf-47e17d40a7c8\",\"type\":\"BoxZoomTool\"},{\"attributes\":{},\"id\":\"1b8b83c6-3ff9-4c80-9bdd-f9b4a8e66292\",\"type\":\"SaveTool\"},{\"attributes\":{\"plot\":null,\"text\":\"petal lenght vs. sepal lenght\"},\"id\":\"9de53d69-1191-4679-8ec2-8d1059da4ef5\",\"type\":\"Title\"},{\"attributes\":{},\"id\":\"c50ba461-d2e0-4648-8fe0-a8643bfae09c\",\"type\":\"ResetTool\"},{\"attributes\":{},\"id\":\"6e0dfae3-a8a6-45c3-a10f-def02667ce94\",\"type\":\"HelpTool\"},{\"attributes\":{\"source\":{\"id\":\"c3562e53-35e0-4ade-b24a-deea9287b7df\",\"type\":\"ColumnDataSource\"}},\"id\":\"74d468ac-7e1c-4f0e-8c18-63c6ada5a2b6\",\"type\":\"CDSView\"},{\"attributes\":{},\"id\":\"ca8a92f9-d5f2-44e9-a284-525af29bcc1d\",\"type\":\"BasicTickFormatter\"},{\"attributes\":{},\"id\":\"c29dc50e-8f29-4f84-b454-b7b4bdc83663\",\"type\":\"BasicTickFormatter\"},{\"attributes\":{\"data_source\":{\"id\":\"c3562e53-35e0-4ade-b24a-deea9287b7df\",\"type\":\"ColumnDataSource\"},\"glyph\":{\"id\":\"f99e50fa-4020-40fa-a4d1-0caf552659ae\",\"type\":\"Square\"},\"hover_glyph\":null,\"muted_glyph\":null,\"nonselection_glyph\":{\"id\":\"2bcaa545-4c5a-4e04-86a6-331aedf0008f\",\"type\":\"Square\"},\"selection_glyph\":null,\"view\":{\"id\":\"74d468ac-7e1c-4f0e-8c18-63c6ada5a2b6\",\"type\":\"CDSView\"}},\"id\":\"bb2eb9f9-e608-4001-8df9-a94854da16cd\",\"type\":\"GlyphRenderer\"},{\"attributes\":{\"callback\":null},\"id\":\"d1e5df24-c1cb-4251-b10f-b78622e97011\",\"type\":\"DataRange1d\"},{\"attributes\":{\"callback\":null},\"id\":\"91ad912b-c4d5-4667-afa1-4a04ebfdd9f3\",\"type\":\"DataRange1d\"},{\"attributes\":{\"fill_alpha\":{\"value\":0.1},\"fill_color\":{\"value\":\"#1f77b4\"},\"line_alpha\":{\"value\":0.1},\"line_color\":{\"value\":\"#1f77b4\"},\"x\":{\"field\":\"petal_length\"},\"y\":{\"field\":\"sepal_width\"}},\"id\":\"2bcaa545-4c5a-4e04-86a6-331aedf0008f\",\"type\":\"Square\"},{\"attributes\":{},\"id\":\"893c9a21-eac0-48f5-83bc-8c3bb25d0c6f\",\"type\":\"LinearScale\"},{\"attributes\":{\"active_drag\":\"auto\",\"active_inspect\":\"auto\",\"active_scroll\":\"auto\",\"active_tap\":\"auto\",\"tools\":[{\"id\":\"b12bf3bf-ae3c-4f9e-9d95-90b02378879e\",\"type\":\"PanTool\"},{\"id\":\"214ba040-8d8f-4fb8-8c68-a29b56e0851f\",\"type\":\"WheelZoomTool\"},{\"id\":\"7b201172-f985-4aeb-8adc-ce05daecac64\",\"type\":\"BoxZoomTool\"},{\"id\":\"0f10fb74-d623-42a0-88b6-b8a6d24f7e19\",\"type\":\"SaveTool\"},{\"id\":\"4eeabe7c-ecb9-4897-a2d6-bfcea38efeea\",\"type\":\"ResetTool\"},{\"id\":\"a154a9f2-dc28-4bc8-8386-cc8e4b10eef8\",\"type\":\"HelpTool\"}]},\"id\":\"62794a98-815d-4371-af30-b1d886bd620b\",\"type\":\"Toolbar\"},{\"attributes\":{\"callback\":null,\"tabs\":[{\"id\":\"5351ca48-1e77-43c2-897b-45cf4756f327\",\"type\":\"Panel\"},{\"id\":\"3b08881f-3971-4bb6-a3a3-ed10c997c9ae\",\"type\":\"Panel\"}]},\"id\":\"a9467e9e-6ac7-4767-934f-fa51e1912f32\",\"type\":\"Tabs\"},{\"attributes\":{\"child\":{\"id\":\"f7de0b3a-8630-4310-8078-f7f92e8d9d82\",\"type\":\"Row\"},\"title\":\"first\"},\"id\":\"5351ca48-1e77-43c2-897b-45cf4756f327\",\"type\":\"Panel\"},{\"attributes\":{},\"id\":\"9566ffc3-3a1d-434d-8419-be8e47fa6f3b\",\"type\":\"LinearScale\"},{\"attributes\":{\"plot\":{\"id\":\"fdaec900-295b-47b2-b00e-13621d4db9e6\",\"subtype\":\"Figure\",\"type\":\"Plot\"},\"ticker\":{\"id\":\"1aba3deb-5930-45d5-bbaa-6c7db54dba88\",\"type\":\"BasicTicker\"}},\"id\":\"e7e2406d-00b8-4cee-90ae-439c659bc26f\",\"type\":\"Grid\"},{\"attributes\":{\"formatter\":{\"id\":\"56d939a9-317d-4937-941a-9c56cdf64857\",\"type\":\"BasicTickFormatter\"},\"plot\":{\"id\":\"fdaec900-295b-47b2-b00e-13621d4db9e6\",\"subtype\":\"Figure\",\"type\":\"Plot\"},\"ticker\":{\"id\":\"1aba3deb-5930-45d5-bbaa-6c7db54dba88\",\"type\":\"BasicTicker\"}},\"id\":\"4be84d64-f1e9-445e-b324-dde5693ec065\",\"type\":\"LinearAxis\"},{\"attributes\":{},\"id\":\"1aba3deb-5930-45d5-bbaa-6c7db54dba88\",\"type\":\"BasicTicker\"},{\"attributes\":{\"formatter\":{\"id\":\"2ee2f36a-8c60-42b0-8876-140fcd0303ec\",\"type\":\"BasicTickFormatter\"},\"plot\":{\"id\":\"fdaec900-295b-47b2-b00e-13621d4db9e6\",\"subtype\":\"Figure\",\"type\":\"Plot\"},\"ticker\":{\"id\":\"0de935b8-5821-49af-98b3-3ea3624266d9\",\"type\":\"BasicTicker\"}},\"id\":\"476062bc-b737-4214-a1a6-8647ed18aee4\",\"type\":\"LinearAxis\"},{\"attributes\":{},\"id\":\"0de935b8-5821-49af-98b3-3ea3624266d9\",\"type\":\"BasicTicker\"},{\"attributes\":{\"dimension\":1,\"plot\":{\"id\":\"fdaec900-295b-47b2-b00e-13621d4db9e6\",\"subtype\":\"Figure\",\"type\":\"Plot\"},\"ticker\":{\"id\":\"0de935b8-5821-49af-98b3-3ea3624266d9\",\"type\":\"BasicTicker\"}},\"id\":\"c0bc3cca-74c2-4f24-af7f-3eff19d4284e\",\"type\":\"Grid\"},{\"attributes\":{\"fill_alpha\":{\"value\":0.1},\"fill_color\":{\"value\":\"#1f77b4\"},\"line_alpha\":{\"value\":0.1},\"line_color\":{\"value\":\"#1f77b4\"},\"x\":{\"field\":\"petal_length\"},\"y\":{\"field\":\"sepal_length\"}},\"id\":\"a25fd5ee-0650-4d37-a7e1-15064a258219\",\"type\":\"Circle\"},{\"attributes\":{\"data_source\":{\"id\":\"2957709d-fa63-40c4-a4c4-3f0489d1b913\",\"type\":\"ColumnDataSource\"},\"glyph\":{\"id\":\"3f609fce-1c20-41b2-abb3-8df6b28c5375\",\"type\":\"Diamond\"},\"hover_glyph\":null,\"muted_glyph\":null,\"nonselection_glyph\":{\"id\":\"f4cc7383-d2fd-4c1c-9744-b54109e5a7cd\",\"type\":\"Diamond\"},\"selection_glyph\":null,\"view\":{\"id\":\"6777607e-6743-4a4d-b773-a8bbcd2e3b28\",\"type\":\"CDSView\"}},\"id\":\"c8a88e97-9889-41af-b806-4f5d616bdb32\",\"type\":\"GlyphRenderer\"},{\"attributes\":{\"callback\":null,\"column_names\":[\"sepal_length\",\"sepal_width\",\"petal_length\",\"petal_width\",\"species\",\"index\"],\"data\":{\"index\":[0,1,2,3,4,5,6,7,8,9,10,11,12,13,14,15,16,17,18,19,20,21,22,23,24,25,26,27,28,29,30,31,32,33,34,35,36,37,38,39,40,41,42,43,44,45,46,47,48,49,50,51,52,53,54,55,56,57,58,59,60,61,62,63,64,65,66,67,68,69,70,71,72,73,74,75,76,77,78,79,80,81,82,83,84,85,86,87,88,89,90,91,92,93,94,95,96,97,98,99,100,101,102,103,104,105,106,107,108,109,110,111,112,113,114,115,116,117,118,119,120,121,122,123,124,125,126,127,128,129,130,131,132,133,134,135,136,137,138,139,140,141,142,143,144,145,146,147,148,149],\"petal_length\":{\"__ndarray__\":\"ZmZmZmZm9j9mZmZmZmb2P83MzMzMzPQ/AAAAAAAA+D9mZmZmZmb2PzMzMzMzM/s/ZmZmZmZm9j8AAAAAAAD4P2ZmZmZmZvY/AAAAAAAA+D8AAAAAAAD4P5qZmZmZmfk/ZmZmZmZm9j+amZmZmZnxPzMzMzMzM/M/AAAAAAAA+D/NzMzMzMz0P2ZmZmZmZvY/MzMzMzMz+z8AAAAAAAD4PzMzMzMzM/s/AAAAAAAA+D8AAAAAAADwPzMzMzMzM/s/ZmZmZmZm/j+amZmZmZn5P5qZmZmZmfk/AAAAAAAA+D9mZmZmZmb2P5qZmZmZmfk/mpmZmZmZ+T8AAAAAAAD4PwAAAAAAAPg/ZmZmZmZm9j8AAAAAAAD4PzMzMzMzM/M/zczMzMzM9D9mZmZmZmb2P83MzMzMzPQ/AAAAAAAA+D/NzMzMzMz0P83MzMzMzPQ/zczMzMzM9D+amZmZmZn5P2ZmZmZmZv4/ZmZmZmZm9j+amZmZmZn5P2ZmZmZmZvY/AAAAAAAA+D9mZmZmZmb2P83MzMzMzBJAAAAAAAAAEkCamZmZmZkTQAAAAAAAABBAZmZmZmZmEkAAAAAAAAASQM3MzMzMzBJAZmZmZmZmCkBmZmZmZmYSQDMzMzMzMw9AAAAAAAAADEDNzMzMzMwQQAAAAAAAABBAzczMzMzMEkDNzMzMzMwMQJqZmZmZmRFAAAAAAAAAEkBmZmZmZmYQQAAAAAAAABJAMzMzMzMzD0AzMzMzMzMTQAAAAAAAABBAmpmZmZmZE0DNzMzMzMwSQDMzMzMzMxFAmpmZmZmZEUAzMzMzMzMTQAAAAAAAABRAAAAAAAAAEkAAAAAAAAAMQGZmZmZmZg5AmpmZmZmZDUAzMzMzMzMPQGZmZmZmZhRAAAAAAAAAEkAAAAAAAAASQM3MzMzMzBJAmpmZmZmZEUBmZmZmZmYQQAAAAAAAABBAmpmZmZmZEUBmZmZmZmYSQAAAAAAAABBAZmZmZmZmCkDNzMzMzMwQQM3MzMzMzBBAzczMzMzMEEAzMzMzMzMRQAAAAAAAAAhAZmZmZmZmEEAAAAAAAAAYQGZmZmZmZhRAmpmZmZmZF0BmZmZmZmYWQDMzMzMzMxdAZmZmZmZmGkAAAAAAAAASQDMzMzMzMxlAMzMzMzMzF0BmZmZmZmYYQGZmZmZmZhRAMzMzMzMzFUAAAAAAAAAWQAAAAAAAABRAZmZmZmZmFEAzMzMzMzMVQAAAAAAAABZAzczMzMzMGkCamZmZmZkbQAAAAAAAABRAzczMzMzMFkCamZmZmZkTQM3MzMzMzBpAmpmZmZmZE0DNzMzMzMwWQAAAAAAAABhAMzMzMzMzE0CamZmZmZkTQGZmZmZmZhZAMzMzMzMzF0BmZmZmZmYYQJqZmZmZmRlAZmZmZmZmFkBmZmZmZmYUQGZmZmZmZhZAZmZmZmZmGEBmZmZmZmYWQAAAAAAAABZAMzMzMzMzE0CamZmZmZkVQGZmZmZmZhZAZmZmZmZmFEBmZmZmZmYUQJqZmZmZmRdAzczMzMzMFkDNzMzMzMwUQAAAAAAAABRAzczMzMzMFECamZmZmZkVQGZmZmZmZhRA\",\"dtype\":\"float64\",\"shape\":[150]},\"petal_width\":{\"__ndarray__\":\"mpmZmZmZyT+amZmZmZnJP5qZmZmZmck/mpmZmZmZyT+amZmZmZnJP5qZmZmZmdk/MzMzMzMz0z+amZmZmZnJP5qZmZmZmck/mpmZmZmZuT+amZmZmZnJP5qZmZmZmck/mpmZmZmZuT+amZmZmZm5P5qZmZmZmck/mpmZmZmZ2T+amZmZmZnZPzMzMzMzM9M/MzMzMzMz0z8zMzMzMzPTP5qZmZmZmck/mpmZmZmZ2T+amZmZmZnJPwAAAAAAAOA/mpmZmZmZyT+amZmZmZnJP5qZmZmZmdk/mpmZmZmZyT+amZmZmZnJP5qZmZmZmck/mpmZmZmZyT+amZmZmZnZP5qZmZmZmbk/mpmZmZmZyT+amZmZmZnJP5qZmZmZmck/mpmZmZmZyT+amZmZmZm5P5qZmZmZmck/mpmZmZmZyT8zMzMzMzPTPzMzMzMzM9M/mpmZmZmZyT8zMzMzMzPjP5qZmZmZmdk/MzMzMzMz0z+amZmZmZnJP5qZmZmZmck/mpmZmZmZyT+amZmZmZnJP2ZmZmZmZvY/AAAAAAAA+D8AAAAAAAD4P83MzMzMzPQ/AAAAAAAA+D/NzMzMzMz0P5qZmZmZmfk/AAAAAAAA8D/NzMzMzMz0P2ZmZmZmZvY/AAAAAAAA8D8AAAAAAAD4PwAAAAAAAPA/ZmZmZmZm9j/NzMzMzMz0P2ZmZmZmZvY/AAAAAAAA+D8AAAAAAADwPwAAAAAAAPg/mpmZmZmZ8T/NzMzMzMz8P83MzMzMzPQ/AAAAAAAA+D8zMzMzMzPzP83MzMzMzPQ/ZmZmZmZm9j9mZmZmZmb2PzMzMzMzM/s/AAAAAAAA+D8AAAAAAADwP5qZmZmZmfE/AAAAAAAA8D8zMzMzMzPzP5qZmZmZmfk/AAAAAAAA+D+amZmZmZn5PwAAAAAAAPg/zczMzMzM9D/NzMzMzMz0P83MzMzMzPQ/MzMzMzMz8z9mZmZmZmb2PzMzMzMzM/M/AAAAAAAA8D/NzMzMzMz0PzMzMzMzM/M/zczMzMzM9D/NzMzMzMz0P5qZmZmZmfE/zczMzMzM9D8AAAAAAAAEQGZmZmZmZv4/zczMzMzMAEDNzMzMzMz8P5qZmZmZmQFAzczMzMzMAEAzMzMzMzP7P83MzMzMzPw/zczMzMzM/D8AAAAAAAAEQAAAAAAAAABAZmZmZmZm/j/NzMzMzMwAQAAAAAAAAABAMzMzMzMzA0BmZmZmZmYCQM3MzMzMzPw/mpmZmZmZAUBmZmZmZmYCQAAAAAAAAPg/ZmZmZmZmAkAAAAAAAAAAQAAAAAAAAABAzczMzMzM/D/NzMzMzMwAQM3MzMzMzPw/zczMzMzM/D/NzMzMzMz8P83MzMzMzABAmpmZmZmZ+T9mZmZmZmb+PwAAAAAAAABAmpmZmZmZAUAAAAAAAAD4P2ZmZmZmZvY/ZmZmZmZmAkAzMzMzMzMDQM3MzMzMzPw/zczMzMzM/D/NzMzMzMwAQDMzMzMzMwNAZmZmZmZmAkBmZmZmZmb+P2ZmZmZmZgJAAAAAAAAABEBmZmZmZmYCQGZmZmZmZv4/AAAAAAAAAEBmZmZmZmYCQM3MzMzMzPw/\",\"dtype\":\"float64\",\"shape\":[150]},\"sepal_length\":{\"__ndarray__\":\"ZmZmZmZmFECamZmZmZkTQM3MzMzMzBJAZmZmZmZmEkAAAAAAAAAUQJqZmZmZmRVAZmZmZmZmEkAAAAAAAAAUQJqZmZmZmRFAmpmZmZmZE0CamZmZmZkVQDMzMzMzMxNAMzMzMzMzE0AzMzMzMzMRQDMzMzMzMxdAzczMzMzMFkCamZmZmZkVQGZmZmZmZhRAzczMzMzMFkBmZmZmZmYUQJqZmZmZmRVAZmZmZmZmFEBmZmZmZmYSQGZmZmZmZhRAMzMzMzMzE0AAAAAAAAAUQAAAAAAAABRAzczMzMzMFEDNzMzMzMwUQM3MzMzMzBJAMzMzMzMzE0CamZmZmZkVQM3MzMzMzBRAAAAAAAAAFkCamZmZmZkTQAAAAAAAABRAAAAAAAAAFkCamZmZmZkTQJqZmZmZmRFAZmZmZmZmFEAAAAAAAAAUQAAAAAAAABJAmpmZmZmZEUAAAAAAAAAUQGZmZmZmZhRAMzMzMzMzE0BmZmZmZmYUQGZmZmZmZhJAMzMzMzMzFUAAAAAAAAAUQAAAAAAAABxAmpmZmZmZGUCamZmZmZkbQAAAAAAAABZAAAAAAAAAGkDNzMzMzMwWQDMzMzMzMxlAmpmZmZmZE0BmZmZmZmYaQM3MzMzMzBRAAAAAAAAAFECamZmZmZkXQAAAAAAAABhAZmZmZmZmGEBmZmZmZmYWQM3MzMzMzBpAZmZmZmZmFkAzMzMzMzMXQM3MzMzMzBhAZmZmZmZmFkCamZmZmZkXQGZmZmZmZhhAMzMzMzMzGUBmZmZmZmYYQJqZmZmZmRlAZmZmZmZmGkAzMzMzMzMbQM3MzMzMzBpAAAAAAAAAGEDNzMzMzMwWQAAAAAAAABZAAAAAAAAAFkAzMzMzMzMXQAAAAAAAABhAmpmZmZmZFUAAAAAAAAAYQM3MzMzMzBpAMzMzMzMzGUBmZmZmZmYWQAAAAAAAABZAAAAAAAAAFkBmZmZmZmYYQDMzMzMzMxdAAAAAAAAAFEBmZmZmZmYWQM3MzMzMzBZAzczMzMzMFkDNzMzMzMwYQGZmZmZmZhRAzczMzMzMFkAzMzMzMzMZQDMzMzMzMxdAZmZmZmZmHEAzMzMzMzMZQAAAAAAAABpAZmZmZmZmHkCamZmZmZkTQDMzMzMzMx1AzczMzMzMGkDNzMzMzMwcQAAAAAAAABpAmpmZmZmZGUAzMzMzMzMbQM3MzMzMzBZAMzMzMzMzF0CamZmZmZkZQAAAAAAAABpAzczMzMzMHkDNzMzMzMweQAAAAAAAABhAmpmZmZmZG0BmZmZmZmYWQM3MzMzMzB5AMzMzMzMzGUDNzMzMzMwaQM3MzMzMzBxAzczMzMzMGEBmZmZmZmYYQJqZmZmZmRlAzczMzMzMHECamZmZmZkdQJqZmZmZmR9AmpmZmZmZGUAzMzMzMzMZQGZmZmZmZhhAzczMzMzMHkAzMzMzMzMZQJqZmZmZmRlAAAAAAAAAGECamZmZmZkbQM3MzMzMzBpAmpmZmZmZG0AzMzMzMzMXQDMzMzMzMxtAzczMzMzMGkDNzMzMzMwaQDMzMzMzMxlAAAAAAAAAGkDNzMzMzMwYQJqZmZmZmRdA\",\"dtype\":\"float64\",\"shape\":[150]},\"sepal_width\":{\"__ndarray__\":\"AAAAAAAADEAAAAAAAAAIQJqZmZmZmQlAzczMzMzMCEDNzMzMzMwMQDMzMzMzMw9AMzMzMzMzC0AzMzMzMzMLQDMzMzMzMwdAzczMzMzMCECamZmZmZkNQDMzMzMzMwtAAAAAAAAACEAAAAAAAAAIQAAAAAAAABBAmpmZmZmZEUAzMzMzMzMPQAAAAAAAAAxAZmZmZmZmDkBmZmZmZmYOQDMzMzMzMwtAmpmZmZmZDUDNzMzMzMwMQGZmZmZmZgpAMzMzMzMzC0AAAAAAAAAIQDMzMzMzMwtAAAAAAAAADEAzMzMzMzMLQJqZmZmZmQlAzczMzMzMCEAzMzMzMzMLQGZmZmZmZhBAzczMzMzMEEDNzMzMzMwIQJqZmZmZmQlAAAAAAAAADEDNzMzMzMwMQAAAAAAAAAhAMzMzMzMzC0AAAAAAAAAMQGZmZmZmZgJAmpmZmZmZCUAAAAAAAAAMQGZmZmZmZg5AAAAAAAAACEBmZmZmZmYOQJqZmZmZmQlAmpmZmZmZDUBmZmZmZmYKQJqZmZmZmQlAmpmZmZmZCUDNzMzMzMwIQGZmZmZmZgJAZmZmZmZmBkBmZmZmZmYGQGZmZmZmZgpAMzMzMzMzA0AzMzMzMzMHQJqZmZmZmQVAAAAAAAAAAEAAAAAAAAAIQJqZmZmZmQFAMzMzMzMzB0AzMzMzMzMHQM3MzMzMzAhAAAAAAAAACECamZmZmZkFQJqZmZmZmQFAAAAAAAAABECamZmZmZkJQGZmZmZmZgZAAAAAAAAABEBmZmZmZmYGQDMzMzMzMwdAAAAAAAAACEBmZmZmZmYGQAAAAAAAAAhAMzMzMzMzB0DNzMzMzMwEQDMzMzMzMwNAMzMzMzMzA0CamZmZmZkFQJqZmZmZmQVAAAAAAAAACEAzMzMzMzMLQM3MzMzMzAhAZmZmZmZmAkAAAAAAAAAIQAAAAAAAAARAzczMzMzMBEAAAAAAAAAIQM3MzMzMzARAZmZmZmZmAkCamZmZmZkFQAAAAAAAAAhAMzMzMzMzB0AzMzMzMzMHQAAAAAAAAARAZmZmZmZmBkBmZmZmZmYKQJqZmZmZmQVAAAAAAAAACEAzMzMzMzMHQAAAAAAAAAhAAAAAAAAACEAAAAAAAAAEQDMzMzMzMwdAAAAAAAAABEDNzMzMzMwMQJqZmZmZmQlAmpmZmZmZBUAAAAAAAAAIQAAAAAAAAARAZmZmZmZmBkCamZmZmZkJQAAAAAAAAAhAZmZmZmZmDkDNzMzMzMwEQJqZmZmZmQFAmpmZmZmZCUBmZmZmZmYGQGZmZmZmZgZAmpmZmZmZBUBmZmZmZmYKQJqZmZmZmQlAZmZmZmZmBkAAAAAAAAAIQGZmZmZmZgZAAAAAAAAACEBmZmZmZmYGQGZmZmZmZg5AZmZmZmZmBkBmZmZmZmYGQM3MzMzMzARAAAAAAAAACEAzMzMzMzMLQM3MzMzMzAhAAAAAAAAACEDNzMzMzMwIQM3MzMzMzAhAzczMzMzMCECamZmZmZkFQJqZmZmZmQlAZmZmZmZmCkAAAAAAAAAIQAAAAAAAAARAAAAAAAAACEAzMzMzMzMLQAAAAAAAAAhA\",\"dtype\":\"float64\",\"shape\":[150]},\"species\":[\"setosa\",\"setosa\",\"setosa\",\"setosa\",\"setosa\",\"setosa\",\"setosa\",\"setosa\",\"setosa\",\"setosa\",\"setosa\",\"setosa\",\"setosa\",\"setosa\",\"setosa\",\"setosa\",\"setosa\",\"setosa\",\"setosa\",\"setosa\",\"setosa\",\"setosa\",\"setosa\",\"setosa\",\"setosa\",\"setosa\",\"setosa\",\"setosa\",\"setosa\",\"setosa\",\"setosa\",\"setosa\",\"setosa\",\"setosa\",\"setosa\",\"setosa\",\"setosa\",\"setosa\",\"setosa\",\"setosa\",\"setosa\",\"setosa\",\"setosa\",\"setosa\",\"setosa\",\"setosa\",\"setosa\",\"setosa\",\"setosa\",\"setosa\",\"versicolor\",\"versicolor\",\"versicolor\",\"versicolor\",\"versicolor\",\"versicolor\",\"versicolor\",\"versicolor\",\"versicolor\",\"versicolor\",\"versicolor\",\"versicolor\",\"versicolor\",\"versicolor\",\"versicolor\",\"versicolor\",\"versicolor\",\"versicolor\",\"versicolor\",\"versicolor\",\"versicolor\",\"versicolor\",\"versicolor\",\"versicolor\",\"versicolor\",\"versicolor\",\"versicolor\",\"versicolor\",\"versicolor\",\"versicolor\",\"versicolor\",\"versicolor\",\"versicolor\",\"versicolor\",\"versicolor\",\"versicolor\",\"versicolor\",\"versicolor\",\"versicolor\",\"versicolor\",\"versicolor\",\"versicolor\",\"versicolor\",\"versicolor\",\"versicolor\",\"versicolor\",\"versicolor\",\"versicolor\",\"versicolor\",\"versicolor\",\"virginica\",\"virginica\",\"virginica\",\"virginica\",\"virginica\",\"virginica\",\"virginica\",\"virginica\",\"virginica\",\"virginica\",\"virginica\",\"virginica\",\"virginica\",\"virginica\",\"virginica\",\"virginica\",\"virginica\",\"virginica\",\"virginica\",\"virginica\",\"virginica\",\"virginica\",\"virginica\",\"virginica\",\"virginica\",\"virginica\",\"virginica\",\"virginica\",\"virginica\",\"virginica\",\"virginica\",\"virginica\",\"virginica\",\"virginica\",\"virginica\",\"virginica\",\"virginica\",\"virginica\",\"virginica\",\"virginica\",\"virginica\",\"virginica\",\"virginica\",\"virginica\",\"virginica\",\"virginica\",\"virginica\",\"virginica\",\"virginica\",\"virginica\"]}},\"id\":\"2957709d-fa63-40c4-a4c4-3f0489d1b913\",\"type\":\"ColumnDataSource\"}],\"root_ids\":[\"a9467e9e-6ac7-4767-934f-fa51e1912f32\"]},\"title\":\"Bokeh Application\",\"version\":\"0.12.11\"}};\n",
       "    var render_items = [{\"docid\":\"4bac257a-567c-4a82-8534-0b92b9114a29\",\"elementid\":\"b745c2b8-253d-44b4-94d4-449518244bfb\",\"modelid\":\"a9467e9e-6ac7-4767-934f-fa51e1912f32\"}];\n",
       "    root.Bokeh.embed.embed_items(docs_json, render_items);\n",
       "  }\n",
       "  if (root.Bokeh !== undefined) {\n",
       "    embed_document(root);\n",
       "  } else {\n",
       "    var attempts = 0;\n",
       "    var timer = setInterval(function(root) {\n",
       "      if (root.Bokeh !== undefined) {\n",
       "        embed_document(root);\n",
       "        clearInterval(timer);\n",
       "      }\n",
       "      attempts++;\n",
       "      if (attempts > 100) {\n",
       "        console.log(\"Bokeh: ERROR: Unable to embed document because BokehJS library is missing\")\n",
       "        clearInterval(timer);\n",
       "      }\n",
       "    }, 10, root)\n",
       "  }\n",
       "})(window);"
      ],
      "application/vnd.bokehjs_exec.v0+json": ""
     },
     "metadata": {
      "application/vnd.bokehjs_exec.v0+json": {
       "id": "a9467e9e-6ac7-4767-934f-fa51e1912f32"
      }
     },
     "output_type": "display_data"
    }
   ],
   "source": [
    "# TABBED LAYOUTS\n",
    "from bokeh.models.widgets import Tabs, Panel\n",
    "first  = Panel(child=row(p1, p2), title='first')\n",
    "second = Panel(child=row(p3), title='second')\n",
    "layout = Tabs(tabs=[first, second])\n",
    "show(layout)"
   ]
  },
  {
   "cell_type": "code",
   "execution_count": 6,
   "metadata": {},
   "outputs": [
    {
     "data": {
      "text/html": [
       "\n",
       "<div class=\"bk-root\">\n",
       "    <div class=\"bk-plotdiv\" id=\"b1f3086f-f5c3-4555-bbd8-7f71ca2dd7d1\"></div>\n",
       "</div>"
      ]
     },
     "metadata": {},
     "output_type": "display_data"
    },
    {
     "data": {
      "application/javascript": [
       "(function(root) {\n",
       "  function embed_document(root) {\n",
       "    var docs_json = {\"eaa99371-2a7b-4de9-a8af-0ec306042f5c\":{\"roots\":{\"references\":[{\"attributes\":{\"axis_label\":\"X Label\",\"formatter\":{\"id\":\"824c16cd-58f5-4f94-8c17-3216db57b913\",\"type\":\"BasicTickFormatter\"},\"plot\":{\"id\":\"3bcc9f80-61b6-4100-bfb2-150b2e5469cb\",\"subtype\":\"Figure\",\"type\":\"Plot\"},\"ticker\":{\"id\":\"65391c78-1d34-43a8-9e27-d064a70b76b2\",\"type\":\"BasicTicker\"}},\"id\":\"24bfcfd7-c0f3-4691-8e9c-271aa2ad7bb5\",\"type\":\"LinearAxis\"},{\"attributes\":{},\"id\":\"65391c78-1d34-43a8-9e27-d064a70b76b2\",\"type\":\"BasicTicker\"},{\"attributes\":{\"axis_label\":\"Y Label\",\"formatter\":{\"id\":\"dcb300fd-e737-4961-812f-35f236340c85\",\"type\":\"BasicTickFormatter\"},\"plot\":{\"id\":\"3bcc9f80-61b6-4100-bfb2-150b2e5469cb\",\"subtype\":\"Figure\",\"type\":\"Plot\"},\"ticker\":{\"id\":\"a7bc6e7f-f9e7-4d0c-9c6e-05a528321d76\",\"type\":\"BasicTicker\"}},\"id\":\"397ec3fa-f776-435e-845f-88d31349e0ed\",\"type\":\"LinearAxis\"},{\"attributes\":{},\"id\":\"a7bc6e7f-f9e7-4d0c-9c6e-05a528321d76\",\"type\":\"BasicTicker\"},{\"attributes\":{\"dimension\":1,\"plot\":{\"id\":\"3bcc9f80-61b6-4100-bfb2-150b2e5469cb\",\"subtype\":\"Figure\",\"type\":\"Plot\"},\"ticker\":{\"id\":\"a7bc6e7f-f9e7-4d0c-9c6e-05a528321d76\",\"type\":\"BasicTicker\"}},\"id\":\"b56772cd-03d8-4894-97ef-7849a55147bf\",\"type\":\"Grid\"},{\"attributes\":{\"data_source\":{\"id\":\"a09a9a9c-7b3d-4e4c-90e2-188205f0c775\",\"type\":\"ColumnDataSource\"},\"glyph\":{\"id\":\"2e6d9c26-16b4-49c4-912f-bb4185b34a9a\",\"type\":\"Circle\"},\"hover_glyph\":null,\"muted_glyph\":null,\"nonselection_glyph\":{\"id\":\"d42f7aaa-8d6b-4a48-b02b-9a0c3db2af11\",\"type\":\"Circle\"},\"selection_glyph\":null,\"view\":{\"id\":\"19912fac-631f-451d-9bb3-440822c086a5\",\"type\":\"CDSView\"}},\"id\":\"6177f8c7-a726-4f62-9774-a67493036863\",\"type\":\"GlyphRenderer\"},{\"attributes\":{\"fill_color\":{\"value\":\"red\"},\"line_color\":{\"value\":\"#1f77b4\"},\"size\":{\"field\":\"size\",\"units\":\"screen\"},\"x\":{\"field\":\"x\"},\"y\":{\"value\":5}},\"id\":\"2e6d9c26-16b4-49c4-912f-bb4185b34a9a\",\"type\":\"Circle\"},{\"attributes\":{\"callback\":null,\"column_names\":[\"x\",\"size\"],\"data\":{\"size\":[5,10,15,20],\"x\":[2,4,6,8]}},\"id\":\"be65b777-eeb1-4430-9554-f7301ad29151\",\"type\":\"ColumnDataSource\"},{\"attributes\":{\"bottom_units\":\"screen\",\"fill_alpha\":{\"value\":0.5},\"fill_color\":{\"value\":\"lightgrey\"},\"left_units\":\"screen\",\"level\":\"overlay\",\"line_alpha\":{\"value\":1.0},\"line_color\":{\"value\":\"black\"},\"line_dash\":[4,4],\"line_width\":{\"value\":2},\"plot\":null,\"render_mode\":\"css\",\"right_units\":\"screen\",\"top_units\":\"screen\"},\"id\":\"835b83db-0eb0-4d9d-a34a-baee50915663\",\"type\":\"BoxAnnotation\"},{\"attributes\":{},\"id\":\"5efde6d2-baa5-4173-851d-7918d966141a\",\"type\":\"PanTool\"},{\"attributes\":{\"plot\":null,\"text\":\"\"},\"id\":\"3a9f5a98-17ee-4d2b-a9cb-c47af26b1da1\",\"type\":\"Title\"},{\"attributes\":{},\"id\":\"943a8159-50d6-48f4-b953-3b27ad1bc322\",\"type\":\"WheelZoomTool\"},{\"attributes\":{\"overlay\":{\"id\":\"835b83db-0eb0-4d9d-a34a-baee50915663\",\"type\":\"BoxAnnotation\"}},\"id\":\"c5e77738-5706-4dd6-9d18-fe399e617eb3\",\"type\":\"BoxZoomTool\"},{\"attributes\":{},\"id\":\"234f65dd-b38e-4d72-abc3-4c232b7d05df\",\"type\":\"SaveTool\"},{\"attributes\":{},\"id\":\"0822c05b-1ec6-422f-9482-4737b54c2ac1\",\"type\":\"ResetTool\"},{\"attributes\":{\"fill_alpha\":{\"value\":0.1},\"fill_color\":{\"value\":\"#1f77b4\"},\"line_alpha\":{\"value\":0.1},\"line_color\":{\"value\":\"#1f77b4\"},\"size\":{\"field\":\"size\",\"units\":\"screen\"},\"x\":{\"field\":\"x\"},\"y\":{\"value\":4}},\"id\":\"0698011b-5b70-46ef-bb90-8dfa9b81b9d8\",\"type\":\"Square\"},{\"attributes\":{\"data_source\":{\"id\":\"be65b777-eeb1-4430-9554-f7301ad29151\",\"type\":\"ColumnDataSource\"},\"glyph\":{\"id\":\"3bbc6bbf-004e-4a1b-831c-73dad564aecf\",\"type\":\"Square\"},\"hover_glyph\":null,\"muted_glyph\":null,\"nonselection_glyph\":{\"id\":\"0698011b-5b70-46ef-bb90-8dfa9b81b9d8\",\"type\":\"Square\"},\"selection_glyph\":null,\"view\":{\"id\":\"e88d636d-4f39-4255-9873-9a6e24a47291\",\"type\":\"CDSView\"}},\"id\":\"c00a3bb3-ec9b-40aa-adc4-4b03dde2f002\",\"type\":\"GlyphRenderer\"},{\"attributes\":{},\"id\":\"248e6687-6e08-4a94-9496-2f2e9be30cfd\",\"type\":\"HelpTool\"},{\"attributes\":{\"callback\":null},\"id\":\"b336eb48-c8dc-43c1-9c35-dac25dbf76e5\",\"type\":\"DataRange1d\"},{\"attributes\":{\"source\":{\"id\":\"be65b777-eeb1-4430-9554-f7301ad29151\",\"type\":\"ColumnDataSource\"}},\"id\":\"e88d636d-4f39-4255-9873-9a6e24a47291\",\"type\":\"CDSView\"},{\"attributes\":{\"data_source\":{\"id\":\"5d63e8d6-30d9-483e-814d-6f4f40a0bd0a\",\"type\":\"ColumnDataSource\"},\"glyph\":{\"id\":\"24e25dde-dc6a-4cc5-9b9b-9200efb3c1bd\",\"type\":\"Line\"},\"hover_glyph\":null,\"muted_glyph\":null,\"nonselection_glyph\":{\"id\":\"ecc12589-02ec-400b-8755-b7ff24cad26e\",\"type\":\"Line\"},\"selection_glyph\":null,\"view\":{\"id\":\"7b0391d8-8b2b-4d18-81fd-884da43be953\",\"type\":\"CDSView\"}},\"id\":\"a5af144c-392f-4256-a1dd-fe21ad153d32\",\"type\":\"GlyphRenderer\"},{\"attributes\":{\"callback\":null,\"column_names\":[\"x\",\"y\"],\"data\":{\"x\":[1,2,3,4],\"y\":[4,5,4,5]}},\"id\":\"5d63e8d6-30d9-483e-814d-6f4f40a0bd0a\",\"type\":\"ColumnDataSource\"},{\"attributes\":{},\"id\":\"dcb300fd-e737-4961-812f-35f236340c85\",\"type\":\"BasicTickFormatter\"},{\"attributes\":{\"line_alpha\":0.1,\"line_color\":\"#1f77b4\",\"line_width\":3,\"x\":{\"field\":\"x\"},\"y\":{\"field\":\"y\"}},\"id\":\"ecc12589-02ec-400b-8755-b7ff24cad26e\",\"type\":\"Line\"},{\"attributes\":{\"line_alpha\":0.5,\"line_color\":\"green\",\"line_width\":3,\"x\":{\"field\":\"x\"},\"y\":{\"field\":\"y\"}},\"id\":\"24e25dde-dc6a-4cc5-9b9b-9200efb3c1bd\",\"type\":\"Line\"},{\"attributes\":{\"fill_alpha\":{\"value\":0.5},\"fill_color\":{\"value\":\"blue\"},\"line_alpha\":{\"value\":0.5},\"line_color\":{\"value\":\"blue\"},\"size\":{\"field\":\"size\",\"units\":\"screen\"},\"x\":{\"field\":\"x\"},\"y\":{\"value\":4}},\"id\":\"3bbc6bbf-004e-4a1b-831c-73dad564aecf\",\"type\":\"Square\"},{\"attributes\":{},\"id\":\"824c16cd-58f5-4f94-8c17-3216db57b913\",\"type\":\"BasicTickFormatter\"},{\"attributes\":{\"below\":[{\"id\":\"24bfcfd7-c0f3-4691-8e9c-271aa2ad7bb5\",\"type\":\"LinearAxis\"}],\"left\":[{\"id\":\"397ec3fa-f776-435e-845f-88d31349e0ed\",\"type\":\"LinearAxis\"}],\"plot_height\":200,\"plot_width\":500,\"renderers\":[{\"id\":\"24bfcfd7-c0f3-4691-8e9c-271aa2ad7bb5\",\"type\":\"LinearAxis\"},{\"id\":\"36c1ad10-2136-4986-ac45-04b942daf7fa\",\"type\":\"Grid\"},{\"id\":\"397ec3fa-f776-435e-845f-88d31349e0ed\",\"type\":\"LinearAxis\"},{\"id\":\"b56772cd-03d8-4894-97ef-7849a55147bf\",\"type\":\"Grid\"},{\"id\":\"835b83db-0eb0-4d9d-a34a-baee50915663\",\"type\":\"BoxAnnotation\"},{\"id\":\"6177f8c7-a726-4f62-9774-a67493036863\",\"type\":\"GlyphRenderer\"},{\"id\":\"c00a3bb3-ec9b-40aa-adc4-4b03dde2f002\",\"type\":\"GlyphRenderer\"},{\"id\":\"a5af144c-392f-4256-a1dd-fe21ad153d32\",\"type\":\"GlyphRenderer\"}],\"title\":{\"id\":\"3a9f5a98-17ee-4d2b-a9cb-c47af26b1da1\",\"type\":\"Title\"},\"toolbar\":{\"id\":\"ee5a6f43-3f62-443e-beac-d313e87eec7e\",\"type\":\"Toolbar\"},\"x_range\":{\"id\":\"b336eb48-c8dc-43c1-9c35-dac25dbf76e5\",\"type\":\"DataRange1d\"},\"x_scale\":{\"id\":\"46b9d5e2-9c7c-425d-9f38-9e3e5aff9afa\",\"type\":\"LinearScale\"},\"y_range\":{\"id\":\"0a74d268-934d-498f-aa6a-a4e4bb3e52f3\",\"type\":\"DataRange1d\"},\"y_scale\":{\"id\":\"02073999-0557-4a9b-a3f7-a89b158bbe12\",\"type\":\"LinearScale\"}},\"id\":\"3bcc9f80-61b6-4100-bfb2-150b2e5469cb\",\"subtype\":\"Figure\",\"type\":\"Plot\"},{\"attributes\":{\"source\":{\"id\":\"5d63e8d6-30d9-483e-814d-6f4f40a0bd0a\",\"type\":\"ColumnDataSource\"}},\"id\":\"7b0391d8-8b2b-4d18-81fd-884da43be953\",\"type\":\"CDSView\"},{\"attributes\":{\"callback\":null,\"column_names\":[\"size\",\"x\"],\"data\":{\"size\":[5,10,15,20],\"x\":[1,3,5,7]}},\"id\":\"a09a9a9c-7b3d-4e4c-90e2-188205f0c775\",\"type\":\"ColumnDataSource\"},{\"attributes\":{\"source\":{\"id\":\"a09a9a9c-7b3d-4e4c-90e2-188205f0c775\",\"type\":\"ColumnDataSource\"}},\"id\":\"19912fac-631f-451d-9bb3-440822c086a5\",\"type\":\"CDSView\"},{\"attributes\":{\"active_drag\":\"auto\",\"active_inspect\":\"auto\",\"active_scroll\":\"auto\",\"active_tap\":\"auto\",\"tools\":[{\"id\":\"5efde6d2-baa5-4173-851d-7918d966141a\",\"type\":\"PanTool\"},{\"id\":\"943a8159-50d6-48f4-b953-3b27ad1bc322\",\"type\":\"WheelZoomTool\"},{\"id\":\"c5e77738-5706-4dd6-9d18-fe399e617eb3\",\"type\":\"BoxZoomTool\"},{\"id\":\"234f65dd-b38e-4d72-abc3-4c232b7d05df\",\"type\":\"SaveTool\"},{\"id\":\"0822c05b-1ec6-422f-9482-4737b54c2ac1\",\"type\":\"ResetTool\"},{\"id\":\"248e6687-6e08-4a94-9496-2f2e9be30cfd\",\"type\":\"HelpTool\"}]},\"id\":\"ee5a6f43-3f62-443e-beac-d313e87eec7e\",\"type\":\"Toolbar\"},{\"attributes\":{\"callback\":null},\"id\":\"0a74d268-934d-498f-aa6a-a4e4bb3e52f3\",\"type\":\"DataRange1d\"},{\"attributes\":{\"fill_alpha\":{\"value\":0.1},\"fill_color\":{\"value\":\"#1f77b4\"},\"line_alpha\":{\"value\":0.1},\"line_color\":{\"value\":\"#1f77b4\"},\"size\":{\"field\":\"size\",\"units\":\"screen\"},\"x\":{\"field\":\"x\"},\"y\":{\"value\":5}},\"id\":\"d42f7aaa-8d6b-4a48-b02b-9a0c3db2af11\",\"type\":\"Circle\"},{\"attributes\":{},\"id\":\"46b9d5e2-9c7c-425d-9f38-9e3e5aff9afa\",\"type\":\"LinearScale\"},{\"attributes\":{},\"id\":\"02073999-0557-4a9b-a3f7-a89b158bbe12\",\"type\":\"LinearScale\"},{\"attributes\":{\"plot\":{\"id\":\"3bcc9f80-61b6-4100-bfb2-150b2e5469cb\",\"subtype\":\"Figure\",\"type\":\"Plot\"},\"ticker\":{\"id\":\"65391c78-1d34-43a8-9e27-d064a70b76b2\",\"type\":\"BasicTicker\"}},\"id\":\"36c1ad10-2136-4986-ac45-04b942daf7fa\",\"type\":\"Grid\"}],\"root_ids\":[\"3bcc9f80-61b6-4100-bfb2-150b2e5469cb\"]},\"title\":\"Bokeh Application\",\"version\":\"0.12.11\"}};\n",
       "    var render_items = [{\"docid\":\"eaa99371-2a7b-4de9-a8af-0ec306042f5c\",\"elementid\":\"b1f3086f-f5c3-4555-bbd8-7f71ca2dd7d1\",\"modelid\":\"3bcc9f80-61b6-4100-bfb2-150b2e5469cb\"}];\n",
       "    root.Bokeh.embed.embed_items(docs_json, render_items);\n",
       "  }\n",
       "  if (root.Bokeh !== undefined) {\n",
       "    embed_document(root);\n",
       "  } else {\n",
       "    var attempts = 0;\n",
       "    var timer = setInterval(function(root) {\n",
       "      if (root.Bokeh !== undefined) {\n",
       "        embed_document(root);\n",
       "        clearInterval(timer);\n",
       "      }\n",
       "      attempts++;\n",
       "      if (attempts > 100) {\n",
       "        console.log(\"Bokeh: ERROR: Unable to embed document because BokehJS library is missing\")\n",
       "        clearInterval(timer);\n",
       "      }\n",
       "    }, 10, root)\n",
       "  }\n",
       "})(window);"
      ],
      "application/vnd.bokehjs_exec.v0+json": ""
     },
     "metadata": {
      "application/vnd.bokehjs_exec.v0+json": {
       "id": "3bcc9f80-61b6-4100-bfb2-150b2e5469cb"
      }
     },
     "output_type": "display_data"
    }
   ],
   "source": [
    "plot = figure(plot_width=500, plot_height=200, x_axis_label='X Label', y_axis_label='Y Label')\n",
    "plot.circle(x=[1,3,5,7], y=5, size=[5,10,15,20], fill_color='red')\n",
    "plot.square(x=[2,4,6,8], y=4, size=[5,10,15,20], color='blue', alpha=0.5)\n",
    "plot.line(x=[1,2,3,4], y=[4,5,4,5], color='green', line_width=3, alpha=0.5)\n",
    "show(plot)"
   ]
  },
  {
   "cell_type": "code",
   "execution_count": null,
   "metadata": {},
   "outputs": [],
   "source": [
    "from bokeh.plotting import figure\n",
    "import pandas as pd\n",
    "df = pd.read_csv('auto.csv')\n",
    "\n",
    "p = figure(x_axis_label='HP', y_axis_label='MPG')\n",
    "p.circle(df['hp'], df['mpg'], color=df['color'], size=10)       # Plot mpg vs hp by color\n",
    "show(p)"
   ]
  },
  {
   "cell_type": "code",
   "execution_count": null,
   "metadata": {},
   "outputs": [],
   "source": [
    "# MARKERS\n",
    "asterisk()                     cross()                         square()                           x()\n",
    "circle()                       diamond()                       square_cross()\n",
    "circle_cross()                 diamond_cross()                 square_x()\n",
    "circle_x()                     inverted_triagle()              triangle()"
   ]
  },
  {
   "cell_type": "code",
   "execution_count": 7,
   "metadata": {},
   "outputs": [
    {
     "data": {
      "text/html": [
       "\n",
       "<div class=\"bk-root\">\n",
       "    <div class=\"bk-plotdiv\" id=\"1348715c-a338-481f-82bb-74d4e47d8eb0\"></div>\n",
       "</div>"
      ]
     },
     "metadata": {},
     "output_type": "display_data"
    },
    {
     "data": {
      "application/javascript": [
       "(function(root) {\n",
       "  function embed_document(root) {\n",
       "    var docs_json = {\"6a2adf9b-2d9a-4ce4-9a58-1a50177415ca\":{\"roots\":{\"references\":[{\"attributes\":{\"formatter\":{\"id\":\"4210c876-f9a3-46c5-a8f6-323eaf8951cb\",\"type\":\"BasicTickFormatter\"},\"plot\":{\"id\":\"d8dbbc0e-a065-488a-9563-a20df66a83e0\",\"subtype\":\"Figure\",\"type\":\"Plot\"},\"ticker\":{\"id\":\"6092a224-7446-4217-afad-7c499451e87d\",\"type\":\"BasicTicker\"}},\"id\":\"e4137636-e479-4325-8ea7-c0732cd1b4cf\",\"type\":\"LinearAxis\"},{\"attributes\":{},\"id\":\"7877e2c3-593f-419a-8162-8bddcccd4f28\",\"type\":\"ResetTool\"},{\"attributes\":{\"plot\":null,\"text\":\"\"},\"id\":\"357e9610-7f1b-45c2-879b-d062a9ad18c5\",\"type\":\"Title\"},{\"attributes\":{\"callback\":null},\"id\":\"61ab0424-ed54-4337-a9c1-88f2e9a8d9a5\",\"type\":\"DataRange1d\"},{\"attributes\":{\"formatter\":{\"id\":\"7fe000c2-6b1d-4bff-9616-855ea8dec95d\",\"type\":\"BasicTickFormatter\"},\"plot\":{\"id\":\"d8dbbc0e-a065-488a-9563-a20df66a83e0\",\"subtype\":\"Figure\",\"type\":\"Plot\"},\"ticker\":{\"id\":\"8b1b163a-57fc-4f64-9bd6-bc4e7501a79d\",\"type\":\"BasicTicker\"}},\"id\":\"708cee40-b190-4272-a0b2-3b25d60cacd3\",\"type\":\"LinearAxis\"},{\"attributes\":{\"fill_alpha\":{\"value\":0.1},\"fill_color\":{\"value\":\"#1f77b4\"},\"line_alpha\":{\"value\":0.1},\"line_color\":{\"value\":\"#1f77b4\"},\"xs\":{\"field\":\"xs\"},\"ys\":{\"field\":\"ys\"}},\"id\":\"7c0686e8-342c-4216-bf56-10395ca7f039\",\"type\":\"Patches\"},{\"attributes\":{\"callback\":null},\"id\":\"2c2e90c2-7b00-4e47-9b4d-485851fceec2\",\"type\":\"DataRange1d\"},{\"attributes\":{},\"id\":\"4210c876-f9a3-46c5-a8f6-323eaf8951cb\",\"type\":\"BasicTickFormatter\"},{\"attributes\":{},\"id\":\"2c33e387-7e76-4dea-bbf4-cfd90cc750f3\",\"type\":\"SaveTool\"},{\"attributes\":{\"source\":{\"id\":\"76912a31-7ee2-4a70-bb12-fac257c240d4\",\"type\":\"ColumnDataSource\"}},\"id\":\"a15c3e81-e4dd-44dd-8dd9-930b30d38c6f\",\"type\":\"CDSView\"},{\"attributes\":{},\"id\":\"5201468d-89ac-4a0e-b166-d2ed9490bcbe\",\"type\":\"LinearScale\"},{\"attributes\":{\"dimension\":1,\"plot\":{\"id\":\"d8dbbc0e-a065-488a-9563-a20df66a83e0\",\"subtype\":\"Figure\",\"type\":\"Plot\"},\"ticker\":{\"id\":\"6092a224-7446-4217-afad-7c499451e87d\",\"type\":\"BasicTicker\"}},\"id\":\"746913d7-1bf5-4430-bd1f-16984c5b3492\",\"type\":\"Grid\"},{\"attributes\":{},\"id\":\"6092a224-7446-4217-afad-7c499451e87d\",\"type\":\"BasicTicker\"},{\"attributes\":{},\"id\":\"4c8accde-dd4f-42e4-bd70-e3f013fd3d5d\",\"type\":\"HelpTool\"},{\"attributes\":{\"overlay\":{\"id\":\"eea64b72-707e-49c7-8f85-70e0b88f52b3\",\"type\":\"BoxAnnotation\"}},\"id\":\"4e63926e-3a8a-4ec5-bc01-211a5ce77589\",\"type\":\"BoxZoomTool\"},{\"attributes\":{\"bottom_units\":\"screen\",\"fill_alpha\":{\"value\":0.5},\"fill_color\":{\"value\":\"lightgrey\"},\"left_units\":\"screen\",\"level\":\"overlay\",\"line_alpha\":{\"value\":1.0},\"line_color\":{\"value\":\"black\"},\"line_dash\":[4,4],\"line_width\":{\"value\":2},\"plot\":null,\"render_mode\":\"css\",\"right_units\":\"screen\",\"top_units\":\"screen\"},\"id\":\"eea64b72-707e-49c7-8f85-70e0b88f52b3\",\"type\":\"BoxAnnotation\"},{\"attributes\":{\"plot\":{\"id\":\"d8dbbc0e-a065-488a-9563-a20df66a83e0\",\"subtype\":\"Figure\",\"type\":\"Plot\"},\"ticker\":{\"id\":\"8b1b163a-57fc-4f64-9bd6-bc4e7501a79d\",\"type\":\"BasicTicker\"}},\"id\":\"180a60d4-befe-464b-b082-ab1b5629e02b\",\"type\":\"Grid\"},{\"attributes\":{},\"id\":\"f06fa899-fd19-48db-972e-04e94eecaa98\",\"type\":\"WheelZoomTool\"},{\"attributes\":{\"callback\":null,\"column_names\":[\"xs\",\"ys\",\"fill_color\"],\"data\":{\"fill_color\":[\"red\",\"blue\",\"green\"],\"xs\":[[1,1,2,2],[2,2,4],[2,2,3,3]],\"ys\":[[2,5,5,2],[3,5,5],[2,3,4,2]]}},\"id\":\"76912a31-7ee2-4a70-bb12-fac257c240d4\",\"type\":\"ColumnDataSource\"},{\"attributes\":{},\"id\":\"8b1b163a-57fc-4f64-9bd6-bc4e7501a79d\",\"type\":\"BasicTicker\"},{\"attributes\":{\"fill_color\":{\"field\":\"fill_color\"},\"line_color\":{\"value\":\"white\"},\"xs\":{\"field\":\"xs\"},\"ys\":{\"field\":\"ys\"}},\"id\":\"5ac1223e-996a-4306-af42-e352a4e8b8b3\",\"type\":\"Patches\"},{\"attributes\":{},\"id\":\"7fe000c2-6b1d-4bff-9616-855ea8dec95d\",\"type\":\"BasicTickFormatter\"},{\"attributes\":{\"active_drag\":\"auto\",\"active_inspect\":\"auto\",\"active_scroll\":\"auto\",\"active_tap\":\"auto\",\"tools\":[{\"id\":\"77ef7d16-e770-4057-b1b5-fabe1257061d\",\"type\":\"PanTool\"},{\"id\":\"f06fa899-fd19-48db-972e-04e94eecaa98\",\"type\":\"WheelZoomTool\"},{\"id\":\"4e63926e-3a8a-4ec5-bc01-211a5ce77589\",\"type\":\"BoxZoomTool\"},{\"id\":\"2c33e387-7e76-4dea-bbf4-cfd90cc750f3\",\"type\":\"SaveTool\"},{\"id\":\"7877e2c3-593f-419a-8162-8bddcccd4f28\",\"type\":\"ResetTool\"},{\"id\":\"4c8accde-dd4f-42e4-bd70-e3f013fd3d5d\",\"type\":\"HelpTool\"}]},\"id\":\"1be6ba85-5a91-425e-8773-abb76385a476\",\"type\":\"Toolbar\"},{\"attributes\":{},\"id\":\"1d40c458-9e36-4ed9-a9a2-b6c1cd34263a\",\"type\":\"LinearScale\"},{\"attributes\":{\"data_source\":{\"id\":\"76912a31-7ee2-4a70-bb12-fac257c240d4\",\"type\":\"ColumnDataSource\"},\"glyph\":{\"id\":\"5ac1223e-996a-4306-af42-e352a4e8b8b3\",\"type\":\"Patches\"},\"hover_glyph\":null,\"muted_glyph\":null,\"nonselection_glyph\":{\"id\":\"7c0686e8-342c-4216-bf56-10395ca7f039\",\"type\":\"Patches\"},\"selection_glyph\":null,\"view\":{\"id\":\"a15c3e81-e4dd-44dd-8dd9-930b30d38c6f\",\"type\":\"CDSView\"}},\"id\":\"9b4df64a-ee93-4cf9-84a3-1809879fd3af\",\"type\":\"GlyphRenderer\"},{\"attributes\":{},\"id\":\"77ef7d16-e770-4057-b1b5-fabe1257061d\",\"type\":\"PanTool\"},{\"attributes\":{\"below\":[{\"id\":\"708cee40-b190-4272-a0b2-3b25d60cacd3\",\"type\":\"LinearAxis\"}],\"left\":[{\"id\":\"e4137636-e479-4325-8ea7-c0732cd1b4cf\",\"type\":\"LinearAxis\"}],\"plot_height\":300,\"plot_width\":300,\"renderers\":[{\"id\":\"708cee40-b190-4272-a0b2-3b25d60cacd3\",\"type\":\"LinearAxis\"},{\"id\":\"180a60d4-befe-464b-b082-ab1b5629e02b\",\"type\":\"Grid\"},{\"id\":\"e4137636-e479-4325-8ea7-c0732cd1b4cf\",\"type\":\"LinearAxis\"},{\"id\":\"746913d7-1bf5-4430-bd1f-16984c5b3492\",\"type\":\"Grid\"},{\"id\":\"eea64b72-707e-49c7-8f85-70e0b88f52b3\",\"type\":\"BoxAnnotation\"},{\"id\":\"9b4df64a-ee93-4cf9-84a3-1809879fd3af\",\"type\":\"GlyphRenderer\"}],\"title\":{\"id\":\"357e9610-7f1b-45c2-879b-d062a9ad18c5\",\"type\":\"Title\"},\"toolbar\":{\"id\":\"1be6ba85-5a91-425e-8773-abb76385a476\",\"type\":\"Toolbar\"},\"x_range\":{\"id\":\"61ab0424-ed54-4337-a9c1-88f2e9a8d9a5\",\"type\":\"DataRange1d\"},\"x_scale\":{\"id\":\"5201468d-89ac-4a0e-b166-d2ed9490bcbe\",\"type\":\"LinearScale\"},\"y_range\":{\"id\":\"2c2e90c2-7b00-4e47-9b4d-485851fceec2\",\"type\":\"DataRange1d\"},\"y_scale\":{\"id\":\"1d40c458-9e36-4ed9-a9a2-b6c1cd34263a\",\"type\":\"LinearScale\"}},\"id\":\"d8dbbc0e-a065-488a-9563-a20df66a83e0\",\"subtype\":\"Figure\",\"type\":\"Plot\"}],\"root_ids\":[\"d8dbbc0e-a065-488a-9563-a20df66a83e0\"]},\"title\":\"Bokeh Application\",\"version\":\"0.12.11\"}};\n",
       "    var render_items = [{\"docid\":\"6a2adf9b-2d9a-4ce4-9a58-1a50177415ca\",\"elementid\":\"1348715c-a338-481f-82bb-74d4e47d8eb0\",\"modelid\":\"d8dbbc0e-a065-488a-9563-a20df66a83e0\"}];\n",
       "    root.Bokeh.embed.embed_items(docs_json, render_items);\n",
       "  }\n",
       "  if (root.Bokeh !== undefined) {\n",
       "    embed_document(root);\n",
       "  } else {\n",
       "    var attempts = 0;\n",
       "    var timer = setInterval(function(root) {\n",
       "      if (root.Bokeh !== undefined) {\n",
       "        embed_document(root);\n",
       "        clearInterval(timer);\n",
       "      }\n",
       "      attempts++;\n",
       "      if (attempts > 100) {\n",
       "        console.log(\"Bokeh: ERROR: Unable to embed document because BokehJS library is missing\")\n",
       "        clearInterval(timer);\n",
       "      }\n",
       "    }, 10, root)\n",
       "  }\n",
       "})(window);"
      ],
      "application/vnd.bokehjs_exec.v0+json": ""
     },
     "metadata": {
      "application/vnd.bokehjs_exec.v0+json": {
       "id": "d8dbbc0e-a065-488a-9563-a20df66a83e0"
      }
     },
     "output_type": "display_data"
    }
   ],
   "source": [
    "# PATCHES\n",
    "xs = [[1,1,2,2], [2,2,4], [2,2,3,3]]\n",
    "ys = [[2,5,5,2], [3,5,5], [2,3,4,2]]\n",
    "plot = figure(plot_width=300, plot_height=300)\n",
    "plot.patches(xs, ys,\n",
    "             fill_color=['red', 'blue', 'green'],\n",
    "             line_color='white')\n",
    "show(plot)"
   ]
  },
  {
   "cell_type": "code",
   "execution_count": null,
   "metadata": {},
   "outputs": [],
   "source": [
    "x = [az_lons, co_lons, nm_lons, ut_lons]              # Longitudes\n",
    "y = [az_lats, co_lats, nm_lats, ut_lats]              # Latitudes\n",
    "\n",
    "p.patches(x, y, line_color='white')\n",
    "show(p)"
   ]
  },
  {
   "cell_type": "markdown",
   "metadata": {},
   "source": [
    "<b>Other Glyphs</b><p><pre>\n",
    "annulus()                        patch()                      arc()\n",
    "annular_wedge()                  patches()                    quadratic()\n",
    "wedge()                                                       bezier()\n",
    "                                 line()          \n",
    "rect()                           multi_line()\n",
    "quad()                        \n",
    "vbar()                           circle()\n",
    "hbar()                           oval()\n",
    "                                 ellipse()\n",
    "image()                        \n",
    "image_rgba()                        \n",
    "image_url()                        </pre>"
   ]
  },
  {
   "cell_type": "markdown",
   "metadata": {},
   "source": [
    "<h3>Data formats"
   ]
  },
  {
   "cell_type": "code",
   "execution_count": 8,
   "metadata": {},
   "outputs": [
    {
     "data": {
      "text/html": [
       "\n",
       "<div class=\"bk-root\">\n",
       "    <div class=\"bk-plotdiv\" id=\"ce0b00f7-46d8-4a6e-b36c-3694f91fb085\"></div>\n",
       "</div>"
      ]
     },
     "metadata": {},
     "output_type": "display_data"
    },
    {
     "data": {
      "application/javascript": [
       "(function(root) {\n",
       "  function embed_document(root) {\n",
       "    var docs_json = {\"95763e49-de84-4911-978f-4448cbf20105\":{\"roots\":{\"references\":[{\"attributes\":{\"formatter\":{\"id\":\"0b1f5ec0-c7e6-48a7-87a9-27229b097f03\",\"type\":\"BasicTickFormatter\"},\"plot\":{\"id\":\"8fae2a37-2b56-4625-b4c6-f5d4ee289b9c\",\"subtype\":\"Figure\",\"type\":\"Plot\"},\"ticker\":{\"id\":\"bfa65bc5-f532-4b7b-8b8a-75573505f015\",\"type\":\"BasicTicker\"}},\"id\":\"a87a3057-4cc9-4605-bcb4-929663817dd6\",\"type\":\"LinearAxis\"},{\"attributes\":{},\"id\":\"9545c068-5dc6-4a06-b57d-556d312bc59b\",\"type\":\"PanTool\"},{\"attributes\":{},\"id\":\"bfa65bc5-f532-4b7b-8b8a-75573505f015\",\"type\":\"BasicTicker\"},{\"attributes\":{\"bottom_units\":\"screen\",\"fill_alpha\":{\"value\":0.5},\"fill_color\":{\"value\":\"lightgrey\"},\"left_units\":\"screen\",\"level\":\"overlay\",\"line_alpha\":{\"value\":1.0},\"line_color\":{\"value\":\"black\"},\"line_dash\":[4,4],\"line_width\":{\"value\":2},\"plot\":null,\"render_mode\":\"css\",\"right_units\":\"screen\",\"top_units\":\"screen\"},\"id\":\"ba9c528f-bcb0-462c-ba29-55f97d2ca343\",\"type\":\"BoxAnnotation\"},{\"attributes\":{\"formatter\":{\"id\":\"34c0fa59-f5d0-4918-ab03-6f7b50a05921\",\"type\":\"BasicTickFormatter\"},\"plot\":{\"id\":\"8fae2a37-2b56-4625-b4c6-f5d4ee289b9c\",\"subtype\":\"Figure\",\"type\":\"Plot\"},\"ticker\":{\"id\":\"15d9aa98-9610-43e0-8527-b56081c01558\",\"type\":\"BasicTicker\"}},\"id\":\"b88e43c3-902a-4283-8940-72474434fa72\",\"type\":\"LinearAxis\"},{\"attributes\":{\"below\":[{\"id\":\"b88e43c3-902a-4283-8940-72474434fa72\",\"type\":\"LinearAxis\"}],\"left\":[{\"id\":\"a87a3057-4cc9-4605-bcb4-929663817dd6\",\"type\":\"LinearAxis\"}],\"plot_height\":220,\"plot_width\":800,\"renderers\":[{\"id\":\"b88e43c3-902a-4283-8940-72474434fa72\",\"type\":\"LinearAxis\"},{\"id\":\"010587eb-06ca-4104-99e0-1a975417df9f\",\"type\":\"Grid\"},{\"id\":\"a87a3057-4cc9-4605-bcb4-929663817dd6\",\"type\":\"LinearAxis\"},{\"id\":\"c0f3e9a9-a36d-4e15-a43d-7edd2c300ba8\",\"type\":\"Grid\"},{\"id\":\"ba9c528f-bcb0-462c-ba29-55f97d2ca343\",\"type\":\"BoxAnnotation\"},{\"id\":\"0176e4a5-3afc-43df-8c9f-bc18f9980e02\",\"type\":\"GlyphRenderer\"}],\"title\":{\"id\":\"f5ba121d-4663-4936-94c1-8f3bb441a431\",\"type\":\"Title\"},\"toolbar\":{\"id\":\"0cdd9b70-b307-4f99-9f2d-55cf12b5d988\",\"type\":\"Toolbar\"},\"x_range\":{\"id\":\"34c61312-044c-4210-9730-f42043ef5816\",\"type\":\"DataRange1d\"},\"x_scale\":{\"id\":\"42e251dd-c6c0-4529-af4f-25bca511caec\",\"type\":\"LinearScale\"},\"y_range\":{\"id\":\"b3473ad7-d9aa-4bc6-aa61-7d0d86d38901\",\"type\":\"DataRange1d\"},\"y_scale\":{\"id\":\"f4807153-49a4-4c48-90f2-c29c70a271a6\",\"type\":\"LinearScale\"}},\"id\":\"8fae2a37-2b56-4625-b4c6-f5d4ee289b9c\",\"subtype\":\"Figure\",\"type\":\"Plot\"},{\"attributes\":{},\"id\":\"58d84a07-beb6-494f-af2f-32f4cd58e890\",\"type\":\"WheelZoomTool\"},{\"attributes\":{},\"id\":\"15d9aa98-9610-43e0-8527-b56081c01558\",\"type\":\"BasicTicker\"},{\"attributes\":{\"active_drag\":\"auto\",\"active_inspect\":\"auto\",\"active_scroll\":\"auto\",\"active_tap\":\"auto\",\"tools\":[{\"id\":\"9545c068-5dc6-4a06-b57d-556d312bc59b\",\"type\":\"PanTool\"},{\"id\":\"58d84a07-beb6-494f-af2f-32f4cd58e890\",\"type\":\"WheelZoomTool\"},{\"id\":\"36466e97-1a75-41b8-94b6-31dd6906aa4c\",\"type\":\"BoxZoomTool\"},{\"id\":\"e7c7757b-ef6f-4195-b0e4-e0492e07b87f\",\"type\":\"SaveTool\"},{\"id\":\"83ff9a63-9698-4d65-ad1a-5eadc90ed3c6\",\"type\":\"ResetTool\"},{\"id\":\"8d269d43-f921-4d89-9084-ed3c59afbe3b\",\"type\":\"HelpTool\"}]},\"id\":\"0cdd9b70-b307-4f99-9f2d-55cf12b5d988\",\"type\":\"Toolbar\"},{\"attributes\":{\"overlay\":{\"id\":\"ba9c528f-bcb0-462c-ba29-55f97d2ca343\",\"type\":\"BoxAnnotation\"}},\"id\":\"36466e97-1a75-41b8-94b6-31dd6906aa4c\",\"type\":\"BoxZoomTool\"},{\"attributes\":{\"callback\":null},\"id\":\"b3473ad7-d9aa-4bc6-aa61-7d0d86d38901\",\"type\":\"DataRange1d\"},{\"attributes\":{},\"id\":\"e7c7757b-ef6f-4195-b0e4-e0492e07b87f\",\"type\":\"SaveTool\"},{\"attributes\":{\"line_color\":\"#1f77b4\",\"x\":{\"field\":\"x\"},\"y\":{\"field\":\"y\"}},\"id\":\"a129b1a7-4db4-4503-82e2-bb9852d1594b\",\"type\":\"Line\"},{\"attributes\":{},\"id\":\"83ff9a63-9698-4d65-ad1a-5eadc90ed3c6\",\"type\":\"ResetTool\"},{\"attributes\":{},\"id\":\"f4807153-49a4-4c48-90f2-c29c70a271a6\",\"type\":\"LinearScale\"},{\"attributes\":{\"callback\":null},\"id\":\"34c61312-044c-4210-9730-f42043ef5816\",\"type\":\"DataRange1d\"},{\"attributes\":{},\"id\":\"8d269d43-f921-4d89-9084-ed3c59afbe3b\",\"type\":\"HelpTool\"},{\"attributes\":{},\"id\":\"42e251dd-c6c0-4529-af4f-25bca511caec\",\"type\":\"LinearScale\"},{\"attributes\":{\"plot\":{\"id\":\"8fae2a37-2b56-4625-b4c6-f5d4ee289b9c\",\"subtype\":\"Figure\",\"type\":\"Plot\"},\"ticker\":{\"id\":\"15d9aa98-9610-43e0-8527-b56081c01558\",\"type\":\"BasicTicker\"}},\"id\":\"010587eb-06ca-4104-99e0-1a975417df9f\",\"type\":\"Grid\"},{\"attributes\":{\"dimension\":1,\"plot\":{\"id\":\"8fae2a37-2b56-4625-b4c6-f5d4ee289b9c\",\"subtype\":\"Figure\",\"type\":\"Plot\"},\"ticker\":{\"id\":\"bfa65bc5-f532-4b7b-8b8a-75573505f015\",\"type\":\"BasicTicker\"}},\"id\":\"c0f3e9a9-a36d-4e15-a43d-7edd2c300ba8\",\"type\":\"Grid\"},{\"attributes\":{},\"id\":\"34c0fa59-f5d0-4918-ab03-6f7b50a05921\",\"type\":\"BasicTickFormatter\"},{\"attributes\":{\"source\":{\"id\":\"a111c88d-4d55-41a5-90d4-bf18ecd0e582\",\"type\":\"ColumnDataSource\"}},\"id\":\"4546addf-cfbc-4e4b-9b8b-290e8bb117d9\",\"type\":\"CDSView\"},{\"attributes\":{\"callback\":null,\"column_names\":[\"x\",\"y\"],\"data\":{\"x\":{\"__ndarray__\":\"AAAAAAAAAAACSAHNIICEPwJIAc0ggJQ/A+yBMzHAnj8CSAHNIICkPwKaQQApoKk/A+yBMzHArj8CH2GzHPCxPwJIAc0ggLQ/AnGh5iQQtz8CmkEAKaC5PwPD4RktMLw/A+yBMzHAvj+CCpGmGqjAPwIfYbMc8ME/gjMxwB44wz8CSAHNIIDEP4Jc0dkiyMU/AnGh5iQQxz+ChXHzJljIPwKaQQApoMk/g64RDSvoyj8Dw+EZLTDMP4PXsSYveM0/A+yBMzHAzj9CACmgGQTQP4IKkaYaqNA/whT5rBtM0T8CH2GzHPDRP0IpybkdlNI/gjMxwB440z/CPZnGH9zTPwJIAc0ggNQ/QlJp0yEk1T+CXNHZIsjVP8JmOeAjbNY/AnGh5iQQ1z9CewntJbTXP4KFcfMmWNg/wo/Z+Sf82D8CmkEAKaDZP0OkqQYqRNo/g64RDSvo2j/DuHkTLIzbPwPD4RktMNw/Q81JIC7U3D+D17EmL3jdP8PhGS0wHN4/A+yBMzHA3j9D9uk5MmTfP0IAKaAZBOA/YgVdIxpW4D+CCpGmGqjgP6IPxSkb+uA/whT5rBtM4T/iGS0wHJ7hPwIfYbMc8OE/IiSVNh1C4j9CKcm5HZTiP2Iu/Twe5uI/gjMxwB444z+iOGVDH4rjP8I9mcYf3OM/4kLNSSAu5D8CSAHNIIDkPyJNNVAh0uQ/QlJp0yEk5T9iV51WInblP4Jc0dkiyOU/omEFXSMa5j/CZjngI2zmP+JrbWMkvuY/AnGh5iQQ5z8idtVpJWLnP0J7Ce0ltOc/YoA9cCYG6D+ChXHzJljoP6KKpXYnqug/wo/Z+Sf86D/ilA19KE7pPwKaQQApoOk/I591gyny6T9DpKkGKkTqP2Op3Ykqluo/g64RDSvo6j+js0WQKzrrP8O4eRMsjOs/472tlize6z8Dw+EZLTDsPyPIFZ0tguw/Q81JIC7U7D9j0n2jLibtP4PXsSYveO0/o9zlqS/K7T/D4RktMBzuP+PmTbAwbu4/A+yBMzHA7j8j8bW2MRLvP0P26TkyZO8/Y/sdvTK27z9CACmgGQTwP9ICw+EZLfA/YgVdIxpW8D/yB/dkGn/wP4IKkaYaqPA/Eg0r6BrR8D+iD8UpG/rwPzISX2sbI/E/whT5rBtM8T9SF5PuG3XxP+IZLTAcnvE/chzHcRzH8T8CH2GzHPDxP5Ih+/QcGfI/IiSVNh1C8j+yJi94HWvyP0IpybkdlPI/0itj+x298j9iLv08HubyP/Iwl34eD/M/gjMxwB448z8SNssBH2HzP6I4ZUMfivM/Mjv/hB+z8z/CPZnGH9zzP1JAMwggBfQ/4kLNSSAu9D9yRWeLIFf0PwJIAc0ggPQ/kkqbDiGp9D8iTTVQIdL0P7JPz5Eh+/Q/QlJp0yEk9T/SVAMVIk31P2JXnVYidvU/8lk3mCKf9T+CXNHZIsj1PxJfaxsj8fU/omEFXSMa9j8yZJ+eI0P2P8JmOeAjbPY/UmnTISSV9j/ia21jJL72P3JuB6Uk5/Y/AnGh5iQQ9z+SczsoJTn3PyJ21WklYvc/snhvqyWL9z9CewntJbT3P9J9oy4m3fc/YoA9cCYG+D/ygtexJi/4P4KFcfMmWPg/EogLNSeB+D+iiqV2J6r4PzKNP7gn0/g/wo/Z+Sf8+D9SknM7KCX5P+KUDX0oTvk/cpenvih3+T8CmkEAKaD5P5Oc20Epyfk/I591gyny+T+zoQ/FKRv6P0OkqQYqRPo/06ZDSCpt+j9jqd2JKpb6P/Ord8sqv/o/g64RDSvo+j8TsatOKxH7P6OzRZArOvs/M7bf0Stj+z/DuHkTLIz7P1O7E1Ustfs/472tlize+z9zwEfYLAf8PwPD4RktMPw/k8V7Wy1Z/D8jyBWdLYL8P7PKr94tq/w/Q81JIC7U/D/Tz+NhLv38P2PSfaMuJv0/89QX5S5P/T+D17EmL3j9PxPaS2gvof0/o9zlqS/K/T8z33/rL/P9P8PhGS0wHP4/U+SzbjBF/j/j5k2wMG7+P3Pp5/Ewl/4/A+yBMzHA/j+T7ht1Men+PyPxtbYxEv8/s/NP+DE7/z9D9uk5MmT/P9P4g3syjf8/Y/sdvTK2/z/z/bf+Mt//P0IAKaAZBABAigH2wJkYAEDSAsPhGS0AQBoEkAKaQQBAYgVdIxpWAECqBipEmmoAQPIH92QafwBAOgnEhZqTAECCCpGmGqgAQMoLXseavABAEg0r6BrRAEBaDvgIm+UAQKIPxSkb+gBA6hCSSpsOAUAyEl9rGyMBQHoTLIybNwFAwhT5rBtMAUAKFsbNm2ABQFIXk+4bdQFAmhhgD5yJAUDiGS0wHJ4BQCob+lCcsgFAchzHcRzHAUC6HZSSnNsBQAIfYbMc8AFASiAu1JwEAkCSIfv0HBkCQNoiyBWdLQJAIiSVNh1CAkBqJWJXnVYCQLImL3gdawJA+if8mJ1/AkBCKcm5HZQCQIoqltqdqAJA0itj+x29AkAaLTAcntECQGIu/Twe5gJAqi/KXZ76AkDyMJd+Hg8DQDoyZJ+eIwNAgjMxwB44A0DKNP7gnkwDQBI2ywEfYQNAWjeYIp91A0CiOGVDH4oDQOo5MmSfngNAMjv/hB+zA0B6PMyln8cDQMI9mcYf3ANACj9m55/wA0BSQDMIIAUEQJpBACmgGQRA4kLNSSAuBEAqRJpqoEIEQHJFZ4sgVwRAukY0rKBrBEACSAHNIIAEQEpJzu2glARAkkqbDiGpBEDaS2gvob0EQCJNNVAh0gRAak4CcaHmBECyT8+RIfsEQPpQnLKhDwVAQlJp0yEkBUCKUzb0oTgFQNJUAxUiTQVAGlbQNaJhBUBiV51WInYFQKpYaneiigVA8lk3mCKfBUA6WwS5orMFQIJc0dkiyAVAyl2e+qLcBUASX2sbI/EFQFpgODyjBQZAomEFXSMaBkDqYtJ9oy4GQDJkn54jQwZAemVsv6NXBkDCZjngI2wGQApoBgGkgAZAUmnTISSVBkCaaqBCpKkGQOJrbWMkvgZAKm06hKTSBkBybgelJOcGQLpv1MWk+wZAAnGh5iQQB0BKcm4HpSQHQJJzOyglOQdA2nQISaVNB0AidtVpJWIHQGp3ooqldgdAsnhvqyWLB0D6eTzMpZ8HQEJ7Ce0ltAdAinzWDabIB0DSfaMuJt0HQBp/cE+m8QdAYoA9cCYGCECqgQqRphoIQPKC17EmLwhAOoSk0qZDCECChXHzJlgIQMqGPhSnbAhAEogLNSeBCEBaidhVp5UIQKKKpXYnqghA6otyl6e+CEAyjT+4J9MIQHqODNmn5whAwo/Z+Sf8CEAKkaYaqBAJQFKSczsoJQlAmpNAXKg5CUDilA19KE4JQCqW2p2oYglAcpenvih3CUC6mHTfqIsJQAKaQQApoAlAS5sOIam0CUCTnNtBKckJQNudqGKp3QlAI591gynyCUBroEKkqQYKQLOhD8UpGwpA+6Lc5akvCkBDpKkGKkQKQIuldieqWApA06ZDSCptCkAbqBBpqoEKQGOp3YkqlgpAq6qqqqqqCkDzq3fLKr8KQDutROyq0wpAg64RDSvoCkDLr94tq/wKQBOxq04rEQtAW7J4b6slC0Cjs0WQKzoLQOu0ErGrTgtAM7bf0StjC0B7t6zyq3cLQMO4eRMsjAtAC7pGNKygC0BTuxNVLLULQJu84HWsyQtA472tlizeC0Arv3q3rPILQHPAR9gsBwxAu8EU+awbDEADw+EZLTAMQEvErjqtRAxAk8V7Wy1ZDEDbxkh8rW0MQCPIFZ0tggxAa8niva2WDECzyq/eLasMQPvLfP+tvwxAQ81JIC7UDECLzhZBrugMQNPP42Eu/QxAG9Gwgq4RDUBj0n2jLiYNQKvTSsSuOg1A89QX5S5PDUA71uQFr2MNQIPXsSYveA1Ay9h+R6+MDUAT2ktoL6ENQFvbGImvtQ1Ao9zlqS/KDUDr3bLKr94NQDPff+sv8w1Ae+BMDLAHDkDD4RktMBwOQAvj5k2wMA5AU+SzbjBFDkCb5YCPsFkOQOPmTbAwbg5AK+ga0bCCDkBz6efxMJcOQLvqtBKxqw5AA+yBMzHADkBL7U5UsdQOQJPuG3Ux6Q5A2+/olbH9DkAj8bW2MRIPQGvygtexJg9As/NP+DE7D0D79BwZsk8PQEP26TkyZA9Ai/e2WrJ4D0DT+IN7Mo0PQBv6UJyyoQ9AY/sdvTK2D0Cr/OrdssoPQPP9t/4y3w9AO/+EH7PzD0BCACmgGQQQQOaAj7BZDhBAigH2wJkYEEAuglzR2SIQQNICw+EZLRBAdoMp8lk3EEAaBJACmkEQQL6E9hLaSxBAYgVdIxpWEEAGhsMzWmAQQKoGKkSaahBAToeQVNp0EEDyB/dkGn8QQJaIXXVaiRBAOgnEhZqTEEDeiSqW2p0QQIIKkaYaqBBAJov3tlqyEEDKC17HmrwQQG6MxNfaxhBAEg0r6BrREEC2jZH4WtsQQFoO+Aib5RBA/o5eGdvvEECiD8UpG/oQQEaQKzpbBBFA6hCSSpsOEUCOkfha2xgRQDISX2sbIxFA1pLFe1stEUB6EyyMmzcRQB6UkpzbQRFAwhT5rBtMEUBmlV+9W1YRQAoWxs2bYBFArpYs3ttqEUBSF5PuG3URQPaX+f5bfxFAmhhgD5yJEUA+mcYf3JMRQOIZLTAcnhFAhpqTQFyoEUAqG/pQnLIRQM6bYGHcvBFAchzHcRzHEUAWnS2CXNERQLodlJKc2xFAXp76otzlEUACH2GzHPARQKafx8Nc+hFASiAu1JwEEkDuoJTk3A4SQJIh+/QcGRJANqJhBV0jEkDaIsgVnS0SQH6jLibdNxJAIiSVNh1CEkDGpPtGXUwSQGolYledVhJADqbIZ91gEkCyJi94HWsSQFanlYhddRJA+if8mJ1/EkCeqGKp3YkSQEIpybkdlBJA5qkvyl2eEkCKKpbanagSQC6r/OrdshJA0itj+x29EkB2rMkLXscSQBotMBye0RJAvq2WLN7bEkBiLv08HuYSQAavY01e8BJAqi/KXZ76EkBOsDBu3gQTQPIwl34eDxNAlrH9jl4ZE0A6MmSfniMTQN6yyq/eLRNAgjMxwB44E0AmtJfQXkITQMo0/uCeTBNAbrVk8d5WE0ASNssBH2ETQLa2MRJfaxNAWjeYIp91E0D+t/4y338TQKI4ZUMfihNARrnLU1+UE0DqOTJkn54TQI66mHTfqBNAMjv/hB+zE0DWu2WVX70TQHo8zKWfxxNAHr0ytt/RE0DCPZnGH9wTQGa+/9Zf5hNACj9m55/wE0Cuv8z33/oTQFJAMwggBRRA9sCZGGAPFECaQQApoBkUQD7CZjngIxRA4kLNSSAuFECGwzNaYDgUQCpEmmqgQhRAzsQAe+BMFEByRWeLIFcUQBbGzZtgYRRAukY0rKBrFEBex5q84HUUQAJIAc0ggBRApshn3WCKFEBKSc7toJQUQO7JNP7gnhRAkkqbDiGpFEA2ywEfYbMUQNpLaC+hvRRAfszOP+HHFEAiTTVQIdIUQMbNm2Bh3BRAak4CcaHmFEAOz2iB4fAUQLJPz5Eh+xRAVtA1omEFFUD6UJyyoQ8VQJ7RAsPhGRVAQlJp0yEkFUDm0s/jYS4VQIpTNvShOBVALtScBOJCFUDSVAMVIk0VQHbVaSViVxVAGlbQNaJhFUC+1jZG4msVQGJXnVYidhVABtgDZ2KAFUCqWGp3oooVQE7Z0IfilBVA8lk3mCKfFUCW2p2oYqkVQDpbBLmisxVA3ttqyeK9FUCCXNHZIsgVQCbdN+pi0hVAyl2e+qLcFUBu3gQL4+YVQBJfaxsj8RVAtt/RK2P7FUBaYDg8owUWQP7gnkzjDxZAomEFXSMaFkBG4mttYyQWQOpi0n2jLhZAjuM4juM4FkAyZJ+eI0MWQNbkBa9jTRZAemVsv6NXFkAe5tLP42EWQMJmOeAjbBZAZuef8GN2FkAKaAYBpIAWQK7obBHkihZAUmnTISSVFkD26TkyZJ8WQJpqoEKkqRZAPusGU+SzFkDia21jJL4WQIbs03NkyBZAKm06hKTSFkDO7aCU5NwWQHJuB6Uk5xZAFu9ttWTxFkC6b9TFpPsWQF7wOtbkBRdAAnGh5iQQF0Cm8Qf3ZBoXQEpybgelJBdA7vLUF+UuF0CSczsoJTkXQDb0oThlQxdA2nQISaVNF0B+9W5Z5VcXQCJ21WklYhdAxvY7emVsF0Bqd6KKpXYXQA74CJvlgBdAsnhvqyWLF0BW+dW7ZZUXQPp5PMylnxdAnvqi3OWpF0BCewntJbQXQOb7b/1lvhdAinzWDabIF0Au/Twe5tIXQNJ9oy4m3RdAdv4JP2bnF0Aaf3BPpvEXQL7/1l/m+xdAYoA9cCYGGEAGAaSAZhAYQKqBCpGmGhhATgJxoeYkGEDygtexJi8YQJYDPsJmORhAOoSk0qZDGEDeBAvj5k0YQIKFcfMmWBhAJgbYA2diGEDKhj4Up2wYQG4HpSTndhhAEogLNSeBGEC2CHJFZ4sYQFqJ2FWnlRhA/gk/ZuefGECiiqV2J6oYQEYLDIdntBhA6otyl6e+GECODNmn58gYQDKNP7gn0xhA1g2myGfdGEB6jgzZp+cYQB4Pc+nn8RhAwo/Z+Sf8GEBmEEAKaAYZQAqRphqoEBlArhENK+gaGUBSknM7KCUZQPYS2ktoLxlAmpNAXKg5GUA+FKds6EMZQOKUDX0oThlAhhV0jWhYGUAqltqdqGIZQM4WQa7obBlAcpenvih3GUAWGA7PaIEZQLqYdN+oixlAXhnb7+iVGUACmkEAKaAZQKcaqBBpqhlAS5sOIam0GUDvG3Ux6b4ZQJOc20EpyRlANx1CUmnTGUDbnahiqd0ZQH8eD3Pp5xlAI591gynyGUDHH9yTafwZQGugQqSpBhpADyGptOkQGkCzoQ/FKRsaQFcidtVpJRpA+6Lc5akvGkCfI0P26TkaQEOkqQYqRBpA5yQQF2pOGkCLpXYnqlgaQC8m3TfqYhpA06ZDSCptGkB3J6pYancaQBuoEGmqgRpAvyh3eeqLGkBjqd2JKpYaQAcqRJpqoBpAq6qqqqqqGkBPKxG76rQaQPOrd8sqvxpAlyze22rJGkA7rUTsqtMaQN8tq/zq3RpAg64RDSvoGkAnL3gda/IaQMuv3i2r/BpAbzBFPusGG0ATsatOKxEbQLcxEl9rGxtAW7J4b6slG0D/Mt9/6y8bQKOzRZArOhtARzSsoGtEG0DrtBKxq04bQI81ecHrWBtAM7bf0StjG0DXNkbia20bQHu3rPKrdxtAHzgTA+yBG0DDuHkTLIwbQGc54CNslhtAC7pGNKygG0CvOq1E7KobQFO7E1UstRtA9zt6ZWy/G0CbvOB1rMkbQD89R4bs0xtA472tlizeG0CHPhSnbOgbQCu/eres8htAzz/hx+z8G0BzwEfYLAccQBdBruhsERxAu8EU+awbHEBfQnsJ7SUcQAPD4RktMBxAp0NIKm06HEBLxK46rUQcQO9EFUvtThxAk8V7Wy1ZHEA3RuJrbWMcQNvGSHytbRxAf0evjO13HEAjyBWdLYIcQMdIfK1tjBxAa8niva2WHEAPSknO7aAcQLPKr94tqxxAV0sW7221HED7y3z/rb8cQJ9M4w/uyRxAQ81JIC7UHEDnTbAwbt4cQIvOFkGu6BxAL099Ue7yHEDTz+NhLv0cQHdQSnJuBx1AG9Gwgq4RHUC/UReT7hsdQGPSfaMuJh1AB1Pks24wHUCr00rErjodQE9UsdTuRB1A89QX5S5PHUCXVX71blkdQDvW5AWvYx1A31ZLFu9tHUCD17EmL3gdQCdYGDdvgh1Ay9h+R6+MHUBvWeVX75YdQBPaS2gvoR1At1qyeG+rHUBb2xiJr7UdQP9bf5nvvx1Ao9zlqS/KHUBHXUy6b9QdQOvdssqv3h1Aj14Z2+/oHUAz33/rL/MdQNdf5vtv/R1Ae+BMDLAHHkAfYbMc8BEeQMPhGS0wHB5AZ2KAPXAmHkAL4+ZNsDAeQK9jTV7wOh5AU+SzbjBFHkD3ZBp/cE8eQJvlgI+wWR5AP2bnn/BjHkDj5k2wMG4eQIdntMBweB5AK+ga0bCCHkDPaIHh8IweQHPp5/Ewlx5AF2pOAnGhHkC76rQSsaseQF9rGyPxtR5AA+yBMzHAHkCnbOhDccoeQEvtTlSx1B5A7221ZPHeHkCT7ht1MekeQDdvgoVx8x5A2+/olbH9HkB/cE+m8QcfQCPxtbYxEh9Ax3Ecx3EcH0Br8oLXsSYfQA9z6efxMB9As/NP+DE7H0BXdLYIckUfQPv0HBmyTx9An3WDKfJZH0BD9uk5MmQfQOd2UEpybh9Ai/e2WrJ4H0AveB1r8oIfQNP4g3syjR9Ad3nqi3KXH0Ab+lCcsqEfQL96t6zyqx9AY/sdvTK2H0AHfITNcsAfQKv86t2yyh9AT31R7vLUH0Dz/bf+Mt8fQJd+Hg9z6R9AO/+EH7PzH0Dff+sv8/0fQEIAKaAZBCBAlEBcqDkJIEDmgI+wWQ4gQDjBwrh5EyBAigH2wJkYIEDcQSnJuR0gQC6CXNHZIiBAgMKP2fknIEDSAsPhGS0gQCRD9uk5MiBAdoMp8lk3IEDIw1z6eTwgQBoEkAKaQSBAbETDCrpGIEC+hPYS2ksgQBDFKRv6UCBAYgVdIxpWIEC0RZArOlsgQAaGwzNaYCBAWMb2O3plIECqBipEmmogQPxGXUy6byBAToeQVNp0IECgx8Nc+nkgQPIH92QafyBAREgqbTqEIECWiF11WokgQOjIkH16jiBAOgnEhZqTIECMSfeNupggQN6JKpbanSBAMMpdnvqiIECCCpGmGqggQNRKxK46rSBAJov3tlqyIEB4yyq/ercgQMoLXseavCBAHEyRz7rBIEBujMTX2sYgQMDM99/6yyBAEg0r6BrRIEBkTV7wOtYgQLaNkfha2yBACM7EAHvgIEBaDvgIm+UgQKxOKxG76iBA/o5eGdvvIEBQz5Eh+/QgQKIPxSkb+iBA9E/4MTv/IEBGkCs6WwQhQJjQXkJ7CSFA6hCSSpsOIUA8UcVSuxMhQI6R+FrbGCFA4NErY/sdIUAyEl9rGyMhQIRSknM7KCFA1pLFe1stIUAo0/iDezIhQHoTLIybNyFAzFNflLs8IUAelJKc20EhQHDUxaT7RiFAwhT5rBtMIUAUVSy1O1EhQGaVX71bViFAuNWSxXtbIUAKFsbNm2AhQFxW+dW7ZSFArpYs3ttqIUAA11/m+28hQFIXk+4bdSFApFfG9jt6IUD2l/n+W38hQEjYLAd8hCFAmhhgD5yJIUDsWJMXvI4hQD6Zxh/ckyFAkNn5J/yYIUDiGS0wHJ4hQDRaYDg8oyFAhpqTQFyoIUDY2sZIfK0hQCob+lCcsiFAfFstWby3IUDOm2Bh3LwhQCDck2n8wSFAchzHcRzHIUDEXPp5PMwhQBadLYJc0SFAaN1ginzWIUC6HZSSnNshQAxex5q84CFAXp76otzlIUCw3i2r/OohQAIfYbMc8CFAVF+Uuzz1IUCmn8fDXPohQPjf+st8/yFASiAu1JwEIkCcYGHcvAkiQO6glOTcDiJAQOHH7PwTIkCSIfv0HBkiQORhLv08HiJANqJhBV0jIkCI4pQNfSgiQNoiyBWdLSJALGP7Hb0yIkB+oy4m3TciQNDjYS79PCJAIiSVNh1CIkB0ZMg+PUciQMak+0ZdTCJAGOUuT31RIkBqJWJXnVYiQLxllV+9WyJADqbIZ91gIkBg5vtv/WUiQLImL3gdayJABGdigD1wIkBWp5WIXXUiQKjnyJB9eiJA+if8mJ1/IkBMaC+hvYQiQJ6oYqndiSJA8OiVsf2OIkBCKcm5HZQiQJRp/ME9mSJA5qkvyl2eIkA46mLSfaMiQIoqltqdqCJA3GrJ4r2tIkAuq/zq3bIiQIDrL/P9tyJA0itj+x29IkAkbJYDPsIiQHasyQtexyJAyOz8E37MIkAaLTAcntEiQGxtYyS+1iJAvq2WLN7bIkAQ7sk0/uAiQGIu/Twe5iJAtG4wRT7rIkAGr2NNXvAiQFjvllV+9SJAqi/KXZ76IkD8b/1lvv8iQE6wMG7eBCNAoPBjdv4JI0DyMJd+Hg8jQERxyoY+FCNAlrH9jl4ZI0Do8TCXfh4jQDoyZJ+eIyNAjHKXp74oI0Dessqv3i0jQDDz/bf+MiNAgjMxwB44I0DUc2TIPj0jQCa0l9BeQiNAePTK2H5HI0DKNP7gnkwjQBx1Mem+USNAbrVk8d5WI0DA9Zf5/lsjQBI2ywEfYSNAZHb+CT9mI0C2tjESX2sjQAj3ZBp/cCNAWjeYIp91I0Csd8sqv3ojQP63/jLffyNAUPgxO/+EI0CiOGVDH4ojQPR4mEs/jyNARrnLU1+UI0CY+f5bf5kjQOo5MmSfniNAPHplbL+jI0COuph036gjQOD6y3z/rSNAMjv/hB+zI0CEezKNP7gjQNa7ZZVfvSNAKPyYnX/CI0B6PMyln8cjQMx8/62/zCNAHr0ytt/RI0Bw/WW+/9YjQMI9mcYf3CNAFH7Mzj/hI0Bmvv/WX+YjQLj+Mt9/6yNACj9m55/wI0Bcf5nvv/UjQK6/zPff+iNAAAAAAAAAJEA=\",\"dtype\":\"float64\",\"shape\":[1000]},\"y\":{\"__ndarray__\":\"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\",\"dtype\":\"float64\",\"shape\":[1000]}}},\"id\":\"a111c88d-4d55-41a5-90d4-bf18ecd0e582\",\"type\":\"ColumnDataSource\"},{\"attributes\":{\"line_alpha\":0.1,\"line_color\":\"#1f77b4\",\"x\":{\"field\":\"x\"},\"y\":{\"field\":\"y\"}},\"id\":\"faf713cd-ea47-42de-968a-06fe04fc40f0\",\"type\":\"Line\"},{\"attributes\":{},\"id\":\"0b1f5ec0-c7e6-48a7-87a9-27229b097f03\",\"type\":\"BasicTickFormatter\"},{\"attributes\":{\"data_source\":{\"id\":\"a111c88d-4d55-41a5-90d4-bf18ecd0e582\",\"type\":\"ColumnDataSource\"},\"glyph\":{\"id\":\"a129b1a7-4db4-4503-82e2-bb9852d1594b\",\"type\":\"Line\"},\"hover_glyph\":null,\"muted_glyph\":null,\"nonselection_glyph\":{\"id\":\"faf713cd-ea47-42de-968a-06fe04fc40f0\",\"type\":\"Line\"},\"selection_glyph\":null,\"view\":{\"id\":\"4546addf-cfbc-4e4b-9b8b-290e8bb117d9\",\"type\":\"CDSView\"}},\"id\":\"0176e4a5-3afc-43df-8c9f-bc18f9980e02\",\"type\":\"GlyphRenderer\"},{\"attributes\":{\"plot\":null,\"text\":\"\"},\"id\":\"f5ba121d-4663-4936-94c1-8f3bb441a431\",\"type\":\"Title\"}],\"root_ids\":[\"8fae2a37-2b56-4625-b4c6-f5d4ee289b9c\"]},\"title\":\"Bokeh Application\",\"version\":\"0.12.11\"}};\n",
       "    var render_items = [{\"docid\":\"95763e49-de84-4911-978f-4448cbf20105\",\"elementid\":\"ce0b00f7-46d8-4a6e-b36c-3694f91fb085\",\"modelid\":\"8fae2a37-2b56-4625-b4c6-f5d4ee289b9c\"}];\n",
       "    root.Bokeh.embed.embed_items(docs_json, render_items);\n",
       "  }\n",
       "  if (root.Bokeh !== undefined) {\n",
       "    embed_document(root);\n",
       "  } else {\n",
       "    var attempts = 0;\n",
       "    var timer = setInterval(function(root) {\n",
       "      if (root.Bokeh !== undefined) {\n",
       "        embed_document(root);\n",
       "        clearInterval(timer);\n",
       "      }\n",
       "      attempts++;\n",
       "      if (attempts > 100) {\n",
       "        console.log(\"Bokeh: ERROR: Unable to embed document because BokehJS library is missing\")\n",
       "        clearInterval(timer);\n",
       "      }\n",
       "    }, 10, root)\n",
       "  }\n",
       "})(window);"
      ],
      "application/vnd.bokehjs_exec.v0+json": ""
     },
     "metadata": {
      "application/vnd.bokehjs_exec.v0+json": {
       "id": "8fae2a37-2b56-4625-b4c6-f5d4ee289b9c"
      }
     },
     "output_type": "display_data"
    }
   ],
   "source": [
    "# NUMPY\n",
    "import numpy as np\n",
    "x = np.linspace(0,10,1000)\n",
    "y = np.sin(x) + np.random.random(1000) * 0.2\n",
    "\n",
    "plot = figure(plot_width=800, plot_height=220)\n",
    "plot.line(x,y)\n",
    "show(plot)"
   ]
  },
  {
   "cell_type": "code",
   "execution_count": null,
   "metadata": {},
   "outputs": [],
   "source": [
    "# COLUMN DATA SOURCE\n",
    "from bokeh.models import ColumnDataSource\n",
    "source = ColumnDataSource(data={'x': [1,2,3,4,5],\n",
    "                                'y': [8,6,5,2,3]})\n",
    "source2 = ColumnDataSource(df)\n",
    "\n",
    "p.circle('Year', 'Time', size=8, source=source, color='color')\n",
    "show(p)"
   ]
  },
  {
   "cell_type": "code",
   "execution_count": null,
   "metadata": {},
   "outputs": [],
   "source": [
    "# CUSTOMIZING GLYPHS\n",
    "\n",
    "# Selection\n",
    "plot = figure(tools='box_select, lasso_select')\n",
    "plot.circle(x, y, selection_color='red', nonselection_fill_alpha=0.2, nonselection_fill_color='gray')"
   ]
  },
  {
   "cell_type": "code",
   "execution_count": null,
   "metadata": {},
   "outputs": [],
   "source": [
    "# HOVER appearance\n",
    "from bokeh.models import HoverTool\n",
    "\n",
    "hover = HoverTool(tooltips=None, mode='hline')\n",
    "plot = figure(tools=[hover, 'crosshair'])\n",
    "plot.circle(x, y, size=15, hover_color='red')"
   ]
  },
  {
   "cell_type": "code",
   "execution_count": null,
   "metadata": {},
   "outputs": [],
   "source": [
    "hover = HoverTool(tooltips=[('species name', '@species'), \n",
    "                            ('petal length', '@petal_length'), \n",
    "                            ('sepal length', '@sepal_length')])"
   ]
  },
  {
   "cell_type": "code",
   "execution_count": null,
   "metadata": {},
   "outputs": [],
   "source": [
    "from bokeh.models import HoverTool\n",
    "\n",
    "p = figure()\n",
    "p.circle(x, y, size=10,\n",
    "         fill_color='grey', alpha=0.1, line_color=None,\n",
    "         hover_fill_color='firebrick', hover_alpha=0.5,\n",
    "         hover_line_color='white')\n",
    "\n",
    "hover = HoverTool(tooltips=None, mode='vline')            # Create a HoverTool\n",
    "p = p.add_tools(hover)                                      # Add the hover tool to the figure p\n",
    "#output_file('hover_glyph.html')                          # Specify the name of the output file and show the result\n",
    "show(p)"
   ]
  },
  {
   "cell_type": "code",
   "execution_count": null,
   "metadata": {},
   "outputs": [],
   "source": [
    "# Color Mapping\n",
    "from bokeh.models import CategoricalColorMapper\n",
    "\n",
    "mapper = CategoricalColorMapper(factors=['setosa', 'virginica', 'versicolor'],\n",
    "                                palette=['red', 'green', 'blue'])\n",
    "plot = figure()\n",
    "plot.circle(x, y, size=10, source=source, color={'field': 'species',\n",
    "                                                 'transform': mapper}\n",
    "                                        , legend='species')"
   ]
  },
  {
   "cell_type": "code",
   "execution_count": 16,
   "metadata": {},
   "outputs": [
    {
     "data": {
      "text/html": [
       "<div>\n",
       "<style scoped>\n",
       "    .dataframe tbody tr th:only-of-type {\n",
       "        vertical-align: middle;\n",
       "    }\n",
       "\n",
       "    .dataframe tbody tr th {\n",
       "        vertical-align: top;\n",
       "    }\n",
       "\n",
       "    .dataframe thead th {\n",
       "        text-align: right;\n",
       "    }\n",
       "</style>\n",
       "<table border=\"1\" class=\"dataframe\">\n",
       "  <thead>\n",
       "    <tr style=\"text-align: right;\">\n",
       "      <th></th>\n",
       "      <th>sepal_length</th>\n",
       "      <th>sepal_width</th>\n",
       "      <th>petal_length</th>\n",
       "      <th>petal_width</th>\n",
       "      <th>species</th>\n",
       "    </tr>\n",
       "  </thead>\n",
       "  <tbody>\n",
       "    <tr>\n",
       "      <th>0</th>\n",
       "      <td>5.1</td>\n",
       "      <td>3.5</td>\n",
       "      <td>1.4</td>\n",
       "      <td>0.2</td>\n",
       "      <td>setosa</td>\n",
       "    </tr>\n",
       "    <tr>\n",
       "      <th>1</th>\n",
       "      <td>4.9</td>\n",
       "      <td>3.0</td>\n",
       "      <td>1.4</td>\n",
       "      <td>0.2</td>\n",
       "      <td>setosa</td>\n",
       "    </tr>\n",
       "    <tr>\n",
       "      <th>2</th>\n",
       "      <td>4.7</td>\n",
       "      <td>3.2</td>\n",
       "      <td>1.3</td>\n",
       "      <td>0.2</td>\n",
       "      <td>setosa</td>\n",
       "    </tr>\n",
       "    <tr>\n",
       "      <th>3</th>\n",
       "      <td>4.6</td>\n",
       "      <td>3.1</td>\n",
       "      <td>1.5</td>\n",
       "      <td>0.2</td>\n",
       "      <td>setosa</td>\n",
       "    </tr>\n",
       "    <tr>\n",
       "      <th>4</th>\n",
       "      <td>5.0</td>\n",
       "      <td>3.6</td>\n",
       "      <td>1.4</td>\n",
       "      <td>0.2</td>\n",
       "      <td>setosa</td>\n",
       "    </tr>\n",
       "  </tbody>\n",
       "</table>\n",
       "</div>"
      ],
      "text/plain": [
       "   sepal_length  sepal_width  petal_length  petal_width species\n",
       "0           5.1          3.5           1.4          0.2  setosa\n",
       "1           4.9          3.0           1.4          0.2  setosa\n",
       "2           4.7          3.2           1.3          0.2  setosa\n",
       "3           4.6          3.1           1.5          0.2  setosa\n",
       "4           5.0          3.6           1.4          0.2  setosa"
      ]
     },
     "execution_count": 16,
     "metadata": {},
     "output_type": "execute_result"
    }
   ],
   "source": [
    "source.head()"
   ]
  },
  {
   "cell_type": "code",
   "execution_count": 19,
   "metadata": {},
   "outputs": [
    {
     "data": {
      "text/html": [
       "\n",
       "<div class=\"bk-root\">\n",
       "    <div class=\"bk-plotdiv\" id=\"32effdd5-d11a-4847-b519-33119451ea88\"></div>\n",
       "</div>"
      ]
     },
     "metadata": {},
     "output_type": "display_data"
    },
    {
     "data": {
      "application/javascript": [
       "(function(root) {\n",
       "  function embed_document(root) {\n",
       "    var docs_json = {\"b1ac2620-6233-4891-9793-78398f9d8235\":{\"roots\":{\"references\":[{\"attributes\":{},\"id\":\"a8b6b8c7-5999-4316-9fd2-7d18b0dba860\",\"type\":\"ResetTool\"},{\"attributes\":{\"callback\":null},\"id\":\"913faaab-2eed-4686-9038-4dae40bcf85f\",\"type\":\"DataRange1d\"},{\"attributes\":{},\"id\":\"f0b201ec-dc9f-4543-be94-ec7a301ae93a\",\"type\":\"HelpTool\"},{\"attributes\":{},\"id\":\"8e1bacac-5c92-4caf-9a9b-d3914f13c86d\",\"type\":\"LinearScale\"},{\"attributes\":{},\"id\":\"3268100f-d2eb-4ba7-bfa9-3df09b0d7662\",\"type\":\"LinearScale\"},{\"attributes\":{\"source\":{\"id\":\"3951f082-0d1e-48a3-bb8c-78a22de5915b\",\"type\":\"ColumnDataSource\"}},\"id\":\"2e40c561-2bd1-4455-a7fb-89a05623244e\",\"type\":\"CDSView\"},{\"attributes\":{\"plot\":{\"id\":\"c4512c12-efee-423e-ba8c-9c2c33ff0bda\",\"subtype\":\"Figure\",\"type\":\"Plot\"},\"ticker\":{\"id\":\"df20cea0-713e-4b2d-b73c-796c095f684e\",\"type\":\"BasicTicker\"}},\"id\":\"ceaea92e-7dba-4958-bc2f-d77198eb0a89\",\"type\":\"Grid\"},{\"attributes\":{\"fill_alpha\":{\"value\":0.1},\"fill_color\":{\"value\":\"#1f77b4\"},\"line_alpha\":{\"value\":0.1},\"line_color\":{\"value\":\"#1f77b4\"},\"size\":{\"units\":\"screen\",\"value\":10},\"x\":{\"field\":\"petal_length\"},\"y\":{\"field\":\"sepal_length\"}},\"id\":\"3152093b-9fde-4ddb-989c-61ed7e488f46\",\"type\":\"Circle\"},{\"attributes\":{\"formatter\":{\"id\":\"32fa0ec7-c614-43a7-b06e-826d91fb9d9e\",\"type\":\"BasicTickFormatter\"},\"plot\":{\"id\":\"c4512c12-efee-423e-ba8c-9c2c33ff0bda\",\"subtype\":\"Figure\",\"type\":\"Plot\"},\"ticker\":{\"id\":\"df20cea0-713e-4b2d-b73c-796c095f684e\",\"type\":\"BasicTicker\"}},\"id\":\"3efb64af-334f-43b8-b724-d856ac8a15a4\",\"type\":\"LinearAxis\"},{\"attributes\":{},\"id\":\"df20cea0-713e-4b2d-b73c-796c095f684e\",\"type\":\"BasicTicker\"},{\"attributes\":{\"formatter\":{\"id\":\"942e9de1-5819-466f-9bb7-b4c4c649798b\",\"type\":\"BasicTickFormatter\"},\"plot\":{\"id\":\"c4512c12-efee-423e-ba8c-9c2c33ff0bda\",\"subtype\":\"Figure\",\"type\":\"Plot\"},\"ticker\":{\"id\":\"f853674a-b652-4550-adfe-947d798bc0a6\",\"type\":\"BasicTicker\"}},\"id\":\"5686471a-9b5d-4916-93bb-9bda1faf9d9f\",\"type\":\"LinearAxis\"},{\"attributes\":{},\"id\":\"f853674a-b652-4550-adfe-947d798bc0a6\",\"type\":\"BasicTicker\"},{\"attributes\":{\"dimension\":1,\"plot\":{\"id\":\"c4512c12-efee-423e-ba8c-9c2c33ff0bda\",\"subtype\":\"Figure\",\"type\":\"Plot\"},\"ticker\":{\"id\":\"f853674a-b652-4550-adfe-947d798bc0a6\",\"type\":\"BasicTicker\"}},\"id\":\"aa717f28-02f3-405e-afec-f3c4ad85a50b\",\"type\":\"Grid\"},{\"attributes\":{\"active_drag\":\"auto\",\"active_inspect\":\"auto\",\"active_scroll\":\"auto\",\"active_tap\":\"auto\",\"tools\":[{\"id\":\"3b5c0946-3f41-491e-8f57-920088fed7a4\",\"type\":\"PanTool\"},{\"id\":\"56c8a154-7641-4f86-9e71-831d82146210\",\"type\":\"WheelZoomTool\"},{\"id\":\"b7b21114-be1d-44a5-afc6-cd9f3c22f1be\",\"type\":\"BoxZoomTool\"},{\"id\":\"41be4215-112a-437d-a1ed-35ebcabfa2fb\",\"type\":\"SaveTool\"},{\"id\":\"a8b6b8c7-5999-4316-9fd2-7d18b0dba860\",\"type\":\"ResetTool\"},{\"id\":\"f0b201ec-dc9f-4543-be94-ec7a301ae93a\",\"type\":\"HelpTool\"}]},\"id\":\"e0376aec-70cf-49fb-9c28-b5a218d74e43\",\"type\":\"Toolbar\"},{\"attributes\":{\"plot\":null,\"text\":\"\"},\"id\":\"f4b8a828-2eb1-4839-a967-93044d5815c1\",\"type\":\"Title\"},{\"attributes\":{\"below\":[{\"id\":\"3efb64af-334f-43b8-b724-d856ac8a15a4\",\"type\":\"LinearAxis\"}],\"left\":[{\"id\":\"5686471a-9b5d-4916-93bb-9bda1faf9d9f\",\"type\":\"LinearAxis\"}],\"renderers\":[{\"id\":\"3efb64af-334f-43b8-b724-d856ac8a15a4\",\"type\":\"LinearAxis\"},{\"id\":\"ceaea92e-7dba-4958-bc2f-d77198eb0a89\",\"type\":\"Grid\"},{\"id\":\"5686471a-9b5d-4916-93bb-9bda1faf9d9f\",\"type\":\"LinearAxis\"},{\"id\":\"aa717f28-02f3-405e-afec-f3c4ad85a50b\",\"type\":\"Grid\"},{\"id\":\"ac6eff12-86fa-44b6-948f-a2ad045aa8e7\",\"type\":\"BoxAnnotation\"},{\"id\":\"9aab9cf8-28bf-436a-a826-c67265865587\",\"type\":\"GlyphRenderer\"}],\"title\":{\"id\":\"f4b8a828-2eb1-4839-a967-93044d5815c1\",\"type\":\"Title\"},\"toolbar\":{\"id\":\"e0376aec-70cf-49fb-9c28-b5a218d74e43\",\"type\":\"Toolbar\"},\"x_range\":{\"id\":\"c71e8610-8b40-4a7b-8397-f5f87c48c85b\",\"type\":\"DataRange1d\"},\"x_scale\":{\"id\":\"8e1bacac-5c92-4caf-9a9b-d3914f13c86d\",\"type\":\"LinearScale\"},\"y_range\":{\"id\":\"913faaab-2eed-4686-9038-4dae40bcf85f\",\"type\":\"DataRange1d\"},\"y_scale\":{\"id\":\"3268100f-d2eb-4ba7-bfa9-3df09b0d7662\",\"type\":\"LinearScale\"}},\"id\":\"c4512c12-efee-423e-ba8c-9c2c33ff0bda\",\"subtype\":\"Figure\",\"type\":\"Plot\"},{\"attributes\":{\"fill_color\":{\"field\":\"species\",\"transform\":{\"id\":\"55157462-33aa-4415-b580-b727d38ca0a6\",\"type\":\"CategoricalColorMapper\"}},\"line_color\":{\"field\":\"species\",\"transform\":{\"id\":\"55157462-33aa-4415-b580-b727d38ca0a6\",\"type\":\"CategoricalColorMapper\"}},\"size\":{\"units\":\"screen\",\"value\":10},\"x\":{\"field\":\"petal_length\"},\"y\":{\"field\":\"sepal_length\"}},\"id\":\"1790639e-6170-431a-a6a2-a1061bf75c14\",\"type\":\"Circle\"},{\"attributes\":{\"factors\":[\"setosa\",\"virginica\",\"versicolor\"],\"palette\":[\"red\",\"green\",\"blue\"]},\"id\":\"55157462-33aa-4415-b580-b727d38ca0a6\",\"type\":\"CategoricalColorMapper\"},{\"attributes\":{\"data_source\":{\"id\":\"3951f082-0d1e-48a3-bb8c-78a22de5915b\",\"type\":\"ColumnDataSource\"},\"glyph\":{\"id\":\"1790639e-6170-431a-a6a2-a1061bf75c14\",\"type\":\"Circle\"},\"hover_glyph\":null,\"muted_glyph\":null,\"nonselection_glyph\":{\"id\":\"3152093b-9fde-4ddb-989c-61ed7e488f46\",\"type\":\"Circle\"},\"selection_glyph\":null,\"view\":{\"id\":\"2e40c561-2bd1-4455-a7fb-89a05623244e\",\"type\":\"CDSView\"}},\"id\":\"9aab9cf8-28bf-436a-a826-c67265865587\",\"type\":\"GlyphRenderer\"},{\"attributes\":{\"bottom_units\":\"screen\",\"fill_alpha\":{\"value\":0.5},\"fill_color\":{\"value\":\"lightgrey\"},\"left_units\":\"screen\",\"level\":\"overlay\",\"line_alpha\":{\"value\":1.0},\"line_color\":{\"value\":\"black\"},\"line_dash\":[4,4],\"line_width\":{\"value\":2},\"plot\":null,\"render_mode\":\"css\",\"right_units\":\"screen\",\"top_units\":\"screen\"},\"id\":\"ac6eff12-86fa-44b6-948f-a2ad045aa8e7\",\"type\":\"BoxAnnotation\"},{\"attributes\":{},\"id\":\"3b5c0946-3f41-491e-8f57-920088fed7a4\",\"type\":\"PanTool\"},{\"attributes\":{},\"id\":\"32fa0ec7-c614-43a7-b06e-826d91fb9d9e\",\"type\":\"BasicTickFormatter\"},{\"attributes\":{},\"id\":\"56c8a154-7641-4f86-9e71-831d82146210\",\"type\":\"WheelZoomTool\"},{\"attributes\":{},\"id\":\"942e9de1-5819-466f-9bb7-b4c4c649798b\",\"type\":\"BasicTickFormatter\"},{\"attributes\":{\"overlay\":{\"id\":\"ac6eff12-86fa-44b6-948f-a2ad045aa8e7\",\"type\":\"BoxAnnotation\"}},\"id\":\"b7b21114-be1d-44a5-afc6-cd9f3c22f1be\",\"type\":\"BoxZoomTool\"},{\"attributes\":{\"callback\":null,\"column_names\":[\"sepal_length\",\"sepal_width\",\"petal_length\",\"petal_width\",\"species\",\"index\"],\"data\":{\"index\":[0,1,2,3,4,5,6,7,8,9,10,11,12,13,14,15,16,17,18,19,20,21,22,23,24,25,26,27,28,29,30,31,32,33,34,35,36,37,38,39,40,41,42,43,44,45,46,47,48,49,50,51,52,53,54,55,56,57,58,59,60,61,62,63,64,65,66,67,68,69,70,71,72,73,74,75,76,77,78,79,80,81,82,83,84,85,86,87,88,89,90,91,92,93,94,95,96,97,98,99,100,101,102,103,104,105,106,107,108,109,110,111,112,113,114,115,116,117,118,119,120,121,122,123,124,125,126,127,128,129,130,131,132,133,134,135,136,137,138,139,140,141,142,143,144,145,146,147,148,149],\"petal_length\":{\"__ndarray__\":\"ZmZmZmZm9j9mZmZmZmb2P83MzMzMzPQ/AAAAAAAA+D9mZmZmZmb2PzMzMzMzM/s/ZmZmZmZm9j8AAAAAAAD4P2ZmZmZmZvY/AAAAAAAA+D8AAAAAAAD4P5qZmZmZmfk/ZmZmZmZm9j+amZmZmZnxPzMzMzMzM/M/AAAAAAAA+D/NzMzMzMz0P2ZmZmZmZvY/MzMzMzMz+z8AAAAAAAD4PzMzMzMzM/s/AAAAAAAA+D8AAAAAAADwPzMzMzMzM/s/ZmZmZmZm/j+amZmZmZn5P5qZmZmZmfk/AAAAAAAA+D9mZmZmZmb2P5qZmZmZmfk/mpmZmZmZ+T8AAAAAAAD4PwAAAAAAAPg/ZmZmZmZm9j8AAAAAAAD4PzMzMzMzM/M/zczMzMzM9D9mZmZmZmb2P83MzMzMzPQ/AAAAAAAA+D/NzMzMzMz0P83MzMzMzPQ/zczMzMzM9D+amZmZmZn5P2ZmZmZmZv4/ZmZmZmZm9j+amZmZmZn5P2ZmZmZmZvY/AAAAAAAA+D9mZmZmZmb2P83MzMzMzBJAAAAAAAAAEkCamZmZmZkTQAAAAAAAABBAZmZmZmZmEkAAAAAAAAASQM3MzMzMzBJAZmZmZmZmCkBmZmZmZmYSQDMzMzMzMw9AAAAAAAAADEDNzMzMzMwQQAAAAAAAABBAzczMzMzMEkDNzMzMzMwMQJqZmZmZmRFAAAAAAAAAEkBmZmZmZmYQQAAAAAAAABJAMzMzMzMzD0AzMzMzMzMTQAAAAAAAABBAmpmZmZmZE0DNzMzMzMwSQDMzMzMzMxFAmpmZmZmZEUAzMzMzMzMTQAAAAAAAABRAAAAAAAAAEkAAAAAAAAAMQGZmZmZmZg5AmpmZmZmZDUAzMzMzMzMPQGZmZmZmZhRAAAAAAAAAEkAAAAAAAAASQM3MzMzMzBJAmpmZmZmZEUBmZmZmZmYQQAAAAAAAABBAmpmZmZmZEUBmZmZmZmYSQAAAAAAAABBAZmZmZmZmCkDNzMzMzMwQQM3MzMzMzBBAzczMzMzMEEAzMzMzMzMRQAAAAAAAAAhAZmZmZmZmEEAAAAAAAAAYQGZmZmZmZhRAmpmZmZmZF0BmZmZmZmYWQDMzMzMzMxdAZmZmZmZmGkAAAAAAAAASQDMzMzMzMxlAMzMzMzMzF0BmZmZmZmYYQGZmZmZmZhRAMzMzMzMzFUAAAAAAAAAWQAAAAAAAABRAZmZmZmZmFEAzMzMzMzMVQAAAAAAAABZAzczMzMzMGkCamZmZmZkbQAAAAAAAABRAzczMzMzMFkCamZmZmZkTQM3MzMzMzBpAmpmZmZmZE0DNzMzMzMwWQAAAAAAAABhAMzMzMzMzE0CamZmZmZkTQGZmZmZmZhZAMzMzMzMzF0BmZmZmZmYYQJqZmZmZmRlAZmZmZmZmFkBmZmZmZmYUQGZmZmZmZhZAZmZmZmZmGEBmZmZmZmYWQAAAAAAAABZAMzMzMzMzE0CamZmZmZkVQGZmZmZmZhZAZmZmZmZmFEBmZmZmZmYUQJqZmZmZmRdAzczMzMzMFkDNzMzMzMwUQAAAAAAAABRAzczMzMzMFECamZmZmZkVQGZmZmZmZhRA\",\"dtype\":\"float64\",\"shape\":[150]},\"petal_width\":{\"__ndarray__\":\"mpmZmZmZyT+amZmZmZnJP5qZmZmZmck/mpmZmZmZyT+amZmZmZnJP5qZmZmZmdk/MzMzMzMz0z+amZmZmZnJP5qZmZmZmck/mpmZmZmZuT+amZmZmZnJP5qZmZmZmck/mpmZmZmZuT+amZmZmZm5P5qZmZmZmck/mpmZmZmZ2T+amZmZmZnZPzMzMzMzM9M/MzMzMzMz0z8zMzMzMzPTP5qZmZmZmck/mpmZmZmZ2T+amZmZmZnJPwAAAAAAAOA/mpmZmZmZyT+amZmZmZnJP5qZmZmZmdk/mpmZmZmZyT+amZmZmZnJP5qZmZmZmck/mpmZmZmZyT+amZmZmZnZP5qZmZmZmbk/mpmZmZmZyT+amZmZmZnJP5qZmZmZmck/mpmZmZmZyT+amZmZmZm5P5qZmZmZmck/mpmZmZmZyT8zMzMzMzPTPzMzMzMzM9M/mpmZmZmZyT8zMzMzMzPjP5qZmZmZmdk/MzMzMzMz0z+amZmZmZnJP5qZmZmZmck/mpmZmZmZyT+amZmZmZnJP2ZmZmZmZvY/AAAAAAAA+D8AAAAAAAD4P83MzMzMzPQ/AAAAAAAA+D/NzMzMzMz0P5qZmZmZmfk/AAAAAAAA8D/NzMzMzMz0P2ZmZmZmZvY/AAAAAAAA8D8AAAAAAAD4PwAAAAAAAPA/ZmZmZmZm9j/NzMzMzMz0P2ZmZmZmZvY/AAAAAAAA+D8AAAAAAADwPwAAAAAAAPg/mpmZmZmZ8T/NzMzMzMz8P83MzMzMzPQ/AAAAAAAA+D8zMzMzMzPzP83MzMzMzPQ/ZmZmZmZm9j9mZmZmZmb2PzMzMzMzM/s/AAAAAAAA+D8AAAAAAADwP5qZmZmZmfE/AAAAAAAA8D8zMzMzMzPzP5qZmZmZmfk/AAAAAAAA+D+amZmZmZn5PwAAAAAAAPg/zczMzMzM9D/NzMzMzMz0P83MzMzMzPQ/MzMzMzMz8z9mZmZmZmb2PzMzMzMzM/M/AAAAAAAA8D/NzMzMzMz0PzMzMzMzM/M/zczMzMzM9D/NzMzMzMz0P5qZmZmZmfE/zczMzMzM9D8AAAAAAAAEQGZmZmZmZv4/zczMzMzMAEDNzMzMzMz8P5qZmZmZmQFAzczMzMzMAEAzMzMzMzP7P83MzMzMzPw/zczMzMzM/D8AAAAAAAAEQAAAAAAAAABAZmZmZmZm/j/NzMzMzMwAQAAAAAAAAABAMzMzMzMzA0BmZmZmZmYCQM3MzMzMzPw/mpmZmZmZAUBmZmZmZmYCQAAAAAAAAPg/ZmZmZmZmAkAAAAAAAAAAQAAAAAAAAABAzczMzMzM/D/NzMzMzMwAQM3MzMzMzPw/zczMzMzM/D/NzMzMzMz8P83MzMzMzABAmpmZmZmZ+T9mZmZmZmb+PwAAAAAAAABAmpmZmZmZAUAAAAAAAAD4P2ZmZmZmZvY/ZmZmZmZmAkAzMzMzMzMDQM3MzMzMzPw/zczMzMzM/D/NzMzMzMwAQDMzMzMzMwNAZmZmZmZmAkBmZmZmZmb+P2ZmZmZmZgJAAAAAAAAABEBmZmZmZmYCQGZmZmZmZv4/AAAAAAAAAEBmZmZmZmYCQM3MzMzMzPw/\",\"dtype\":\"float64\",\"shape\":[150]},\"sepal_length\":{\"__ndarray__\":\"ZmZmZmZmFECamZmZmZkTQM3MzMzMzBJAZmZmZmZmEkAAAAAAAAAUQJqZmZmZmRVAZmZmZmZmEkAAAAAAAAAUQJqZmZmZmRFAmpmZmZmZE0CamZmZmZkVQDMzMzMzMxNAMzMzMzMzE0AzMzMzMzMRQDMzMzMzMxdAzczMzMzMFkCamZmZmZkVQGZmZmZmZhRAzczMzMzMFkBmZmZmZmYUQJqZmZmZmRVAZmZmZmZmFEBmZmZmZmYSQGZmZmZmZhRAMzMzMzMzE0AAAAAAAAAUQAAAAAAAABRAzczMzMzMFEDNzMzMzMwUQM3MzMzMzBJAMzMzMzMzE0CamZmZmZkVQM3MzMzMzBRAAAAAAAAAFkCamZmZmZkTQAAAAAAAABRAAAAAAAAAFkCamZmZmZkTQJqZmZmZmRFAZmZmZmZmFEAAAAAAAAAUQAAAAAAAABJAmpmZmZmZEUAAAAAAAAAUQGZmZmZmZhRAMzMzMzMzE0BmZmZmZmYUQGZmZmZmZhJAMzMzMzMzFUAAAAAAAAAUQAAAAAAAABxAmpmZmZmZGUCamZmZmZkbQAAAAAAAABZAAAAAAAAAGkDNzMzMzMwWQDMzMzMzMxlAmpmZmZmZE0BmZmZmZmYaQM3MzMzMzBRAAAAAAAAAFECamZmZmZkXQAAAAAAAABhAZmZmZmZmGEBmZmZmZmYWQM3MzMzMzBpAZmZmZmZmFkAzMzMzMzMXQM3MzMzMzBhAZmZmZmZmFkCamZmZmZkXQGZmZmZmZhhAMzMzMzMzGUBmZmZmZmYYQJqZmZmZmRlAZmZmZmZmGkAzMzMzMzMbQM3MzMzMzBpAAAAAAAAAGEDNzMzMzMwWQAAAAAAAABZAAAAAAAAAFkAzMzMzMzMXQAAAAAAAABhAmpmZmZmZFUAAAAAAAAAYQM3MzMzMzBpAMzMzMzMzGUBmZmZmZmYWQAAAAAAAABZAAAAAAAAAFkBmZmZmZmYYQDMzMzMzMxdAAAAAAAAAFEBmZmZmZmYWQM3MzMzMzBZAzczMzMzMFkDNzMzMzMwYQGZmZmZmZhRAzczMzMzMFkAzMzMzMzMZQDMzMzMzMxdAZmZmZmZmHEAzMzMzMzMZQAAAAAAAABpAZmZmZmZmHkCamZmZmZkTQDMzMzMzMx1AzczMzMzMGkDNzMzMzMwcQAAAAAAAABpAmpmZmZmZGUAzMzMzMzMbQM3MzMzMzBZAMzMzMzMzF0CamZmZmZkZQAAAAAAAABpAzczMzMzMHkDNzMzMzMweQAAAAAAAABhAmpmZmZmZG0BmZmZmZmYWQM3MzMzMzB5AMzMzMzMzGUDNzMzMzMwaQM3MzMzMzBxAzczMzMzMGEBmZmZmZmYYQJqZmZmZmRlAzczMzMzMHECamZmZmZkdQJqZmZmZmR9AmpmZmZmZGUAzMzMzMzMZQGZmZmZmZhhAzczMzMzMHkAzMzMzMzMZQJqZmZmZmRlAAAAAAAAAGECamZmZmZkbQM3MzMzMzBpAmpmZmZmZG0AzMzMzMzMXQDMzMzMzMxtAzczMzMzMGkDNzMzMzMwaQDMzMzMzMxlAAAAAAAAAGkDNzMzMzMwYQJqZmZmZmRdA\",\"dtype\":\"float64\",\"shape\":[150]},\"sepal_width\":{\"__ndarray__\":\"AAAAAAAADEAAAAAAAAAIQJqZmZmZmQlAzczMzMzMCEDNzMzMzMwMQDMzMzMzMw9AMzMzMzMzC0AzMzMzMzMLQDMzMzMzMwdAzczMzMzMCECamZmZmZkNQDMzMzMzMwtAAAAAAAAACEAAAAAAAAAIQAAAAAAAABBAmpmZmZmZEUAzMzMzMzMPQAAAAAAAAAxAZmZmZmZmDkBmZmZmZmYOQDMzMzMzMwtAmpmZmZmZDUDNzMzMzMwMQGZmZmZmZgpAMzMzMzMzC0AAAAAAAAAIQDMzMzMzMwtAAAAAAAAADEAzMzMzMzMLQJqZmZmZmQlAzczMzMzMCEAzMzMzMzMLQGZmZmZmZhBAzczMzMzMEEDNzMzMzMwIQJqZmZmZmQlAAAAAAAAADEDNzMzMzMwMQAAAAAAAAAhAMzMzMzMzC0AAAAAAAAAMQGZmZmZmZgJAmpmZmZmZCUAAAAAAAAAMQGZmZmZmZg5AAAAAAAAACEBmZmZmZmYOQJqZmZmZmQlAmpmZmZmZDUBmZmZmZmYKQJqZmZmZmQlAmpmZmZmZCUDNzMzMzMwIQGZmZmZmZgJAZmZmZmZmBkBmZmZmZmYGQGZmZmZmZgpAMzMzMzMzA0AzMzMzMzMHQJqZmZmZmQVAAAAAAAAAAEAAAAAAAAAIQJqZmZmZmQFAMzMzMzMzB0AzMzMzMzMHQM3MzMzMzAhAAAAAAAAACECamZmZmZkFQJqZmZmZmQFAAAAAAAAABECamZmZmZkJQGZmZmZmZgZAAAAAAAAABEBmZmZmZmYGQDMzMzMzMwdAAAAAAAAACEBmZmZmZmYGQAAAAAAAAAhAMzMzMzMzB0DNzMzMzMwEQDMzMzMzMwNAMzMzMzMzA0CamZmZmZkFQJqZmZmZmQVAAAAAAAAACEAzMzMzMzMLQM3MzMzMzAhAZmZmZmZmAkAAAAAAAAAIQAAAAAAAAARAzczMzMzMBEAAAAAAAAAIQM3MzMzMzARAZmZmZmZmAkCamZmZmZkFQAAAAAAAAAhAMzMzMzMzB0AzMzMzMzMHQAAAAAAAAARAZmZmZmZmBkBmZmZmZmYKQJqZmZmZmQVAAAAAAAAACEAzMzMzMzMHQAAAAAAAAAhAAAAAAAAACEAAAAAAAAAEQDMzMzMzMwdAAAAAAAAABEDNzMzMzMwMQJqZmZmZmQlAmpmZmZmZBUAAAAAAAAAIQAAAAAAAAARAZmZmZmZmBkCamZmZmZkJQAAAAAAAAAhAZmZmZmZmDkDNzMzMzMwEQJqZmZmZmQFAmpmZmZmZCUBmZmZmZmYGQGZmZmZmZgZAmpmZmZmZBUBmZmZmZmYKQJqZmZmZmQlAZmZmZmZmBkAAAAAAAAAIQGZmZmZmZgZAAAAAAAAACEBmZmZmZmYGQGZmZmZmZg5AZmZmZmZmBkBmZmZmZmYGQM3MzMzMzARAAAAAAAAACEAzMzMzMzMLQM3MzMzMzAhAAAAAAAAACEDNzMzMzMwIQM3MzMzMzAhAzczMzMzMCECamZmZmZkFQJqZmZmZmQlAZmZmZmZmCkAAAAAAAAAIQAAAAAAAAARAAAAAAAAACEAzMzMzMzMLQAAAAAAAAAhA\",\"dtype\":\"float64\",\"shape\":[150]},\"species\":[\"setosa\",\"setosa\",\"setosa\",\"setosa\",\"setosa\",\"setosa\",\"setosa\",\"setosa\",\"setosa\",\"setosa\",\"setosa\",\"setosa\",\"setosa\",\"setosa\",\"setosa\",\"setosa\",\"setosa\",\"setosa\",\"setosa\",\"setosa\",\"setosa\",\"setosa\",\"setosa\",\"setosa\",\"setosa\",\"setosa\",\"setosa\",\"setosa\",\"setosa\",\"setosa\",\"setosa\",\"setosa\",\"setosa\",\"setosa\",\"setosa\",\"setosa\",\"setosa\",\"setosa\",\"setosa\",\"setosa\",\"setosa\",\"setosa\",\"setosa\",\"setosa\",\"setosa\",\"setosa\",\"setosa\",\"setosa\",\"setosa\",\"setosa\",\"versicolor\",\"versicolor\",\"versicolor\",\"versicolor\",\"versicolor\",\"versicolor\",\"versicolor\",\"versicolor\",\"versicolor\",\"versicolor\",\"versicolor\",\"versicolor\",\"versicolor\",\"versicolor\",\"versicolor\",\"versicolor\",\"versicolor\",\"versicolor\",\"versicolor\",\"versicolor\",\"versicolor\",\"versicolor\",\"versicolor\",\"versicolor\",\"versicolor\",\"versicolor\",\"versicolor\",\"versicolor\",\"versicolor\",\"versicolor\",\"versicolor\",\"versicolor\",\"versicolor\",\"versicolor\",\"versicolor\",\"versicolor\",\"versicolor\",\"versicolor\",\"versicolor\",\"versicolor\",\"versicolor\",\"versicolor\",\"versicolor\",\"versicolor\",\"versicolor\",\"versicolor\",\"versicolor\",\"versicolor\",\"versicolor\",\"versicolor\",\"virginica\",\"virginica\",\"virginica\",\"virginica\",\"virginica\",\"virginica\",\"virginica\",\"virginica\",\"virginica\",\"virginica\",\"virginica\",\"virginica\",\"virginica\",\"virginica\",\"virginica\",\"virginica\",\"virginica\",\"virginica\",\"virginica\",\"virginica\",\"virginica\",\"virginica\",\"virginica\",\"virginica\",\"virginica\",\"virginica\",\"virginica\",\"virginica\",\"virginica\",\"virginica\",\"virginica\",\"virginica\",\"virginica\",\"virginica\",\"virginica\",\"virginica\",\"virginica\",\"virginica\",\"virginica\",\"virginica\",\"virginica\",\"virginica\",\"virginica\",\"virginica\",\"virginica\",\"virginica\",\"virginica\",\"virginica\",\"virginica\",\"virginica\"]}},\"id\":\"3951f082-0d1e-48a3-bb8c-78a22de5915b\",\"type\":\"ColumnDataSource\"},{\"attributes\":{},\"id\":\"41be4215-112a-437d-a1ed-35ebcabfa2fb\",\"type\":\"SaveTool\"},{\"attributes\":{\"callback\":null},\"id\":\"c71e8610-8b40-4a7b-8397-f5f87c48c85b\",\"type\":\"DataRange1d\"}],\"root_ids\":[\"c4512c12-efee-423e-ba8c-9c2c33ff0bda\"]},\"title\":\"Bokeh Application\",\"version\":\"0.12.11\"}};\n",
       "    var render_items = [{\"docid\":\"b1ac2620-6233-4891-9793-78398f9d8235\",\"elementid\":\"32effdd5-d11a-4847-b519-33119451ea88\",\"modelid\":\"c4512c12-efee-423e-ba8c-9c2c33ff0bda\"}];\n",
       "    root.Bokeh.embed.embed_items(docs_json, render_items);\n",
       "  }\n",
       "  if (root.Bokeh !== undefined) {\n",
       "    embed_document(root);\n",
       "  } else {\n",
       "    var attempts = 0;\n",
       "    var timer = setInterval(function(root) {\n",
       "      if (root.Bokeh !== undefined) {\n",
       "        embed_document(root);\n",
       "        clearInterval(timer);\n",
       "      }\n",
       "      attempts++;\n",
       "      if (attempts > 100) {\n",
       "        console.log(\"Bokeh: ERROR: Unable to embed document because BokehJS library is missing\")\n",
       "        clearInterval(timer);\n",
       "      }\n",
       "    }, 10, root)\n",
       "  }\n",
       "})(window);"
      ],
      "application/vnd.bokehjs_exec.v0+json": ""
     },
     "metadata": {
      "application/vnd.bokehjs_exec.v0+json": {
       "id": "c4512c12-efee-423e-ba8c-9c2c33ff0bda"
      }
     },
     "output_type": "display_data"
    }
   ],
   "source": [
    "# Color Mapping\n",
    "from bokeh.models import CategoricalColorMapper\n",
    "\n",
    "mapper = CategoricalColorMapper(factors=['setosa', 'virginica', 'versicolor'],\n",
    "                                palette=['red', 'green', 'blue'])\n",
    "plot = figure()\n",
    "plot.circle('petal_length', 'sepal_length', size=10, source=source, \n",
    "                                                     color={'field': 'species', 'transform': mapper},\n",
    "                                                     legend='species')\n",
    "plot.legend.location = 'top_left'\n",
    "show(plot)"
   ]
  },
  {
   "cell_type": "code",
   "execution_count": null,
   "metadata": {},
   "outputs": [],
   "source": [
    "# LINKING PLOTS TOGETHER\n",
    "# Axis Range\n",
    "p3.x_range = p2.x_range = p1.x_range\n",
    "p3.y_range = p2.y_range = p1.y_range"
   ]
  },
  {
   "cell_type": "code",
   "execution_count": null,
   "metadata": {},
   "outputs": [],
   "source": [
    "# ANNOTATIONS AND GUIDES\n",
    "p.legend.location = 'bottom_left'\n",
    "p.legend.background_fill_color = 'lightgray'"
   ]
  },
  {
   "cell_type": "markdown",
   "metadata": {
    "collapsed": true
   },
   "source": [
    "<h3>Bokeh Server"
   ]
  },
  {
   "cell_type": "code",
   "execution_count": null,
   "metadata": {},
   "outputs": [],
   "source": [
    "from bokeh.io import curdoc\n",
    "# Create plots and widgets\n",
    "# Add callbacks\n",
    "# Arrange plots and widgets in layouts\n",
    "curdoc().add_root(layout)"
   ]
  },
  {
   "cell_type": "code",
   "execution_count": null,
   "metadata": {},
   "outputs": [],
   "source": [
    "# Running Bokeh Applications\n",
    "bokeh serve --show myapp.py\n",
    "\n",
    "# bokeh serve --show myappdir/    # for directory"
   ]
  },
  {
   "cell_type": "code",
   "execution_count": 21,
   "metadata": {},
   "outputs": [],
   "source": [
    "# Perform necessary imports\n",
    "from bokeh.io import curdoc\n",
    "from bokeh.plotting import figure\n",
    "\n",
    "plot = figure()                         # Create a new plot: plot\n",
    "plot.line([1,2,3,4,5], [2,5,4,6,7])     # Add a line to the plot\n",
    "curdoc().add_root(plot)                 # Add the plot to the current document\n",
    "\n",
    "from bokeh.layouts import widgetbox\n",
    "from bokeh.models import Slider\n",
    "\n",
    "slider1 = Slider(title='Slider 1', start=0, end=10, step=0.1, value=2)       # Create a slider 1\n",
    "slider2 = Slider(title='Slider 2', start=10, end=100, step=1, value=20)      # Create a slider 2\n",
    "layout = widgetbox(slider1, slider2)                                         # Create a widgetbox layout\n",
    "curdoc().add_root(layout)                                                    # Add the layout to the current document\n",
    "\n"
   ]
  },
  {
   "cell_type": "code",
   "execution_count": 30,
   "metadata": {},
   "outputs": [
    {
     "data": {
      "text/html": [
       "\n",
       "<div class=\"bk-root\">\n",
       "    <div class=\"bk-plotdiv\" id=\"f9f77d73-87c5-4b25-8905-b4b6d7223e07\"></div>\n",
       "</div>"
      ]
     },
     "metadata": {},
     "output_type": "display_data"
    },
    {
     "data": {
      "application/javascript": [
       "(function(root) {\n",
       "  function embed_document(root) {\n",
       "    var docs_json = {\"8d1e7080-0269-495b-9a56-ad04b11422e9\":{\"roots\":{\"references\":[{\"attributes\":{\"source\":{\"id\":\"6977ceff-4128-4856-b164-01f8a8433fff\",\"type\":\"ColumnDataSource\"}},\"id\":\"7fdb115d-f32d-47df-856d-ecd3fc1ceb24\",\"type\":\"CDSView\"},{\"attributes\":{\"overlay\":{\"id\":\"e08fb0c9-b79f-4f81-8dd0-7d20771cce41\",\"type\":\"BoxAnnotation\"}},\"id\":\"6f1be1e1-944b-4079-9adf-726f98d69c46\",\"type\":\"BoxZoomTool\"},{\"attributes\":{\"formatter\":{\"id\":\"91da6075-0772-450c-b33b-49a0de89d239\",\"type\":\"BasicTickFormatter\"},\"plot\":{\"id\":\"714790cb-988a-4125-beb1-6092ed9d3b2a\",\"subtype\":\"Figure\",\"type\":\"Plot\"},\"ticker\":{\"id\":\"7c15f439-8b17-4179-9de2-f2568d186cf0\",\"type\":\"BasicTicker\"}},\"id\":\"9485d38a-eba9-4371-9f49-b168e9c8b817\",\"type\":\"LinearAxis\"},{\"attributes\":{\"below\":[{\"id\":\"9485d38a-eba9-4371-9f49-b168e9c8b817\",\"type\":\"LinearAxis\"}],\"left\":[{\"id\":\"d2000447-b613-4b1a-ad00-ab0a2054b705\",\"type\":\"LinearAxis\"}],\"renderers\":[{\"id\":\"9485d38a-eba9-4371-9f49-b168e9c8b817\",\"type\":\"LinearAxis\"},{\"id\":\"e0e72d7e-d6cc-4039-89ea-e28a15874eda\",\"type\":\"Grid\"},{\"id\":\"d2000447-b613-4b1a-ad00-ab0a2054b705\",\"type\":\"LinearAxis\"},{\"id\":\"0deb4a0f-922f-4f78-a05f-5b69b5ad70d0\",\"type\":\"Grid\"},{\"id\":\"e08fb0c9-b79f-4f81-8dd0-7d20771cce41\",\"type\":\"BoxAnnotation\"},{\"id\":\"e79611c3-a3f0-4144-8f40-6082f63f220a\",\"type\":\"GlyphRenderer\"}],\"title\":{\"id\":\"73e562a9-7e0b-4946-b35b-e8ebbc0b57c4\",\"type\":\"Title\"},\"toolbar\":{\"id\":\"b54b2ad8-236b-4ac1-b1bb-89aa671b4854\",\"type\":\"Toolbar\"},\"x_range\":{\"id\":\"32510570-0296-443a-888a-3ab5ff8713ee\",\"type\":\"DataRange1d\"},\"x_scale\":{\"id\":\"dc3cf400-de55-45df-a060-7af55bc6ea47\",\"type\":\"LinearScale\"},\"y_range\":{\"id\":\"964d9a9f-c924-4c91-8b40-7a5500d6796c\",\"type\":\"DataRange1d\"},\"y_scale\":{\"id\":\"574fdfd6-64e2-48c6-8c9b-aec6867c9b16\",\"type\":\"LinearScale\"}},\"id\":\"714790cb-988a-4125-beb1-6092ed9d3b2a\",\"subtype\":\"Figure\",\"type\":\"Plot\"},{\"attributes\":{\"callback\":null,\"end\":1000,\"start\":100,\"step\":10,\"title\":\"Number of points\",\"value\":300},\"id\":\"919d4c13-5fc7-4d65-b225-808dd405611e\",\"type\":\"Slider\"},{\"attributes\":{\"plot\":null,\"text\":\"\"},\"id\":\"73e562a9-7e0b-4946-b35b-e8ebbc0b57c4\",\"type\":\"Title\"},{\"attributes\":{},\"id\":\"91da6075-0772-450c-b33b-49a0de89d239\",\"type\":\"BasicTickFormatter\"},{\"attributes\":{},\"id\":\"64c92472-1802-4460-83aa-fa00022a7499\",\"type\":\"PanTool\"},{\"attributes\":{\"children\":[{\"id\":\"1fbfa3a4-952f-4428-b93f-411b08651adb\",\"type\":\"WidgetBox\"},{\"id\":\"714790cb-988a-4125-beb1-6092ed9d3b2a\",\"subtype\":\"Figure\",\"type\":\"Plot\"}]},\"id\":\"ab1b273f-a449-4461-9fcd-bb05f06adee8\",\"type\":\"Column\"},{\"attributes\":{\"callback\":null,\"column_names\":[\"x\",\"y\"],\"data\":{\"x\":{\"__ndarray__\":\"XP120mtIzj//DOVMpq7qP0YkMy81SNg/Xu3NqwVS3j9aYYOoAj3gP1JMvYat2uw/UJAriFLO3z9FXLSHXNLnP42uIbiVa+o/R144uWEr5z/BN1pLOE3nP/c/Ub56zOQ/frs8iJe41T92ERd7mqPpPyLLMANy/dM/TDddsDs+2j9o9uiKOkW3PxLuIJ5WZtk/CftKTTXT5z9od++gr1q+PyDibO1f+6g/EKdC/Bxhoz95bxNdbbbnP4BqruRzYHg/zkP9VjJs5z/gCGCqgrTtP6ASDEZpPao/QGvnnpQVsj+MD4WpCN7IP8XDnrK3rOk/UsOIbY4a2z+XKHcbPPbvP/gxuKbjI7E/wHEd8+uYmT9sKdANI0nlPyAYVQt5xuY/F4EnVLGt5z/gDuWzg6zfP6iIpHkWGO4/OiuIIkne6T8P/hjmDo7nP+XD2SJcKe8/CCU27Jfp6j+wbLu5AuLSP2y85KUScNk/EIXeHJpTsz9eDWfG5M/fPzBhGfZXDLM/nEi51ajVyj9ShGrsWgjdP5wT6bbquOI/HATtcZRd5D9sHeZKDK7DP25/NvBKT98/XtHTDMEP1D9yVm1rjMriP3BTyY0PZaw/4gnGfOtd1T8aAUbLg6HVP9DTTIVjm94/MHEsB6C02T/sstspHY7RP1XUfNyhpus/cUNvlLKv6D+4IUgoQ97IPxRxObQNPO0/PtMroEDU7j8SyI6w1AvoP7sY4LkH3uY/JM6ntjPxxD8YkWOk3UHTP9iQrUonIus/QIfjQsP3uT9iSKpPuFnVP7D5P/zTme8/QJi4PzWNjD92kzGawqTgP/NjLakSo+c/MaI0zyYg7D+Rd1ewKFrhP4EYyvaWa+o/CgjRT77W3T+c/xAv4zTDP6uc3oTkcOA/DGh359bmzD/cUiYCP2PAP+2vPcRvWOo/jynA8kx/4z9I2dI79WjDPz920IyNIug/t6YTZpim7j84IrNEcMWyP9CqhCgZ0K4/pPzjM0774D9QhiImjmXCP6dEIOsiDes/m3MFU1jb6z8Qld+ZVrHuP8Ao78YpZ54/CMnWgMoF4D/Yf2MQyS+8P1Ram25QQ9o/lHDMelLMxT+nUzdSPXDsP+wtlbyCbc8/2mfoqhKc1z8AswI3kLqyPw4g2T5LDec/+Mx9FWV7zz8dyHCFx1bpP+R0cLwlCN0/2bjg/cmv4z+AIf8A327aPxnbqLELU+E/AFelSCv3zD84PSeVcqzJPzjSbk9nbNM/FqsSQwOx5T+EiSablxvLPx2oXiEjE+M/yNTKSRhptz+A/sjMD87OP8i/rXiP0dU/8NcNBGjz0z9scSCfO1bWPxvX/0gsLOw/Ask4pVzi5j9uUjC4wsLkP1nuqBZaHuk/0jpveaLm7T/CzLiWBA/jP2lAD1m4q+Q/IK+0uiL3vj91hL1cgHXvP9Qms4EhfMw/QMd72xpHxD8Cm+w66FLtPy/ZUc/Chu8/iCwMCCGRzz/CXn/FFvDYP4hV7QWG4uM/cDd/Q5XMyz/KFI1yW/HZP6loN4jqL+w/o5X1DphF7T9MicTDTvHmP2AYM88ugcE/YGW2+XzYrj99DaX2HK7lPxB1C///aK8/TiygdYwo4j+EryY5wovSP3Jd0aD7itk/XE13CMTWyz+R76/uK8LmP2jrmCP+b78/d8VlX2Ln4j8AvDLAUrm/PxFAu4tW9uY/ZsCVIt1Y5j+JhwsHqO/kPzIkzo8A0+g/SMxl69o64D8Y5EnNaB7YP7wRxmqG6dg/P0X49Lbx6D9GAj2EiR/jPxNFNeZt/Os/9oGmiYfz1z8wW90Wyx7EP9qrgSxaF+g/cWibMLH/7T/WEqoV8JfrPxTKug+y4dk/AOwyZNqXqT/2mLMUbMvsP4HpS9qyJ+s/cCKhoUNTpD8M1g9slNvsP+Qt2WXRLN8/8Fk2b61G4T9YxI0WkgS0PyCiS/U+uLU/yDPKvqu+tD904EpmZk/aP3SLIr3COs4/86uBZ9eW5T8MU7i13ejBP9zVSFtmO8o/VDdYefJh5D+65BE2njXaP7yrQjdPROs/I1sUSMIU4z90194h7frbP3DAsjF6Ssk/SIHI8r0D6j+tgnOhqHbuP98zveR/Eek/jPu4Yggk0z94Cbww+GHtP9udQg24GOk/8iuxpYeJ3j/8MwtDQKbEP3p8a6a3q9o/5/X3IN176j+wzNG2Jg3EP24WUu7NFOo/dHy3/xpawz/g41tPTC7rP28IR/LLvu8/LTiAT6Zp4j9SOLPLpXPnPyRoV6R8isc/Of5CbIrG7D8lZsI2VZ7jP1JM8gKFrNY/SgZQ31Oj3D82QYju8gbUP19x15gEdO0/eHAWrNZs0T+Lerc0wt/pP2y29ma8PNg/QP8Yca5tpD9UaYvVbLfAPx4l++9Eo+M/l9BpdHH46j95cYQ+AN7kP4P1fo59w+4/MOTHgnvX0z8qA/ZTbVbaP/zzMsoeucM/ZEwSBZ3izD84xbMajBjUPw+iULSJvus/PNuR+AX65D/Lx/xJAaXhP/NrbmAfY+8/CO2vLg7P1z8CuzGRCbDjP6T12Gre9uo/5OXZ4JLh0z90Ib313ynXP07ZCcozHuM/cslsGmS80D81P/MOkWbiPwcSRkY9ceE/MpWkQtvt7j91NnblN7vhP7i9h/aH4d4/VjCYGJuG3T9+kEBdPaHjP3isn7kJB9Y/uH0K3pWU4z9+wlL3RlztP/qopWDdaOE/uvOYC0e95D/bB7HoJx/jP8SRSY/4mMg/kNd+dFe70T8e2XF+TEfqP+r4kJYKZdo/wuNaJ1Gh6z8KRsWysgLYP7SU6fELeNc/GuJity8j3D8wiy31/2OwP6Hza4VbC+M/nuPMI2fr7j+V+XOLjW3tP8LEF83KBNE/NYF8TKWH5T92Jesc2RXiP7wQAcPloOU/6uXpVZrt7T/Q97CT3KvPP2hSGvUaie8/W40acoOL5T/9ZI82cQvlP9yMsE4a4Mk/wNa7y4SMoz8kb3bBzJjBP+gACO0p1Mg/XtfDcg4Z2z8A0x+y4nadPwyiQVIl39A/BgwbsgjW5z94y23cqVi1P7WcD3021eg/531byqhM4D8+vxG6TCzSP35sa06EG+w/SFFY4p+G3z+Aiu1vjKF9P4CzMcX2nX4/NuPOh+N/3T/wg7w/xF7WP2gu/VIQw+Y/aL4JKG5P5j+xuEh2JPDtP8IGZnAWLeo/\",\"dtype\":\"float64\",\"shape\":[300]},\"y\":{\"__ndarray__\":\"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\",\"dtype\":\"float64\",\"shape\":[300]}}},\"id\":\"6977ceff-4128-4856-b164-01f8a8433fff\",\"type\":\"ColumnDataSource\"},{\"attributes\":{},\"id\":\"3ba25917-8629-4fea-b12f-27408d97812e\",\"type\":\"BasicTickFormatter\"},{\"attributes\":{},\"id\":\"574fdfd6-64e2-48c6-8c9b-aec6867c9b16\",\"type\":\"LinearScale\"},{\"attributes\":{\"active_drag\":\"auto\",\"active_inspect\":\"auto\",\"active_scroll\":\"auto\",\"active_tap\":\"auto\",\"tools\":[{\"id\":\"64c92472-1802-4460-83aa-fa00022a7499\",\"type\":\"PanTool\"},{\"id\":\"2f9e5ffa-cc30-446b-8427-c5ec23d30caf\",\"type\":\"WheelZoomTool\"},{\"id\":\"6f1be1e1-944b-4079-9adf-726f98d69c46\",\"type\":\"BoxZoomTool\"},{\"id\":\"820a6ccd-41f4-4f8b-8463-86b069fe7f59\",\"type\":\"SaveTool\"},{\"id\":\"82a70efc-abd5-4fda-a363-500c0bffabf5\",\"type\":\"ResetTool\"},{\"id\":\"2df8e5c5-4b33-4514-98ea-77d96792126b\",\"type\":\"HelpTool\"}]},\"id\":\"b54b2ad8-236b-4ac1-b1bb-89aa671b4854\",\"type\":\"Toolbar\"},{\"attributes\":{\"formatter\":{\"id\":\"3ba25917-8629-4fea-b12f-27408d97812e\",\"type\":\"BasicTickFormatter\"},\"plot\":{\"id\":\"714790cb-988a-4125-beb1-6092ed9d3b2a\",\"subtype\":\"Figure\",\"type\":\"Plot\"},\"ticker\":{\"id\":\"5695d6dc-96bd-424a-b0b2-4afec81282e4\",\"type\":\"BasicTicker\"}},\"id\":\"d2000447-b613-4b1a-ad00-ab0a2054b705\",\"type\":\"LinearAxis\"},{\"attributes\":{\"callback\":null},\"id\":\"964d9a9f-c924-4c91-8b40-7a5500d6796c\",\"type\":\"DataRange1d\"},{\"attributes\":{\"dimension\":1,\"plot\":{\"id\":\"714790cb-988a-4125-beb1-6092ed9d3b2a\",\"subtype\":\"Figure\",\"type\":\"Plot\"},\"ticker\":{\"id\":\"5695d6dc-96bd-424a-b0b2-4afec81282e4\",\"type\":\"BasicTicker\"}},\"id\":\"0deb4a0f-922f-4f78-a05f-5b69b5ad70d0\",\"type\":\"Grid\"},{\"attributes\":{\"children\":[{\"id\":\"919d4c13-5fc7-4d65-b225-808dd405611e\",\"type\":\"Slider\"}]},\"id\":\"1fbfa3a4-952f-4428-b93f-411b08651adb\",\"type\":\"WidgetBox\"},{\"attributes\":{},\"id\":\"7c15f439-8b17-4179-9de2-f2568d186cf0\",\"type\":\"BasicTicker\"},{\"attributes\":{},\"id\":\"820a6ccd-41f4-4f8b-8463-86b069fe7f59\",\"type\":\"SaveTool\"},{\"attributes\":{\"plot\":{\"id\":\"714790cb-988a-4125-beb1-6092ed9d3b2a\",\"subtype\":\"Figure\",\"type\":\"Plot\"},\"ticker\":{\"id\":\"7c15f439-8b17-4179-9de2-f2568d186cf0\",\"type\":\"BasicTicker\"}},\"id\":\"e0e72d7e-d6cc-4039-89ea-e28a15874eda\",\"type\":\"Grid\"},{\"attributes\":{},\"id\":\"82a70efc-abd5-4fda-a363-500c0bffabf5\",\"type\":\"ResetTool\"},{\"attributes\":{},\"id\":\"2df8e5c5-4b33-4514-98ea-77d96792126b\",\"type\":\"HelpTool\"},{\"attributes\":{\"fill_color\":{\"value\":\"#1f77b4\"},\"line_color\":{\"value\":\"#1f77b4\"},\"x\":{\"field\":\"x\"},\"y\":{\"field\":\"y\"}},\"id\":\"12893ca5-d01b-4cae-a871-cb14fa7fcf3a\",\"type\":\"Circle\"},{\"attributes\":{\"fill_alpha\":{\"value\":0.1},\"fill_color\":{\"value\":\"#1f77b4\"},\"line_alpha\":{\"value\":0.1},\"line_color\":{\"value\":\"#1f77b4\"},\"x\":{\"field\":\"x\"},\"y\":{\"field\":\"y\"}},\"id\":\"7c833d19-4166-4dc1-98e6-18818ae92864\",\"type\":\"Circle\"},{\"attributes\":{\"data_source\":{\"id\":\"6977ceff-4128-4856-b164-01f8a8433fff\",\"type\":\"ColumnDataSource\"},\"glyph\":{\"id\":\"12893ca5-d01b-4cae-a871-cb14fa7fcf3a\",\"type\":\"Circle\"},\"hover_glyph\":null,\"muted_glyph\":null,\"nonselection_glyph\":{\"id\":\"7c833d19-4166-4dc1-98e6-18818ae92864\",\"type\":\"Circle\"},\"selection_glyph\":null,\"view\":{\"id\":\"7fdb115d-f32d-47df-856d-ecd3fc1ceb24\",\"type\":\"CDSView\"}},\"id\":\"e79611c3-a3f0-4144-8f40-6082f63f220a\",\"type\":\"GlyphRenderer\"},{\"attributes\":{},\"id\":\"dc3cf400-de55-45df-a060-7af55bc6ea47\",\"type\":\"LinearScale\"},{\"attributes\":{\"callback\":null},\"id\":\"32510570-0296-443a-888a-3ab5ff8713ee\",\"type\":\"DataRange1d\"},{\"attributes\":{},\"id\":\"5695d6dc-96bd-424a-b0b2-4afec81282e4\",\"type\":\"BasicTicker\"},{\"attributes\":{},\"id\":\"2f9e5ffa-cc30-446b-8427-c5ec23d30caf\",\"type\":\"WheelZoomTool\"},{\"attributes\":{\"bottom_units\":\"screen\",\"fill_alpha\":{\"value\":0.5},\"fill_color\":{\"value\":\"lightgrey\"},\"left_units\":\"screen\",\"level\":\"overlay\",\"line_alpha\":{\"value\":1.0},\"line_color\":{\"value\":\"black\"},\"line_dash\":[4,4],\"line_width\":{\"value\":2},\"plot\":null,\"render_mode\":\"css\",\"right_units\":\"screen\",\"top_units\":\"screen\"},\"id\":\"e08fb0c9-b79f-4f81-8dd0-7d20771cce41\",\"type\":\"BoxAnnotation\"}],\"root_ids\":[\"ab1b273f-a449-4461-9fcd-bb05f06adee8\"]},\"title\":\"Bokeh Application\",\"version\":\"0.12.11\"}};\n",
       "    var render_items = [{\"docid\":\"8d1e7080-0269-495b-9a56-ad04b11422e9\",\"elementid\":\"f9f77d73-87c5-4b25-8905-b4b6d7223e07\",\"modelid\":\"ab1b273f-a449-4461-9fcd-bb05f06adee8\"}];\n",
       "    root.Bokeh.embed.embed_items(docs_json, render_items);\n",
       "  }\n",
       "  if (root.Bokeh !== undefined) {\n",
       "    embed_document(root);\n",
       "  } else {\n",
       "    var attempts = 0;\n",
       "    var timer = setInterval(function(root) {\n",
       "      if (root.Bokeh !== undefined) {\n",
       "        embed_document(root);\n",
       "        clearInterval(timer);\n",
       "      }\n",
       "      attempts++;\n",
       "      if (attempts > 100) {\n",
       "        console.log(\"Bokeh: ERROR: Unable to embed document because BokehJS library is missing\")\n",
       "        clearInterval(timer);\n",
       "      }\n",
       "    }, 10, root)\n",
       "  }\n",
       "})(window);"
      ],
      "application/vnd.bokehjs_exec.v0+json": ""
     },
     "metadata": {
      "application/vnd.bokehjs_exec.v0+json": {
       "id": "ab1b273f-a449-4461-9fcd-bb05f06adee8"
      }
     },
     "output_type": "display_data"
    }
   ],
   "source": [
    "from bokeh.io import curdoc\n",
    "from bokeh.layouts import column\n",
    "from bokeh.models import ColumnDataSource, Slider\n",
    "from bokeh.plotting import figure\n",
    "from numpy.random import random\n",
    "\n",
    "N = 300\n",
    "source = ColumnDataSource(data={'x': random(N), 'y': random(N)})\n",
    "\n",
    "plot = figure()                                                                        # Create a new plot: plot\n",
    "plot.circle(x='x', y='y', source=source)\n",
    "slider = Slider(title='Number of points', start=100, end=1000, step=10, value=N)       # Create a slider\n",
    "\n",
    "# Add callback to widgets\n",
    "def callback(attr, old, new):                                                   # attr = attribute to change; old and new values\n",
    "    N = slider.value\n",
    "    source.data={'x': random(N), 'y': random(N)}\n",
    "\n",
    "slider.on_change('value', callback)\n",
    "\n",
    "layout = column(slider, plot)                                                   # Arrange plots and widgets in layouts\n",
    "\n",
    "curdoc().add_root(layout)\n",
    "show(layout)"
   ]
  },
  {
   "cell_type": "code",
   "execution_count": null,
   "metadata": {},
   "outputs": [],
   "source": [
    "# DROPDOWN\n",
    "from bokeh.models import Select\n",
    "menu = Select(options=['uniform' ,'normal', 'lognormal'],\n",
    "              value='uniform', title='Distribuition')\n",
    "\n",
    "# Add callback to widget\n",
    "def callback(attr, old, new):\n",
    "    if menu.value == 'uniform': f = random\n",
    "    elif menu.value == 'normal': f = normal\n",
    "    else:       f = lognormal\n",
    "    source.data={'x': f(size=N), 'y': f(size=N)}\n",
    "\n",
    "menu.on_change('value', callback)\n",
    "layout = column(menu, plot)\n",
    "curdoc().add_root(layout)"
   ]
  },
  {
   "cell_type": "code",
   "execution_count": null,
   "metadata": {},
   "outputs": [],
   "source": [
    "# Dropdown that changes a Dropdown\n",
    "select1 = Select(title='First', options=['A', 'B'], value='A')\n",
    "select2 = Select(title='Second', options=['1', '2', '3'], value='1')\n",
    "\n",
    "def callback(attr, old, new):\n",
    "    if select1.value == 'A':\n",
    "        select2.options = ['1', '2', '3']\n",
    "        select2.value = '1'\n",
    "    else:\n",
    "        select2.options = ['100', '200', '300']\n",
    "        select2.value = '100'\n",
    "\n",
    "select1.on_change('value', callback)\n",
    "\n",
    "layout = widgetbox(select1, select2)\n",
    "curdoc().add_root(layout)"
   ]
  },
  {
   "cell_type": "code",
   "execution_count": null,
   "metadata": {},
   "outputs": [],
   "source": [
    "# BUTTONS\n",
    "from bokeh.models import Button\n",
    "\n",
    "button   = Button(label='press me')\n",
    "\n",
    "def update()\n",
    "   # do something\n",
    "    \n",
    "button.on_click(update)"
   ]
  },
  {
   "cell_type": "code",
   "execution_count": null,
   "metadata": {},
   "outputs": [],
   "source": [
    "from bokeh.models import CheckboxGroup, RadioGroup, Toggle\n",
    "\n",
    "toggle   = Toggle(label='Some on/off', button_type='success')\n",
    "checkbox = CheckboxGroup(labels=['foo', 'bar', 'baz'])\n",
    "radio    = RadioGroup(labels=['2000', '2010', '2020'])\n",
    "\n",
    "def callback(active):\n",
    "   # Active tells which button is active"
   ]
  },
  {
   "cell_type": "code",
   "execution_count": 43,
   "metadata": {},
   "outputs": [
    {
     "ename": "SyntaxError",
     "evalue": "invalid syntax (<ipython-input-43-9f893bc3531e>, line 37)",
     "output_type": "error",
     "traceback": [
      "\u001b[1;36m  File \u001b[1;32m\"<ipython-input-43-9f893bc3531e>\"\u001b[1;36m, line \u001b[1;32m37\u001b[0m\n\u001b[1;33m    'x'       : data.loc[yr].[x],\u001b[0m\n\u001b[1;37m                             ^\u001b[0m\n\u001b[1;31mSyntaxError\u001b[0m\u001b[1;31m:\u001b[0m invalid syntax\n"
     ]
    }
   ],
   "source": [
    "# CASE STUDY\n",
    "import pandas as pd\n",
    "data = pd.read_csv(r'D:\\DATA_SCIENCE\\BASES\\Others\\gapminder_tidy.csv')\n",
    "\n",
    "# Perform necessary imports\n",
    "from bokeh.io import output_file, show, curdoc\n",
    "from bokeh.plotting import figure\n",
    "from bokeh.models import HoverTool, ColumnDataSource, CategoricalColorMapper, Slider, HoverTool\n",
    "from bokeh.layouts import widgetbox, row\n",
    "from bokeh.palettes import Spectral6\n",
    "\n",
    "# Make the ColumnDataSource: source\n",
    "source = ColumnDataSource(data={\n",
    "    'x'       : data.loc[1970].fertility,\n",
    "    'y'       : data.loc[1970].life,\n",
    "    'country' : data.loc[1970].Country,\n",
    "    'pop'     : (data.loc[1970].population / 20000000) + 2,\n",
    "    'region'  : data.loc[1970].region,\n",
    "})\n",
    "\n",
    "regions_list = data.region.unique().tolist()                   # Make a list of the unique values from the region column\n",
    "color_mapper = CategoricalColorMapper(factors=regions_list, palette=Spectral6)       # Make a color mapper: color_mapper\n",
    "\n",
    "hover = HoverTool(tooltips=[('Country', '@country')])            # Create a HoverTool\n",
    "plot.add_tools(hover)                                            # Add the HoverTool to the plot\n",
    "\n",
    "xmin, xmax = min(data.fertility), max(data.fertility)            # Save the minimum and maximum values for axis range\n",
    "ymin, ymax = min(data.life), max(data.life)\n",
    "\n",
    "def update_plot(attr, old, new):    \n",
    "    yr = slider.value                                            # set the `yr` name to `slider.value`\n",
    "    x = x_select.value                                           # set the `x` name to `x_select.value`\n",
    "    y = y_select.value\n",
    "    plot.xaxis.axis_label = x                                    # Label axes of plot\n",
    "    plot.yaxis.axis_label = y\n",
    "    new_data = {\n",
    "        'x'       : data.loc[yr].[x],\n",
    "        'y'       : data.loc[yr].[y],\n",
    "        'country' : data.loc[yr].Country,\n",
    "        'pop'     : (data.loc[yr].population / 20000000) + 2,\n",
    "        'region'  : data.loc[yr].region,}        \n",
    "    plot.title.text = 'Gapminder data for %d' % yr              # Add title to figure: plot.title.text\n",
    "    source.data = new_data\n",
    "    # Set the range of all axes\n",
    "    plot.x_range.start = min(data[x])\n",
    "    plot.x_range.end = max(data[x])\n",
    "    plot.y_range.start = min(data[y])\n",
    "    plot.y_range.end = max(data[y])\n",
    "\n",
    "# Create a dropdown Select widget\n",
    "x_select = Select(\n",
    "    options=['fertility', 'life', 'child_mortality', 'gdp'],\n",
    "    value='fertility',\n",
    "    title='x-axis data')\n",
    "x_select.on_change('value', update_plot)                 # Attach the update_plot callback to the 'value' property of x_select\n",
    "\n",
    "y_select = Select(\n",
    "    options=['fertility', 'life', 'child_mortality', 'gdp'],\n",
    "    value='life',\n",
    "    title='y-axis data')\n",
    "y_select.on_change('value', update_plot)\n",
    "\n",
    "# Create the figure: plot\n",
    "plot = figure(title='Gapminder Data for 1970', plot_height=400, plot_width=700,\n",
    "              x_range=(xmin, xmax), y_range=(ymin, ymax))\n",
    "\n",
    "plot.circle(x='x', y='y', fill_alpha=0.8, source=source,\n",
    "            color=dict(field='region', transform=color_mapper), legend='region')\n",
    "\n",
    "plot.legend.location = 'top_right'\n",
    "plot.xaxis.axis_label ='Fertility (children per woman)'        # Set the x-axis label\n",
    "plot.yaxis.axis_label = 'Life Expectancy (years)'              # Set the y-axis label\n",
    "\n",
    "# Create the Slider\n",
    "slider = Slider(title='Year', start=1970, end=2010, step=1, value=1970)\n",
    "slider.on_change('value', update_plot)\n",
    "\n",
    "# Create the Layout\n",
    "layout = row(widgetbox(slider, x_select, y_select), plot)\n",
    "curdoc().add_root(layout)                                        # Add the layout to the current document and add a title\n",
    "curdoc().title = 'Gapminder'\n",
    "\n",
    "#output_file('gapminder.html')                                 # Output the file and show the figure\n",
    "show()"
   ]
  },
  {
   "cell_type": "code",
   "execution_count": null,
   "metadata": {},
   "outputs": [],
   "source": []
  },
  {
   "cell_type": "code",
   "execution_count": null,
   "metadata": {},
   "outputs": [],
   "source": []
  },
  {
   "cell_type": "code",
   "execution_count": null,
   "metadata": {},
   "outputs": [],
   "source": []
  },
  {
   "cell_type": "code",
   "execution_count": null,
   "metadata": {},
   "outputs": [],
   "source": []
  },
  {
   "cell_type": "code",
   "execution_count": null,
   "metadata": {},
   "outputs": [],
   "source": []
  },
  {
   "cell_type": "code",
   "execution_count": null,
   "metadata": {},
   "outputs": [],
   "source": []
  },
  {
   "cell_type": "code",
   "execution_count": null,
   "metadata": {},
   "outputs": [],
   "source": []
  },
  {
   "cell_type": "code",
   "execution_count": null,
   "metadata": {},
   "outputs": [],
   "source": []
  },
  {
   "cell_type": "code",
   "execution_count": null,
   "metadata": {},
   "outputs": [],
   "source": []
  }
 ],
 "metadata": {
  "kernelspec": {
   "display_name": "Python 3",
   "language": "python",
   "name": "python3"
  },
  "language_info": {
   "codemirror_mode": {
    "name": "ipython",
    "version": 3
   },
   "file_extension": ".py",
   "mimetype": "text/x-python",
   "name": "python",
   "nbconvert_exporter": "python",
   "pygments_lexer": "ipython3",
   "version": "3.6.3"
  }
 },
 "nbformat": 4,
 "nbformat_minor": 2
}
