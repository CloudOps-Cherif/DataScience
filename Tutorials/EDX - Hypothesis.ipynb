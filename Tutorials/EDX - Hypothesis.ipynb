{
 "cells": [
  {
   "cell_type": "markdown",
   "metadata": {},
   "source": [
    "# Hypothesis Testing of Human Height Data\n",
    "\n",
    "In this lab, you will learn how to use Python 3 to perform and understand the basics of hypothesis testing. Hypothesis testing is widely used. Anytime you are trying to determine if a parameter or relationship is statistically significant you can perform a hypothesis test. \n",
    "\n",
    "In this lab you will explore and perform hypothesis tests on a famous data set collect by Frances Galton, who invented the regression method. Galton collected these data from Families living in late 19th century London.  Gaulton published his famous paper in 1885, showing that the highs of adult children regressed to the mean of the population, regardless of the heights of the parents. From this seminal study we have the term regression in statistics, "
   ]
  },
  {
   "cell_type": "markdown",
   "metadata": {},
   "source": [
    "## Exercise 1. Explore the data\n",
    "\n",
    "In this first exercise you will load the Galton data set. You will then and explore differences between some of the variables in these data using some simple visulaizaiton technques. \n",
    "\n",
    "****\n",
    "**Note:** Data visualization is convered in subsequent modules of this course. \n",
    "\n",
    "### Load and examine the data set\n",
    "\n",
    "Execute the code in the cell below to load the Gaulton data set. "
   ]
  },
  {
   "cell_type": "code",
   "execution_count": 1,
   "metadata": {},
   "outputs": [],
   "source": [
    "from azureml import Workspace\n",
    "\n",
    "ws = Workspace()\n",
    "ds = ws.datasets['GaltonFamilies.csv']\n",
    "galton = ds.to_dataframe()"
   ]
  },
  {
   "cell_type": "markdown",
   "metadata": {},
   "source": [
    "With the data loaded, you can examine the first few rows by executing the code in the cell below:"
   ]
  },
  {
   "cell_type": "code",
   "execution_count": 2,
   "metadata": {},
   "outputs": [
    {
     "data": {
      "text/html": [
       "<div>\n",
       "<table border=\"1\" class=\"dataframe\">\n",
       "  <thead>\n",
       "    <tr style=\"text-align: right;\">\n",
       "      <th></th>\n",
       "      <th>Case</th>\n",
       "      <th>family</th>\n",
       "      <th>father</th>\n",
       "      <th>mother</th>\n",
       "      <th>midparentHeight</th>\n",
       "      <th>children</th>\n",
       "      <th>childNum</th>\n",
       "      <th>gender</th>\n",
       "      <th>childHeight</th>\n",
       "    </tr>\n",
       "  </thead>\n",
       "  <tbody>\n",
       "    <tr>\n",
       "      <th>0</th>\n",
       "      <td>1</td>\n",
       "      <td>1</td>\n",
       "      <td>78.5</td>\n",
       "      <td>67.0</td>\n",
       "      <td>75.43</td>\n",
       "      <td>4</td>\n",
       "      <td>1</td>\n",
       "      <td>male</td>\n",
       "      <td>73.2</td>\n",
       "    </tr>\n",
       "    <tr>\n",
       "      <th>1</th>\n",
       "      <td>2</td>\n",
       "      <td>1</td>\n",
       "      <td>78.5</td>\n",
       "      <td>67.0</td>\n",
       "      <td>75.43</td>\n",
       "      <td>4</td>\n",
       "      <td>2</td>\n",
       "      <td>female</td>\n",
       "      <td>69.2</td>\n",
       "    </tr>\n",
       "    <tr>\n",
       "      <th>2</th>\n",
       "      <td>3</td>\n",
       "      <td>1</td>\n",
       "      <td>78.5</td>\n",
       "      <td>67.0</td>\n",
       "      <td>75.43</td>\n",
       "      <td>4</td>\n",
       "      <td>3</td>\n",
       "      <td>female</td>\n",
       "      <td>69.0</td>\n",
       "    </tr>\n",
       "    <tr>\n",
       "      <th>3</th>\n",
       "      <td>4</td>\n",
       "      <td>1</td>\n",
       "      <td>78.5</td>\n",
       "      <td>67.0</td>\n",
       "      <td>75.43</td>\n",
       "      <td>4</td>\n",
       "      <td>4</td>\n",
       "      <td>female</td>\n",
       "      <td>69.0</td>\n",
       "    </tr>\n",
       "    <tr>\n",
       "      <th>4</th>\n",
       "      <td>5</td>\n",
       "      <td>2</td>\n",
       "      <td>75.5</td>\n",
       "      <td>66.5</td>\n",
       "      <td>73.66</td>\n",
       "      <td>4</td>\n",
       "      <td>1</td>\n",
       "      <td>male</td>\n",
       "      <td>73.5</td>\n",
       "    </tr>\n",
       "  </tbody>\n",
       "</table>\n",
       "</div>"
      ],
      "text/plain": [
       "   Case family  father  mother  midparentHeight  children  childNum  gender  \\\n",
       "0     1      1    78.5    67.0            75.43         4         1    male   \n",
       "1     2      1    78.5    67.0            75.43         4         2  female   \n",
       "2     3      1    78.5    67.0            75.43         4         3  female   \n",
       "3     4      1    78.5    67.0            75.43         4         4  female   \n",
       "4     5      2    75.5    66.5            73.66         4         1    male   \n",
       "\n",
       "   childHeight  \n",
       "0         73.2  \n",
       "1         69.2  \n",
       "2         69.0  \n",
       "3         69.0  \n",
       "4         73.5  "
      ]
     },
     "execution_count": 2,
     "metadata": {},
     "output_type": "execute_result"
    }
   ],
   "source": [
    "galton.head()"
   ]
  },
  {
   "cell_type": "markdown",
   "metadata": {},
   "source": [
    "This data set has 9 features:\n",
    " 1. A case or row number.\n",
    " 2. A unique code for each family in the sample.\n",
    " 3. The height of the father in inches.\n",
    " 4. The height of the mother in inches.\n",
    " 5. The average height of the parents.\n",
    " 6. The number of childern in the family.\n",
    " 7. A code for the each unique child in the family.\n",
    " 8. The gender of the child.\n",
    " 9. The height of the adult child in inches. \n",
    " \n",
    " Execute the code in the cell below to determine the number of cases in this data set."
   ]
  },
  {
   "cell_type": "code",
   "execution_count": 3,
   "metadata": {},
   "outputs": [
    {
     "data": {
      "text/plain": [
       "(934, 9)"
      ]
     },
     "execution_count": 3,
     "metadata": {},
     "output_type": "execute_result"
    }
   ],
   "source": [
    "galton.shape"
   ]
  },
  {
   "cell_type": "markdown",
   "metadata": {},
   "source": [
    "There are a total of 934 cases, or childern, in the sample comprising this data set. "
   ]
  },
  {
   "cell_type": "markdown",
   "metadata": {},
   "source": [
    "### Visualizing some relationships in these data\n",
    "\n",
    "To develop a better understanding of some of the relationships in these data you will create and compare some histograms of some of the variables. \n",
    "\n",
    "The code in the cell below creates a pair of histograms to compare the distributions of two variables. The historgrams are ploted on the same horizontal scale to aid in comparison. A red line is plotted at the mean value of each variable. \n",
    "\n",
    "Exectue the code in the cell below to plot a pair of histograms comparing the hight of mothers to the height of  their sons. You can safely ignore any warnings about building a font cache. "
   ]
  },
  {
   "cell_type": "code",
   "execution_count": 4,
   "metadata": {},
   "outputs": [
    {
     "name": "stderr",
     "output_type": "stream",
     "text": [
      "/home/nbuser/anaconda2_20/lib/python2.7/site-packages/matplotlib/font_manager.py:273: UserWarning: Matplotlib is building the font cache using fc-list. This may take a moment.\n",
      "  warnings.warn('Matplotlib is building the font cache using fc-list. This may take a moment.')\n"
     ]
    },
    {
     "data": {
      "text/plain": [
       "['childHeight', 'mother']"
      ]
     },
     "execution_count": 4,
     "metadata": {},
     "output_type": "execute_result"
    },
    {
     "data": {
      "image/png": "[encoded data removed]",
      "text/plain": [
       "<matplotlib.figure.Figure at 0x7f9bd0a966d0>"
      ]
     },
     "metadata": {},
     "output_type": "display_data"
    }
   ],
   "source": [
    "%matplotlib inline\n",
    "def hist_family(df, col1, col2, num_bins = 30):\n",
    "    import matplotlib.pyplot as plt\n",
    "    ## Setup for ploting two charts one over the other\n",
    "    fig, ax = plt.subplots(2, 1, figsize = (12,8))\n",
    "    \n",
    "    mins = min([df[col1].min(), df[col2].min()])\n",
    "    maxs = max([df[col1].max(), df[col2].max()])\n",
    "    \n",
    "    mean1 = df[col1].mean()\n",
    "    mean2 = df[col2].mean()\n",
    "    \n",
    "    ## Plot the histogram   \n",
    "    temp = df[col1].as_matrix()\n",
    "    ax[1].hist(temp, bins = 30, alpha = 0.7)\n",
    "    ax[1].set_xlim([mins, maxs])\n",
    "    ax[1].axvline(x=mean1, color = 'red', linewidth = 4)\n",
    "    ax[1].set_ylabel('Count')\n",
    "    ax[1].set_xlabel(col1)\n",
    "    \n",
    "    ## Plot the histogram   \n",
    "    temp = df[col2].as_matrix()\n",
    "    ax[0].hist(temp, bins = 30, alpha = 0.7)\n",
    "    ax[0].set_xlim([mins, maxs])\n",
    "    ax[0].axvline(x=mean2, color = 'red', linewidth = 4)\n",
    "    ax[0].set_ylabel('Count')\n",
    "    ax[0].set_xlabel(col2)\n",
    "    \n",
    "    return [col1, col2]\n",
    "sons = galton[galton.gender == 'male']\n",
    "hist_family(sons, 'childHeight', 'mother')"
   ]
  },
  {
   "cell_type": "markdown",
   "metadata": {},
   "source": [
    "Examine these histogram and note the following:\n",
    "\n",
    "- The distributions of the height of the mothers and their sons have a fair degree of overlap.\n",
    "- The mean height of the sons is noticeably greater than the mothers.\n",
    "\n",
    "Next you will compare the heights of mothers to the heights of their daughters. "
   ]
  },
  {
   "cell_type": "code",
   "execution_count": 5,
   "metadata": {},
   "outputs": [
    {
     "data": {
      "text/plain": [
       "['childHeight', 'mother']"
      ]
     },
     "execution_count": 5,
     "metadata": {},
     "output_type": "execute_result"
    },
    {
     "data": {
      "image/png": "[encoded data removed]",
      "text/plain": [
       "<matplotlib.figure.Figure at 0x7f9bd0ff87d0>"
      ]
     },
     "metadata": {},
     "output_type": "display_data"
    }
   ],
   "source": [
    "daughters = galton[galton.gender == 'female']\n",
    "hist_family(daughters, 'childHeight', 'mother')"
   ]
  },
  {
   "cell_type": "markdown",
   "metadata": {},
   "source": [
    "Examine these histogram and note the following:\n",
    "\n",
    "- The distributions of the height of the mothers and their daughters overlap almost entirely.\n",
    "- The mean height of the daughters is nearly the same as the mothers.\n",
    "\n",
    "In summary, it appears that sons are usually taller than their mothers, whereas, the height of daughters does not appear to be much different from their mothers. But, how valid is this conclusion statistically? "
   ]
  },
  {
   "cell_type": "markdown",
   "metadata": {},
   "source": [
    "## Apply t test \n",
    "\n",
    "Now that you have examined some of the  relationships between the variables in these data, you will now apply formal hypothesis testing. In hypothesis testing the a null hypothesis is tested against a statistic. The null hypothesis is simply that the difference is not significant. Depending on the value of the test statistic, you can accept or reject the null hypthesis. \n",
    "\n",
    "In this case, you will use the two-sided t-test to determine if the difference in means of two variables are significantly different.   The null hypothesis is that there is no significant difference between the means. There are multiple criteria which are used to interpret the test results. You will determine if you can reject the null hyposesis based on the following criteria:\n",
    "\n",
    "- Selecting a **confidence level** of **5%** or **0.05**.\n",
    "- Determine if the t-statistic for the degrees of freedom is greater than the **critical value**. The difference in means of Normally distributed variables follows a t-distribution. The large t-statistic indicates the probility that the difference in means is unlikely to be by chance alone. \n",
    "- Determine if the P-value is less than the **confidence level**. A small P-value indicates the probability of the difference of the means being more extreme by chance alone is the small. \n",
    "- The **confidence interval** around the difference of the means does not overlap with **0**. If the **confidence interval** is far from **0** this indicates that the difference in means is unlikely to include **0**. \n",
    "\n",
    "Based on these criteria you will accept of reject the null hypothesis. However, rejecting the null-hypothesis should not be confused with accepting the alternative. It simply means the null is not a good hypothesis. \n",
    "\n",
    "The **family_test** function in the cell below uses the **CompareMeans** function from the **weightstats** package to compute the two-sided t statistics. The **hist_family_conf** function calls the **family_test** function and plots the results. Execute this code to compute and  disply the results. "
   ]
  },
  {
   "cell_type": "code",
   "execution_count": 8,
   "metadata": {
    "scrolled": false
   },
   "outputs": [
    {
     "data": {
      "text/plain": [
       "DegFreedom    944.397284\n",
       "Difference     -0.096466\n",
       "Statistic      -0.774935\n",
       "PValue          0.438760\n",
       "Low95CI        -0.409029\n",
       "High95CI        0.216098\n",
       "dtype: float64"
      ]
     },
     "execution_count": 8,
     "metadata": {},
     "output_type": "execute_result"
    },
    {
     "data": {
      "image/png": "[encoded data removed]",
      "text/plain": [
       "<matplotlib.figure.Figure at 0x7f9bcb39c050>"
      ]
     },
     "metadata": {},
     "output_type": "display_data"
    }
   ],
   "source": [
    "def family_test(df, col1, col2, alpha):\n",
    "    from scipy import stats\n",
    "    import scipy.stats as ss\n",
    "    import pandas as pd\n",
    "    import statsmodels.stats.weightstats as ws\n",
    "    \n",
    "    n, _, diff, var, _, _ = stats.describe(df[col1] - df[col2])\n",
    "    degfree = n - 1\n",
    "\n",
    "    temp1 = df[col1].as_matrix()\n",
    "    temp2 = df[col2].as_matrix()\n",
    "    res = ss.ttest_rel(temp1, temp2)\n",
    "      \n",
    "    means = ws.CompareMeans(ws.DescrStatsW(temp1), ws.DescrStatsW(temp2))\n",
    "    confint = means.tconfint_diff(alpha=alpha, alternative='two-sided', usevar='unequal') \n",
    "    degfree = means.dof_satt()\n",
    "\n",
    "    index = ['DegFreedom', 'Difference', 'Statistic', 'PValue', 'Low95CI', 'High95CI']\n",
    "    return pd.Series([degfree, diff, res[0], res[1], confint[0], confint[1]], index = index)   \n",
    "    \n",
    "def hist_family_conf(df, col1, col2, num_bins = 30, alpha =0.05):\n",
    "    import matplotlib.pyplot as plt\n",
    "    ## Setup for ploting two charts one over the other\n",
    "    fig, ax = plt.subplots(2, 1, figsize = (12,8))\n",
    "    \n",
    "    mins = min([df[col1].min(), df[col2].min()])\n",
    "    maxs = max([df[col1].max(), df[col2].max()])\n",
    "    \n",
    "    mean1 = df[col1].mean()\n",
    "    mean2 = df[col2].mean()\n",
    "    \n",
    "    tStat = family_test(df, col1, col2, alpha)\n",
    "    pv1 = mean2 + tStat[4]    \n",
    "    pv2 = mean2 + tStat[5]\n",
    "    \n",
    "    ## Plot the histogram   \n",
    "    temp = df[col1].as_matrix()\n",
    "    ax[1].hist(temp, bins = 30, alpha = 0.7)\n",
    "    ax[1].set_xlim([mins, maxs])\n",
    "    ax[1].axvline(x=mean1, color = 'red', linewidth = 4)    \n",
    "    ax[1].axvline(x=pv1, color = 'red', linestyle='--', linewidth = 4)\n",
    "    ax[1].axvline(x=pv2, color = 'red', linestyle='--', linewidth = 4)\n",
    "    ax[1].set_ylabel('Count')\n",
    "    ax[1].set_xlabel(col1)\n",
    "    \n",
    "    ## Plot the histogram   \n",
    "    temp = df[col2].as_matrix()\n",
    "    ax[0].hist(temp, bins = 30, alpha = 0.7)\n",
    "    ax[0].set_xlim([mins, maxs])\n",
    "    ax[0].axvline(x=mean2, color = 'red', linewidth = 4)\n",
    "    ax[0].set_ylabel('Count')\n",
    "    ax[0].set_xlabel(col2)\n",
    "    \n",
    "    return tStat\n",
    "\n",
    "hist_family_conf(sons, 'father', 'childHeight')"
   ]
  },
  {
   "cell_type": "markdown",
   "metadata": {},
   "source": [
    "##### Examine the printed table of results and the charts noting the following:\n",
    "\n",
    "- The difference of the means is 5.2 inches. You can see this difference graphically by comparing the positions of the solid red lines showing the means of the two distirbutions. \n",
    "- The **critical value** of the two-sided t-statistic at  945 degrees of freedom is **1.96**. The t-statistic of -39.5 is larger than this **critical value**.\n",
    "- The P-value is effectively 0, which is smaller than the **confidence level** of 0.05. \n",
    "- The 95% **confidence interval** of the difference in means is from -4.9 to -5.5, which does not overlap 0. You can see the confidence interval plotted as the two dashed red lines in the lower chart shown above. This **confidence interval** around the mean of the mother's heights does not overlap with the mean of the son's height. \n",
    "\n",
    "Overall, these statistics indicate you can reject the null hypothesis, or that there difference in the means is not **0**. "
   ]
  },
  {
   "cell_type": "code",
   "execution_count": 7,
   "metadata": {
    "scrolled": false
   },
   "outputs": [
    {
     "data": {
      "text/plain": [
       "DegFreedom    902.412325\n",
       "Difference      0.044812\n",
       "Statistic       0.350524\n",
       "PValue          0.726109\n",
       "Low95CI        -0.256132\n",
       "High95CI        0.345756\n",
       "dtype: float64"
      ]
     },
     "execution_count": 7,
     "metadata": {},
     "output_type": "execute_result"
    },
    {
     "data": {
      "image/png": "[encoded data removed]",
      "text/plain": [
       "<matplotlib.figure.Figure at 0x7f9bcb418f50>"
      ]
     },
     "metadata": {},
     "output_type": "display_data"
    }
   ],
   "source": [
    "hist_family_conf(daughters, 'mother', 'childHeight')"
   ]
  },
  {
   "cell_type": "markdown",
   "metadata": {
    "collapsed": true
   },
   "source": [
    "Examine the printed table of results, which are quite differnt from the test of the heights of mothers vs. sons. Examine the statistics and charts noting the following:\n",
    "\n",
    "- The difference of the means is only 0.04 inches. You can see this small difference graphically by comparing the positions of the solid red lines showing the means of the two distributions. \n",
    "- The **critical value** of the two-sided t-statistic at  480 degrees of freedom is **1.96**. The t-statistic of 0.35 is smaller than this **critical value**.\n",
    "- The P-value is 0.73, which is larger than the **confidence level** of 0.05. \n",
    "- The 95% **confidence interval** of the difference is from -0.26 to 0.35, which overlaps 0. You can see the confidence interval plotted as the two dashed red lines in the lower chart shown above. This **confidence interval** around the mean of the mother's heights does overlaps the mean of the dauther's height. \n",
    "\n",
    "Overall, these statistics indicate you cannot reject the null hypothesis that there are is not a significant difference in the means. "
   ]
  },
  {
   "cell_type": "markdown",
   "metadata": {},
   "source": [
    "**Evaluation question**\n",
    "\n",
    "You have found that you could not reject the null hypothesis that there was no significant difference between the heights of mothers and their adult dauhters. But what about the difference in height between fathers and their adult daughters? Perform the t-test on the Galton data set to answer the question below:\n",
    "\n",
    "- Can you reject the null hypothesis that there is no significant difference in the heights of fathers and their adult daughters."
   ]
  },
  {
   "cell_type": "code",
   "execution_count": null,
   "metadata": {
    "collapsed": true
   },
   "outputs": [],
   "source": []
  }
 ],
 "metadata": {
  "kernelspec": {
   "display_name": "Python 3",
   "language": "python",
   "name": "python3"
  },
  "language_info": {
   "codemirror_mode": {
    "name": "ipython",
    "version": 3
   },
   "file_extension": ".py",
   "mimetype": "text/x-python",
   "name": "python",
   "nbconvert_exporter": "python",
   "pygments_lexer": "ipython3",
   "version": "3.6.3"
  }
 },
 "nbformat": 4,
 "nbformat_minor": 1
}
